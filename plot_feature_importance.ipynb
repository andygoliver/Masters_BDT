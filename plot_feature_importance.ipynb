{
 "cells": [
  {
   "cell_type": "code",
   "execution_count": 1,
   "metadata": {},
   "outputs": [
    {
     "name": "stderr",
     "output_type": "stream",
     "text": [
      "2023-04-03 09:35:35.800901: I tensorflow/core/platform/cpu_feature_guard.cc:193] This TensorFlow binary is optimized with oneAPI Deep Neural Network Library (oneDNN) to use the following CPU instructions in performance-critical operations:  AVX2 FMA\n",
      "To enable them in other operations, rebuild TensorFlow with the appropriate compiler flags.\n"
     ]
    }
   ],
   "source": [
    "import numpy as np\n",
    "import pandas as pd\n",
    "\n",
    "import time\n",
    "\n",
    "import tensorflow_decision_forests as tfdf"
   ]
  },
  {
   "cell_type": "code",
   "execution_count": 2,
   "metadata": {},
   "outputs": [
    {
     "data": {
      "text/plain": [
       "\"\\n# load training data\\n\\ntrain_starting_time = time.time()\\ntrain_df = pd.read_csv('../Data/jet_images_c16_pt0_jedinet_sort_hpT_pcNone_train.csv', nrows = 10000)\\ntrain_load_time = time.time()-train_starting_time\\nprint(f'Loaded training sample of {len(train_df)} jets in {train_load_time:.3f}s')\\n\\n# load testing data\\n\\ntest_starting_time = time.time()\\ntest_df = pd.read_csv('../Data/jet_images_c16_pt0_jedinet_sort_hpT_pcNone_test.csv', nrows = 2500)\\ntest_load_time = time.time()-test_starting_time\\nprint(f'Loaded testing sample of {len(test_df)} jets in {test_load_time:.3f}s')\\n\""
      ]
     },
     "execution_count": 2,
     "metadata": {},
     "output_type": "execute_result"
    }
   ],
   "source": [
    "'''\n",
    "# load training data\n",
    "\n",
    "train_starting_time = time.time()\n",
    "train_df = pd.read_csv('../Data/jet_images_c16_pt0_jedinet_sort_hpT_pcNone_train.csv', nrows = 10000)\n",
    "train_load_time = time.time()-train_starting_time\n",
    "print(f'Loaded training sample of {len(train_df)} jets in {train_load_time:.3f}s')\n",
    "\n",
    "# load testing data\n",
    "\n",
    "test_starting_time = time.time()\n",
    "test_df = pd.read_csv('../Data/jet_images_c16_pt0_jedinet_sort_hpT_pcNone_test.csv', nrows = 2500)\n",
    "test_load_time = time.time()-test_starting_time\n",
    "print(f'Loaded testing sample of {len(test_df)} jets in {test_load_time:.3f}s')\n",
    "'''"
   ]
  },
  {
   "cell_type": "code",
   "execution_count": 3,
   "metadata": {},
   "outputs": [],
   "source": [
    "def load_tfds(data_path: str, nrows_: int = None, name:str = None, label_: str = 'class'):\n",
    "   start_time = time.time()\n",
    "   df = pd.read_csv(data_path, nrows = nrows_)\n",
    "   ds = tfdf.keras.pd_dataframe_to_tf_dataset(df, label=label_)\n",
    "   load_time = time.time()-start_time\n",
    "\n",
    "   if name is not None:\n",
    "      print(f'Loaded {name} sample of {len(df)} jets in {load_time:.3f}s')\n",
    "\n",
    "   return ds"
   ]
  },
  {
   "cell_type": "code",
   "execution_count": 4,
   "metadata": {},
   "outputs": [
    {
     "name": "stderr",
     "output_type": "stream",
     "text": [
      "2023-04-03 09:35:54.354195: I tensorflow/core/platform/cpu_feature_guard.cc:193] This TensorFlow binary is optimized with oneAPI Deep Neural Network Library (oneDNN) to use the following CPU instructions in performance-critical operations:  AVX2 FMA\n",
      "To enable them in other operations, rebuild TensorFlow with the appropriate compiler flags.\n"
     ]
    },
    {
     "name": "stdout",
     "output_type": "stream",
     "text": [
      "Loaded training sample of 1000 jets in 1.272s\n",
      "Loaded testing sample of 250 jets in 0.595s\n"
     ]
    }
   ],
   "source": [
    "train_ds = load_tfds('../Data/jet_images_c16_pt0_jedinet_sort_hpT_pcNone_train.csv', name='training', nrows_=1000)\n",
    "test_ds = load_tfds('../Data/jet_images_c16_pt0_jedinet_sort_hpT_pcNone_test.csv', name='testing', nrows_=250)"
   ]
  },
  {
   "cell_type": "code",
   "execution_count": 5,
   "metadata": {},
   "outputs": [
    {
     "data": {
      "text/plain": [
       "'\\ndf = pd.DataFrame({\"A\": [1, 2, 3], \"B\": [4, 5, 6]})\\ndf_renamed = df.rename(columns={\"A\": \"a\", \"B\": \"c\"})\\nprint(df)\\nprint(\\'\\n-------\\n\\')\\nprint(df_renamed)\\n'"
      ]
     },
     "execution_count": 5,
     "metadata": {},
     "output_type": "execute_result"
    }
   ],
   "source": [
    "'''\n",
    "df = pd.DataFrame({\"A\": [1, 2, 3], \"B\": [4, 5, 6]})\n",
    "df_renamed = df.rename(columns={\"A\": \"a\", \"B\": \"c\"})\n",
    "print(df)\n",
    "print('\\n-------\\n')\n",
    "print(df_renamed)\n",
    "'''"
   ]
  },
  {
   "cell_type": "code",
   "execution_count": 6,
   "metadata": {},
   "outputs": [
    {
     "data": {
      "text/plain": [
       "'\\nfor i in range(int((train_df.shape[1] - 1)/16)):\\n    train_df = train_df.rename(columns={f\"c{i}_cos(theta)\":f\"c{i}_cos_theta\", f\"c{i}_cos(theta_rel)\":f\"c{i}_cos_theta_rel\"})\\n\\nfor i in range(int((test_df.shape[1] - 1)/16)):\\n    test_df = test_df.rename(columns={f\"c{i}_cos(theta)\":f\"c{i}_cos_theta\", f\"c{i}_cos(theta_rel)\":f\"c{i}_cos_theta_rel\"})\\n'"
      ]
     },
     "execution_count": 6,
     "metadata": {},
     "output_type": "execute_result"
    }
   ],
   "source": [
    "'''\n",
    "for i in range(int((train_df.shape[1] - 1)/16)):\n",
    "    train_df = train_df.rename(columns={f\"c{i}_cos(theta)\":f\"c{i}_cos_theta\", f\"c{i}_cos(theta_rel)\":f\"c{i}_cos_theta_rel\"})\n",
    "\n",
    "for i in range(int((test_df.shape[1] - 1)/16)):\n",
    "    test_df = test_df.rename(columns={f\"c{i}_cos(theta)\":f\"c{i}_cos_theta\", f\"c{i}_cos(theta_rel)\":f\"c{i}_cos_theta_rel\"})\n",
    "'''    "
   ]
  },
  {
   "cell_type": "code",
   "execution_count": 7,
   "metadata": {},
   "outputs": [],
   "source": [
    "# train_ds['c0_cos_theta']"
   ]
  },
  {
   "cell_type": "code",
   "execution_count": 8,
   "metadata": {},
   "outputs": [
    {
     "data": {
      "text/plain": [
       "\"\\n# convert training and testing dataframes to tensorflow datasets\\ntrain_ds = tfdf.keras.pd_dataframe_to_tf_dataset(train_df, label='class')\\ntest_ds = tfdf.keras.pd_dataframe_to_tf_dataset(test_df, label='class')\\n\""
      ]
     },
     "execution_count": 8,
     "metadata": {},
     "output_type": "execute_result"
    }
   ],
   "source": [
    "'''\n",
    "# convert training and testing dataframes to tensorflow datasets\n",
    "train_ds = tfdf.keras.pd_dataframe_to_tf_dataset(train_df, label='class')\n",
    "test_ds = tfdf.keras.pd_dataframe_to_tf_dataset(test_df, label='class')\n",
    "'''"
   ]
  },
  {
   "cell_type": "code",
   "execution_count": 9,
   "metadata": {},
   "outputs": [],
   "source": [
    "BDT_hyperparameters={'num_trees':5,\n",
    "             'shrinkage':0.2,\n",
    "             'subsample':0.3,\n",
    "             'use_hessian_gain':True,\n",
    "             'growing_strategy':'BEST_FIRST_GLOBAL',\n",
    "             'max_depth':-1,\n",
    "             'max_num_nodes':32\n",
    "            }"
   ]
  },
  {
   "cell_type": "code",
   "execution_count": 10,
   "metadata": {},
   "outputs": [
    {
     "name": "stdout",
     "output_type": "stream",
     "text": [
      "Use /var/folders/w6/ywy355d53p1fqw8pn8ng6xn80000gn/T/tmpwdk908d6 as temporary training directory\n"
     ]
    }
   ],
   "source": [
    "# define the model\n",
    "model = tfdf.keras.GradientBoostedTreesModel(**BDT_hyperparameters)"
   ]
  },
  {
   "cell_type": "code",
   "execution_count": 11,
   "metadata": {},
   "outputs": [
    {
     "name": "stdout",
     "output_type": "stream",
     "text": [
      "Reading training dataset...\n",
      "WARNING:tensorflow:From /Users/andrewoliver/opt/anaconda3/envs/Masters/lib/python3.10/site-packages/tensorflow/python/autograph/pyct/static_analysis/liveness.py:83: Analyzer.lamba_check (from tensorflow.python.autograph.pyct.static_analysis.liveness) is deprecated and will be removed after 2023-09-23.\n",
      "Instructions for updating:\n",
      "Lambda fuctions will be no more assumed to be used in the statement where they are used, or at least in the same block. https://github.com/tensorflow/tensorflow/issues/56089\n"
     ]
    },
    {
     "name": "stderr",
     "output_type": "stream",
     "text": [
      "WARNING:tensorflow:From /Users/andrewoliver/opt/anaconda3/envs/Masters/lib/python3.10/site-packages/tensorflow/python/autograph/pyct/static_analysis/liveness.py:83: Analyzer.lamba_check (from tensorflow.python.autograph.pyct.static_analysis.liveness) is deprecated and will be removed after 2023-09-23.\n",
      "Instructions for updating:\n",
      "Lambda fuctions will be no more assumed to be used in the statement where they are used, or at least in the same block. https://github.com/tensorflow/tensorflow/issues/56089\n"
     ]
    },
    {
     "name": "stdout",
     "output_type": "stream",
     "text": [
      "Training dataset read in 0:00:11.397169. Found 1000 examples.\n",
      "Training model...\n"
     ]
    },
    {
     "name": "stderr",
     "output_type": "stream",
     "text": [
      "2023-04-03 09:36:08.249152: W external/ydf/yggdrasil_decision_forests/learner/gradient_boosted_trees/gradient_boosted_trees.cc:1790] \"goss_alpha\" set but \"sampling_method\" not equal to \"GOSS\".\n",
      "2023-04-03 09:36:08.249180: W external/ydf/yggdrasil_decision_forests/learner/gradient_boosted_trees/gradient_boosted_trees.cc:1800] \"goss_beta\" set but \"sampling_method\" not equal to \"GOSS\".\n",
      "2023-04-03 09:36:08.249192: W external/ydf/yggdrasil_decision_forests/learner/gradient_boosted_trees/gradient_boosted_trees.cc:1814] \"selective_gradient_boosting_ratio\" set but \"sampling_method\" not equal to \"SELGB\".\n",
      "2023-04-03 09:36:08.272857: I external/ydf/yggdrasil_decision_forests/learner/gradient_boosted_trees/gradient_boosted_trees.cc:452] Default loss set to MULTINOMIAL_LOG_LIKELIHOOD\n",
      "2023-04-03 09:36:08.274326: W external/ydf/yggdrasil_decision_forests/learner/gradient_boosted_trees/gradient_boosted_trees.cc:484] The model configuration specifies 5 trees but computation of the validation loss will only start at iteration 10 with 5 trees per iteration. No validation loss will be computed, early stopping is not used.\n",
      "2023-04-03 09:36:08.274364: I external/ydf/yggdrasil_decision_forests/learner/gradient_boosted_trees/gradient_boosted_trees.cc:1077] Training gradient boosted tree on 1000 example(s) and 256 feature(s).\n",
      "2023-04-03 09:36:08.283251: I external/ydf/yggdrasil_decision_forests/learner/gradient_boosted_trees/gradient_boosted_trees.cc:1120] 923 examples used for training and 77 examples used for validation\n",
      "2023-04-03 09:36:08.857105: I external/ydf/yggdrasil_decision_forests/learner/gradient_boosted_trees/gradient_boosted_trees.cc:1518] \tnum-trees:1 train-loss:1.380125 train-accuracy:0.516793 valid-loss:1.486226 valid-accuracy:0.376623\n",
      "2023-04-03 09:36:09.775659: I external/ydf/yggdrasil_decision_forests/learner/gradient_boosted_trees/gradient_boosted_trees.cc:1520] \tnum-trees:2 train-loss:1.204834 train-accuracy:0.628386 valid-loss:1.444019 valid-accuracy:0.454545\n"
     ]
    },
    {
     "name": "stdout",
     "output_type": "stream",
     "text": [
      "Model trained in 0:00:04.384265\n",
      "Compiling model...\n"
     ]
    },
    {
     "name": "stderr",
     "output_type": "stream",
     "text": [
      "2023-04-03 09:36:12.461994: I external/ydf/yggdrasil_decision_forests/learner/gradient_boosted_trees/gradient_boosted_trees.cc:1518] \tnum-trees:5 train-loss:0.844832 train-accuracy:0.780065 valid-loss:1.295878 valid-accuracy:0.532468\n",
      "2023-04-03 09:36:12.462175: I external/ydf/yggdrasil_decision_forests/learner/gradient_boosted_trees/gradient_boosted_trees.cc:1568] Create final snapshot of the model at iteration 5\n",
      "2023-04-03 09:36:12.472427: I external/ydf/yggdrasil_decision_forests/learner/gradient_boosted_trees/gradient_boosted_trees.cc:242] Insufficient number of trees to apply early stopping. Using last loss for metrics.\n",
      "2023-04-03 09:36:12.472456: I external/ydf/yggdrasil_decision_forests/learner/gradient_boosted_trees/gradient_boosted_trees.cc:309] Final model num-trees:0 valid-loss:1.295878 valid-accuracy:0.532468\n",
      "[INFO 2023-04-03T09:36:12.553207+02:00 kernel.cc:1214] Loading model from path /var/folders/w6/ywy355d53p1fqw8pn8ng6xn80000gn/T/tmpwdk908d6/model/ with prefix dcc0e9ddfb714453\n",
      "[INFO 2023-04-03T09:36:12.583054+02:00 decision_forest.cc:661] Model loaded with 25 root(s), 1465 node(s), and 206 input feature(s).\n",
      "[INFO 2023-04-03T09:36:12.583118+02:00 abstract_model.cc:1312] Engine \"GradientBoostedTreesGeneric\" built\n",
      "[INFO 2023-04-03T09:36:12.583238+02:00 kernel.cc:1046] Use fast generic engine\n"
     ]
    },
    {
     "name": "stdout",
     "output_type": "stream",
     "text": [
      "WARNING:tensorflow:AutoGraph could not transform <function simple_ml_inference_op_with_handle at 0x7f7e09cb8160> and will run it as-is.\n",
      "Please report this to the TensorFlow team. When filing the bug, set the verbosity to 10 (on Linux, `export AUTOGRAPH_VERBOSITY=10`) and attach the full output.\n",
      "Cause: could not get source code\n",
      "To silence this warning, decorate the function with @tf.autograph.experimental.do_not_convert\n"
     ]
    },
    {
     "name": "stderr",
     "output_type": "stream",
     "text": [
      "WARNING:tensorflow:AutoGraph could not transform <function simple_ml_inference_op_with_handle at 0x7f7e09cb8160> and will run it as-is.\n",
      "Please report this to the TensorFlow team. When filing the bug, set the verbosity to 10 (on Linux, `export AUTOGRAPH_VERBOSITY=10`) and attach the full output.\n",
      "Cause: could not get source code\n",
      "To silence this warning, decorate the function with @tf.autograph.experimental.do_not_convert\n"
     ]
    },
    {
     "name": "stdout",
     "output_type": "stream",
     "text": [
      "WARNING: AutoGraph could not transform <function simple_ml_inference_op_with_handle at 0x7f7e09cb8160> and will run it as-is.\n",
      "Please report this to the TensorFlow team. When filing the bug, set the verbosity to 10 (on Linux, `export AUTOGRAPH_VERBOSITY=10`) and attach the full output.\n",
      "Cause: could not get source code\n",
      "To silence this warning, decorate the function with @tf.autograph.experimental.do_not_convert\n",
      "Model compiled.\n"
     ]
    }
   ],
   "source": [
    "#train the model\n",
    "starting_time = time.time()\n",
    "model.fit(train_ds, verbose = 1)\n",
    "training_time = time.time() - starting_time"
   ]
  },
  {
   "cell_type": "code",
   "execution_count": 13,
   "metadata": {},
   "outputs": [
    {
     "ename": "AttributeError",
     "evalue": "'GradientBoostedTreesModel' object has no attribute 'GetVariableImportance'",
     "output_type": "error",
     "traceback": [
      "\u001b[0;31m---------------------------------------------------------------------------\u001b[0m",
      "\u001b[0;31mAttributeError\u001b[0m                            Traceback (most recent call last)",
      "Cell \u001b[0;32mIn[13], line 1\u001b[0m\n\u001b[0;32m----> 1\u001b[0m model\u001b[39m.\u001b[39;49mGetVariableImportance()\n",
      "\u001b[0;31mAttributeError\u001b[0m: 'GradientBoostedTreesModel' object has no attribute 'GetVariableImportance'"
     ]
    }
   ],
   "source": [
    "model.GetVariableImportance()"
   ]
  },
  {
   "cell_type": "code",
   "execution_count": 12,
   "metadata": {},
   "outputs": [
    {
     "name": "stderr",
     "output_type": "stream",
     "text": [
      "WARNING:absl:Function `_wrapped_model` contains input name(s) c0_Delta_R, c0_E, c0_E_rel, c0_pT, c0_pT_rel, c10_Delta_R, c10_E, c10_E_rel, c10_pT, c10_pT_rel, c11_Delta_R, c11_E, c11_E_rel, c11_pT, c11_pT_rel, c12_Delta_R, c12_E, c12_E_rel, c12_pT, c12_pT_rel, c13_Delta_R, c13_E, c13_E_rel, c13_pT, c13_pT_rel, c14_Delta_R, c14_E, c14_E_rel, c14_pT, c14_pT_rel, c15_Delta_R, c15_E, c15_E_rel, c15_pT, c15_pT_rel, c1_Delta_R, c1_E, c1_E_rel, c1_pT, c1_pT_rel, c2_Delta_R, c2_E, c2_E_rel, c2_pT, c2_pT_rel, c3_Delta_R, c3_E, c3_E_rel, c3_pT, c3_pT_rel, c4_Delta_R, c4_E, c4_E_rel, c4_pT, c4_pT_rel, c5_Delta_R, c5_E, c5_E_rel, c5_pT, c5_pT_rel, c6_Delta_R, c6_E, c6_E_rel, c6_pT, c6_pT_rel, c7_Delta_R, c7_E, c7_E_rel, c7_pT, c7_pT_rel, c8_Delta_R, c8_E, c8_E_rel, c8_pT, c8_pT_rel, c9_Delta_R, c9_E, c9_E_rel, c9_pT, c9_pT_rel with unsupported characters which will be renamed to c0_delta_r, c0_e, c0_e_rel, c0_pt, c0_pt_rel, c10_delta_r, c10_e, c10_e_rel, c10_pt, c10_pt_rel, c11_delta_r, c11_e, c11_e_rel, c11_pt, c11_pt_rel, c12_delta_r, c12_e, c12_e_rel, c12_pt, c12_pt_rel, c13_delta_r, c13_e, c13_e_rel, c13_pt, c13_pt_rel, c14_delta_r, c14_e, c14_e_rel, c14_pt, c14_pt_rel, c15_delta_r, c15_e, c15_e_rel, c15_pt, c15_pt_rel, c1_delta_r, c1_e, c1_e_rel, c1_pt, c1_pt_rel, c2_delta_r, c2_e, c2_e_rel, c2_pt, c2_pt_rel, c3_delta_r, c3_e, c3_e_rel, c3_pt, c3_pt_rel, c4_delta_r, c4_e, c4_e_rel, c4_pt, c4_pt_rel, c5_delta_r, c5_e, c5_e_rel, c5_pt, c5_pt_rel, c6_delta_r, c6_e, c6_e_rel, c6_pt, c6_pt_rel, c7_delta_r, c7_e, c7_e_rel, c7_pt, c7_pt_rel, c8_delta_r, c8_e, c8_e_rel, c8_pt, c8_pt_rel, c9_delta_r, c9_e, c9_e_rel, c9_pt, c9_pt_rel in the SavedModel.\n",
      "WARNING:absl:Found untraced functions such as call_get_leaves, _update_step_xla while saving (showing 2 of 2). These functions will not be directly callable after loading.\n"
     ]
    },
    {
     "name": "stdout",
     "output_type": "stream",
     "text": [
      "INFO:tensorflow:Assets written to: Models/BDT_name_test/assets\n"
     ]
    },
    {
     "name": "stderr",
     "output_type": "stream",
     "text": [
      "INFO:tensorflow:Assets written to: Models/BDT_name_test/assets\n"
     ]
    }
   ],
   "source": [
    "model.save('Models/BDT_name_test')"
   ]
  },
  {
   "cell_type": "code",
   "execution_count": 13,
   "metadata": {},
   "outputs": [],
   "source": [
    "inspector = tfdf.inspector.make_inspector(\"Models/BDT_name_test/assets/\")"
   ]
  },
  {
   "cell_type": "code",
   "execution_count": 14,
   "metadata": {},
   "outputs": [
    {
     "data": {
      "text/plain": [
       "63675.18042945862"
      ]
     },
     "execution_count": 14,
     "metadata": {},
     "output_type": "execute_result"
    }
   ],
   "source": [
    "inspector.variable_importances()['SUM_SCORE'][0][1]"
   ]
  },
  {
   "cell_type": "code",
   "execution_count": 15,
   "metadata": {},
   "outputs": [],
   "source": [
    "feature_list_SUM_SCORE = [inspector.variable_importances()['SUM_SCORE'][i][0][0] for i in range(len(inspector.variable_importances()['SUM_SCORE']))]"
   ]
  },
  {
   "cell_type": "code",
   "execution_count": 16,
   "metadata": {},
   "outputs": [
    {
     "data": {
      "text/plain": [
       "111"
      ]
     },
     "execution_count": 16,
     "metadata": {},
     "output_type": "execute_result"
    }
   ],
   "source": [
    "feature_list_SUM_SCORE.index('c0_pT')"
   ]
  },
  {
   "cell_type": "code",
   "execution_count": 17,
   "metadata": {},
   "outputs": [
    {
     "data": {
      "text/plain": [
       "'c5_Delta_R'"
      ]
     },
     "execution_count": 17,
     "metadata": {},
     "output_type": "execute_result"
    }
   ],
   "source": [
    "feature_list_SUM_SCORE[126]"
   ]
  },
  {
   "cell_type": "code",
   "execution_count": 18,
   "metadata": {},
   "outputs": [],
   "source": [
    "feature_labels = [\n",
    "        \"px\",\n",
    "        \"py\",\n",
    "        \"pz\",\n",
    "        \"E\",\n",
    "        \"E_rel\",\n",
    "        \"pT\",\n",
    "        \"pT_rel\",\n",
    "        \"eta\",\n",
    "        \"eta_rel\",\n",
    "        \"eta_rot\",\n",
    "        \"phi\",\n",
    "        \"phi_rel\",\n",
    "        \"phi_rot\",\n",
    "        \"Delta_R\",\n",
    "        \"cos_theta\",\n",
    "        \"cos_theta_rel\"\n",
    "    ]\n",
    "\n",
    "nb_constituents = 16"
   ]
  },
  {
   "cell_type": "code",
   "execution_count": 19,
   "metadata": {},
   "outputs": [],
   "source": [
    "feature_rankings  = np.zeros((len(feature_labels), nb_constituents))"
   ]
  },
  {
   "cell_type": "code",
   "execution_count": 20,
   "metadata": {},
   "outputs": [
    {
     "data": {
      "text/plain": [
       "array([0., 0., 0., 0., 0., 0., 0., 0., 0., 0., 0., 0., 0., 0., 0., 0.])"
      ]
     },
     "execution_count": 20,
     "metadata": {},
     "output_type": "execute_result"
    }
   ],
   "source": [
    "feature_rankings[:,0]"
   ]
  },
  {
   "cell_type": "code",
   "execution_count": 21,
   "metadata": {},
   "outputs": [
    {
     "name": "stdout",
     "output_type": "stream",
     "text": [
      "c0_px was found\n",
      "c1_px was found\n",
      "c2_px was not found\n",
      "c3_px was not found\n",
      "c4_px was found\n",
      "c5_px was found\n",
      "c6_px was found\n",
      "c7_px was found\n",
      "c8_px was not found\n",
      "c9_px was found\n",
      "c10_px was found\n",
      "c11_px was found\n",
      "c12_px was found\n",
      "c13_px was found\n",
      "c14_px was found\n",
      "c15_px was found\n",
      "c0_py was found\n",
      "c1_py was found\n",
      "c2_py was found\n",
      "c3_py was found\n",
      "c4_py was found\n",
      "c5_py was found\n",
      "c6_py was found\n",
      "c7_py was found\n",
      "c8_py was found\n",
      "c9_py was not found\n",
      "c10_py was found\n",
      "c11_py was found\n",
      "c12_py was not found\n",
      "c13_py was found\n",
      "c14_py was found\n",
      "c15_py was found\n",
      "c0_pz was found\n",
      "c1_pz was found\n",
      "c2_pz was not found\n",
      "c3_pz was found\n",
      "c4_pz was found\n",
      "c5_pz was found\n",
      "c6_pz was found\n",
      "c7_pz was not found\n",
      "c8_pz was not found\n",
      "c9_pz was found\n",
      "c10_pz was found\n",
      "c11_pz was found\n",
      "c12_pz was found\n",
      "c13_pz was found\n",
      "c14_pz was found\n",
      "c15_pz was found\n",
      "c0_E was found\n",
      "c1_E was found\n",
      "c2_E was found\n",
      "c3_E was found\n",
      "c4_E was found\n",
      "c5_E was found\n",
      "c6_E was found\n",
      "c7_E was found\n",
      "c8_E was found\n",
      "c9_E was found\n",
      "c10_E was found\n",
      "c11_E was found\n",
      "c12_E was found\n",
      "c13_E was found\n",
      "c14_E was found\n",
      "c15_E was found\n",
      "c0_E_rel was found\n",
      "c1_E_rel was found\n",
      "c2_E_rel was found\n",
      "c3_E_rel was found\n",
      "c4_E_rel was found\n",
      "c5_E_rel was found\n",
      "c6_E_rel was found\n",
      "c7_E_rel was found\n",
      "c8_E_rel was found\n",
      "c9_E_rel was found\n",
      "c10_E_rel was found\n",
      "c11_E_rel was found\n",
      "c12_E_rel was not found\n",
      "c13_E_rel was not found\n",
      "c14_E_rel was not found\n",
      "c15_E_rel was found\n",
      "c0_pT was found\n",
      "c1_pT was found\n",
      "c2_pT was found\n",
      "c3_pT was found\n",
      "c4_pT was found\n",
      "c5_pT was found\n",
      "c6_pT was found\n",
      "c7_pT was found\n",
      "c8_pT was found\n",
      "c9_pT was found\n",
      "c10_pT was not found\n",
      "c11_pT was found\n",
      "c12_pT was found\n",
      "c13_pT was found\n",
      "c14_pT was found\n",
      "c15_pT was found\n",
      "c0_pT_rel was found\n",
      "c1_pT_rel was found\n",
      "c2_pT_rel was found\n",
      "c3_pT_rel was found\n",
      "c4_pT_rel was not found\n",
      "c5_pT_rel was not found\n",
      "c6_pT_rel was not found\n",
      "c7_pT_rel was found\n",
      "c8_pT_rel was found\n",
      "c9_pT_rel was found\n",
      "c10_pT_rel was found\n",
      "c11_pT_rel was found\n",
      "c12_pT_rel was found\n",
      "c13_pT_rel was found\n",
      "c14_pT_rel was found\n",
      "c15_pT_rel was found\n",
      "c0_eta was not found\n",
      "c1_eta was found\n",
      "c2_eta was not found\n",
      "c3_eta was found\n",
      "c4_eta was not found\n",
      "c5_eta was not found\n",
      "c6_eta was found\n",
      "c7_eta was not found\n",
      "c8_eta was not found\n",
      "c9_eta was not found\n",
      "c10_eta was found\n",
      "c11_eta was not found\n",
      "c12_eta was found\n",
      "c13_eta was not found\n",
      "c14_eta was not found\n",
      "c15_eta was not found\n",
      "c0_eta_rel was found\n",
      "c1_eta_rel was found\n",
      "c2_eta_rel was found\n",
      "c3_eta_rel was found\n",
      "c4_eta_rel was found\n",
      "c5_eta_rel was found\n",
      "c6_eta_rel was found\n",
      "c7_eta_rel was found\n",
      "c8_eta_rel was found\n",
      "c9_eta_rel was found\n",
      "c10_eta_rel was found\n",
      "c11_eta_rel was found\n",
      "c12_eta_rel was found\n",
      "c13_eta_rel was found\n",
      "c14_eta_rel was found\n",
      "c15_eta_rel was found\n",
      "c0_eta_rot was not found\n",
      "c1_eta_rot was found\n",
      "c2_eta_rot was found\n",
      "c3_eta_rot was found\n",
      "c4_eta_rot was found\n",
      "c5_eta_rot was found\n",
      "c6_eta_rot was found\n",
      "c7_eta_rot was found\n",
      "c8_eta_rot was found\n",
      "c9_eta_rot was found\n",
      "c10_eta_rot was found\n",
      "c11_eta_rot was found\n",
      "c12_eta_rot was found\n",
      "c13_eta_rot was not found\n",
      "c14_eta_rot was found\n",
      "c15_eta_rot was found\n",
      "c0_phi was not found\n",
      "c1_phi was found\n",
      "c2_phi was found\n",
      "c3_phi was not found\n",
      "c4_phi was found\n",
      "c5_phi was not found\n",
      "c6_phi was found\n",
      "c7_phi was found\n",
      "c8_phi was not found\n",
      "c9_phi was found\n",
      "c10_phi was found\n",
      "c11_phi was found\n",
      "c12_phi was not found\n",
      "c13_phi was not found\n",
      "c14_phi was not found\n",
      "c15_phi was not found\n",
      "c0_phi_rel was found\n",
      "c1_phi_rel was found\n",
      "c2_phi_rel was found\n",
      "c3_phi_rel was found\n",
      "c4_phi_rel was found\n",
      "c5_phi_rel was found\n",
      "c6_phi_rel was found\n",
      "c7_phi_rel was found\n",
      "c8_phi_rel was found\n",
      "c9_phi_rel was found\n",
      "c10_phi_rel was found\n",
      "c11_phi_rel was found\n",
      "c12_phi_rel was found\n",
      "c13_phi_rel was found\n",
      "c14_phi_rel was found\n",
      "c15_phi_rel was found\n",
      "c0_phi_rot was not found\n",
      "c1_phi_rot was found\n",
      "c2_phi_rot was found\n",
      "c3_phi_rot was found\n",
      "c4_phi_rot was found\n",
      "c5_phi_rot was found\n",
      "c6_phi_rot was found\n",
      "c7_phi_rot was found\n",
      "c8_phi_rot was found\n",
      "c9_phi_rot was found\n",
      "c10_phi_rot was found\n",
      "c11_phi_rot was found\n",
      "c12_phi_rot was found\n",
      "c13_phi_rot was found\n",
      "c14_phi_rot was found\n",
      "c15_phi_rot was found\n",
      "c0_Delta_R was found\n",
      "c1_Delta_R was found\n",
      "c2_Delta_R was found\n",
      "c3_Delta_R was found\n",
      "c4_Delta_R was found\n",
      "c5_Delta_R was found\n",
      "c6_Delta_R was found\n",
      "c7_Delta_R was found\n",
      "c8_Delta_R was found\n",
      "c9_Delta_R was found\n",
      "c10_Delta_R was found\n",
      "c11_Delta_R was found\n",
      "c12_Delta_R was found\n",
      "c13_Delta_R was found\n",
      "c14_Delta_R was found\n",
      "c15_Delta_R was found\n",
      "c0_cos_theta was not found\n",
      "c1_cos_theta was not found\n",
      "c2_cos_theta was not found\n",
      "c3_cos_theta was found\n",
      "c4_cos_theta was found\n",
      "c5_cos_theta was not found\n",
      "c6_cos_theta was found\n",
      "c7_cos_theta was not found\n",
      "c8_cos_theta was found\n",
      "c9_cos_theta was not found\n",
      "c10_cos_theta was found\n",
      "c11_cos_theta was not found\n",
      "c12_cos_theta was found\n",
      "c13_cos_theta was found\n",
      "c14_cos_theta was not found\n",
      "c15_cos_theta was not found\n",
      "c0_cos_theta_rel was not found\n",
      "c1_cos_theta_rel was found\n",
      "c2_cos_theta_rel was not found\n",
      "c3_cos_theta_rel was found\n",
      "c4_cos_theta_rel was found\n",
      "c5_cos_theta_rel was found\n",
      "c6_cos_theta_rel was found\n",
      "c7_cos_theta_rel was not found\n",
      "c8_cos_theta_rel was found\n",
      "c9_cos_theta_rel was found\n",
      "c10_cos_theta_rel was found\n",
      "c11_cos_theta_rel was not found\n",
      "c12_cos_theta_rel was found\n",
      "c13_cos_theta_rel was found\n",
      "c14_cos_theta_rel was found\n",
      "c15_cos_theta_rel was found\n"
     ]
    }
   ],
   "source": [
    "for feature_index in range(len(feature_labels)):\n",
    "    for constituent_index in range(nb_constituents):\n",
    "        try:\n",
    "            score_index = feature_list_SUM_SCORE.index(f'c{constituent_index}_{feature_labels[feature_index]}')\n",
    "            feature_rankings[feature_index][constituent_index] = inspector.variable_importances()['SUM_SCORE'][score_index][1]\n",
    "            print(f'c{constituent_index}_{feature_labels[feature_index]} was found')\n",
    "\n",
    "        except:\n",
    "            print(f'c{constituent_index}_{feature_labels[feature_index]} was not found')\n",
    "            continue\n"
   ]
  },
  {
   "cell_type": "code",
   "execution_count": 22,
   "metadata": {},
   "outputs": [
    {
     "data": {
      "text/plain": [
       "array([[8.65782169e+03, 3.11295799e+03, 0.00000000e+00, 0.00000000e+00,\n",
       "        7.34885964e+03, 8.78404578e+03, 1.44666000e+04, 5.23569614e+03,\n",
       "        0.00000000e+00, 2.59249339e+03, 4.71054748e+02, 7.55777570e+02,\n",
       "        1.83516396e+03, 7.37573841e+03, 7.70973068e+03, 4.43303663e+03],\n",
       "       [7.62852346e+03, 1.22107887e+03, 6.73685708e+03, 7.43144369e+03,\n",
       "        2.68362888e+03, 1.07296703e+03, 1.45218750e+03, 5.72287009e+02,\n",
       "        9.69051623e+03, 0.00000000e+00, 1.78071905e+02, 1.31767034e+04,\n",
       "        0.00000000e+00, 3.22716653e+03, 2.35223136e+03, 2.19022365e+03],\n",
       "       [1.48930395e+03, 6.42380682e+02, 0.00000000e+00, 9.02931770e+02,\n",
       "        1.01153030e+04, 3.39425155e+03, 1.75519733e+03, 0.00000000e+00,\n",
       "        0.00000000e+00, 2.39414287e+02, 3.77983377e+03, 6.67755526e+02,\n",
       "        1.10144693e+03, 5.47349558e+02, 4.49212839e+03, 4.53346201e+03],\n",
       "       [4.74573671e+03, 2.91097798e+03, 5.53382775e+03, 1.00791603e+03,\n",
       "        7.89801869e+03, 1.23697935e+03, 4.88633528e+03, 1.99769358e+03,\n",
       "        8.12794564e+02, 1.75134325e+02, 9.04209042e+01, 8.90983809e+02,\n",
       "        6.33753548e+02, 4.31267787e+02, 6.35186777e+02, 6.63543139e+02],\n",
       "       [4.04093278e+03, 2.43833511e+02, 4.76774148e+03, 1.08130857e+03,\n",
       "        6.51368019e+02, 1.45794487e+04, 9.72034168e+02, 3.39559977e+03,\n",
       "        5.05370110e+02, 1.72267024e+03, 4.21890921e+03, 1.87974262e+02,\n",
       "        0.00000000e+00, 0.00000000e+00, 0.00000000e+00, 4.05884743e+03],\n",
       "       [3.38964137e+03, 9.57275957e+03, 5.54623620e+03, 3.75889173e+02,\n",
       "        2.66881088e+02, 2.89267363e+02, 2.28733965e+03, 4.13436882e+02,\n",
       "        3.51047294e+03, 1.80153046e+02, 0.00000000e+00, 8.59036788e+03,\n",
       "        5.55036419e+03, 4.69710335e+03, 2.16772093e+04, 9.46485117e+03],\n",
       "       [5.51805092e+03, 7.71222602e+03, 5.08447008e+02, 4.44482364e+03,\n",
       "        0.00000000e+00, 0.00000000e+00, 0.00000000e+00, 3.02851921e+03,\n",
       "        2.40793265e+03, 7.49111373e+03, 8.97587977e+03, 4.60647047e+03,\n",
       "        1.28517408e+03, 1.17048467e+03, 4.71210445e+03, 5.09956645e+03],\n",
       "       [0.00000000e+00, 5.41405834e+03, 0.00000000e+00, 4.16470496e+03,\n",
       "        0.00000000e+00, 0.00000000e+00, 2.80953467e+02, 0.00000000e+00,\n",
       "        0.00000000e+00, 0.00000000e+00, 1.62295029e+02, 0.00000000e+00,\n",
       "        1.06342110e+02, 0.00000000e+00, 0.00000000e+00, 0.00000000e+00],\n",
       "       [1.06723020e+03, 1.03957397e+03, 1.05071926e+04, 1.29364848e+04,\n",
       "        1.95174608e+04, 5.45419132e+03, 1.54926560e+03, 7.68030991e+03,\n",
       "        5.28493068e+03, 1.31202456e+03, 1.21710626e+03, 8.83237334e+02,\n",
       "        5.80141045e+03, 1.12362290e+04, 4.06633226e+03, 5.62379491e+03],\n",
       "       [0.00000000e+00, 1.21644546e+03, 3.80257587e+02, 6.04394753e+03,\n",
       "        2.05009712e+02, 1.06940601e+04, 5.88916086e+02, 1.45481313e+04,\n",
       "        8.72457116e+03, 5.94516696e+03, 6.63725121e+03, 1.09058084e+03,\n",
       "        9.46194377e+01, 0.00000000e+00, 6.19689983e+02, 6.07464099e+03],\n",
       "       [0.00000000e+00, 1.93388613e+03, 2.41402265e+02, 0.00000000e+00,\n",
       "        1.69403561e+03, 0.00000000e+00, 1.24134587e+03, 3.19317455e+03,\n",
       "        0.00000000e+00, 1.20857704e+02, 7.16739850e+03, 2.01195633e+03,\n",
       "        0.00000000e+00, 0.00000000e+00, 0.00000000e+00, 0.00000000e+00],\n",
       "       [1.93255634e+03, 9.19654960e+02, 3.17048696e+03, 9.31889839e+02,\n",
       "        1.52523054e+04, 1.27553914e+04, 3.42185914e+03, 4.41991555e+03,\n",
       "        4.25770922e+03, 2.11174264e+03, 2.58518643e+03, 9.26868106e+03,\n",
       "        2.09300961e+03, 5.86969243e+03, 4.40419274e+02, 6.29727164e+03],\n",
       "       [0.00000000e+00, 3.16382070e+04, 1.36741805e+04, 1.03308902e+04,\n",
       "        3.35877278e+04, 6.82958252e+03, 2.38765802e+04, 4.26710897e+03,\n",
       "        1.68925917e+04, 1.05135978e+04, 2.28522955e+04, 7.22944796e+03,\n",
       "        1.36529114e+04, 6.01713609e+03, 5.36276820e+03, 9.25257143e+03],\n",
       "       [6.36751804e+04, 4.24454871e+04, 1.18714609e+04, 3.47644384e+04,\n",
       "        9.03191306e+03, 2.14443286e+03, 4.92690323e+03, 1.71999123e+04,\n",
       "        7.95958436e+03, 8.19667806e+03, 1.00197781e+04, 1.41401432e+04,\n",
       "        6.62685310e+03, 5.77928581e+03, 1.09411875e+04, 1.59320936e+04],\n",
       "       [0.00000000e+00, 0.00000000e+00, 0.00000000e+00, 1.78438511e+02,\n",
       "        2.95999982e+02, 0.00000000e+00, 6.40000000e+01, 0.00000000e+00,\n",
       "        2.16668058e+03, 0.00000000e+00, 3.21683296e+02, 0.00000000e+00,\n",
       "        3.72099977e+03, 6.25000000e+01, 0.00000000e+00, 0.00000000e+00],\n",
       "       [0.00000000e+00, 1.81859123e+03, 0.00000000e+00, 6.80956686e+03,\n",
       "        1.07599244e+03, 1.06058502e+04, 5.79328079e+03, 0.00000000e+00,\n",
       "        5.12158085e+03, 3.78703266e+02, 9.52121866e+03, 0.00000000e+00,\n",
       "        4.11654288e+03, 1.04360527e+04, 4.45132954e+03, 1.64684915e+03]])"
      ]
     },
     "execution_count": 22,
     "metadata": {},
     "output_type": "execute_result"
    }
   ],
   "source": [
    "feature_rankings"
   ]
  },
  {
   "cell_type": "code",
   "execution_count": 23,
   "metadata": {},
   "outputs": [],
   "source": [
    "import matplotlib.pyplot as plt"
   ]
  },
  {
   "cell_type": "code",
   "execution_count": 24,
   "metadata": {},
   "outputs": [
    {
     "ename": "TypeError",
     "evalue": "hist2d() missing 1 required positional argument: 'y'",
     "output_type": "error",
     "traceback": [
      "\u001b[0;31m---------------------------------------------------------------------------\u001b[0m",
      "\u001b[0;31mTypeError\u001b[0m                                 Traceback (most recent call last)",
      "Cell \u001b[0;32mIn[24], line 1\u001b[0m\n\u001b[0;32m----> 1\u001b[0m plt\u001b[39m.\u001b[39;49mhist2d(feature_rankings)\n",
      "\u001b[0;31mTypeError\u001b[0m: hist2d() missing 1 required positional argument: 'y'"
     ]
    }
   ],
   "source": [
    "plt.hist2d(feature_rankings)"
   ]
  },
  {
   "cell_type": "code",
   "execution_count": 25,
   "metadata": {},
   "outputs": [],
   "source": [
    "import seaborn as sns"
   ]
  },
  {
   "cell_type": "code",
   "execution_count": 26,
   "metadata": {},
   "outputs": [
    {
     "data": {
      "image/png": "[encoded data removed]",
      "text/plain": [
       "<Figure size 640x480 with 2 Axes>"
      ]
     },
     "metadata": {},
     "output_type": "display_data"
    }
   ],
   "source": [
    "ax = sns.heatmap(feature_rankings, linewidth=0.5, cmap=\"YlGnBu\", yticklabels = feature_labels)\n",
    "ax.set(xlabel='Consituent', ylabel = 'Feature', title='SUM_SCORE feature importance')\n",
    "plt.savefig('Plots/SUM_SCORE_test.pdf')\n",
    "plt.show()"
   ]
  },
  {
   "cell_type": "code",
   "execution_count": 28,
   "metadata": {},
   "outputs": [
    {
     "data": {
      "text/plain": [
       "['px',\n",
       " 'py',\n",
       " 'pz',\n",
       " 'E',\n",
       " 'E_rel',\n",
       " 'pT',\n",
       " 'pT_rel',\n",
       " 'eta',\n",
       " 'eta_rel',\n",
       " 'eta_rot',\n",
       " 'phi',\n",
       " 'phi_rel',\n",
       " 'phi_rot',\n",
       " 'Delta_R',\n",
       " 'cos_theta',\n",
       " 'cos_theta_rel']"
      ]
     },
     "execution_count": 28,
     "metadata": {},
     "output_type": "execute_result"
    }
   ],
   "source": [
    "from prepare_data_BDT import select_feature_labels\n",
    "\n",
    "select_feature_labels('jedinet')"
   ]
  },
  {
   "cell_type": "code",
   "execution_count": 32,
   "metadata": {},
   "outputs": [
    {
     "data": {
      "text/plain": [
       "256"
      ]
     },
     "execution_count": 32,
     "metadata": {},
     "output_type": "execute_result"
    }
   ],
   "source": [
    "len(inspector.features())"
   ]
  },
  {
   "cell_type": "code",
   "execution_count": 35,
   "metadata": {},
   "outputs": [
    {
     "data": {
      "text/plain": [
       "numpy.ndarray"
      ]
     },
     "execution_count": 35,
     "metadata": {},
     "output_type": "execute_result"
    }
   ],
   "source": [
    "type(feature_rankings)"
   ]
  },
  {
   "cell_type": "code",
   "execution_count": 5,
   "metadata": {},
   "outputs": [],
   "source": [
    "# model_path = \"Models/BDT_name_test/\"\n",
    "import os\n",
    "import numpy as np\n",
    "import matplotlib.pyplot as plt\n",
    "import tensorflow_decision_forests as tfdf\n",
    "from prepare_data_BDT import select_feature_labels\n",
    "import seaborn as sns\n",
    "\n",
    "def get_2d_importances(model_path: str, variable_importance:str, feature_choice: str = 'jedinet') -> np.ndarray:\n",
    "    feature_list = select_feature_labels(feature_choice)\n",
    "\n",
    "    inspector_path = os.path.join(model_path, \"assets\")\n",
    "    inspector = tfdf.inspector.make_inspector(inspector_path)\n",
    "\n",
    "    nb_features = len(feature_list)\n",
    "    # print(f'features per constituent: {nb_features}')\n",
    "    nb_constituents = int(len(inspector.features())/nb_features)\n",
    "    # print(f'total features: {len(inspector.features())}')\n",
    "    # print(f'constituents per jet: {nb_constituents}')\n",
    "    \n",
    "    feature_importance_dict = {i[0][0]: i[1] for i in inspector.variable_importances()[variable_importance]}\n",
    "\n",
    "    feature_importances  = np.zeros((nb_features, nb_constituents))\n",
    "    for feature_index in range(nb_features):\n",
    "        for constituent_index in range(nb_constituents):\n",
    "            try:\n",
    "                feature_importances[feature_index][constituent_index] = feature_importance_dict[f'c{constituent_index}_{feature_list[feature_index]}']\n",
    "                # print(f'c{constituent_index}_{feature_list[feature_index]} was found')\n",
    "\n",
    "            except:\n",
    "                # print(f'c{constituent_index}_{feature_list[feature_index]} was not found')\n",
    "                continue\n",
    "    \n",
    "    return feature_importances\n",
    "\n",
    "def plot_importances(model_path: str, variable_importance:str, feature_choice: str = 'jedinet', cmap: str = \"YlGnBu\",\n",
    "                     save_fig: bool = False, fig_name:str = '', fig_directory:str = 'Plots', show_fig:bool = False):\n",
    "    feature_importances = get_2d_importances(model_path, variable_importance, feature_choice = feature_choice)\n",
    "\n",
    "    ax = sns.heatmap(feature_importances, linewidth=0.5, cmap=cmap, yticklabels = select_feature_labels(feature_choice), square = True)\n",
    "    ax.set(xlabel='Consituent', ylabel = 'Feature', title=f'{variable_importance} feature importance')\n",
    "    # plt.tight_layout()\n",
    "    if save_fig:\n",
    "        savepath = os.path.join(fig_directory, f\"{variable_importance}_{fig_name}.pdf\")\n",
    "        plt.savefig(savepath)\n",
    "    if show_fig:\n",
    "        plt.show()\n",
    "    \n",
    "    plt.close()\n",
    "    "
   ]
  },
  {
   "cell_type": "code",
   "execution_count": 6,
   "metadata": {},
   "outputs": [
    {
     "name": "stdout",
     "output_type": "stream",
     "text": [
      "INV_MEAN_MIN_DEPTH\n"
     ]
    },
    {
     "data": {
      "image/png": "[encoded data removed]",
      "text/plain": [
       "<Figure size 640x480 with 2 Axes>"
      ]
     },
     "metadata": {},
     "output_type": "display_data"
    },
    {
     "name": "stdout",
     "output_type": "stream",
     "text": [
      "NUM_AS_ROOT\n"
     ]
    },
    {
     "data": {
      "image/png": "[encoded data removed]",
      "text/plain": [
       "<Figure size 640x480 with 2 Axes>"
      ]
     },
     "metadata": {},
     "output_type": "display_data"
    },
    {
     "name": "stdout",
     "output_type": "stream",
     "text": [
      "NUM_NODES\n"
     ]
    },
    {
     "data": {
      "image/png": "[encoded data removed]",
      "text/plain": [
       "<Figure size 640x480 with 2 Axes>"
      ]
     },
     "metadata": {},
     "output_type": "display_data"
    },
    {
     "name": "stdout",
     "output_type": "stream",
     "text": [
      "SUM_SCORE\n"
     ]
    },
    {
     "data": {
      "image/png": "[encoded data removed]",
      "text/plain": [
       "<Figure size 640x480 with 2 Axes>"
      ]
     },
     "metadata": {},
     "output_type": "display_data"
    }
   ],
   "source": [
    "importances  = ['INV_MEAN_MIN_DEPTH', 'NUM_AS_ROOT', 'NUM_NODES', 'SUM_SCORE']\n",
    "\n",
    "for importance in importances:\n",
    "    print(importance)\n",
    "    plot_importances(\"/Users/andrewoliver/Documents/HEP Masters/ETH/Masters Project/Testing/Models/model_initial_c50_pt2.0_jedinet\", \n",
    "                     importance, show_fig = True,\n",
    "                     save_fig = False, fig_name = \"test\")"
   ]
  },
  {
   "cell_type": "code",
   "execution_count": 7,
   "metadata": {},
   "outputs": [
    {
     "data": {
      "text/plain": [
       "111"
      ]
     },
     "execution_count": 7,
     "metadata": {},
     "output_type": "execute_result"
    }
   ],
   "source": [
    "new_inspector = tfdf.inspector.make_inspector(\"Models/BDT_name_test/assets/\")\n",
    "feature_list_SUM_SCORE = [new_inspector.variable_importances()['SUM_SCORE'][i][0][0] for i in range(len(new_inspector.variable_importances()['SUM_SCORE']))]\n",
    "feature_list_SUM_SCORE.index('c0_pT')"
   ]
  },
  {
   "cell_type": "code",
   "execution_count": 29,
   "metadata": {},
   "outputs": [],
   "source": [
    "alt_list_SUM_SCORE = [i[0][0] for i in new_inspector.variable_importances()['SUM_SCORE']]\n",
    "# alt_list_SUM_SCORE[111]"
   ]
  },
  {
   "cell_type": "code",
   "execution_count": 30,
   "metadata": {},
   "outputs": [
    {
     "name": "stdout",
     "output_type": "stream",
     "text": [
      "{'c0_Delta_R': 63675.18042945862, 'c1_Delta_R': 42445.48713970184, 'c3_Delta_R': 34764.43838119507, 'c4_phi_rot': 33587.72777366638, 'c1_phi_rot': 31638.207044124603, 'c6_phi_rot': 23876.580218553543, 'c10_phi_rot': 22852.295475006104, 'c14_pT': 21677.209259986877, 'c4_eta_rel': 19517.460788726807, 'c7_Delta_R': 17199.91233062744, 'c8_phi_rot': 16892.59173297882, 'c15_Delta_R': 15932.093589782715, 'c4_phi_rel': 15252.305397033691, 'c5_E_rel': 14579.448732376099, 'c7_eta_rot': 14548.131271958351, 'c6_px': 14466.60004234314, 'c11_Delta_R': 14140.143162727356, 'c2_phi_rot': 13674.180543899536, 'c12_phi_rot': 13652.91135597229, 'c11_py': 13176.703435897827, 'c3_eta_rel': 12936.484847068787, 'c5_phi_rel': 12755.391427993774, 'c2_Delta_R': 11871.460938692093, 'c13_eta_rel': 11236.229035377502, 'c14_Delta_R': 10941.187519073486, 'c5_eta_rot': 10694.060084342957, 'c5_cos_theta_rel': 10605.850169181824, 'c9_phi_rot': 10513.597823143005, 'c2_eta_rel': 10507.192639827728, 'c13_cos_theta_rel': 10436.0526638031, 'c3_phi_rot': 10330.890179634094, 'c4_pz': 10115.303021907806, 'c10_Delta_R': 10019.778145313263, 'c8_py': 9690.516231536865, 'c1_pT': 9572.75956916809, 'c10_cos_theta_rel': 9521.218663215637, 'c15_pT': 9464.85117149353, 'c11_phi_rel': 9268.681057691574, 'c15_phi_rot': 9252.571427345276, 'c4_Delta_R': 9031.91306400299, 'c10_pT_rel': 8975.879768371582, 'c5_px': 8784.04577922821, 'c8_eta_rot': 8724.57116317749, 'c0_px': 8657.82169342041, 'c11_pT': 8590.367876052856, 'c9_Delta_R': 8196.678062438965, 'c8_Delta_R': 7959.584361076355, 'c4_E': 7898.018691062927, 'c1_pT_rel': 7712.226015090942, 'c14_px': 7709.73067855835, 'c7_eta_rel': 7680.309908866882, 'c0_py': 7628.523461341858, 'c9_pT_rel': 7491.113731384277, 'c3_py': 7431.443687438965, 'c13_px': 7375.738412857056, 'c4_px': 7348.859641075134, 'c11_phi_rot': 7229.447958946228, 'c10_phi': 7167.398498535156, 'c5_phi_rot': 6829.58251953125, 'c3_cos_theta_rel': 6809.566855430603, 'c2_py': 6736.857084274292, 'c10_eta_rot': 6637.251205444336, 'c12_Delta_R': 6626.853102684021, 'c15_phi_rel': 6297.271642208099, 'c15_eta_rot': 6074.640993118286, 'c3_eta_rot': 6043.947527885437, 'c13_phi_rot': 6017.136093616486, 'c9_eta_rot': 5945.166959285736, 'c13_phi_rel': 5869.692426681519, 'c12_eta_rel': 5801.4104471206665, 'c6_cos_theta_rel': 5793.280788421631, 'c13_Delta_R': 5779.285812616348, 'c15_eta_rel': 5623.794910430908, 'c12_pT': 5550.364189147949, 'c2_pT': 5546.236198425293, 'c2_E': 5533.827754020691, 'c0_pT_rel': 5518.050915718079, 'c5_eta_rel': 5454.191320180893, 'c1_eta': 5414.0583419799805, 'c14_phi_rot': 5362.768201828003, 'c8_eta_rel': 5284.930681705475, 'c7_px': 5235.696142196655, 'c8_cos_theta_rel': 5121.580853462219, 'c15_pT_rel': 5099.566452026367, 'c6_Delta_R': 4926.903233289719, 'c6_E': 4886.335277080536, 'c2_E_rel': 4767.741475582123, 'c0_E': 4745.736712932587, 'c14_pT_rel': 4712.104454040527, 'c13_pT': 4697.1033544540405, 'c11_pT_rel': 4606.4704666137695, 'c15_pz': 4533.462012290955, 'c14_pz': 4492.128386974335, 'c14_cos_theta_rel': 4451.329536437988, 'c3_pT_rel': 4444.823642730713, 'c15_px': 4433.036625385284, 'c7_phi_rel': 4419.915545940399, 'c7_phi_rot': 4267.1089725494385, 'c8_phi_rel': 4257.709219932556, 'c10_E_rel': 4218.909208059311, 'c3_eta': 4164.7049560546875, 'c12_cos_theta_rel': 4116.542881011963, 'c14_eta_rel': 4066.3322553634644, 'c15_E_rel': 4058.8474349975586, 'c0_E_rel': 4040.9327754974365, 'c10_pz': 3779.8337721824646, 'c12_cos_theta': 3720.999767303467, 'c8_pT': 3510.4729356765747, 'c6_phi_rel': 3421.8591356277466, 'c7_E_rel': 3395.5997676849365, 'c5_pz': 3394.2515544891357, 'c0_pT': 3389.6413745880127, 'c13_py': 3227.1665325164795, 'c7_phi': 3193.1745529174805, 'c2_phi_rel': 3170.4869623184204, 'c1_px': 3112.957992553711, 'c7_pT_rel': 3028.519208908081, 'c1_E': 2910.97798371315, 'c4_py': 2683.6288833618164, 'c9_px': 2592.4933891296387, 'c10_phi_rel': 2585.18642950058, 'c8_pT_rel': 2407.932646751404, 'c14_py': 2352.2313566207886, 'c6_pT': 2287.3396520614624, 'c15_py': 2190.2236518859863, 'c8_cos_theta': 2166.6805849075317, 'c5_Delta_R': 2144.432858943939, 'c9_phi_rel': 2111.7426385879517, 'c12_phi_rel': 2093.0096073150635, 'c11_phi': 2011.9563293457031, 'c7_E': 1997.6935787200928, 'c1_phi': 1933.886131286621, 'c0_phi_rel': 1932.556335926056, 'c12_px': 1835.1639556884766, 'c1_cos_theta_rel': 1818.5912322998047, 'c6_pz': 1755.1973304748535, 'c9_E_rel': 1722.6702365875244, 'c4_phi': 1694.0356092453003, 'c15_cos_theta_rel': 1646.8491516113281, 'c6_eta_rel': 1549.2655982971191, 'c0_pz': 1489.3039541244507, 'c6_py': 1452.1875019073486, 'c9_eta_rel': 1312.0245633125305, 'c12_pT_rel': 1285.1740765571594, 'c6_phi': 1241.3458671569824, 'c5_E': 1236.9793457984924, 'c1_py': 1221.0788688659668, 'c10_eta_rel': 1217.1062641143799, 'c1_eta_rot': 1216.4454636573792, 'c13_pT_rel': 1170.4846658706665, 'c12_pz': 1101.4469289779663, 'c11_eta_rot': 1090.5808413028717, 'c3_E_rel': 1081.308572769165, 'c4_cos_theta_rel': 1075.9924402236938, 'c5_py': 1072.967025756836, 'c0_eta_rel': 1067.23020362854, 'c1_eta_rel': 1039.573965549469, 'c3_E': 1007.9160346984863, 'c6_E_rel': 972.0341682434082, 'c3_phi_rel': 931.8898391723633, 'c1_phi_rel': 919.6549596786499, 'c3_pz': 902.931770324707, 'c11_E': 890.983808517456, 'c11_eta_rel': 883.2373337745667, 'c8_E': 812.7945642471313, 'c11_px': 755.777569770813, 'c11_pz': 667.7555255889893, 'c15_E': 663.5431385040283, 'c4_E_rel': 651.3680191040039, 'c1_pz': 642.3806819915771, 'c14_E': 635.1867771148682, 'c12_E': 633.753547668457, 'c14_eta_rot': 619.6899833679199, 'c6_eta_rot': 588.9160857200623, 'c7_py': 572.2870092391968, 'c13_pz': 547.3495578765869, 'c2_pT_rel': 508.44700813293457, 'c8_E_rel': 505.37010955810547, 'c10_px': 471.05474758148193, 'c14_phi_rel': 440.41927433013916, 'c13_E': 431.2677869796753, 'c7_pT': 413.43688201904297, 'c2_eta_rot': 380.2575874328613, 'c9_cos_theta_rel': 378.70326566696167, 'c3_pT': 375.8891725540161, 'c10_cos_theta': 321.6832962036133, 'c4_cos_theta': 295.99998235702515, 'c5_pT': 289.2673625946045, 'c6_eta': 280.95346689224243, 'c4_pT': 266.88108801841736, 'c1_E_rel': 243.83351135253906, 'c2_phi': 241.40226459503174, 'c9_pz': 239.41428661346436, 'c4_eta_rot': 205.00971221923828, 'c11_E_rel': 187.97426223754883, 'c9_pT': 180.15304565429688, 'c3_cos_theta': 178.4385108947754, 'c10_py': 178.07190465927124, 'c9_E': 175.13432502746582, 'c10_eta': 162.29502868652344, 'c9_phi': 120.8577036857605, 'c12_eta': 106.34210968017578, 'c12_eta_rot': 94.61943769454956, 'c10_E': 90.4209041595459, 'c6_cos_theta': 64.0, 'c13_cos_theta': 62.5}\n"
     ]
    }
   ],
   "source": [
    "SUM_SCORE_dict = {i[0][0]: i[1] for i in new_inspector.variable_importances()['SUM_SCORE']}\n",
    "print(SUM_SCORE_dict)"
   ]
  },
  {
   "cell_type": "code",
   "execution_count": 31,
   "metadata": {},
   "outputs": [
    {
     "data": {
      "text/plain": [
       "3389.6413745880127"
      ]
     },
     "execution_count": 31,
     "metadata": {},
     "output_type": "execute_result"
    }
   ],
   "source": [
    "SUM_SCORE_dict['c0_pT']"
   ]
  },
  {
   "cell_type": "code",
   "execution_count": 28,
   "metadata": {},
   "outputs": [
    {
     "data": {
      "text/plain": [
       "[(\"c0_Delta_R\" (1; #1), 63675.18042945862),\n",
       " (\"c1_Delta_R\" (1; #113), 42445.48713970184),\n",
       " (\"c3_Delta_R\" (1; #145), 34764.43838119507),\n",
       " (\"c4_phi_rot\" (1; #173), 33587.72777366638),\n",
       " (\"c1_phi_rot\" (1; #125), 31638.207044124603),\n",
       " (\"c6_phi_rot\" (1; #205), 23876.580218553543),\n",
       " (\"c10_phi_rot\" (1; #29), 22852.295475006104),\n",
       " (\"c14_pT\" (1; #89), 21677.209259986877),\n",
       " (\"c4_eta_rel\" (1; #167), 19517.460788726807),\n",
       " (\"c7_Delta_R\" (1; #209), 17199.91233062744),\n",
       " (\"c8_phi_rot\" (1; #237), 16892.59173297882),\n",
       " (\"c15_Delta_R\" (1; #97), 15932.093589782715),\n",
       " (\"c4_phi_rel\" (1; #172), 15252.305397033691),\n",
       " (\"c5_E_rel\" (1; #179), 14579.448732376099),\n",
       " (\"c7_eta_rot\" (1; #216), 14548.131271958351),\n",
       " (\"c6_px\" (1; #206), 14466.60004234314),\n",
       " (\"c11_Delta_R\" (1; #33), 14140.143162727356),\n",
       " (\"c2_phi_rot\" (1; #141), 13674.180543899536),\n",
       " (\"c12_phi_rot\" (1; #61), 13652.91135597229),\n",
       " (\"c11_py\" (1; #47), 13176.703435897827),\n",
       " (\"c3_eta_rel\" (1; #151), 12936.484847068787),\n",
       " (\"c5_phi_rel\" (1; #188), 12755.391427993774),\n",
       " (\"c2_Delta_R\" (1; #129), 11871.460938692093),\n",
       " (\"c13_eta_rel\" (1; #71), 11236.229035377502),\n",
       " (\"c14_Delta_R\" (1; #81), 10941.187519073486),\n",
       " (\"c5_eta_rot\" (1; #184), 10694.060084342957),\n",
       " (\"c5_cos_theta_rel\" (1; #181), 10605.850169181824),\n",
       " (\"c9_phi_rot\" (1; #253), 10513.597823143005),\n",
       " (\"c2_eta_rel\" (1; #135), 10507.192639827728),\n",
       " (\"c13_cos_theta_rel\" (1; #69), 10436.0526638031),\n",
       " (\"c3_phi_rot\" (1; #157), 10330.890179634094),\n",
       " (\"c4_pz\" (1; #176), 10115.303021907806),\n",
       " (\"c10_Delta_R\" (1; #17), 10019.778145313263),\n",
       " (\"c8_py\" (1; #239), 9690.516231536865),\n",
       " (\"c1_pT\" (1; #121), 9572.75956916809),\n",
       " (\"c10_cos_theta_rel\" (1; #21), 9521.218663215637),\n",
       " (\"c15_pT\" (1; #105), 9464.85117149353),\n",
       " (\"c11_phi_rel\" (1; #44), 9268.681057691574),\n",
       " (\"c15_phi_rot\" (1; #109), 9252.571427345276),\n",
       " (\"c4_Delta_R\" (1; #161), 9031.91306400299),\n",
       " (\"c10_pT_rel\" (1; #26), 8975.879768371582),\n",
       " (\"c5_px\" (1; #190), 8784.04577922821),\n",
       " (\"c8_eta_rot\" (1; #232), 8724.57116317749),\n",
       " (\"c0_px\" (1; #14), 8657.82169342041),\n",
       " (\"c11_pT\" (1; #41), 8590.367876052856),\n",
       " (\"c9_Delta_R\" (1; #241), 8196.678062438965),\n",
       " (\"c8_Delta_R\" (1; #225), 7959.584361076355),\n",
       " (\"c4_E\" (1; #162), 7898.018691062927),\n",
       " (\"c1_pT_rel\" (1; #122), 7712.226015090942),\n",
       " (\"c14_px\" (1; #94), 7709.73067855835),\n",
       " (\"c7_eta_rel\" (1; #215), 7680.309908866882),\n",
       " (\"c0_py\" (1; #15), 7628.523461341858),\n",
       " (\"c9_pT_rel\" (1; #250), 7491.113731384277),\n",
       " (\"c3_py\" (1; #159), 7431.443687438965),\n",
       " (\"c13_px\" (1; #78), 7375.738412857056),\n",
       " (\"c4_px\" (1; #174), 7348.859641075134),\n",
       " (\"c11_phi_rot\" (1; #45), 7229.447958946228),\n",
       " (\"c10_phi\" (1; #27), 7167.398498535156),\n",
       " (\"c5_phi_rot\" (1; #189), 6829.58251953125),\n",
       " (\"c3_cos_theta_rel\" (1; #149), 6809.566855430603),\n",
       " (\"c2_py\" (1; #143), 6736.857084274292),\n",
       " (\"c10_eta_rot\" (1; #24), 6637.251205444336),\n",
       " (\"c12_Delta_R\" (1; #49), 6626.853102684021),\n",
       " (\"c15_phi_rel\" (1; #108), 6297.271642208099),\n",
       " (\"c15_eta_rot\" (1; #104), 6074.640993118286),\n",
       " (\"c3_eta_rot\" (1; #152), 6043.947527885437),\n",
       " (\"c13_phi_rot\" (1; #77), 6017.136093616486),\n",
       " (\"c9_eta_rot\" (1; #248), 5945.166959285736),\n",
       " (\"c13_phi_rel\" (1; #76), 5869.692426681519),\n",
       " (\"c12_eta_rel\" (1; #55), 5801.4104471206665),\n",
       " (\"c6_cos_theta_rel\" (1; #197), 5793.280788421631),\n",
       " (\"c13_Delta_R\" (1; #65), 5779.285812616348),\n",
       " (\"c15_eta_rel\" (1; #103), 5623.794910430908),\n",
       " (\"c12_pT\" (1; #57), 5550.364189147949),\n",
       " (\"c2_pT\" (1; #137), 5546.236198425293),\n",
       " (\"c2_E\" (1; #130), 5533.827754020691),\n",
       " (\"c0_pT_rel\" (1; #10), 5518.050915718079),\n",
       " (\"c5_eta_rel\" (1; #183), 5454.191320180893),\n",
       " (\"c1_eta\" (1; #118), 5414.0583419799805),\n",
       " (\"c14_phi_rot\" (1; #93), 5362.768201828003),\n",
       " (\"c8_eta_rel\" (1; #231), 5284.930681705475),\n",
       " (\"c7_px\" (1; #222), 5235.696142196655),\n",
       " (\"c8_cos_theta_rel\" (1; #229), 5121.580853462219),\n",
       " (\"c15_pT_rel\" (1; #106), 5099.566452026367),\n",
       " (\"c6_Delta_R\" (1; #193), 4926.903233289719),\n",
       " (\"c6_E\" (1; #194), 4886.335277080536),\n",
       " (\"c2_E_rel\" (1; #131), 4767.741475582123),\n",
       " (\"c0_E\" (1; #2), 4745.736712932587),\n",
       " (\"c14_pT_rel\" (1; #90), 4712.104454040527),\n",
       " (\"c13_pT\" (1; #73), 4697.1033544540405),\n",
       " (\"c11_pT_rel\" (1; #42), 4606.4704666137695),\n",
       " (\"c15_pz\" (1; #112), 4533.462012290955),\n",
       " (\"c14_pz\" (1; #96), 4492.128386974335),\n",
       " (\"c14_cos_theta_rel\" (1; #85), 4451.329536437988),\n",
       " (\"c3_pT_rel\" (1; #154), 4444.823642730713),\n",
       " (\"c15_px\" (1; #110), 4433.036625385284),\n",
       " (\"c7_phi_rel\" (1; #220), 4419.915545940399),\n",
       " (\"c7_phi_rot\" (1; #221), 4267.1089725494385),\n",
       " (\"c8_phi_rel\" (1; #236), 4257.709219932556),\n",
       " (\"c10_E_rel\" (1; #19), 4218.909208059311),\n",
       " (\"c3_eta\" (1; #150), 4164.7049560546875),\n",
       " (\"c12_cos_theta_rel\" (1; #53), 4116.542881011963),\n",
       " (\"c14_eta_rel\" (1; #87), 4066.3322553634644),\n",
       " (\"c15_E_rel\" (1; #99), 4058.8474349975586),\n",
       " (\"c0_E_rel\" (1; #3), 4040.9327754974365),\n",
       " (\"c10_pz\" (1; #32), 3779.8337721824646),\n",
       " (\"c12_cos_theta\" (1; #52), 3720.999767303467),\n",
       " (\"c8_pT\" (1; #233), 3510.4729356765747),\n",
       " (\"c6_phi_rel\" (1; #204), 3421.8591356277466),\n",
       " (\"c7_E_rel\" (1; #211), 3395.5997676849365),\n",
       " (\"c5_pz\" (1; #192), 3394.2515544891357),\n",
       " (\"c0_pT\" (1; #9), 3389.6413745880127),\n",
       " (\"c13_py\" (1; #79), 3227.1665325164795),\n",
       " (\"c7_phi\" (1; #219), 3193.1745529174805),\n",
       " (\"c2_phi_rel\" (1; #140), 3170.4869623184204),\n",
       " (\"c1_px\" (1; #126), 3112.957992553711),\n",
       " (\"c7_pT_rel\" (1; #218), 3028.519208908081),\n",
       " (\"c1_E\" (1; #114), 2910.97798371315),\n",
       " (\"c4_py\" (1; #175), 2683.6288833618164),\n",
       " (\"c9_px\" (1; #254), 2592.4933891296387),\n",
       " (\"c10_phi_rel\" (1; #28), 2585.18642950058),\n",
       " (\"c8_pT_rel\" (1; #234), 2407.932646751404),\n",
       " (\"c14_py\" (1; #95), 2352.2313566207886),\n",
       " (\"c6_pT\" (1; #201), 2287.3396520614624),\n",
       " (\"c15_py\" (1; #111), 2190.2236518859863),\n",
       " (\"c8_cos_theta\" (1; #228), 2166.6805849075317),\n",
       " (\"c5_Delta_R\" (1; #177), 2144.432858943939),\n",
       " (\"c9_phi_rel\" (1; #252), 2111.7426385879517),\n",
       " (\"c12_phi_rel\" (1; #60), 2093.0096073150635),\n",
       " (\"c11_phi\" (1; #43), 2011.9563293457031),\n",
       " (\"c7_E\" (1; #210), 1997.6935787200928),\n",
       " (\"c1_phi\" (1; #123), 1933.886131286621),\n",
       " (\"c0_phi_rel\" (1; #12), 1932.556335926056),\n",
       " (\"c12_px\" (1; #62), 1835.1639556884766),\n",
       " (\"c1_cos_theta_rel\" (1; #117), 1818.5912322998047),\n",
       " (\"c6_pz\" (1; #208), 1755.1973304748535),\n",
       " (\"c9_E_rel\" (1; #243), 1722.6702365875244),\n",
       " (\"c4_phi\" (1; #171), 1694.0356092453003),\n",
       " (\"c15_cos_theta_rel\" (1; #101), 1646.8491516113281),\n",
       " (\"c6_eta_rel\" (1; #199), 1549.2655982971191),\n",
       " (\"c0_pz\" (1; #16), 1489.3039541244507),\n",
       " (\"c6_py\" (1; #207), 1452.1875019073486),\n",
       " (\"c9_eta_rel\" (1; #247), 1312.0245633125305),\n",
       " (\"c12_pT_rel\" (1; #58), 1285.1740765571594),\n",
       " (\"c6_phi\" (1; #203), 1241.3458671569824),\n",
       " (\"c5_E\" (1; #178), 1236.9793457984924),\n",
       " (\"c1_py\" (1; #127), 1221.0788688659668),\n",
       " (\"c10_eta_rel\" (1; #23), 1217.1062641143799),\n",
       " (\"c1_eta_rot\" (1; #120), 1216.4454636573792),\n",
       " (\"c13_pT_rel\" (1; #74), 1170.4846658706665),\n",
       " (\"c12_pz\" (1; #64), 1101.4469289779663),\n",
       " (\"c11_eta_rot\" (1; #40), 1090.5808413028717),\n",
       " (\"c3_E_rel\" (1; #147), 1081.308572769165),\n",
       " (\"c4_cos_theta_rel\" (1; #165), 1075.9924402236938),\n",
       " (\"c5_py\" (1; #191), 1072.967025756836),\n",
       " (\"c0_eta_rel\" (1; #7), 1067.23020362854),\n",
       " (\"c1_eta_rel\" (1; #119), 1039.573965549469),\n",
       " (\"c3_E\" (1; #146), 1007.9160346984863),\n",
       " (\"c6_E_rel\" (1; #195), 972.0341682434082),\n",
       " (\"c3_phi_rel\" (1; #156), 931.8898391723633),\n",
       " (\"c1_phi_rel\" (1; #124), 919.6549596786499),\n",
       " (\"c3_pz\" (1; #160), 902.931770324707),\n",
       " (\"c11_E\" (1; #34), 890.983808517456),\n",
       " (\"c11_eta_rel\" (1; #39), 883.2373337745667),\n",
       " (\"c8_E\" (1; #226), 812.7945642471313),\n",
       " (\"c11_px\" (1; #46), 755.777569770813),\n",
       " (\"c11_pz\" (1; #48), 667.7555255889893),\n",
       " (\"c15_E\" (1; #98), 663.5431385040283),\n",
       " (\"c4_E_rel\" (1; #163), 651.3680191040039),\n",
       " (\"c1_pz\" (1; #128), 642.3806819915771),\n",
       " (\"c14_E\" (1; #82), 635.1867771148682),\n",
       " (\"c12_E\" (1; #50), 633.753547668457),\n",
       " (\"c14_eta_rot\" (1; #88), 619.6899833679199),\n",
       " (\"c6_eta_rot\" (1; #200), 588.9160857200623),\n",
       " (\"c7_py\" (1; #223), 572.2870092391968),\n",
       " (\"c13_pz\" (1; #80), 547.3495578765869),\n",
       " (\"c2_pT_rel\" (1; #138), 508.44700813293457),\n",
       " (\"c8_E_rel\" (1; #227), 505.37010955810547),\n",
       " (\"c10_px\" (1; #30), 471.05474758148193),\n",
       " (\"c14_phi_rel\" (1; #92), 440.41927433013916),\n",
       " (\"c13_E\" (1; #66), 431.2677869796753),\n",
       " (\"c7_pT\" (1; #217), 413.43688201904297),\n",
       " (\"c2_eta_rot\" (1; #136), 380.2575874328613),\n",
       " (\"c9_cos_theta_rel\" (1; #245), 378.70326566696167),\n",
       " (\"c3_pT\" (1; #153), 375.8891725540161),\n",
       " (\"c10_cos_theta\" (1; #20), 321.6832962036133),\n",
       " (\"c4_cos_theta\" (1; #164), 295.99998235702515),\n",
       " (\"c5_pT\" (1; #185), 289.2673625946045),\n",
       " (\"c6_eta\" (1; #198), 280.95346689224243),\n",
       " (\"c4_pT\" (1; #169), 266.88108801841736),\n",
       " (\"c1_E_rel\" (1; #115), 243.83351135253906),\n",
       " (\"c2_phi\" (1; #139), 241.40226459503174),\n",
       " (\"c9_pz\" (1; #256), 239.41428661346436),\n",
       " (\"c4_eta_rot\" (1; #168), 205.00971221923828),\n",
       " (\"c11_E_rel\" (1; #35), 187.97426223754883),\n",
       " (\"c9_pT\" (1; #249), 180.15304565429688),\n",
       " (\"c3_cos_theta\" (1; #148), 178.4385108947754),\n",
       " (\"c10_py\" (1; #31), 178.07190465927124),\n",
       " (\"c9_E\" (1; #242), 175.13432502746582),\n",
       " (\"c10_eta\" (1; #22), 162.29502868652344),\n",
       " (\"c9_phi\" (1; #251), 120.8577036857605),\n",
       " (\"c12_eta\" (1; #54), 106.34210968017578),\n",
       " (\"c12_eta_rot\" (1; #56), 94.61943769454956),\n",
       " (\"c10_E\" (1; #18), 90.4209041595459),\n",
       " (\"c6_cos_theta\" (1; #196), 64.0),\n",
       " (\"c13_cos_theta\" (1; #68), 62.5)]"
      ]
     },
     "execution_count": 28,
     "metadata": {},
     "output_type": "execute_result"
    }
   ],
   "source": [
    "new_inspector.variable_importances()['SUM_SCORE']"
   ]
  },
  {
   "cell_type": "code",
   "execution_count": null,
   "metadata": {},
   "outputs": [],
   "source": []
  }
 ],
 "metadata": {
  "kernelspec": {
   "display_name": "Python 3 (ipykernel)",
   "language": "python",
   "name": "python3"
  },
  "language_info": {
   "codemirror_mode": {
    "name": "ipython",
    "version": 3
   },
   "file_extension": ".py",
   "mimetype": "text/x-python",
   "name": "python",
   "nbconvert_exporter": "python",
   "pygments_lexer": "ipython3",
   "version": "3.10.9"
  }
 },
 "nbformat": 4,
 "nbformat_minor": 2
}

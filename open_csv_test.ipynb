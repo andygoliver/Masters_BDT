{
 "cells": [
  {
   "cell_type": "code",
   "execution_count": 1,
   "metadata": {},
   "outputs": [
    {
     "name": "stderr",
     "output_type": "stream",
     "text": [
      "2023-03-29 15:59:53.144974: I tensorflow/core/platform/cpu_feature_guard.cc:193] This TensorFlow binary is optimized with oneAPI Deep Neural Network Library (oneDNN) to use the following CPU instructions in performance-critical operations:  AVX2 FMA\n",
      "To enable them in other operations, rebuild TensorFlow with the appropriate compiler flags.\n"
     ]
    }
   ],
   "source": [
    "import numpy as np\n",
    "import pandas as pd\n",
    "import time\n",
    "import tensorflow_decision_forests as tfdf"
   ]
  },
  {
   "cell_type": "code",
   "execution_count": 2,
   "metadata": {},
   "outputs": [],
   "source": [
    "def load_tfds(data_path: str, label_: str = 'class'):\n",
    "   start_time = time.time()\n",
    "   df = pd.read_csv(data_path, nrows = None)\n",
    "   ds = tfdf.keras.pd_dataframe_to_tf_dataset(df, label=label_)\n",
    "   load_time = time.time()-start_time\n",
    "\n",
    "   return ds, load_time"
   ]
  },
  {
   "cell_type": "code",
   "execution_count": 3,
   "metadata": {},
   "outputs": [
    {
     "name": "stderr",
     "output_type": "stream",
     "text": [
      "2023-03-29 16:03:29.821040: I tensorflow/core/platform/cpu_feature_guard.cc:193] This TensorFlow binary is optimized with oneAPI Deep Neural Network Library (oneDNN) to use the following CPU instructions in performance-critical operations:  AVX2 FMA\n",
      "To enable them in other operations, rebuild TensorFlow with the appropriate compiler flags.\n"
     ]
    },
    {
     "name": "stdout",
     "output_type": "stream",
     "text": [
      "Loaded training sample of 620 jets in 177.214s\n",
      "Loaded testing sample of 260 jets in 69.711s\n"
     ]
    }
   ],
   "source": [
    "train_ds, train_load_time = load_tfds('../Data/jet_images_c8_pt2.0_andre_train.csv')\n",
    "print(f'Loaded training sample of {len(train_ds)} jets in {train_load_time:.3f}s')\n",
    "\n",
    "test_ds, test_load_time = load_tfds('../Data/jet_images_c8_pt2.0_andre_test.csv')\n",
    "print(f'Loaded testing sample of {len(test_ds)} jets in {test_load_time:.3f}s')"
   ]
  },
  {
   "cell_type": "code",
   "execution_count": 4,
   "metadata": {},
   "outputs": [],
   "source": [
    "def load_tfds_(data_path: str, name:str = None, label_: str = 'class'):\n",
    "   start_time = time.time()\n",
    "   df = pd.read_csv(data_path, nrows = None)\n",
    "   ds = tfdf.keras.pd_dataframe_to_tf_dataset(df, label=label_)\n",
    "   load_time = time.time()-start_time\n",
    "\n",
    "   if name is not None:\n",
    "      print(f'Loaded {name} sample of {len(df)} jets in {load_time:.3f}s')\n",
    "\n",
    "   return ds"
   ]
  },
  {
   "cell_type": "code",
   "execution_count": 8,
   "metadata": {},
   "outputs": [
    {
     "name": "stdout",
     "output_type": "stream",
     "text": [
      "Loaded testing sample of 620000 jets in 177.461s\n"
     ]
    }
   ],
   "source": [
    "ds = load_tfds_('../Data/jet_images_c8_pt2.0_andre_train.csv', name= 'testing')"
   ]
  },
  {
   "cell_type": "code",
   "execution_count": 7,
   "metadata": {},
   "outputs": [
    {
     "data": {
      "text/plain": [
       "<PrefetchDataset element_spec=({'c0_pT': TensorSpec(shape=(None,), dtype=tf.float64, name=None), 'c0_eta_rel': TensorSpec(shape=(None,), dtype=tf.float64, name=None), 'c0_phi_rel': TensorSpec(shape=(None,), dtype=tf.float64, name=None), 'c1_pT': TensorSpec(shape=(None,), dtype=tf.float64, name=None), 'c1_eta_rel': TensorSpec(shape=(None,), dtype=tf.float64, name=None), 'c1_phi_rel': TensorSpec(shape=(None,), dtype=tf.float64, name=None), 'c2_pT': TensorSpec(shape=(None,), dtype=tf.float64, name=None), 'c2_eta_rel': TensorSpec(shape=(None,), dtype=tf.float64, name=None), 'c2_phi_rel': TensorSpec(shape=(None,), dtype=tf.float64, name=None), 'c3_pT': TensorSpec(shape=(None,), dtype=tf.float64, name=None), 'c3_eta_rel': TensorSpec(shape=(None,), dtype=tf.float64, name=None), 'c3_phi_rel': TensorSpec(shape=(None,), dtype=tf.float64, name=None), 'c4_pT': TensorSpec(shape=(None,), dtype=tf.float64, name=None), 'c4_eta_rel': TensorSpec(shape=(None,), dtype=tf.float64, name=None), 'c4_phi_rel': TensorSpec(shape=(None,), dtype=tf.float64, name=None), 'c5_pT': TensorSpec(shape=(None,), dtype=tf.float64, name=None), 'c5_eta_rel': TensorSpec(shape=(None,), dtype=tf.float64, name=None), 'c5_phi_rel': TensorSpec(shape=(None,), dtype=tf.float64, name=None), 'c6_pT': TensorSpec(shape=(None,), dtype=tf.float64, name=None), 'c6_eta_rel': TensorSpec(shape=(None,), dtype=tf.float64, name=None), 'c6_phi_rel': TensorSpec(shape=(None,), dtype=tf.float64, name=None), 'c7_pT': TensorSpec(shape=(None,), dtype=tf.float64, name=None), 'c7_eta_rel': TensorSpec(shape=(None,), dtype=tf.float64, name=None), 'c7_phi_rel': TensorSpec(shape=(None,), dtype=tf.float64, name=None)}, TensorSpec(shape=(None,), dtype=tf.int64, name=None))>"
      ]
     },
     "execution_count": 7,
     "metadata": {},
     "output_type": "execute_result"
    }
   ],
   "source": [
    "ds"
   ]
  },
  {
   "cell_type": "code",
   "execution_count": 9,
   "metadata": {},
   "outputs": [
    {
     "name": "stdout",
     "output_type": "stream",
     "text": [
      "Loaded training sample of 620000 jets in 4.228s\n",
      "Loaded testing sample of 260000 jets in 73.471s\n"
     ]
    }
   ],
   "source": [
    "train_starting_time = time.time()\n",
    "train_df = pd.read_csv('../Data/jet_images_c8_pt2.0_andre_train.csv', nrows = None)\n",
    "train_load_time = time.time()-train_starting_time\n",
    "print(f'Loaded training sample of {len(train_df)} jets in {train_load_time:.3f}s')\n",
    "\n",
    "test_starting_time = time.time()\n",
    "test_df = pd.read_csv('../Data/jet_images_c8_pt2.0_andre_test.csv', nrows = None)\n",
    "test_load_time = time.time()-test_starting_time\n",
    "print(f'Loaded testing sample of {len(test_df)} jets in {test_load_time:.3f}s')"
   ]
  },
  {
   "cell_type": "code",
   "execution_count": 3,
   "metadata": {},
   "outputs": [
    {
     "data": {
      "text/html": [
       "<div>\n",
       "<style scoped>\n",
       "    .dataframe tbody tr th:only-of-type {\n",
       "        vertical-align: middle;\n",
       "    }\n",
       "\n",
       "    .dataframe tbody tr th {\n",
       "        vertical-align: top;\n",
       "    }\n",
       "\n",
       "    .dataframe thead th {\n",
       "        text-align: right;\n",
       "    }\n",
       "</style>\n",
       "<table border=\"1\" class=\"dataframe\">\n",
       "  <thead>\n",
       "    <tr style=\"text-align: right;\">\n",
       "      <th></th>\n",
       "      <th>c0_pT</th>\n",
       "      <th>c0_eta_rel</th>\n",
       "      <th>c0_phi_rel</th>\n",
       "      <th>c1_pT</th>\n",
       "      <th>c1_eta_rel</th>\n",
       "      <th>c1_phi_rel</th>\n",
       "      <th>c2_pT</th>\n",
       "      <th>c2_eta_rel</th>\n",
       "      <th>c2_phi_rel</th>\n",
       "      <th>c3_pT</th>\n",
       "      <th>...</th>\n",
       "      <th>c5_pT</th>\n",
       "      <th>c5_eta_rel</th>\n",
       "      <th>c5_phi_rel</th>\n",
       "      <th>c6_pT</th>\n",
       "      <th>c6_eta_rel</th>\n",
       "      <th>c6_phi_rel</th>\n",
       "      <th>c7_pT</th>\n",
       "      <th>c7_eta_rel</th>\n",
       "      <th>c7_phi_rel</th>\n",
       "      <th>class</th>\n",
       "    </tr>\n",
       "  </thead>\n",
       "  <tbody>\n",
       "    <tr>\n",
       "      <th>0</th>\n",
       "      <td>127.170784</td>\n",
       "      <td>0.001834</td>\n",
       "      <td>-0.014956</td>\n",
       "      <td>108.677773</td>\n",
       "      <td>0.000709</td>\n",
       "      <td>-0.013420</td>\n",
       "      <td>89.533981</td>\n",
       "      <td>-0.006970</td>\n",
       "      <td>-0.012862</td>\n",
       "      <td>82.854065</td>\n",
       "      <td>...</td>\n",
       "      <td>78.606422</td>\n",
       "      <td>0.002182</td>\n",
       "      <td>-0.002786</td>\n",
       "      <td>68.779770</td>\n",
       "      <td>0.018643</td>\n",
       "      <td>-0.016875</td>\n",
       "      <td>29.332670</td>\n",
       "      <td>0.008509</td>\n",
       "      <td>-0.013312</td>\n",
       "      <td>b'g'</td>\n",
       "    </tr>\n",
       "    <tr>\n",
       "      <th>1</th>\n",
       "      <td>277.407898</td>\n",
       "      <td>-0.015373</td>\n",
       "      <td>-0.017715</td>\n",
       "      <td>79.854210</td>\n",
       "      <td>-0.012873</td>\n",
       "      <td>-0.020216</td>\n",
       "      <td>74.960220</td>\n",
       "      <td>-0.026450</td>\n",
       "      <td>-0.012522</td>\n",
       "      <td>72.056015</td>\n",
       "      <td>...</td>\n",
       "      <td>48.487492</td>\n",
       "      <td>-0.022873</td>\n",
       "      <td>-0.025219</td>\n",
       "      <td>45.293770</td>\n",
       "      <td>-0.022873</td>\n",
       "      <td>-0.010211</td>\n",
       "      <td>45.081135</td>\n",
       "      <td>-0.018989</td>\n",
       "      <td>-0.021100</td>\n",
       "      <td>b'w'</td>\n",
       "    </tr>\n",
       "    <tr>\n",
       "      <th>2</th>\n",
       "      <td>70.972809</td>\n",
       "      <td>0.036545</td>\n",
       "      <td>0.081963</td>\n",
       "      <td>67.218811</td>\n",
       "      <td>0.038624</td>\n",
       "      <td>0.069400</td>\n",
       "      <td>49.024307</td>\n",
       "      <td>-0.200151</td>\n",
       "      <td>-0.001620</td>\n",
       "      <td>42.727558</td>\n",
       "      <td>...</td>\n",
       "      <td>38.735580</td>\n",
       "      <td>0.036545</td>\n",
       "      <td>0.071958</td>\n",
       "      <td>38.659615</td>\n",
       "      <td>-0.223524</td>\n",
       "      <td>0.006875</td>\n",
       "      <td>35.834946</td>\n",
       "      <td>0.216545</td>\n",
       "      <td>-0.183172</td>\n",
       "      <td>b'g'</td>\n",
       "    </tr>\n",
       "    <tr>\n",
       "      <th>3</th>\n",
       "      <td>559.684448</td>\n",
       "      <td>-0.010916</td>\n",
       "      <td>-0.051404</td>\n",
       "      <td>161.477982</td>\n",
       "      <td>0.029084</td>\n",
       "      <td>0.138693</td>\n",
       "      <td>90.419510</td>\n",
       "      <td>-0.019160</td>\n",
       "      <td>-0.048764</td>\n",
       "      <td>32.389412</td>\n",
       "      <td>...</td>\n",
       "      <td>25.729921</td>\n",
       "      <td>-0.013170</td>\n",
       "      <td>0.022238</td>\n",
       "      <td>24.437622</td>\n",
       "      <td>-0.013416</td>\n",
       "      <td>-0.053905</td>\n",
       "      <td>18.806957</td>\n",
       "      <td>0.001584</td>\n",
       "      <td>0.111179</td>\n",
       "      <td>b'z'</td>\n",
       "    </tr>\n",
       "    <tr>\n",
       "      <th>4</th>\n",
       "      <td>217.392563</td>\n",
       "      <td>-0.122969</td>\n",
       "      <td>0.014416</td>\n",
       "      <td>152.610535</td>\n",
       "      <td>0.080669</td>\n",
       "      <td>-0.017567</td>\n",
       "      <td>101.869621</td>\n",
       "      <td>0.102799</td>\n",
       "      <td>-0.006134</td>\n",
       "      <td>77.217911</td>\n",
       "      <td>...</td>\n",
       "      <td>36.433201</td>\n",
       "      <td>0.086130</td>\n",
       "      <td>-0.011223</td>\n",
       "      <td>29.143293</td>\n",
       "      <td>0.079167</td>\n",
       "      <td>-0.015268</td>\n",
       "      <td>28.700176</td>\n",
       "      <td>0.095669</td>\n",
       "      <td>-0.027572</td>\n",
       "      <td>b't'</td>\n",
       "    </tr>\n",
       "    <tr>\n",
       "      <th>...</th>\n",
       "      <td>...</td>\n",
       "      <td>...</td>\n",
       "      <td>...</td>\n",
       "      <td>...</td>\n",
       "      <td>...</td>\n",
       "      <td>...</td>\n",
       "      <td>...</td>\n",
       "      <td>...</td>\n",
       "      <td>...</td>\n",
       "      <td>...</td>\n",
       "      <td>...</td>\n",
       "      <td>...</td>\n",
       "      <td>...</td>\n",
       "      <td>...</td>\n",
       "      <td>...</td>\n",
       "      <td>...</td>\n",
       "      <td>...</td>\n",
       "      <td>...</td>\n",
       "      <td>...</td>\n",
       "      <td>...</td>\n",
       "      <td>...</td>\n",
       "    </tr>\n",
       "    <tr>\n",
       "      <th>619995</th>\n",
       "      <td>162.321442</td>\n",
       "      <td>-0.109834</td>\n",
       "      <td>0.024973</td>\n",
       "      <td>127.598358</td>\n",
       "      <td>-0.114834</td>\n",
       "      <td>0.019971</td>\n",
       "      <td>115.335396</td>\n",
       "      <td>0.229465</td>\n",
       "      <td>-0.065023</td>\n",
       "      <td>68.611946</td>\n",
       "      <td>...</td>\n",
       "      <td>47.893639</td>\n",
       "      <td>-0.112157</td>\n",
       "      <td>0.019235</td>\n",
       "      <td>45.063622</td>\n",
       "      <td>-0.112481</td>\n",
       "      <td>0.031176</td>\n",
       "      <td>35.236385</td>\n",
       "      <td>0.235476</td>\n",
       "      <td>-0.052078</td>\n",
       "      <td>b't'</td>\n",
       "    </tr>\n",
       "    <tr>\n",
       "      <th>619996</th>\n",
       "      <td>214.436722</td>\n",
       "      <td>-0.016063</td>\n",
       "      <td>0.044187</td>\n",
       "      <td>137.480835</td>\n",
       "      <td>-0.017454</td>\n",
       "      <td>0.043955</td>\n",
       "      <td>101.513351</td>\n",
       "      <td>-0.023984</td>\n",
       "      <td>0.043693</td>\n",
       "      <td>79.496208</td>\n",
       "      <td>...</td>\n",
       "      <td>61.498901</td>\n",
       "      <td>0.052841</td>\n",
       "      <td>-0.100248</td>\n",
       "      <td>59.911545</td>\n",
       "      <td>-0.021378</td>\n",
       "      <td>0.042438</td>\n",
       "      <td>48.713058</td>\n",
       "      <td>0.050267</td>\n",
       "      <td>-0.093899</td>\n",
       "      <td>b'w'</td>\n",
       "    </tr>\n",
       "    <tr>\n",
       "      <th>619997</th>\n",
       "      <td>85.169762</td>\n",
       "      <td>0.006348</td>\n",
       "      <td>-0.077123</td>\n",
       "      <td>82.310699</td>\n",
       "      <td>-0.020926</td>\n",
       "      <td>0.009409</td>\n",
       "      <td>63.253696</td>\n",
       "      <td>-0.083608</td>\n",
       "      <td>0.063904</td>\n",
       "      <td>61.558960</td>\n",
       "      <td>...</td>\n",
       "      <td>39.643116</td>\n",
       "      <td>0.040148</td>\n",
       "      <td>0.049016</td>\n",
       "      <td>31.956434</td>\n",
       "      <td>-0.005010</td>\n",
       "      <td>-0.074949</td>\n",
       "      <td>29.238163</td>\n",
       "      <td>-0.049821</td>\n",
       "      <td>0.028737</td>\n",
       "      <td>b'g'</td>\n",
       "    </tr>\n",
       "    <tr>\n",
       "      <th>619998</th>\n",
       "      <td>724.892578</td>\n",
       "      <td>-0.001300</td>\n",
       "      <td>-0.002186</td>\n",
       "      <td>101.005707</td>\n",
       "      <td>-0.006734</td>\n",
       "      <td>0.000535</td>\n",
       "      <td>72.452377</td>\n",
       "      <td>-0.003800</td>\n",
       "      <td>-0.004687</td>\n",
       "      <td>51.773643</td>\n",
       "      <td>...</td>\n",
       "      <td>13.900049</td>\n",
       "      <td>0.006200</td>\n",
       "      <td>0.040335</td>\n",
       "      <td>12.920212</td>\n",
       "      <td>-0.007925</td>\n",
       "      <td>-0.089420</td>\n",
       "      <td>10.400173</td>\n",
       "      <td>0.076497</td>\n",
       "      <td>-0.064242</td>\n",
       "      <td>b'q'</td>\n",
       "    </tr>\n",
       "    <tr>\n",
       "      <th>619999</th>\n",
       "      <td>163.050735</td>\n",
       "      <td>-0.000446</td>\n",
       "      <td>-0.006970</td>\n",
       "      <td>153.112030</td>\n",
       "      <td>0.004084</td>\n",
       "      <td>-0.000888</td>\n",
       "      <td>149.771439</td>\n",
       "      <td>-0.010879</td>\n",
       "      <td>-0.002106</td>\n",
       "      <td>133.364243</td>\n",
       "      <td>...</td>\n",
       "      <td>96.415298</td>\n",
       "      <td>-0.007658</td>\n",
       "      <td>-0.002949</td>\n",
       "      <td>47.789677</td>\n",
       "      <td>0.006626</td>\n",
       "      <td>0.001862</td>\n",
       "      <td>46.774330</td>\n",
       "      <td>-0.002811</td>\n",
       "      <td>-0.007246</td>\n",
       "      <td>b'q'</td>\n",
       "    </tr>\n",
       "  </tbody>\n",
       "</table>\n",
       "<p>620000 rows × 25 columns</p>\n",
       "</div>"
      ],
      "text/plain": [
       "             c0_pT  c0_eta_rel  c0_phi_rel       c1_pT  c1_eta_rel  \\\n",
       "0       127.170784    0.001834   -0.014956  108.677773    0.000709   \n",
       "1       277.407898   -0.015373   -0.017715   79.854210   -0.012873   \n",
       "2        70.972809    0.036545    0.081963   67.218811    0.038624   \n",
       "3       559.684448   -0.010916   -0.051404  161.477982    0.029084   \n",
       "4       217.392563   -0.122969    0.014416  152.610535    0.080669   \n",
       "...            ...         ...         ...         ...         ...   \n",
       "619995  162.321442   -0.109834    0.024973  127.598358   -0.114834   \n",
       "619996  214.436722   -0.016063    0.044187  137.480835   -0.017454   \n",
       "619997   85.169762    0.006348   -0.077123   82.310699   -0.020926   \n",
       "619998  724.892578   -0.001300   -0.002186  101.005707   -0.006734   \n",
       "619999  163.050735   -0.000446   -0.006970  153.112030    0.004084   \n",
       "\n",
       "        c1_phi_rel       c2_pT  c2_eta_rel  c2_phi_rel       c3_pT  ...  \\\n",
       "0        -0.013420   89.533981   -0.006970   -0.012862   82.854065  ...   \n",
       "1        -0.020216   74.960220   -0.026450   -0.012522   72.056015  ...   \n",
       "2         0.069400   49.024307   -0.200151   -0.001620   42.727558  ...   \n",
       "3         0.138693   90.419510   -0.019160   -0.048764   32.389412  ...   \n",
       "4        -0.017567  101.869621    0.102799   -0.006134   77.217911  ...   \n",
       "...            ...         ...         ...         ...         ...  ...   \n",
       "619995    0.019971  115.335396    0.229465   -0.065023   68.611946  ...   \n",
       "619996    0.043955  101.513351   -0.023984    0.043693   79.496208  ...   \n",
       "619997    0.009409   63.253696   -0.083608    0.063904   61.558960  ...   \n",
       "619998    0.000535   72.452377   -0.003800   -0.004687   51.773643  ...   \n",
       "619999   -0.000888  149.771439   -0.010879   -0.002106  133.364243  ...   \n",
       "\n",
       "            c5_pT  c5_eta_rel  c5_phi_rel      c6_pT  c6_eta_rel  c6_phi_rel  \\\n",
       "0       78.606422    0.002182   -0.002786  68.779770    0.018643   -0.016875   \n",
       "1       48.487492   -0.022873   -0.025219  45.293770   -0.022873   -0.010211   \n",
       "2       38.735580    0.036545    0.071958  38.659615   -0.223524    0.006875   \n",
       "3       25.729921   -0.013170    0.022238  24.437622   -0.013416   -0.053905   \n",
       "4       36.433201    0.086130   -0.011223  29.143293    0.079167   -0.015268   \n",
       "...           ...         ...         ...        ...         ...         ...   \n",
       "619995  47.893639   -0.112157    0.019235  45.063622   -0.112481    0.031176   \n",
       "619996  61.498901    0.052841   -0.100248  59.911545   -0.021378    0.042438   \n",
       "619997  39.643116    0.040148    0.049016  31.956434   -0.005010   -0.074949   \n",
       "619998  13.900049    0.006200    0.040335  12.920212   -0.007925   -0.089420   \n",
       "619999  96.415298   -0.007658   -0.002949  47.789677    0.006626    0.001862   \n",
       "\n",
       "            c7_pT  c7_eta_rel  c7_phi_rel  class  \n",
       "0       29.332670    0.008509   -0.013312   b'g'  \n",
       "1       45.081135   -0.018989   -0.021100   b'w'  \n",
       "2       35.834946    0.216545   -0.183172   b'g'  \n",
       "3       18.806957    0.001584    0.111179   b'z'  \n",
       "4       28.700176    0.095669   -0.027572   b't'  \n",
       "...           ...         ...         ...    ...  \n",
       "619995  35.236385    0.235476   -0.052078   b't'  \n",
       "619996  48.713058    0.050267   -0.093899   b'w'  \n",
       "619997  29.238163   -0.049821    0.028737   b'g'  \n",
       "619998  10.400173    0.076497   -0.064242   b'q'  \n",
       "619999  46.774330   -0.002811   -0.007246   b'q'  \n",
       "\n",
       "[620000 rows x 25 columns]"
      ]
     },
     "execution_count": 3,
     "metadata": {},
     "output_type": "execute_result"
    }
   ],
   "source": [
    "train_df"
   ]
  },
  {
   "cell_type": "code",
   "execution_count": 10,
   "metadata": {},
   "outputs": [],
   "source": [
    "train_ds = tfdf.keras.pd_dataframe_to_tf_dataset(train_df, label='class')\n",
    "test_ds = tfdf.keras.pd_dataframe_to_tf_dataset(test_df, label='class')"
   ]
  },
  {
   "cell_type": "code",
   "execution_count": 5,
   "metadata": {},
   "outputs": [],
   "source": [
    "BDT_hyperparameters = {'num_trees':5,\n",
    "                      'shrinkage':0.2,\n",
    "                      'subsample':0.3,\n",
    "                      'use_hessian_gain':True,\n",
    "                      'growing_strategy':'BEST_FIRST_GLOBAL',\n",
    "                      'max_depth':-1,\n",
    "                      'max_num_nodes':32\n",
    "                     }"
   ]
  },
  {
   "cell_type": "code",
   "execution_count": 6,
   "metadata": {},
   "outputs": [
    {
     "name": "stdout",
     "output_type": "stream",
     "text": [
      "Use /var/folders/w6/ywy355d53p1fqw8pn8ng6xn80000gn/T/tmp1k80l1qz as temporary training directory\n"
     ]
    }
   ],
   "source": [
    "model = tfdf.keras.GradientBoostedTreesModel(**BDT_hyperparameters)"
   ]
  },
  {
   "cell_type": "code",
   "execution_count": 7,
   "metadata": {},
   "outputs": [
    {
     "name": "stdout",
     "output_type": "stream",
     "text": [
      "Reading training dataset...\n",
      "Training tensor examples:\n",
      "Features: {'c0_pT': <tf.Tensor 'data_1:0' shape=(None,) dtype=float64>, 'c0_eta_rel': <tf.Tensor 'data:0' shape=(None,) dtype=float64>, 'c0_phi_rel': <tf.Tensor 'data_2:0' shape=(None,) dtype=float64>, 'c1_pT': <tf.Tensor 'data_4:0' shape=(None,) dtype=float64>, 'c1_eta_rel': <tf.Tensor 'data_3:0' shape=(None,) dtype=float64>, 'c1_phi_rel': <tf.Tensor 'data_5:0' shape=(None,) dtype=float64>, 'c2_pT': <tf.Tensor 'data_7:0' shape=(None,) dtype=float64>, 'c2_eta_rel': <tf.Tensor 'data_6:0' shape=(None,) dtype=float64>, 'c2_phi_rel': <tf.Tensor 'data_8:0' shape=(None,) dtype=float64>, 'c3_pT': <tf.Tensor 'data_10:0' shape=(None,) dtype=float64>, 'c3_eta_rel': <tf.Tensor 'data_9:0' shape=(None,) dtype=float64>, 'c3_phi_rel': <tf.Tensor 'data_11:0' shape=(None,) dtype=float64>, 'c4_pT': <tf.Tensor 'data_13:0' shape=(None,) dtype=float64>, 'c4_eta_rel': <tf.Tensor 'data_12:0' shape=(None,) dtype=float64>, 'c4_phi_rel': <tf.Tensor 'data_14:0' shape=(None,) dtype=float64>, 'c5_pT': <tf.Tensor 'data_16:0' shape=(None,) dtype=float64>, 'c5_eta_rel': <tf.Tensor 'data_15:0' shape=(None,) dtype=float64>, 'c5_phi_rel': <tf.Tensor 'data_17:0' shape=(None,) dtype=float64>, 'c6_pT': <tf.Tensor 'data_19:0' shape=(None,) dtype=float64>, 'c6_eta_rel': <tf.Tensor 'data_18:0' shape=(None,) dtype=float64>, 'c6_phi_rel': <tf.Tensor 'data_20:0' shape=(None,) dtype=float64>, 'c7_pT': <tf.Tensor 'data_22:0' shape=(None,) dtype=float64>, 'c7_eta_rel': <tf.Tensor 'data_21:0' shape=(None,) dtype=float64>, 'c7_phi_rel': <tf.Tensor 'data_23:0' shape=(None,) dtype=float64>}\n",
      "Label: Tensor(\"data_24:0\", shape=(None,), dtype=int64)\n",
      "Weights: None\n",
      "WARNING:tensorflow:From /Users/andrewoliver/opt/anaconda3/envs/Masters/lib/python3.10/site-packages/tensorflow/python/autograph/pyct/static_analysis/liveness.py:83: Analyzer.lamba_check (from tensorflow.python.autograph.pyct.static_analysis.liveness) is deprecated and will be removed after 2023-09-23.\n",
      "Instructions for updating:\n",
      "Lambda fuctions will be no more assumed to be used in the statement where they are used, or at least in the same block. https://github.com/tensorflow/tensorflow/issues/56089\n"
     ]
    },
    {
     "name": "stderr",
     "output_type": "stream",
     "text": [
      "WARNING:tensorflow:From /Users/andrewoliver/opt/anaconda3/envs/Masters/lib/python3.10/site-packages/tensorflow/python/autograph/pyct/static_analysis/liveness.py:83: Analyzer.lamba_check (from tensorflow.python.autograph.pyct.static_analysis.liveness) is deprecated and will be removed after 2023-09-23.\n",
      "Instructions for updating:\n",
      "Lambda fuctions will be no more assumed to be used in the statement where they are used, or at least in the same block. https://github.com/tensorflow/tensorflow/issues/56089\n"
     ]
    },
    {
     "name": "stdout",
     "output_type": "stream",
     "text": [
      "Normalized tensor features:\n",
      " {'c0_pT': SemanticTensor(semantic=<Semantic.NUMERICAL: 1>, tensor=<tf.Tensor 'Cast:0' shape=(None,) dtype=float32>), 'c0_eta_rel': SemanticTensor(semantic=<Semantic.NUMERICAL: 1>, tensor=<tf.Tensor 'Cast_1:0' shape=(None,) dtype=float32>), 'c0_phi_rel': SemanticTensor(semantic=<Semantic.NUMERICAL: 1>, tensor=<tf.Tensor 'Cast_2:0' shape=(None,) dtype=float32>), 'c1_pT': SemanticTensor(semantic=<Semantic.NUMERICAL: 1>, tensor=<tf.Tensor 'Cast_3:0' shape=(None,) dtype=float32>), 'c1_eta_rel': SemanticTensor(semantic=<Semantic.NUMERICAL: 1>, tensor=<tf.Tensor 'Cast_4:0' shape=(None,) dtype=float32>), 'c1_phi_rel': SemanticTensor(semantic=<Semantic.NUMERICAL: 1>, tensor=<tf.Tensor 'Cast_5:0' shape=(None,) dtype=float32>), 'c2_pT': SemanticTensor(semantic=<Semantic.NUMERICAL: 1>, tensor=<tf.Tensor 'Cast_6:0' shape=(None,) dtype=float32>), 'c2_eta_rel': SemanticTensor(semantic=<Semantic.NUMERICAL: 1>, tensor=<tf.Tensor 'Cast_7:0' shape=(None,) dtype=float32>), 'c2_phi_rel': SemanticTensor(semantic=<Semantic.NUMERICAL: 1>, tensor=<tf.Tensor 'Cast_8:0' shape=(None,) dtype=float32>), 'c3_pT': SemanticTensor(semantic=<Semantic.NUMERICAL: 1>, tensor=<tf.Tensor 'Cast_9:0' shape=(None,) dtype=float32>), 'c3_eta_rel': SemanticTensor(semantic=<Semantic.NUMERICAL: 1>, tensor=<tf.Tensor 'Cast_10:0' shape=(None,) dtype=float32>), 'c3_phi_rel': SemanticTensor(semantic=<Semantic.NUMERICAL: 1>, tensor=<tf.Tensor 'Cast_11:0' shape=(None,) dtype=float32>), 'c4_pT': SemanticTensor(semantic=<Semantic.NUMERICAL: 1>, tensor=<tf.Tensor 'Cast_12:0' shape=(None,) dtype=float32>), 'c4_eta_rel': SemanticTensor(semantic=<Semantic.NUMERICAL: 1>, tensor=<tf.Tensor 'Cast_13:0' shape=(None,) dtype=float32>), 'c4_phi_rel': SemanticTensor(semantic=<Semantic.NUMERICAL: 1>, tensor=<tf.Tensor 'Cast_14:0' shape=(None,) dtype=float32>), 'c5_pT': SemanticTensor(semantic=<Semantic.NUMERICAL: 1>, tensor=<tf.Tensor 'Cast_15:0' shape=(None,) dtype=float32>), 'c5_eta_rel': SemanticTensor(semantic=<Semantic.NUMERICAL: 1>, tensor=<tf.Tensor 'Cast_16:0' shape=(None,) dtype=float32>), 'c5_phi_rel': SemanticTensor(semantic=<Semantic.NUMERICAL: 1>, tensor=<tf.Tensor 'Cast_17:0' shape=(None,) dtype=float32>), 'c6_pT': SemanticTensor(semantic=<Semantic.NUMERICAL: 1>, tensor=<tf.Tensor 'Cast_18:0' shape=(None,) dtype=float32>), 'c6_eta_rel': SemanticTensor(semantic=<Semantic.NUMERICAL: 1>, tensor=<tf.Tensor 'Cast_19:0' shape=(None,) dtype=float32>), 'c6_phi_rel': SemanticTensor(semantic=<Semantic.NUMERICAL: 1>, tensor=<tf.Tensor 'Cast_20:0' shape=(None,) dtype=float32>), 'c7_pT': SemanticTensor(semantic=<Semantic.NUMERICAL: 1>, tensor=<tf.Tensor 'Cast_21:0' shape=(None,) dtype=float32>), 'c7_eta_rel': SemanticTensor(semantic=<Semantic.NUMERICAL: 1>, tensor=<tf.Tensor 'Cast_22:0' shape=(None,) dtype=float32>), 'c7_phi_rel': SemanticTensor(semantic=<Semantic.NUMERICAL: 1>, tensor=<tf.Tensor 'Cast_23:0' shape=(None,) dtype=float32>)}\n",
      "Training dataset read in 0:00:19.653535. Found 620000 examples.\n",
      "Training model...\n",
      "Standard output detected as not visible to the user e.g. running in a notebook. Creating a training log redirection. If training gets stuck, try calling tfdf.keras.set_training_logs_redirection(False).\n"
     ]
    },
    {
     "name": "stderr",
     "output_type": "stream",
     "text": [
      "[INFO 2023-03-29T11:19:26.323923+02:00 kernel.cc:756] Start Yggdrasil model training\n",
      "[INFO 2023-03-29T11:19:26.326125+02:00 kernel.cc:757] Collect training examples\n",
      "[INFO 2023-03-29T11:19:26.32644+02:00 kernel.cc:388] Number of batches: 620\n",
      "[INFO 2023-03-29T11:19:26.326469+02:00 kernel.cc:389] Number of examples: 620000\n",
      "[INFO 2023-03-29T11:19:26.527951+02:00 kernel.cc:774] Training dataset:\n",
      "Number of records: 620000\n",
      "Number of columns: 25\n",
      "\n",
      "Number of columns by type:\n",
      "\tNUMERICAL: 24 (96%)\n",
      "\tCATEGORICAL: 1 (4%)\n",
      "\n",
      "Columns:\n",
      "\n",
      "NUMERICAL: 24 (96%)\n",
      "\t1: \"c0_eta_rel\" NUMERICAL mean:-2.32744e-05 min:-0.361332 max:0.360024 sd:0.0490376\n",
      "\t2: \"c0_pT\" NUMERICAL mean:240.026 min:25.1805 max:1559.19 sd:137.965\n",
      "\t3: \"c0_phi_rel\" NUMERICAL mean:6.63976e-05 min:-0.34712 max:0.376012 sd:0.0488032\n",
      "\t4: \"c1_eta_rel\" NUMERICAL mean:4.70047e-05 min:-0.409308 max:0.394555 sd:0.0539602\n",
      "\t5: \"c1_pT\" NUMERICAL mean:130.664 min:15.7215 max:784.306 sd:51.4711\n",
      "\t6: \"c1_phi_rel\" NUMERICAL mean:3.9146e-05 min:-0.367228 max:0.355834 sd:0.0540255\n",
      "\t7: \"c2_eta_rel\" NUMERICAL mean:-2.30983e-05 min:-0.375409 max:0.387331 sd:0.0580438\n",
      "\t8: \"c2_pT\" NUMERICAL mean:93.3405 min:7.343 max:385.461 sd:32.2225\n",
      "\t9: \"c2_phi_rel\" NUMERICAL mean:-1.95963e-05 min:-0.37205 max:0.375829 sd:0.0582301\n",
      "\t10: \"c3_eta_rel\" NUMERICAL mean:5.42864e-05 min:-0.382537 max:0.383563 sd:0.0617414\n",
      "\t11: \"c3_pT\" NUMERICAL mean:71.7762 min:0 max:288.969 sd:23.4063\n",
      "\t12: \"c3_phi_rel\" NUMERICAL mean:-8.14957e-05 min:-0.385211 max:0.387136 sd:0.0618755\n",
      "\t13: \"c4_eta_rel\" NUMERICAL mean:7.68169e-05 min:-0.400954 max:0.393933 sd:0.0651338\n",
      "\t14: \"c4_pT\" NUMERICAL mean:57.626 min:0 max:211.984 sd:18.2505\n",
      "\t15: \"c4_phi_rel\" NUMERICAL mean:1.02723e-05 min:-0.383361 max:0.385076 sd:0.0651725\n",
      "\t16: \"c5_eta_rel\" NUMERICAL mean:-9.78885e-05 min:-0.394292 max:0.395607 sd:0.0680457\n",
      "\t17: \"c5_pT\" NUMERICAL mean:47.6466 min:0 max:168.322 sd:15.0252\n",
      "\t18: \"c5_phi_rel\" NUMERICAL mean:-9.78129e-05 min:-0.395335 max:0.388045 sd:0.0680504\n",
      "\t19: \"c6_eta_rel\" NUMERICAL mean:-0.000114593 min:-0.421576 max:0.394306 sd:0.07059\n",
      "\t20: \"c6_pT\" NUMERICAL mean:40.2852 min:0 max:152.787 sd:12.8957\n",
      "\t21: \"c6_phi_rel\" NUMERICAL mean:-2.17796e-05 min:-0.394457 max:0.400045 sd:0.0707805\n",
      "\t22: \"c7_eta_rel\" NUMERICAL mean:-7.93157e-05 min:-0.39159 max:0.396212 sd:0.0732241\n",
      "\t23: \"c7_pT\" NUMERICAL mean:34.6442 min:0 max:143.421 sd:11.4024\n",
      "\t24: \"c7_phi_rel\" NUMERICAL mean:8.15143e-05 min:-0.398283 max:0.394073 sd:0.0736613\n",
      "\n",
      "CATEGORICAL: 1 (4%)\n",
      "\t0: \"__LABEL\" CATEGORICAL integerized vocab-size:6 no-ood-item\n",
      "\n",
      "Terminology:\n",
      "\tnas: Number of non-available (i.e. missing) values.\n",
      "\tood: Out of dictionary.\n",
      "\tmanually-defined: Attribute which type is manually defined by the user i.e. the type was not automatically inferred.\n",
      "\ttokenized: The attribute value is obtained through tokenization.\n",
      "\thas-dict: The attribute is attached to a string dictionary e.g. a categorical attribute stored as a string.\n",
      "\tvocab-size: Number of unique values.\n",
      "\n",
      "[INFO 2023-03-29T11:19:26.528795+02:00 kernel.cc:790] Configure learner\n",
      "2023-03-29 11:19:26.529684: W external/ydf/yggdrasil_decision_forests/learner/gradient_boosted_trees/gradient_boosted_trees.cc:1790] \"goss_alpha\" set but \"sampling_method\" not equal to \"GOSS\".\n",
      "2023-03-29 11:19:26.529702: W external/ydf/yggdrasil_decision_forests/learner/gradient_boosted_trees/gradient_boosted_trees.cc:1800] \"goss_beta\" set but \"sampling_method\" not equal to \"GOSS\".\n",
      "2023-03-29 11:19:26.529711: W external/ydf/yggdrasil_decision_forests/learner/gradient_boosted_trees/gradient_boosted_trees.cc:1814] \"selective_gradient_boosting_ratio\" set but \"sampling_method\" not equal to \"SELGB\".\n",
      "[INFO 2023-03-29T11:19:26.529865+02:00 kernel.cc:804] Training config:\n",
      "learner: \"GRADIENT_BOOSTED_TREES\"\n",
      "features: \"^c0_eta_rel$\"\n",
      "features: \"^c0_pT$\"\n",
      "features: \"^c0_phi_rel$\"\n",
      "features: \"^c1_eta_rel$\"\n",
      "features: \"^c1_pT$\"\n",
      "features: \"^c1_phi_rel$\"\n",
      "features: \"^c2_eta_rel$\"\n",
      "features: \"^c2_pT$\"\n",
      "features: \"^c2_phi_rel$\"\n",
      "features: \"^c3_eta_rel$\"\n",
      "features: \"^c3_pT$\"\n",
      "features: \"^c3_phi_rel$\"\n",
      "features: \"^c4_eta_rel$\"\n",
      "features: \"^c4_pT$\"\n",
      "features: \"^c4_phi_rel$\"\n",
      "features: \"^c5_eta_rel$\"\n",
      "features: \"^c5_pT$\"\n",
      "features: \"^c5_phi_rel$\"\n",
      "features: \"^c6_eta_rel$\"\n",
      "features: \"^c6_pT$\"\n",
      "features: \"^c6_phi_rel$\"\n",
      "features: \"^c7_eta_rel$\"\n",
      "features: \"^c7_pT$\"\n",
      "features: \"^c7_phi_rel$\"\n",
      "label: \"^__LABEL$\"\n",
      "task: CLASSIFICATION\n",
      "random_seed: 123456\n",
      "metadata {\n",
      "  framework: \"TF Keras\"\n",
      "}\n",
      "pure_serving_model: false\n",
      "[yggdrasil_decision_forests.model.gradient_boosted_trees.proto.gradient_boosted_trees_config] {\n",
      "  num_trees: 5\n",
      "  decision_tree {\n",
      "    max_depth: -1\n",
      "    min_examples: 5\n",
      "    in_split_min_examples_check: true\n",
      "    keep_non_leaf_label_distribution: true\n",
      "    num_candidate_attributes: -1\n",
      "    missing_value_policy: GLOBAL_IMPUTATION\n",
      "    allow_na_conditions: false\n",
      "    categorical_set_greedy_forward {\n",
      "      sampling: 0.1\n",
      "      max_num_items: -1\n",
      "      min_item_frequency: 1\n",
      "    }\n",
      "    growing_strategy_best_first_global {\n",
      "      max_num_nodes: 32\n",
      "    }\n",
      "    categorical {\n",
      "      cart {\n",
      "      }\n",
      "    }\n",
      "    axis_aligned_split {\n",
      "    }\n",
      "    internal {\n",
      "      sorting_strategy: PRESORTED\n",
      "    }\n",
      "    uplift {\n",
      "      min_examples_in_treatment: 5\n",
      "      split_score: KULLBACK_LEIBLER\n",
      "    }\n",
      "  }\n",
      "  shrinkage: 0.2\n",
      "  loss: DEFAULT\n",
      "  validation_set_ratio: 0.1\n",
      "  validation_interval_in_trees: 1\n",
      "  early_stopping: VALIDATION_LOSS_INCREASE\n",
      "  early_stopping_num_trees_look_ahead: 30\n",
      "  l2_regularization: 0\n",
      "  lambda_loss: 1\n",
      "  mart {\n",
      "  }\n",
      "  adapt_subsample_for_maximum_training_duration: false\n",
      "  l1_regularization: 0\n",
      "  use_hessian_gain: true\n",
      "  l2_regularization_categorical: 1\n",
      "  stochastic_gradient_boosting {\n",
      "    ratio: 0.3\n",
      "  }\n",
      "  apply_link_function: true\n",
      "  compute_permutation_variable_importance: false\n",
      "  binary_focal_loss_options {\n",
      "    misprediction_exponent: 2\n",
      "    positive_sample_coefficient: 0.5\n",
      "  }\n",
      "  early_stopping_initial_iteration: 10\n",
      "}\n",
      "\n",
      "[INFO 2023-03-29T11:19:26.530977+02:00 kernel.cc:807] Deployment config:\n",
      "cache_path: \"/var/folders/w6/ywy355d53p1fqw8pn8ng6xn80000gn/T/tmp1k80l1qz/working_cache\"\n",
      "num_threads: 4\n",
      "try_resume_training: true\n",
      "\n",
      "[INFO 2023-03-29T11:19:26.531571+02:00 kernel.cc:868] Train model\n",
      "2023-03-29 11:19:26.532146: I external/ydf/yggdrasil_decision_forests/learner/gradient_boosted_trees/gradient_boosted_trees.cc:452] Default loss set to MULTINOMIAL_LOG_LIKELIHOOD\n",
      "2023-03-29 11:19:26.532185: W external/ydf/yggdrasil_decision_forests/learner/gradient_boosted_trees/gradient_boosted_trees.cc:484] The model configuration specifies 5 trees but computation of the validation loss will only start at iteration 10 with 5 trees per iteration. No validation loss will be computed, early stopping is not used.\n",
      "2023-03-29 11:19:26.532196: I external/ydf/yggdrasil_decision_forests/learner/gradient_boosted_trees/gradient_boosted_trees.cc:1077] Training gradient boosted tree on 620000 example(s) and 24 feature(s).\n",
      "2023-03-29 11:19:26.741642: I external/ydf/yggdrasil_decision_forests/learner/gradient_boosted_trees/gradient_boosted_trees.cc:1120] 557826 examples used for training and 62174 examples used for validation\n",
      "2023-03-29 11:19:33.546607: I external/ydf/yggdrasil_decision_forests/learner/gradient_boosted_trees/gradient_boosted_trees.cc:1518] \tnum-trees:1 train-loss:1.489909 train-accuracy:0.457496 valid-loss:1.489798 valid-accuracy:0.454836\n",
      "2023-03-29 11:19:39.890497: I external/ydf/yggdrasil_decision_forests/learner/gradient_boosted_trees/gradient_boosted_trees.cc:1520] \tnum-trees:2 train-loss:1.421195 train-accuracy:0.475939 valid-loss:1.421401 valid-accuracy:0.474652\n",
      "2023-03-29 11:19:58.488093: I external/ydf/yggdrasil_decision_forests/learner/gradient_boosted_trees/gradient_boosted_trees.cc:1518] \tnum-trees:5 train-loss:1.291441 train-accuracy:0.506269 valid-loss:1.292593 valid-accuracy:0.504777\n",
      "2023-03-29 11:19:58.488355: I external/ydf/yggdrasil_decision_forests/learner/gradient_boosted_trees/gradient_boosted_trees.cc:1568] Create final snapshot of the model at iteration 5\n",
      "2023-03-29 11:19:58.492316: I external/ydf/yggdrasil_decision_forests/learner/gradient_boosted_trees/gradient_boosted_trees.cc:242] Insufficient number of trees to apply early stopping. Using last loss for metrics.\n",
      "2023-03-29 11:19:58.492346: I external/ydf/yggdrasil_decision_forests/learner/gradient_boosted_trees/gradient_boosted_trees.cc:309] Final model num-trees:0 valid-loss:1.292593 valid-accuracy:0.504777\n",
      "[INFO 2023-03-29T11:19:58.517102+02:00 kernel.cc:905] Export model in log directory: /var/folders/w6/ywy355d53p1fqw8pn8ng6xn80000gn/T/tmp1k80l1qz with prefix 75adf47c60954ac2\n",
      "[INFO 2023-03-29T11:19:58.52015+02:00 kernel.cc:923] Save model in resources\n",
      "[INFO 2023-03-29T11:19:58.535052+02:00 abstract_model.cc:849] Model self evaluation:\n",
      "Task: CLASSIFICATION\n",
      "Label: __LABEL\n",
      "Loss (MULTINOMIAL_LOG_LIKELIHOOD): 1.29259\n",
      "\n",
      "Accuracy: 0.504777  CI95[W][0 1]\n",
      "ErrorRate: : 0.495223\n",
      "\n",
      "\n",
      "Confusion Table:\n",
      "truth\\prediction\n",
      "   0     1     2     3     4     5\n",
      "0  0     0     0     0     0     0\n",
      "1  0  5454  2309  2243  1481  1000\n",
      "2  0  2375  6752   920  1314   796\n",
      "3  0   652   148  9267  1099  1477\n",
      "4  0  1251  1034  1111  5282  3785\n",
      "5  0   980   793  2187  3835  4629\n",
      "Total: 62174\n",
      "\n",
      "One vs other classes:\n",
      "\n",
      "[INFO 2023-03-29T11:19:58.549071+02:00 kernel.cc:1214] Loading model from path /var/folders/w6/ywy355d53p1fqw8pn8ng6xn80000gn/T/tmp1k80l1qz/model/ with prefix 75adf47c60954ac2\n",
      "[INFO 2023-03-29T11:19:58.556223+02:00 decision_forest.cc:661] Model loaded with 25 root(s), 1575 node(s), and 24 input feature(s).\n",
      "[INFO 2023-03-29T11:19:58.556289+02:00 abstract_model.cc:1312] Engine \"GradientBoostedTreesGeneric\" built\n",
      "[INFO 2023-03-29T11:19:58.556319+02:00 kernel.cc:1046] Use fast generic engine\n"
     ]
    },
    {
     "name": "stdout",
     "output_type": "stream",
     "text": [
      "Model trained in 0:00:32.266286\n",
      "Compiling model...\n",
      "WARNING:tensorflow:AutoGraph could not transform <function simple_ml_inference_op_with_handle at 0x7fcbdd3e8310> and will run it as-is.\n",
      "Please report this to the TensorFlow team. When filing the bug, set the verbosity to 10 (on Linux, `export AUTOGRAPH_VERBOSITY=10`) and attach the full output.\n",
      "Cause: could not get source code\n",
      "To silence this warning, decorate the function with @tf.autograph.experimental.do_not_convert\n"
     ]
    },
    {
     "name": "stderr",
     "output_type": "stream",
     "text": [
      "WARNING:tensorflow:AutoGraph could not transform <function simple_ml_inference_op_with_handle at 0x7fcbdd3e8310> and will run it as-is.\n",
      "Please report this to the TensorFlow team. When filing the bug, set the verbosity to 10 (on Linux, `export AUTOGRAPH_VERBOSITY=10`) and attach the full output.\n",
      "Cause: could not get source code\n",
      "To silence this warning, decorate the function with @tf.autograph.experimental.do_not_convert\n"
     ]
    },
    {
     "name": "stdout",
     "output_type": "stream",
     "text": [
      "WARNING: AutoGraph could not transform <function simple_ml_inference_op_with_handle at 0x7fcbdd3e8310> and will run it as-is.\n",
      "Please report this to the TensorFlow team. When filing the bug, set the verbosity to 10 (on Linux, `export AUTOGRAPH_VERBOSITY=10`) and attach the full output.\n",
      "Cause: could not get source code\n",
      "To silence this warning, decorate the function with @tf.autograph.experimental.do_not_convert\n",
      "Model compiled.\n"
     ]
    },
    {
     "data": {
      "text/plain": [
       "<keras.callbacks.History at 0x7fcbdd4bfb80>"
      ]
     },
     "execution_count": 7,
     "metadata": {},
     "output_type": "execute_result"
    }
   ],
   "source": [
    "model.fit(train_ds, verbose = 2)"
   ]
  },
  {
   "cell_type": "code",
   "execution_count": 10,
   "metadata": {},
   "outputs": [
    {
     "name": "stdout",
     "output_type": "stream",
     "text": [
      "260/260 [==============================] - 9s 32ms/step - loss: 0.0000e+00 - accuracy: 0.5028\n",
      "\n",
      "loss: 0.0000\n",
      "accuracy: 0.5028\n"
     ]
    }
   ],
   "source": [
    "model.compile(metrics=[\"accuracy\"])\n",
    "evaluation = model.evaluate(test_ds, return_dict=True)\n",
    "print()\n",
    "\n",
    "for name, value in evaluation.items():\n",
    "  print(f\"{name}: {value:.4f}\")"
   ]
  },
  {
   "cell_type": "code",
   "execution_count": 11,
   "metadata": {},
   "outputs": [],
   "source": [
    "inspector = model.make_inspector()"
   ]
  },
  {
   "cell_type": "code",
   "execution_count": 12,
   "metadata": {},
   "outputs": [
    {
     "name": "stdout",
     "output_type": "stream",
     "text": [
      "Available variable importances:\n",
      "\t INV_MEAN_MIN_DEPTH\n",
      "\t NUM_NODES\n",
      "\t SUM_SCORE\n",
      "\t NUM_AS_ROOT\n"
     ]
    }
   ],
   "source": [
    "print(f\"Available variable importances:\")\n",
    "for importance in inspector.variable_importances().keys():\n",
    "  print(\"\\t\", importance)"
   ]
  },
  {
   "cell_type": "code",
   "execution_count": 22,
   "metadata": {},
   "outputs": [
    {
     "data": {
      "text/plain": [
       "[(\"c0_eta_rel\" (1; #1), 93.0),\n",
       " (\"c0_phi_rel\" (1; #3), 85.0),\n",
       " (\"c1_phi_rel\" (1; #6), 70.0),\n",
       " (\"c0_pT\" (1; #2), 60.0),\n",
       " (\"c7_pT\" (1; #23), 59.0),\n",
       " (\"c1_eta_rel\" (1; #4), 49.0),\n",
       " (\"c2_phi_rel\" (1; #9), 43.0),\n",
       " (\"c2_eta_rel\" (1; #7), 35.0),\n",
       " (\"c7_phi_rel\" (1; #24), 30.0),\n",
       " (\"c4_phi_rel\" (1; #15), 27.0),\n",
       " (\"c3_phi_rel\" (1; #12), 26.0),\n",
       " (\"c5_phi_rel\" (1; #18), 25.0),\n",
       " (\"c7_eta_rel\" (1; #22), 22.0),\n",
       " (\"c4_eta_rel\" (1; #13), 21.0),\n",
       " (\"c6_phi_rel\" (1; #21), 20.0),\n",
       " (\"c1_pT\" (1; #5), 19.0),\n",
       " (\"c3_eta_rel\" (1; #10), 15.0),\n",
       " (\"c5_eta_rel\" (1; #16), 15.0),\n",
       " (\"c6_eta_rel\" (1; #19), 14.0),\n",
       " (\"c2_pT\" (1; #8), 12.0),\n",
       " (\"c3_pT\" (1; #11), 12.0),\n",
       " (\"c4_pT\" (1; #14), 9.0),\n",
       " (\"c5_pT\" (1; #17), 9.0),\n",
       " (\"c6_pT\" (1; #20), 5.0)]"
      ]
     },
     "execution_count": 22,
     "metadata": {},
     "output_type": "execute_result"
    }
   ],
   "source": [
    "inspector.variable_importances()['NUM_NODES']"
   ]
  },
  {
   "cell_type": "code",
   "execution_count": 14,
   "metadata": {},
   "outputs": [
    {
     "name": "stderr",
     "output_type": "stream",
     "text": [
      "WARNING:absl:Function `_wrapped_model` contains input name(s) c0_pT, c1_pT, c2_pT, c3_pT, c4_pT, c5_pT, c6_pT, c7_pT with unsupported characters which will be renamed to c0_pt, c1_pt, c2_pt, c3_pt, c4_pt, c5_pt, c6_pt, c7_pt in the SavedModel.\n",
      "WARNING:absl:Found untraced functions such as call_get_leaves, _update_step_xla while saving (showing 2 of 2). These functions will not be directly callable after loading.\n"
     ]
    },
    {
     "name": "stdout",
     "output_type": "stream",
     "text": [
      "INFO:tensorflow:Assets written to: Models/model_csv_test/assets\n"
     ]
    },
    {
     "name": "stderr",
     "output_type": "stream",
     "text": [
      "INFO:tensorflow:Assets written to: Models/model_csv_test/assets\n"
     ]
    }
   ],
   "source": [
    "model.save(\"Models/model_csv_test\")"
   ]
  },
  {
   "cell_type": "code",
   "execution_count": 15,
   "metadata": {},
   "outputs": [],
   "source": [
    "new_inspector = tfdf.inspector.make_inspector(\"Models/model_csv_test/assets/\")"
   ]
  },
  {
   "cell_type": "code",
   "execution_count": 17,
   "metadata": {},
   "outputs": [
    {
     "name": "stdout",
     "output_type": "stream",
     "text": [
      "Available variable importances:\n",
      "\t INV_MEAN_MIN_DEPTH\n",
      "\t NUM_NODES\n",
      "\t SUM_SCORE\n",
      "\t NUM_AS_ROOT\n"
     ]
    }
   ],
   "source": [
    "print(f\"Available variable importances:\")\n",
    "for importance in new_inspector.variable_importances().keys():\n",
    "  print(\"\\t\", importance)"
   ]
  },
  {
   "cell_type": "code",
   "execution_count": 23,
   "metadata": {},
   "outputs": [
    {
     "data": {
      "text/plain": [
       "[(\"c0_eta_rel\" (1; #1), 11556069863.642517),\n",
       " (\"c0_phi_rel\" (1; #3), 10897665936.981628),\n",
       " (\"c1_phi_rel\" (1; #6), 8708122635.73407),\n",
       " (\"c0_pT\" (1; #2), 8028802544.169739),\n",
       " (\"c7_pT\" (1; #23), 7876745837.753021),\n",
       " (\"c1_eta_rel\" (1; #4), 6574489601.326508),\n",
       " (\"c2_phi_rel\" (1; #9), 4996433830.976318),\n",
       " (\"c1_pT\" (1; #5), 3781221385.458069),\n",
       " (\"c2_eta_rel\" (1; #7), 3453882946.345459),\n",
       " (\"c4_phi_rel\" (1; #15), 3018836651.981262),\n",
       " (\"c3_phi_rel\" (1; #12), 2603805261.445862),\n",
       " (\"c4_eta_rel\" (1; #13), 2374984208.373108),\n",
       " (\"c7_phi_rel\" (1; #24), 2316817864.6863403),\n",
       " (\"c3_eta_rel\" (1; #10), 1946885626.9151611),\n",
       " (\"c5_phi_rel\" (1; #18), 1525369749.5510254),\n",
       " (\"c6_phi_rel\" (1; #21), 1313763309.0111084),\n",
       " (\"c6_eta_rel\" (1; #19), 1087872218.1159668),\n",
       " (\"c7_eta_rel\" (1; #22), 1087339533.5441895),\n",
       " (\"c5_eta_rel\" (1; #16), 839843139.5079651),\n",
       " (\"c3_pT\" (1; #11), 826545211.8702393),\n",
       " (\"c2_pT\" (1; #8), 818219378.0327148),\n",
       " (\"c6_pT\" (1; #20), 774092673.5102539),\n",
       " (\"c5_pT\" (1; #17), 509321354.5769043),\n",
       " (\"c4_pT\" (1; #14), 373546884.66256714)]"
      ]
     },
     "execution_count": 23,
     "metadata": {},
     "output_type": "execute_result"
    }
   ],
   "source": [
    "new_inspector.variable_importances()['SUM_SCORE']"
   ]
  },
  {
   "cell_type": "code",
   "execution_count": 9,
   "metadata": {},
   "outputs": [
    {
     "name": "stdout",
     "output_type": "stream",
     "text": [
      "260/260 [==============================] - 7s 26ms/step\n"
     ]
    }
   ],
   "source": [
    "y_pred = model.predict(test_ds)"
   ]
  },
  {
   "cell_type": "code",
   "execution_count": 11,
   "metadata": {},
   "outputs": [],
   "source": [
    "y_test = test_df['class']"
   ]
  },
  {
   "cell_type": "code",
   "execution_count": 12,
   "metadata": {},
   "outputs": [
    {
     "name": "stdout",
     "output_type": "stream",
     "text": [
      "0         b'z'\n",
      "1         b'g'\n",
      "2         b'w'\n",
      "3         b't'\n",
      "4         b'w'\n",
      "          ... \n",
      "259995    b't'\n",
      "259996    b'q'\n",
      "259997    b'w'\n",
      "259998    b't'\n",
      "259999    b'q'\n",
      "Name: class, Length: 260000, dtype: object\n"
     ]
    }
   ],
   "source": [
    "print(y_test)"
   ]
  },
  {
   "cell_type": "code",
   "execution_count": 13,
   "metadata": {},
   "outputs": [],
   "source": [
    "from tensorflow.keras.utils import to_categorical\n",
    "from sklearn.preprocessing import LabelEncoder"
   ]
  },
  {
   "cell_type": "code",
   "execution_count": 14,
   "metadata": {},
   "outputs": [
    {
     "name": "stdout",
     "output_type": "stream",
     "text": [
      "[4 0 3 ... 3 2 1]\n",
      "[[0. 0. 0. 0. 1.]\n",
      " [1. 0. 0. 0. 0.]\n",
      " [0. 0. 0. 1. 0.]\n",
      " ...\n",
      " [0. 0. 0. 1. 0.]\n",
      " [0. 0. 1. 0. 0.]\n",
      " [0. 1. 0. 0. 0.]]\n"
     ]
    }
   ],
   "source": [
    "le = LabelEncoder()\n",
    "y = le.fit_transform(y_test)\n",
    "print(y)\n",
    "y = to_categorical(y, 5)\n",
    "print(y)"
   ]
  },
  {
   "cell_type": "code",
   "execution_count": 15,
   "metadata": {},
   "outputs": [
    {
     "name": "stdout",
     "output_type": "stream",
     "text": [
      "[[0. 0. 0. 0. 1.]\n",
      " [1. 0. 0. 0. 0.]\n",
      " [0. 0. 0. 1. 0.]\n",
      " ...\n",
      " [0. 0. 0. 1. 0.]\n",
      " [0. 0. 1. 0. 0.]\n",
      " [0. 1. 0. 0. 0.]]\n"
     ]
    }
   ],
   "source": [
    "print(y)"
   ]
  },
  {
   "cell_type": "code",
   "execution_count": 16,
   "metadata": {},
   "outputs": [
    {
     "name": "stdout",
     "output_type": "stream",
     "text": [
      "0         b'z'\n",
      "1         b'g'\n",
      "2         b'w'\n",
      "3         b't'\n",
      "4         b'w'\n",
      "          ... \n",
      "259995    b't'\n",
      "259996    b'q'\n",
      "259997    b'w'\n",
      "259998    b't'\n",
      "259999    b'q'\n",
      "Name: class, Length: 260000, dtype: object\n",
      "[\"b'g'\" \"b'q'\" \"b't'\" \"b'w'\" \"b'z'\"]\n"
     ]
    }
   ],
   "source": [
    "print(y_test)\n",
    "print(le.classes_)"
   ]
  },
  {
   "cell_type": "code",
   "execution_count": 55,
   "metadata": {},
   "outputs": [
    {
     "data": {
      "image/png": "[encoded data removed]",
      "text/plain": [
       "<Figure size 900x900 with 1 Axes>"
      ]
     },
     "metadata": {},
     "output_type": "display_data"
    }
   ],
   "source": [
    "from sklearn.metrics import roc_curve, auc, accuracy_score\n",
    "import matplotlib.pyplot as plt\n",
    "\n",
    "#print(y_test)\n",
    "#print('\\n-----------\\n')\n",
    "#print(y_pred)\n",
    "\n",
    "fpr = {}\n",
    "tpr = {}\n",
    "aucs = {}\n",
    "\n",
    "for i, label in enumerate(le.classes_):\n",
    "    #print(f'label = {label}')\n",
    "    #print(f'i = {i}')\n",
    "    #print(f'y_true = {y_test[:,i]}')\n",
    "    #print(f'y_pred = {y_pred[:,i]}')\n",
    "    fpr[label], tpr[label], threshold = roc_curve(y[:,i],y_pred[:,i])\n",
    "    aucs[label] = auc(fpr[label],tpr[label])\n",
    "    #print('\\n--------------------------------\\n')\n",
    "\n",
    "fig, ax = plt.subplots(figsize=(9, 9))\n",
    "for i, label in enumerate(le.classes_):\n",
    "    plt.plot(tpr[label],fpr[label], label = f'{label} tagger, AUC = {aucs[label]*100:.1f}%')    \n",
    "plt.semilogy()\n",
    "plt.xlabel(\"Signal Efficiency\")\n",
    "plt.ylabel(\"Background Efficiency\")\n",
    "plt.ylim(0.001,1)\n",
    "plt.grid(True)\n",
    "plt.legend(loc='upper left')\n",
    "plt.figtext(0.25, 0.90,'Initial test',fontweight='bold', wrap=True, horizontalalignment='right', fontsize=14)\n",
    "#plt.savefig(args.plot_output_dir + args.plot_name)\n",
    "#plt.savefig('Plots/test.png')\n",
    "plt.show()"
   ]
  },
  {
   "cell_type": "code",
   "execution_count": 63,
   "metadata": {},
   "outputs": [
    {
     "data": {
      "text/plain": [
       "'[\"b\\'z\\'\" \"b\\'g\\'\" \"b\\'w\\'\" ... \"b\\'w\\'\" \"b\\'t\\'\" \"b\\'q\\'\"]'"
      ]
     },
     "execution_count": 63,
     "metadata": {},
     "output_type": "execute_result"
    }
   ],
   "source": [
    "str(y_test)"
   ]
  },
  {
   "cell_type": "code",
   "execution_count": 59,
   "metadata": {},
   "outputs": [],
   "source": [
    "classes = np.array([b\"g\", b\"q\", b\"w\", b\"z\", b\"t\"])\n",
    "le = LabelEncoder().fit(classes)\n"
   ]
  },
  {
   "cell_type": "code",
   "execution_count": 60,
   "metadata": {},
   "outputs": [
    {
     "data": {
      "text/plain": [
       "array([b'g', b'q', b't', b'w', b'z'], dtype='|S1')"
      ]
     },
     "execution_count": 60,
     "metadata": {},
     "output_type": "execute_result"
    }
   ],
   "source": [
    "le.classes_"
   ]
  },
  {
   "cell_type": "code",
   "execution_count": 61,
   "metadata": {},
   "outputs": [
    {
     "ename": "AttributeError",
     "evalue": "'numpy.ndarray' object has no attribute 'to_numpy'",
     "output_type": "error",
     "traceback": [
      "\u001b[0;31m---------------------------------------------------------------------------\u001b[0m",
      "\u001b[0;31mAttributeError\u001b[0m                            Traceback (most recent call last)",
      "Cell \u001b[0;32mIn[61], line 1\u001b[0m\n\u001b[0;32m----> 1\u001b[0m \u001b[39mprint\u001b[39m(y_test\u001b[39m.\u001b[39;49mto_numpy)\n",
      "\u001b[0;31mAttributeError\u001b[0m: 'numpy.ndarray' object has no attribute 'to_numpy'"
     ]
    }
   ],
   "source": [
    "print(y_test.to_numpy)"
   ]
  },
  {
   "cell_type": "code",
   "execution_count": 62,
   "metadata": {},
   "outputs": [
    {
     "name": "stdout",
     "output_type": "stream",
     "text": [
      "started\n"
     ]
    },
    {
     "ename": "ValueError",
     "evalue": "y contains previously unseen labels: b'b'",
     "output_type": "error",
     "traceback": [
      "\u001b[0;31m---------------------------------------------------------------------------\u001b[0m",
      "\u001b[0;31mKeyError\u001b[0m                                  Traceback (most recent call last)",
      "File \u001b[0;32m~/opt/anaconda3/envs/Masters/lib/python3.10/site-packages/sklearn/utils/_encode.py:224\u001b[0m, in \u001b[0;36m_encode\u001b[0;34m(values, uniques, check_unknown)\u001b[0m\n\u001b[1;32m    223\u001b[0m \u001b[39mtry\u001b[39;00m:\n\u001b[0;32m--> 224\u001b[0m     \u001b[39mreturn\u001b[39;00m _map_to_integer(values, uniques)\n\u001b[1;32m    225\u001b[0m \u001b[39mexcept\u001b[39;00m \u001b[39mKeyError\u001b[39;00m \u001b[39mas\u001b[39;00m e:\n",
      "File \u001b[0;32m~/opt/anaconda3/envs/Masters/lib/python3.10/site-packages/sklearn/utils/_encode.py:164\u001b[0m, in \u001b[0;36m_map_to_integer\u001b[0;34m(values, uniques)\u001b[0m\n\u001b[1;32m    163\u001b[0m table \u001b[39m=\u001b[39m _nandict({val: i \u001b[39mfor\u001b[39;00m i, val \u001b[39min\u001b[39;00m \u001b[39menumerate\u001b[39m(uniques)})\n\u001b[0;32m--> 164\u001b[0m \u001b[39mreturn\u001b[39;00m np\u001b[39m.\u001b[39marray([table[v] \u001b[39mfor\u001b[39;00m v \u001b[39min\u001b[39;00m values])\n",
      "File \u001b[0;32m~/opt/anaconda3/envs/Masters/lib/python3.10/site-packages/sklearn/utils/_encode.py:164\u001b[0m, in \u001b[0;36m<listcomp>\u001b[0;34m(.0)\u001b[0m\n\u001b[1;32m    163\u001b[0m table \u001b[39m=\u001b[39m _nandict({val: i \u001b[39mfor\u001b[39;00m i, val \u001b[39min\u001b[39;00m \u001b[39menumerate\u001b[39m(uniques)})\n\u001b[0;32m--> 164\u001b[0m \u001b[39mreturn\u001b[39;00m np\u001b[39m.\u001b[39marray([table[v] \u001b[39mfor\u001b[39;00m v \u001b[39min\u001b[39;00m values])\n",
      "File \u001b[0;32m~/opt/anaconda3/envs/Masters/lib/python3.10/site-packages/sklearn/utils/_encode.py:158\u001b[0m, in \u001b[0;36m_nandict.__missing__\u001b[0;34m(self, key)\u001b[0m\n\u001b[1;32m    157\u001b[0m     \u001b[39mreturn\u001b[39;00m \u001b[39mself\u001b[39m\u001b[39m.\u001b[39mnan_value\n\u001b[0;32m--> 158\u001b[0m \u001b[39mraise\u001b[39;00m \u001b[39mKeyError\u001b[39;00m(key)\n",
      "\u001b[0;31mKeyError\u001b[0m: b'b'",
      "\nDuring handling of the above exception, another exception occurred:\n",
      "\u001b[0;31mValueError\u001b[0m                                Traceback (most recent call last)",
      "Cell \u001b[0;32mIn[62], line 2\u001b[0m\n\u001b[1;32m      1\u001b[0m \u001b[39mprint\u001b[39m(\u001b[39m'\u001b[39m\u001b[39mstarted\u001b[39m\u001b[39m'\u001b[39m)\n\u001b[0;32m----> 2\u001b[0m y_ohe \u001b[39m=\u001b[39m le\u001b[39m.\u001b[39;49mtransform(y_test)\n\u001b[1;32m      3\u001b[0m \u001b[39mprint\u001b[39m(y_ohe)\n\u001b[1;32m      4\u001b[0m y_ohe \u001b[39m=\u001b[39m to_categorical(y_ohe, \u001b[39m5\u001b[39m)\n",
      "File \u001b[0;32m~/opt/anaconda3/envs/Masters/lib/python3.10/site-packages/sklearn/utils/_set_output.py:142\u001b[0m, in \u001b[0;36m_wrap_method_output.<locals>.wrapped\u001b[0;34m(self, X, *args, **kwargs)\u001b[0m\n\u001b[1;32m    140\u001b[0m \u001b[39m@wraps\u001b[39m(f)\n\u001b[1;32m    141\u001b[0m \u001b[39mdef\u001b[39;00m \u001b[39mwrapped\u001b[39m(\u001b[39mself\u001b[39m, X, \u001b[39m*\u001b[39margs, \u001b[39m*\u001b[39m\u001b[39m*\u001b[39mkwargs):\n\u001b[0;32m--> 142\u001b[0m     data_to_wrap \u001b[39m=\u001b[39m f(\u001b[39mself\u001b[39;49m, X, \u001b[39m*\u001b[39;49margs, \u001b[39m*\u001b[39;49m\u001b[39m*\u001b[39;49mkwargs)\n\u001b[1;32m    143\u001b[0m     \u001b[39mif\u001b[39;00m \u001b[39misinstance\u001b[39m(data_to_wrap, \u001b[39mtuple\u001b[39m):\n\u001b[1;32m    144\u001b[0m         \u001b[39m# only wrap the first output for cross decomposition\u001b[39;00m\n\u001b[1;32m    145\u001b[0m         \u001b[39mreturn\u001b[39;00m (\n\u001b[1;32m    146\u001b[0m             _wrap_data_with_container(method, data_to_wrap[\u001b[39m0\u001b[39m], X, \u001b[39mself\u001b[39m),\n\u001b[1;32m    147\u001b[0m             \u001b[39m*\u001b[39mdata_to_wrap[\u001b[39m1\u001b[39m:],\n\u001b[1;32m    148\u001b[0m         )\n",
      "File \u001b[0;32m~/opt/anaconda3/envs/Masters/lib/python3.10/site-packages/sklearn/preprocessing/_label.py:139\u001b[0m, in \u001b[0;36mLabelEncoder.transform\u001b[0;34m(self, y)\u001b[0m\n\u001b[1;32m    136\u001b[0m \u001b[39mif\u001b[39;00m _num_samples(y) \u001b[39m==\u001b[39m \u001b[39m0\u001b[39m:\n\u001b[1;32m    137\u001b[0m     \u001b[39mreturn\u001b[39;00m np\u001b[39m.\u001b[39marray([])\n\u001b[0;32m--> 139\u001b[0m \u001b[39mreturn\u001b[39;00m _encode(y, uniques\u001b[39m=\u001b[39;49m\u001b[39mself\u001b[39;49m\u001b[39m.\u001b[39;49mclasses_)\n",
      "File \u001b[0;32m~/opt/anaconda3/envs/Masters/lib/python3.10/site-packages/sklearn/utils/_encode.py:226\u001b[0m, in \u001b[0;36m_encode\u001b[0;34m(values, uniques, check_unknown)\u001b[0m\n\u001b[1;32m    224\u001b[0m         \u001b[39mreturn\u001b[39;00m _map_to_integer(values, uniques)\n\u001b[1;32m    225\u001b[0m     \u001b[39mexcept\u001b[39;00m \u001b[39mKeyError\u001b[39;00m \u001b[39mas\u001b[39;00m e:\n\u001b[0;32m--> 226\u001b[0m         \u001b[39mraise\u001b[39;00m \u001b[39mValueError\u001b[39;00m(\u001b[39mf\u001b[39m\u001b[39m\"\u001b[39m\u001b[39my contains previously unseen labels: \u001b[39m\u001b[39m{\u001b[39;00m\u001b[39mstr\u001b[39m(e)\u001b[39m}\u001b[39;00m\u001b[39m\"\u001b[39m)\n\u001b[1;32m    227\u001b[0m \u001b[39melse\u001b[39;00m:\n\u001b[1;32m    228\u001b[0m     \u001b[39mif\u001b[39;00m check_unknown:\n",
      "\u001b[0;31mValueError\u001b[0m: y contains previously unseen labels: b'b'"
     ]
    }
   ],
   "source": [
    "print('started')\n",
    "y_ohe = le.transform(y_test)\n",
    "print(y_ohe)\n",
    "y_ohe = to_categorical(y_ohe, 5)\n",
    "print(y_ohe)"
   ]
  },
  {
   "cell_type": "code",
   "execution_count": 72,
   "metadata": {},
   "outputs": [
    {
     "ename": "TypeError",
     "evalue": "decoding to str: need a bytes-like object, Series found",
     "output_type": "error",
     "traceback": [
      "\u001b[0;31m---------------------------------------------------------------------------\u001b[0m",
      "\u001b[0;31mTypeError\u001b[0m                                 Traceback (most recent call last)",
      "Cell \u001b[0;32mIn[72], line 1\u001b[0m\n\u001b[0;32m----> 1\u001b[0m \u001b[39mstr\u001b[39;49m(y_test, encoding \u001b[39m=\u001b[39;49m \u001b[39m'\u001b[39;49m\u001b[39mUTF-8\u001b[39;49m\u001b[39m'\u001b[39;49m)\n",
      "\u001b[0;31mTypeError\u001b[0m: decoding to str: need a bytes-like object, Series found"
     ]
    }
   ],
   "source": [
    "str(y_test, encoding = 'UTF-8')"
   ]
  },
  {
   "cell_type": "code",
   "execution_count": 73,
   "metadata": {},
   "outputs": [
    {
     "data": {
      "text/plain": [
       "0         b'z'\n",
       "1         b'g'\n",
       "2         b'w'\n",
       "3         b't'\n",
       "4         b'w'\n",
       "          ... \n",
       "259995    b't'\n",
       "259996    b'q'\n",
       "259997    b'w'\n",
       "259998    b't'\n",
       "259999    b'q'\n",
       "Name: class, Length: 260000, dtype: object"
      ]
     },
     "execution_count": 73,
     "metadata": {},
     "output_type": "execute_result"
    }
   ],
   "source": [
    "y_test"
   ]
  },
  {
   "cell_type": "code",
   "execution_count": 76,
   "metadata": {},
   "outputs": [
    {
     "data": {
      "text/plain": [
       "0         False\n",
       "1         False\n",
       "2         False\n",
       "3         False\n",
       "4         False\n",
       "          ...  \n",
       "259995    False\n",
       "259996    False\n",
       "259997    False\n",
       "259998    False\n",
       "259999    False\n",
       "Name: class, Length: 260000, dtype: bool"
      ]
     },
     "execution_count": 76,
     "metadata": {},
     "output_type": "execute_result"
    }
   ],
   "source": [
    "y_test == b't'"
   ]
  },
  {
   "cell_type": "code",
   "execution_count": 77,
   "metadata": {},
   "outputs": [
    {
     "data": {
      "text/plain": [
       "0         b\"b'z'\"\n",
       "1         b\"b'g'\"\n",
       "2         b\"b'w'\"\n",
       "3         b\"b't'\"\n",
       "4         b\"b'w'\"\n",
       "           ...   \n",
       "259995    b\"b't'\"\n",
       "259996    b\"b'q'\"\n",
       "259997    b\"b'w'\"\n",
       "259998    b\"b't'\"\n",
       "259999    b\"b'q'\"\n",
       "Name: class, Length: 260000, dtype: bytes32"
      ]
     },
     "execution_count": 77,
     "metadata": {},
     "output_type": "execute_result"
    }
   ],
   "source": [
    "y_test.astype(bytes)"
   ]
  },
  {
   "cell_type": "code",
   "execution_count": 93,
   "metadata": {},
   "outputs": [
    {
     "name": "stdout",
     "output_type": "stream",
     "text": [
      "Loaded testing sample of 260000 jets in 71.382s\n"
     ]
    }
   ],
   "source": [
    "test_starting_time = time.time()\n",
    "test_df = pd.read_csv('../Data/jet_images_c8_pt2.0_andre_test.csv', nrows = None, dtype = {'class': bytes})\n",
    "test_load_time = time.time()-test_starting_time\n",
    "print(f'Loaded testing sample of {len(test_df)} jets in {test_load_time:.3f}s')"
   ]
  },
  {
   "cell_type": "code",
   "execution_count": 94,
   "metadata": {},
   "outputs": [],
   "source": [
    "y_test = test_df['class']"
   ]
  },
  {
   "cell_type": "code",
   "execution_count": 95,
   "metadata": {},
   "outputs": [
    {
     "data": {
      "text/plain": [
       "0         b'z'\n",
       "1         b'g'\n",
       "2         b'w'\n",
       "3         b't'\n",
       "4         b'w'\n",
       "          ... \n",
       "259995    b't'\n",
       "259996    b'q'\n",
       "259997    b'w'\n",
       "259998    b't'\n",
       "259999    b'q'\n",
       "Name: class, Length: 260000, dtype: object"
      ]
     },
     "execution_count": 95,
     "metadata": {},
     "output_type": "execute_result"
    }
   ],
   "source": [
    "y_test"
   ]
  },
  {
   "cell_type": "code",
   "execution_count": 97,
   "metadata": {},
   "outputs": [
    {
     "data": {
      "text/plain": [
       "0          True\n",
       "1         False\n",
       "2         False\n",
       "3         False\n",
       "4         False\n",
       "          ...  \n",
       "259995    False\n",
       "259996    False\n",
       "259997    False\n",
       "259998    False\n",
       "259999    False\n",
       "Name: class, Length: 260000, dtype: bool"
      ]
     },
     "execution_count": 97,
     "metadata": {},
     "output_type": "execute_result"
    }
   ],
   "source": [
    "y_test == \"b'z'\""
   ]
  },
  {
   "cell_type": "code",
   "execution_count": 81,
   "metadata": {},
   "outputs": [
    {
     "data": {
      "text/plain": [
       "array([b'g', b'q', b'w', b'z', b't'], dtype='|S1')"
      ]
     },
     "execution_count": 81,
     "metadata": {},
     "output_type": "execute_result"
    }
   ],
   "source": [
    "classes"
   ]
  },
  {
   "cell_type": "code",
   "execution_count": 83,
   "metadata": {},
   "outputs": [
    {
     "data": {
      "text/plain": [
       "bytes"
      ]
     },
     "execution_count": 83,
     "metadata": {},
     "output_type": "execute_result"
    }
   ],
   "source": []
  },
  {
   "cell_type": "code",
   "execution_count": 84,
   "metadata": {},
   "outputs": [],
   "source": [
    "classes = np.array([b\"g\", b\"q\", b\"w\", b\"z\", b\"t\"])"
   ]
  },
  {
   "cell_type": "code",
   "execution_count": 85,
   "metadata": {},
   "outputs": [
    {
     "data": {
      "text/plain": [
       "array([b'g', b'q', b'w', b'z', b't'], dtype='|S1')"
      ]
     },
     "execution_count": 85,
     "metadata": {},
     "output_type": "execute_result"
    }
   ],
   "source": [
    "classes"
   ]
  },
  {
   "cell_type": "code",
   "execution_count": null,
   "metadata": {},
   "outputs": [],
   "source": []
  }
 ],
 "metadata": {
  "kernelspec": {
   "display_name": "Masters",
   "language": "python",
   "name": "python3"
  },
  "language_info": {
   "codemirror_mode": {
    "name": "ipython",
    "version": 3
   },
   "file_extension": ".py",
   "mimetype": "text/x-python",
   "name": "python",
   "nbconvert_exporter": "python",
   "pygments_lexer": "ipython3",
   "version": "3.10.9"
  },
  "orig_nbformat": 4
 },
 "nbformat": 4,
 "nbformat_minor": 2
}

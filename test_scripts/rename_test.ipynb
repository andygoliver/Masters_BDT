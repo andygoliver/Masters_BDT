{
 "cells": [
  {
   "cell_type": "code",
   "execution_count": 1,
   "metadata": {},
   "outputs": [
    {
     "name": "stderr",
     "output_type": "stream",
     "text": [
      "2023-03-30 10:13:57.633414: I tensorflow/core/platform/cpu_feature_guard.cc:193] This TensorFlow binary is optimized with oneAPI Deep Neural Network Library (oneDNN) to use the following CPU instructions in performance-critical operations:  AVX2 FMA\n",
      "To enable them in other operations, rebuild TensorFlow with the appropriate compiler flags.\n"
     ]
    }
   ],
   "source": [
    "import numpy as np\n",
    "import pandas as pd\n",
    "\n",
    "import time\n",
    "\n",
    "import tensorflow_decision_forests as tfdf"
   ]
  },
  {
   "cell_type": "code",
   "execution_count": 2,
   "metadata": {},
   "outputs": [
    {
     "name": "stdout",
     "output_type": "stream",
     "text": [
      "Loaded training sample of 10000 jets in 31.946s\n",
      "Loaded testing sample of 2500 jets in 8.298s\n"
     ]
    }
   ],
   "source": [
    "# load training data\n",
    "\n",
    "train_starting_time = time.time()\n",
    "train_df = pd.read_csv('../Data/jet_images_c16_pt0_jedinet_sort_hpT_pcNone_train.csv', nrows = 10000)\n",
    "train_load_time = time.time()-train_starting_time\n",
    "print(f'Loaded training sample of {len(train_df)} jets in {train_load_time:.3f}s')\n",
    "\n",
    "# load testing data\n",
    "\n",
    "test_starting_time = time.time()\n",
    "test_df = pd.read_csv('../Data/jet_images_c16_pt0_jedinet_sort_hpT_pcNone_test.csv', nrows = 2500)\n",
    "test_load_time = time.time()-test_starting_time\n",
    "print(f'Loaded testing sample of {len(test_df)} jets in {test_load_time:.3f}s')"
   ]
  },
  {
   "cell_type": "code",
   "execution_count": 3,
   "metadata": {},
   "outputs": [
    {
     "name": "stdout",
     "output_type": "stream",
     "text": [
      "   A  B\n",
      "0  1  4\n",
      "1  2  5\n",
      "2  3  6\n",
      "\n",
      "-------\n",
      "\n",
      "   a  c\n",
      "0  1  4\n",
      "1  2  5\n",
      "2  3  6\n"
     ]
    }
   ],
   "source": [
    "df = pd.DataFrame({\"A\": [1, 2, 3], \"B\": [4, 5, 6]})\n",
    "df_renamed = df.rename(columns={\"A\": \"a\", \"B\": \"c\"})\n",
    "print(df)\n",
    "print('\\n-------\\n')\n",
    "print(df_renamed)"
   ]
  },
  {
   "cell_type": "code",
   "execution_count": 15,
   "metadata": {},
   "outputs": [],
   "source": [
    "for i in range(int((train_df.shape[1] - 1)/16)):\n",
    "    train_df = train_df.rename(columns={f\"c{i}_cos(theta)\":f\"c{i}_cos_theta\", f\"c{i}_cos(theta_rel)\":f\"c{i}_cos_theta_rel\"})\n",
    "\n",
    "for i in range(int((test_df.shape[1] - 1)/16)):\n",
    "    test_df = test_df.rename(columns={f\"c{i}_cos(theta)\":f\"c{i}_cos_theta\", f\"c{i}_cos(theta_rel)\":f\"c{i}_cos_theta_rel\"})"
   ]
  },
  {
   "cell_type": "code",
   "execution_count": 16,
   "metadata": {},
   "outputs": [
    {
     "data": {
      "text/plain": [
       "0      -0.758426\n",
       "1      -0.367042\n",
       "2      -0.175659\n",
       "3       0.409491\n",
       "4       0.387506\n",
       "          ...   \n",
       "9995   -0.182918\n",
       "9996   -0.061518\n",
       "9997   -0.218900\n",
       "9998    0.870466\n",
       "9999    0.698825\n",
       "Name: c0_cos_theta, Length: 10000, dtype: float64"
      ]
     },
     "execution_count": 16,
     "metadata": {},
     "output_type": "execute_result"
    }
   ],
   "source": [
    "train_df['c0_cos_theta']"
   ]
  },
  {
   "cell_type": "code",
   "execution_count": 17,
   "metadata": {},
   "outputs": [],
   "source": [
    "# convert training and testing dataframes to tensorflow datasets\n",
    "train_ds = tfdf.keras.pd_dataframe_to_tf_dataset(train_df, label='class')\n",
    "test_ds = tfdf.keras.pd_dataframe_to_tf_dataset(test_df, label='class')"
   ]
  },
  {
   "cell_type": "code",
   "execution_count": 18,
   "metadata": {},
   "outputs": [],
   "source": [
    "BDT_hyperparameters={'num_trees':5,\n",
    "             'shrinkage':0.2,\n",
    "             'subsample':0.3,\n",
    "             'use_hessian_gain':True,\n",
    "             'growing_strategy':'BEST_FIRST_GLOBAL',\n",
    "             'max_depth':-1,\n",
    "             'max_num_nodes':32\n",
    "            }"
   ]
  },
  {
   "cell_type": "code",
   "execution_count": 19,
   "metadata": {},
   "outputs": [
    {
     "name": "stdout",
     "output_type": "stream",
     "text": [
      "Use /var/folders/w6/ywy355d53p1fqw8pn8ng6xn80000gn/T/tmp2w8z6862 as temporary training directory\n"
     ]
    }
   ],
   "source": [
    "# define the model\n",
    "model = tfdf.keras.GradientBoostedTreesModel(**BDT_hyperparameters)"
   ]
  },
  {
   "cell_type": "code",
   "execution_count": 20,
   "metadata": {},
   "outputs": [
    {
     "name": "stdout",
     "output_type": "stream",
     "text": [
      "Reading training dataset...\n",
      "Training dataset read in 0:00:10.960216. Found 10000 examples.\n",
      "Training model...\n"
     ]
    },
    {
     "name": "stderr",
     "output_type": "stream",
     "text": [
      "2023-03-30 10:20:56.073453: W external/ydf/yggdrasil_decision_forests/learner/gradient_boosted_trees/gradient_boosted_trees.cc:1790] \"goss_alpha\" set but \"sampling_method\" not equal to \"GOSS\".\n",
      "2023-03-30 10:20:56.073487: W external/ydf/yggdrasil_decision_forests/learner/gradient_boosted_trees/gradient_boosted_trees.cc:1800] \"goss_beta\" set but \"sampling_method\" not equal to \"GOSS\".\n",
      "2023-03-30 10:20:56.073496: W external/ydf/yggdrasil_decision_forests/learner/gradient_boosted_trees/gradient_boosted_trees.cc:1814] \"selective_gradient_boosting_ratio\" set but \"sampling_method\" not equal to \"SELGB\".\n",
      "2023-03-30 10:20:56.090678: I external/ydf/yggdrasil_decision_forests/learner/gradient_boosted_trees/gradient_boosted_trees.cc:452] Default loss set to MULTINOMIAL_LOG_LIKELIHOOD\n",
      "2023-03-30 10:20:56.090736: W external/ydf/yggdrasil_decision_forests/learner/gradient_boosted_trees/gradient_boosted_trees.cc:484] The model configuration specifies 5 trees but computation of the validation loss will only start at iteration 10 with 5 trees per iteration. No validation loss will be computed, early stopping is not used.\n",
      "2023-03-30 10:20:56.090746: I external/ydf/yggdrasil_decision_forests/learner/gradient_boosted_trees/gradient_boosted_trees.cc:1077] Training gradient boosted tree on 10000 example(s) and 256 feature(s).\n",
      "2023-03-30 10:20:56.140151: I external/ydf/yggdrasil_decision_forests/learner/gradient_boosted_trees/gradient_boosted_trees.cc:1120] 9027 examples used for training and 973 examples used for validation\n",
      "2023-03-30 10:20:57.498420: I external/ydf/yggdrasil_decision_forests/learner/gradient_boosted_trees/gradient_boosted_trees.cc:1518] \tnum-trees:1 train-loss:1.419194 train-accuracy:0.540157 valid-loss:1.439811 valid-accuracy:0.500514\n",
      "2023-03-30 10:20:58.763407: I external/ydf/yggdrasil_decision_forests/learner/gradient_boosted_trees/gradient_boosted_trees.cc:1520] \tnum-trees:2 train-loss:1.306102 train-accuracy:0.573391 valid-loss:1.344004 valid-accuracy:0.513875\n"
     ]
    },
    {
     "name": "stdout",
     "output_type": "stream",
     "text": [
      "Model trained in 0:00:07.298975\n",
      "Compiling model...\n"
     ]
    },
    {
     "name": "stderr",
     "output_type": "stream",
     "text": [
      "2023-03-30 10:21:03.249363: I external/ydf/yggdrasil_decision_forests/learner/gradient_boosted_trees/gradient_boosted_trees.cc:1518] \tnum-trees:5 train-loss:1.098411 train-accuracy:0.633765 valid-loss:1.184864 valid-accuracy:0.563207\n",
      "2023-03-30 10:21:03.252074: I external/ydf/yggdrasil_decision_forests/learner/gradient_boosted_trees/gradient_boosted_trees.cc:1568] Create final snapshot of the model at iteration 5\n",
      "2023-03-30 10:21:03.254634: I external/ydf/yggdrasil_decision_forests/learner/gradient_boosted_trees/gradient_boosted_trees.cc:242] Insufficient number of trees to apply early stopping. Using last loss for metrics.\n",
      "2023-03-30 10:21:03.254666: I external/ydf/yggdrasil_decision_forests/learner/gradient_boosted_trees/gradient_boosted_trees.cc:309] Final model num-trees:0 valid-loss:1.184864 valid-accuracy:0.563207\n",
      "[INFO 2023-03-30T10:21:03.295233+02:00 kernel.cc:1214] Loading model from path /var/folders/w6/ywy355d53p1fqw8pn8ng6xn80000gn/T/tmp2w8z6862/model/ with prefix e086b289b7384c6e\n",
      "[INFO 2023-03-30T10:21:03.302882+02:00 decision_forest.cc:661] Model loaded with 25 root(s), 1575 node(s), and 178 input feature(s).\n",
      "[INFO 2023-03-30T10:21:03.302943+02:00 abstract_model.cc:1312] Engine \"GradientBoostedTreesGeneric\" built\n",
      "[INFO 2023-03-30T10:21:03.303424+02:00 kernel.cc:1046] Use fast generic engine\n"
     ]
    },
    {
     "name": "stdout",
     "output_type": "stream",
     "text": [
      "Model compiled.\n"
     ]
    }
   ],
   "source": [
    "#train the model\n",
    "starting_time = time.time()\n",
    "model.fit(train_ds, verbose = 1)\n",
    "training_time = time.time() - starting_time"
   ]
  },
  {
   "cell_type": "code",
   "execution_count": 22,
   "metadata": {},
   "outputs": [
    {
     "name": "stderr",
     "output_type": "stream",
     "text": [
      "WARNING:absl:Function `_wrapped_model` contains input name(s) c0_Delta_R, c0_E, c0_E_rel, c0_pT, c0_pT_rel, c10_Delta_R, c10_E, c10_E_rel, c10_pT, c10_pT_rel, c11_Delta_R, c11_E, c11_E_rel, c11_pT, c11_pT_rel, c12_Delta_R, c12_E, c12_E_rel, c12_pT, c12_pT_rel, c13_Delta_R, c13_E, c13_E_rel, c13_pT, c13_pT_rel, c14_Delta_R, c14_E, c14_E_rel, c14_pT, c14_pT_rel, c15_Delta_R, c15_E, c15_E_rel, c15_pT, c15_pT_rel, c1_Delta_R, c1_E, c1_E_rel, c1_pT, c1_pT_rel, c2_Delta_R, c2_E, c2_E_rel, c2_pT, c2_pT_rel, c3_Delta_R, c3_E, c3_E_rel, c3_pT, c3_pT_rel, c4_Delta_R, c4_E, c4_E_rel, c4_pT, c4_pT_rel, c5_Delta_R, c5_E, c5_E_rel, c5_pT, c5_pT_rel, c6_Delta_R, c6_E, c6_E_rel, c6_pT, c6_pT_rel, c7_Delta_R, c7_E, c7_E_rel, c7_pT, c7_pT_rel, c8_Delta_R, c8_E, c8_E_rel, c8_pT, c8_pT_rel, c9_Delta_R, c9_E, c9_E_rel, c9_pT, c9_pT_rel with unsupported characters which will be renamed to c0_delta_r, c0_e, c0_e_rel, c0_pt, c0_pt_rel, c10_delta_r, c10_e, c10_e_rel, c10_pt, c10_pt_rel, c11_delta_r, c11_e, c11_e_rel, c11_pt, c11_pt_rel, c12_delta_r, c12_e, c12_e_rel, c12_pt, c12_pt_rel, c13_delta_r, c13_e, c13_e_rel, c13_pt, c13_pt_rel, c14_delta_r, c14_e, c14_e_rel, c14_pt, c14_pt_rel, c15_delta_r, c15_e, c15_e_rel, c15_pt, c15_pt_rel, c1_delta_r, c1_e, c1_e_rel, c1_pt, c1_pt_rel, c2_delta_r, c2_e, c2_e_rel, c2_pt, c2_pt_rel, c3_delta_r, c3_e, c3_e_rel, c3_pt, c3_pt_rel, c4_delta_r, c4_e, c4_e_rel, c4_pt, c4_pt_rel, c5_delta_r, c5_e, c5_e_rel, c5_pt, c5_pt_rel, c6_delta_r, c6_e, c6_e_rel, c6_pt, c6_pt_rel, c7_delta_r, c7_e, c7_e_rel, c7_pt, c7_pt_rel, c8_delta_r, c8_e, c8_e_rel, c8_pt, c8_pt_rel, c9_delta_r, c9_e, c9_e_rel, c9_pt, c9_pt_rel in the SavedModel.\n",
      "WARNING:absl:Found untraced functions such as call_get_leaves, _update_step_xla while saving (showing 2 of 2). These functions will not be directly callable after loading.\n"
     ]
    },
    {
     "name": "stdout",
     "output_type": "stream",
     "text": [
      "INFO:tensorflow:Assets written to: ~/Desktop/Models/BDT_name_test/assets\n"
     ]
    },
    {
     "name": "stderr",
     "output_type": "stream",
     "text": [
      "INFO:tensorflow:Assets written to: ~/Desktop/Models/BDT_name_test/assets\n"
     ]
    }
   ],
   "source": [
    "model_output_dir = '~/Desktop/Models/'\n",
    "model_name = 'BDT_name_test'\n",
    "\n",
    "model.save(model_output_dir + model_name)"
   ]
  },
  {
   "cell_type": "code",
   "execution_count": 24,
   "metadata": {},
   "outputs": [
    {
     "name": "stderr",
     "output_type": "stream",
     "text": [
      "WARNING:absl:Function `_wrapped_model` contains input name(s) c0_Delta_R, c0_E, c0_E_rel, c0_pT, c0_pT_rel, c10_Delta_R, c10_E, c10_E_rel, c10_pT, c10_pT_rel, c11_Delta_R, c11_E, c11_E_rel, c11_pT, c11_pT_rel, c12_Delta_R, c12_E, c12_E_rel, c12_pT, c12_pT_rel, c13_Delta_R, c13_E, c13_E_rel, c13_pT, c13_pT_rel, c14_Delta_R, c14_E, c14_E_rel, c14_pT, c14_pT_rel, c15_Delta_R, c15_E, c15_E_rel, c15_pT, c15_pT_rel, c1_Delta_R, c1_E, c1_E_rel, c1_pT, c1_pT_rel, c2_Delta_R, c2_E, c2_E_rel, c2_pT, c2_pT_rel, c3_Delta_R, c3_E, c3_E_rel, c3_pT, c3_pT_rel, c4_Delta_R, c4_E, c4_E_rel, c4_pT, c4_pT_rel, c5_Delta_R, c5_E, c5_E_rel, c5_pT, c5_pT_rel, c6_Delta_R, c6_E, c6_E_rel, c6_pT, c6_pT_rel, c7_Delta_R, c7_E, c7_E_rel, c7_pT, c7_pT_rel, c8_Delta_R, c8_E, c8_E_rel, c8_pT, c8_pT_rel, c9_Delta_R, c9_E, c9_E_rel, c9_pT, c9_pT_rel with unsupported characters which will be renamed to c0_delta_r, c0_e, c0_e_rel, c0_pt, c0_pt_rel, c10_delta_r, c10_e, c10_e_rel, c10_pt, c10_pt_rel, c11_delta_r, c11_e, c11_e_rel, c11_pt, c11_pt_rel, c12_delta_r, c12_e, c12_e_rel, c12_pt, c12_pt_rel, c13_delta_r, c13_e, c13_e_rel, c13_pt, c13_pt_rel, c14_delta_r, c14_e, c14_e_rel, c14_pt, c14_pt_rel, c15_delta_r, c15_e, c15_e_rel, c15_pt, c15_pt_rel, c1_delta_r, c1_e, c1_e_rel, c1_pt, c1_pt_rel, c2_delta_r, c2_e, c2_e_rel, c2_pt, c2_pt_rel, c3_delta_r, c3_e, c3_e_rel, c3_pt, c3_pt_rel, c4_delta_r, c4_e, c4_e_rel, c4_pt, c4_pt_rel, c5_delta_r, c5_e, c5_e_rel, c5_pt, c5_pt_rel, c6_delta_r, c6_e, c6_e_rel, c6_pt, c6_pt_rel, c7_delta_r, c7_e, c7_e_rel, c7_pt, c7_pt_rel, c8_delta_r, c8_e, c8_e_rel, c8_pt, c8_pt_rel, c9_delta_r, c9_e, c9_e_rel, c9_pt, c9_pt_rel in the SavedModel.\n",
      "WARNING:absl:Found untraced functions such as call_get_leaves, _update_step_xla while saving (showing 2 of 2). These functions will not be directly callable after loading.\n"
     ]
    },
    {
     "name": "stdout",
     "output_type": "stream",
     "text": [
      "INFO:tensorflow:Assets written to: Models/BDT_name_test/assets\n"
     ]
    },
    {
     "name": "stderr",
     "output_type": "stream",
     "text": [
      "INFO:tensorflow:Assets written to: Models/BDT_name_test/assets\n"
     ]
    }
   ],
   "source": [
    "model.save(\"Models/BDT_name_test\")"
   ]
  },
  {
   "cell_type": "code",
   "execution_count": null,
   "metadata": {},
   "outputs": [],
   "source": []
  }
 ],
 "metadata": {
  "kernelspec": {
   "display_name": "Masters",
   "language": "python",
   "name": "python3"
  },
  "language_info": {
   "codemirror_mode": {
    "name": "ipython",
    "version": 3
   },
   "file_extension": ".py",
   "mimetype": "text/x-python",
   "name": "python",
   "nbconvert_exporter": "python",
   "pygments_lexer": "ipython3",
   "version": "3.10.9"
  },
  "orig_nbformat": 4
 },
 "nbformat": 4,
 "nbformat_minor": 2
}

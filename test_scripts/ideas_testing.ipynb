{
 "cells": [
  {
   "cell_type": "code",
   "execution_count": 1,
   "metadata": {},
   "outputs": [],
   "source": [
    "import numpy as np\n",
    "import pandas as pd"
   ]
  },
  {
   "cell_type": "code",
   "execution_count": 66,
   "metadata": {},
   "outputs": [],
   "source": [
    "data = [[1.3,6.2,7.3,], [4.2,8.1,0.3], [3.7,1.1,2.8], [13.2,8.2,3.1,], [1.3,5.1,3.9], [3.2,4.1,12.5]]\n",
    "\n",
    "heading = ['a', 'b', 'c']\n",
    "\n",
    "ohe_data = np.array([[0, 0, 0, 1, 0],\n",
    " [1, 0, 0, 0, 0],\n",
    " [0, 0, 1, 0, 0],\n",
    " [0, 0, 1, 0, 0],\n",
    " [0, 0, 0, 0, 1],\n",
    " [0, 1, 0, 0, 0]])\n",
    "\n",
    "classes = np.array([b'g', b'q', b'w', b'z', b't'])"
   ]
  },
  {
   "cell_type": "code",
   "execution_count": 68,
   "metadata": {},
   "outputs": [
    {
     "name": "stdout",
     "output_type": "stream",
     "text": [
      "[3, 0, 2, 2, 4, 1]\n"
     ]
    }
   ],
   "source": [
    "y_data = [np.argmax(ohe_array) for ohe_array in ohe_data]\n",
    "print(y_data)"
   ]
  },
  {
   "cell_type": "code",
   "execution_count": 2,
   "metadata": {},
   "outputs": [
    {
     "name": "stdout",
     "output_type": "stream",
     "text": [
      "[[[0.30194989 0.78501522 0.76785954]\n",
      "  [0.82537798 0.01491811 0.38499032]\n",
      "  [0.60091059 0.15292312 0.83453613]\n",
      "  [0.56556327 0.25175678 0.25182691]\n",
      "  [0.36968028 0.05894669 0.00288249]\n",
      "  [0.94508682 0.74759897 0.48268895]]\n",
      "\n",
      " [[0.00847085 0.24273813 0.39808676]\n",
      "  [0.9529521  0.19002575 0.25506157]\n",
      "  [0.20466712 0.86579043 0.36311837]\n",
      "  [0.22328282 0.88973468 0.65028586]\n",
      "  [0.96271002 0.08544198 0.01654267]\n",
      "  [0.78338736 0.18174495 0.16797839]]\n",
      "\n",
      " [[0.91331203 0.04092594 0.85507386]\n",
      "  [0.28727678 0.67360399 0.9895451 ]\n",
      "  [0.8814514  0.63301846 0.72155127]\n",
      "  [0.51558262 0.88122669 0.76646486]\n",
      "  [0.41437063 0.0292482  0.95640661]\n",
      "  [0.35268858 0.83407648 0.80402081]]\n",
      "\n",
      " [[0.28936301 0.85923633 0.28667838]\n",
      "  [0.8436809  0.48434738 0.22359089]\n",
      "  [0.3025417  0.70846336 0.18842054]\n",
      "  [0.00927064 0.20250938 0.27009199]\n",
      "  [0.99948886 0.57407474 0.97544327]\n",
      "  [0.49890757 0.8913143  0.11456469]]\n",
      "\n",
      " [[0.08422486 0.03985206 0.53189105]\n",
      "  [0.13935952 0.74696637 0.84115709]\n",
      "  [0.24397822 0.81748003 0.32137213]\n",
      "  [0.00547906 0.92638339 0.3659074 ]\n",
      "  [0.13914107 0.52615059 0.39312656]\n",
      "  [0.9193206  0.21477141 0.81069787]]]\n",
      "[2 3 4 1 0]\n"
     ]
    }
   ],
   "source": [
    "rand_data = np.random.rand(5,6,3)\n",
    "rand_class = np.random.randint(0,5,5)\n",
    "#big_rand_data = np.random.rand(620000,50,16)\n",
    "print(rand_data)\n",
    "print(rand_class)"
   ]
  },
  {
   "cell_type": "code",
   "execution_count": 3,
   "metadata": {},
   "outputs": [
    {
     "name": "stdout",
     "output_type": "stream",
     "text": [
      "-1\n"
     ]
    }
   ],
   "source": [
    "ascending = False\n",
    "order = ascending - (not ascending)\n",
    "print(order)"
   ]
  },
  {
   "cell_type": "code",
   "execution_count": 4,
   "metadata": {},
   "outputs": [
    {
     "name": "stdout",
     "output_type": "stream",
     "text": [
      "[[[0.94508682 0.74759897 0.48268895]\n",
      "  [0.82537798 0.01491811 0.38499032]\n",
      "  [0.60091059 0.15292312 0.83453613]\n",
      "  [0.56556327 0.25175678 0.25182691]\n",
      "  [0.36968028 0.05894669 0.00288249]\n",
      "  [0.30194989 0.78501522 0.76785954]]\n",
      "\n",
      " [[0.96271002 0.08544198 0.01654267]\n",
      "  [0.9529521  0.19002575 0.25506157]\n",
      "  [0.78338736 0.18174495 0.16797839]\n",
      "  [0.22328282 0.88973468 0.65028586]\n",
      "  [0.20466712 0.86579043 0.36311837]\n",
      "  [0.00847085 0.24273813 0.39808676]]\n",
      "\n",
      " [[0.91331203 0.04092594 0.85507386]\n",
      "  [0.8814514  0.63301846 0.72155127]\n",
      "  [0.51558262 0.88122669 0.76646486]\n",
      "  [0.41437063 0.0292482  0.95640661]\n",
      "  [0.35268858 0.83407648 0.80402081]\n",
      "  [0.28727678 0.67360399 0.9895451 ]]\n",
      "\n",
      " [[0.99948886 0.57407474 0.97544327]\n",
      "  [0.8436809  0.48434738 0.22359089]\n",
      "  [0.49890757 0.8913143  0.11456469]\n",
      "  [0.3025417  0.70846336 0.18842054]\n",
      "  [0.28936301 0.85923633 0.28667838]\n",
      "  [0.00927064 0.20250938 0.27009199]]\n",
      "\n",
      " [[0.9193206  0.21477141 0.81069787]\n",
      "  [0.24397822 0.81748003 0.32137213]\n",
      "  [0.13935952 0.74696637 0.84115709]\n",
      "  [0.13914107 0.52615059 0.39312656]\n",
      "  [0.08422486 0.03985206 0.53189105]\n",
      "  [0.00547906 0.92638339 0.3659074 ]]]\n",
      "<class 'numpy.ndarray'>\n"
     ]
    }
   ],
   "source": [
    "sorted_data = np.array([rand_data[i][(order*rand_data[i][:, 0]).argsort()] for i in range(len(rand_data))])\n",
    "#big_sorted_data = np.asarray([big_rand_data[i][big_rand_data[i][:, 1].argsort()] for i in range(len(big_rand_data))])\n",
    "\n",
    "print(sorted_data)\n",
    "print(type(sorted_data))"
   ]
  },
  {
   "cell_type": "code",
   "execution_count": 5,
   "metadata": {},
   "outputs": [
    {
     "name": "stdout",
     "output_type": "stream",
     "text": [
      "[0.74759897 0.01491811 0.15292312 0.25175678 0.05894669 0.78501522\n",
      " 0.57407474 0.48434738 0.8913143  0.70846336 0.85923633 0.20250938]\n"
     ]
    }
   ],
   "source": [
    "boolean_index = [True, False, False, True, False]\n",
    "\n",
    "print(sorted_data[:,:,1][boolean_index].flatten())"
   ]
  },
  {
   "cell_type": "code",
   "execution_count": 6,
   "metadata": {},
   "outputs": [
    {
     "name": "stdout",
     "output_type": "stream",
     "text": [
      "[True, False, False, True, False]\n",
      "[True, False, False, True, False]\n"
     ]
    }
   ],
   "source": [
    "print(boolean_index)\n",
    "print(1*(boolean_index))"
   ]
  },
  {
   "cell_type": "code",
   "execution_count": 7,
   "metadata": {},
   "outputs": [],
   "source": [
    "boolean_mask = sorted_data[:, :, 0] > 0.2\n",
    "structure_memory = boolean_mask.sum(axis=1)"
   ]
  },
  {
   "cell_type": "code",
   "execution_count": 8,
   "metadata": {},
   "outputs": [
    {
     "name": "stdout",
     "output_type": "stream",
     "text": [
      "[[ True  True  True  True  True  True]\n",
      " [ True  True  True  True  True False]\n",
      " [ True  True  True  True  True  True]\n",
      " [ True  True  True  True  True False]\n",
      " [ True  True False False False False]]\n",
      "[6 5 6 5 2]\n",
      "4.8\n"
     ]
    }
   ],
   "source": [
    "print(boolean_mask)\n",
    "print(structure_memory)\n",
    "print(np.mean(structure_memory))"
   ]
  },
  {
   "cell_type": "code",
   "execution_count": 9,
   "metadata": {},
   "outputs": [
    {
     "name": "stdout",
     "output_type": "stream",
     "text": [
      "[array([[0.94508682, 0.74759897, 0.48268895],\n",
      "       [0.82537798, 0.01491811, 0.38499032],\n",
      "       [0.60091059, 0.15292312, 0.83453613],\n",
      "       [0.56556327, 0.25175678, 0.25182691],\n",
      "       [0.36968028, 0.05894669, 0.00288249],\n",
      "       [0.30194989, 0.78501522, 0.76785954]]), array([[0.96271002, 0.08544198, 0.01654267],\n",
      "       [0.9529521 , 0.19002575, 0.25506157],\n",
      "       [0.78338736, 0.18174495, 0.16797839],\n",
      "       [0.22328282, 0.88973468, 0.65028586],\n",
      "       [0.20466712, 0.86579043, 0.36311837]]), array([[0.91331203, 0.04092594, 0.85507386],\n",
      "       [0.8814514 , 0.63301846, 0.72155127],\n",
      "       [0.51558262, 0.88122669, 0.76646486],\n",
      "       [0.41437063, 0.0292482 , 0.95640661],\n",
      "       [0.35268858, 0.83407648, 0.80402081],\n",
      "       [0.28727678, 0.67360399, 0.9895451 ]]), array([[0.99948886, 0.57407474, 0.97544327],\n",
      "       [0.8436809 , 0.48434738, 0.22359089],\n",
      "       [0.49890757, 0.8913143 , 0.11456469],\n",
      "       [0.3025417 , 0.70846336, 0.18842054],\n",
      "       [0.28936301, 0.85923633, 0.28667838]]), array([[0.9193206 , 0.21477141, 0.81069787],\n",
      "       [0.24397822, 0.81748003, 0.32137213]])]\n",
      "\n",
      "================\n",
      "\n",
      "[array([[0.94508682, 0.74759897, 0.48268895],\n",
      "       [0.82537798, 0.01491811, 0.38499032],\n",
      "       [0.60091059, 0.15292312, 0.83453613],\n",
      "       [0.56556327, 0.25175678, 0.25182691],\n",
      "       [0.36968028, 0.05894669, 0.00288249],\n",
      "       [0.30194989, 0.78501522, 0.76785954]]), array([[0.96271002, 0.08544198, 0.01654267],\n",
      "       [0.9529521 , 0.19002575, 0.25506157],\n",
      "       [0.78338736, 0.18174495, 0.16797839],\n",
      "       [0.22328282, 0.88973468, 0.65028586],\n",
      "       [0.20466712, 0.86579043, 0.36311837]]), array([[0.91331203, 0.04092594, 0.85507386],\n",
      "       [0.8814514 , 0.63301846, 0.72155127],\n",
      "       [0.51558262, 0.88122669, 0.76646486],\n",
      "       [0.41437063, 0.0292482 , 0.95640661],\n",
      "       [0.35268858, 0.83407648, 0.80402081],\n",
      "       [0.28727678, 0.67360399, 0.9895451 ]]), array([[0.99948886, 0.57407474, 0.97544327],\n",
      "       [0.8436809 , 0.48434738, 0.22359089],\n",
      "       [0.49890757, 0.8913143 , 0.11456469],\n",
      "       [0.3025417 , 0.70846336, 0.18842054],\n",
      "       [0.28936301, 0.85923633, 0.28667838]]), array([[0.9193206 , 0.21477141, 0.81069787],\n",
      "       [0.24397822, 0.81748003, 0.32137213]])]\n"
     ]
    }
   ],
   "source": [
    "cut_data = np.split(sorted_data[boolean_mask, :], np.cumsum(structure_memory)[:-1])\n",
    "\n",
    "print(cut_data)\n",
    "print('\\n================\\n')\n",
    "cut_data = [jet_const for jet_const in cut_data if jet_const.size > 0]\n",
    "\n",
    "print(cut_data)"
   ]
  },
  {
   "cell_type": "code",
   "execution_count": 10,
   "metadata": {},
   "outputs": [
    {
     "name": "stdout",
     "output_type": "stream",
     "text": [
      "[[[0.94508682 0.74759897 0.48268895]\n",
      "  [0.82537798 0.01491811 0.38499032]\n",
      "  [0.60091059 0.15292312 0.83453613]\n",
      "  [0.56556327 0.25175678 0.25182691]\n",
      "  [0.36968028 0.05894669 0.00288249]\n",
      "  [0.30194989 0.78501522 0.76785954]]\n",
      "\n",
      " [[0.96271002 0.08544198 0.01654267]\n",
      "  [0.9529521  0.19002575 0.25506157]\n",
      "  [0.78338736 0.18174495 0.16797839]\n",
      "  [0.22328282 0.88973468 0.65028586]\n",
      "  [0.20466712 0.86579043 0.36311837]\n",
      "  [0.         0.         0.        ]]\n",
      "\n",
      " [[0.91331203 0.04092594 0.85507386]\n",
      "  [0.8814514  0.63301846 0.72155127]\n",
      "  [0.51558262 0.88122669 0.76646486]\n",
      "  [0.41437063 0.0292482  0.95640661]\n",
      "  [0.35268858 0.83407648 0.80402081]\n",
      "  [0.28727678 0.67360399 0.9895451 ]]\n",
      "\n",
      " [[0.99948886 0.57407474 0.97544327]\n",
      "  [0.8436809  0.48434738 0.22359089]\n",
      "  [0.49890757 0.8913143  0.11456469]\n",
      "  [0.3025417  0.70846336 0.18842054]\n",
      "  [0.28936301 0.85923633 0.28667838]\n",
      "  [0.         0.         0.        ]]\n",
      "\n",
      " [[0.9193206  0.21477141 0.81069787]\n",
      "  [0.24397822 0.81748003 0.32137213]\n",
      "  [0.         0.         0.        ]\n",
      "  [0.         0.         0.        ]\n",
      "  [0.         0.         0.        ]\n",
      "  [0.         0.         0.        ]]]\n",
      "\n",
      "===================\n",
      "\n",
      "[6. 5. 6. 5. 2.]\n"
     ]
    }
   ],
   "source": [
    "max_constituents = 6\n",
    "nb_constituents = np.array([])\n",
    "\n",
    "for jet in range(len(cut_data)):\n",
    "    if cut_data[jet].shape[0] >= max_constituents:\n",
    "        nb_constituents = np.append(nb_constituents, max_constituents)\n",
    "        cut_data[jet] = cut_data[jet][:max_constituents, :]\n",
    "    else:\n",
    "        nb_constituents = np.append(nb_constituents, cut_data[jet].shape[0])\n",
    "        padding_length = max_constituents - cut_data[jet].shape[0]\n",
    "        cut_data[jet] = np.pad(cut_data[jet], ((0, padding_length), (0, 0)), constant_values = 0)\n",
    "cut_data = np.array(cut_data)\n",
    "print(cut_data)\n",
    "print('\\n===================\\n')\n",
    "print(nb_constituents)"
   ]
  },
  {
   "cell_type": "code",
   "execution_count": 16,
   "metadata": {},
   "outputs": [
    {
     "data": {
      "text/plain": [
       "array([[[0.94508682, 0.74759897, 0.48268895],\n",
       "        [0.82537798, 0.01491811, 0.38499032],\n",
       "        [0.60091059, 0.15292312, 0.83453613],\n",
       "        [0.56556327, 0.25175678, 0.25182691],\n",
       "        [0.36968028, 0.05894669, 0.00288249],\n",
       "        [0.30194989, 0.78501522, 0.76785954]],\n",
       "\n",
       "       [[0.96271002, 0.08544198, 0.01654267],\n",
       "        [0.9529521 , 0.19002575, 0.25506157],\n",
       "        [0.78338736, 0.18174495, 0.16797839],\n",
       "        [0.22328282, 0.88973468, 0.65028586],\n",
       "        [0.20466712, 0.86579043, 0.36311837],\n",
       "        [0.        , 0.        , 0.        ]]])"
      ]
     },
     "execution_count": 16,
     "metadata": {},
     "output_type": "execute_result"
    }
   ],
   "source": [
    "cut_data[:2]"
   ]
  },
  {
   "cell_type": "code",
   "execution_count": 11,
   "metadata": {},
   "outputs": [
    {
     "name": "stdout",
     "output_type": "stream",
     "text": [
      "[[ True  True  True  True  True  True]\n",
      " [ True  True  True  True  True False]\n",
      " [ True  True  True  True  True  True]\n",
      " [ True  True  True  True  True False]\n",
      " [ True  True False False False False]]\n",
      "[6 5 6 5 2]\n"
     ]
    }
   ],
   "source": [
    "is_not_padded = np.any(cut_data, axis = 2)\n",
    "print(is_not_padded)\n",
    "constituent_memory = is_not_padded.sum(axis = 1)\n",
    "print(constituent_memory)\n",
    "# is_positive_class = [True, False, False, True, False]\n",
    "# print(is_positive_class)"
   ]
  },
  {
   "cell_type": "code",
   "execution_count": 12,
   "metadata": {},
   "outputs": [
    {
     "name": "stdout",
     "output_type": "stream",
     "text": [
      "[[0.94508682 0.74759897 0.48268895]\n",
      " [0.82537798 0.01491811 0.38499032]\n",
      " [0.60091059 0.15292312 0.83453613]\n",
      " [0.56556327 0.25175678 0.25182691]\n",
      " [0.36968028 0.05894669 0.00288249]\n",
      " [0.30194989 0.78501522 0.76785954]\n",
      " [0.96271002 0.08544198 0.01654267]\n",
      " [0.9529521  0.19002575 0.25506157]\n",
      " [0.78338736 0.18174495 0.16797839]\n",
      " [0.22328282 0.88973468 0.65028586]\n",
      " [0.20466712 0.86579043 0.36311837]\n",
      " [0.91331203 0.04092594 0.85507386]\n",
      " [0.8814514  0.63301846 0.72155127]\n",
      " [0.51558262 0.88122669 0.76646486]\n",
      " [0.41437063 0.0292482  0.95640661]\n",
      " [0.35268858 0.83407648 0.80402081]\n",
      " [0.28727678 0.67360399 0.9895451 ]\n",
      " [0.99948886 0.57407474 0.97544327]\n",
      " [0.8436809  0.48434738 0.22359089]\n",
      " [0.49890757 0.8913143  0.11456469]\n",
      " [0.3025417  0.70846336 0.18842054]\n",
      " [0.28936301 0.85923633 0.28667838]\n",
      " [0.9193206  0.21477141 0.81069787]\n",
      " [0.24397822 0.81748003 0.32137213]]\n"
     ]
    }
   ],
   "source": [
    "print(cut_data[is_not_padded, :])"
   ]
  },
  {
   "cell_type": "code",
   "execution_count": 13,
   "metadata": {},
   "outputs": [
    {
     "name": "stdout",
     "output_type": "stream",
     "text": [
      "[2 3 4 1 0]\n",
      "0\n",
      "1\n",
      "2\n",
      "3\n",
      "4\n",
      "[2 2 2 2 2 2 3 3 3 3 3 4 4 4 4 4 4 1 1 1 1 1 0 0]\n"
     ]
    }
   ],
   "source": [
    "print(rand_class)\n",
    "large_class = np.array([], dtype = int)\n",
    "cut_data[1]\n",
    "\n",
    "for i in range(len(constituent_memory)):\n",
    "    print(i)\n",
    "    large_class = np.append(large_class, constituent_memory[i]*[rand_class[i]])\n",
    "\n",
    "print(large_class)"
   ]
  },
  {
   "cell_type": "code",
   "execution_count": 14,
   "metadata": {},
   "outputs": [
    {
     "name": "stdout",
     "output_type": "stream",
     "text": [
      "[[0.94508682 0.74759897 0.48268895]\n",
      " [0.82537798 0.01491811 0.38499032]\n",
      " [0.60091059 0.15292312 0.83453613]\n",
      " [0.56556327 0.25175678 0.25182691]\n",
      " [0.36968028 0.05894669 0.00288249]\n",
      " [0.30194989 0.78501522 0.76785954]\n",
      " [0.96271002 0.08544198 0.01654267]\n",
      " [0.9529521  0.19002575 0.25506157]\n",
      " [0.78338736 0.18174495 0.16797839]\n",
      " [0.22328282 0.88973468 0.65028586]\n",
      " [0.20466712 0.86579043 0.36311837]\n",
      " [0.91331203 0.04092594 0.85507386]\n",
      " [0.8814514  0.63301846 0.72155127]\n",
      " [0.51558262 0.88122669 0.76646486]\n",
      " [0.41437063 0.0292482  0.95640661]\n",
      " [0.35268858 0.83407648 0.80402081]\n",
      " [0.28727678 0.67360399 0.9895451 ]\n",
      " [0.99948886 0.57407474 0.97544327]\n",
      " [0.8436809  0.48434738 0.22359089]\n",
      " [0.49890757 0.8913143  0.11456469]\n",
      " [0.3025417  0.70846336 0.18842054]\n",
      " [0.28936301 0.85923633 0.28667838]\n",
      " [0.9193206  0.21477141 0.81069787]\n",
      " [0.24397822 0.81748003 0.32137213]]\n",
      "24\n",
      "[2 2 2 2 2 2 3 3 3 3 3 4 4 4 4 4 4 1 1 1 1 1 0 0]\n",
      "24\n",
      "[[2]\n",
      " [2]\n",
      " [2]\n",
      " [2]\n",
      " [2]\n",
      " [2]\n",
      " [3]\n",
      " [3]\n",
      " [3]\n",
      " [3]\n",
      " [3]\n",
      " [4]\n",
      " [4]\n",
      " [4]\n",
      " [4]\n",
      " [4]\n",
      " [4]\n",
      " [1]\n",
      " [1]\n",
      " [1]\n",
      " [1]\n",
      " [1]\n",
      " [0]\n",
      " [0]]\n"
     ]
    },
    {
     "data": {
      "text/plain": [
       "array([[9.45086819e-01, 7.47598966e-01, 4.82688952e-01, 2.00000000e+00],\n",
       "       [8.25377981e-01, 1.49181144e-02, 3.84990322e-01, 2.00000000e+00],\n",
       "       [6.00910594e-01, 1.52923118e-01, 8.34536130e-01, 2.00000000e+00],\n",
       "       [5.65563273e-01, 2.51756779e-01, 2.51826905e-01, 2.00000000e+00],\n",
       "       [3.69680278e-01, 5.89466882e-02, 2.88248611e-03, 2.00000000e+00],\n",
       "       [3.01949892e-01, 7.85015222e-01, 7.67859538e-01, 2.00000000e+00],\n",
       "       [9.62710021e-01, 8.54419805e-02, 1.65426695e-02, 3.00000000e+00],\n",
       "       [9.52952105e-01, 1.90025749e-01, 2.55061573e-01, 3.00000000e+00],\n",
       "       [7.83387357e-01, 1.81744950e-01, 1.67978391e-01, 3.00000000e+00],\n",
       "       [2.23282824e-01, 8.89734682e-01, 6.50285856e-01, 3.00000000e+00],\n",
       "       [2.04667115e-01, 8.65790433e-01, 3.63118371e-01, 3.00000000e+00],\n",
       "       [9.13312035e-01, 4.09259358e-02, 8.55073857e-01, 4.00000000e+00],\n",
       "       [8.81451397e-01, 6.33018462e-01, 7.21551270e-01, 4.00000000e+00],\n",
       "       [5.15582620e-01, 8.81226694e-01, 7.66464857e-01, 4.00000000e+00],\n",
       "       [4.14370633e-01, 2.92482002e-02, 9.56406610e-01, 4.00000000e+00],\n",
       "       [3.52688582e-01, 8.34076477e-01, 8.04020809e-01, 4.00000000e+00],\n",
       "       [2.87276785e-01, 6.73603993e-01, 9.89545104e-01, 4.00000000e+00],\n",
       "       [9.99488859e-01, 5.74074740e-01, 9.75443274e-01, 1.00000000e+00],\n",
       "       [8.43680897e-01, 4.84347381e-01, 2.23590891e-01, 1.00000000e+00],\n",
       "       [4.98907570e-01, 8.91314304e-01, 1.14564688e-01, 1.00000000e+00],\n",
       "       [3.02541704e-01, 7.08463358e-01, 1.88420535e-01, 1.00000000e+00],\n",
       "       [2.89363006e-01, 8.59236333e-01, 2.86678379e-01, 1.00000000e+00],\n",
       "       [9.19320596e-01, 2.14771410e-01, 8.10697865e-01, 0.00000000e+00],\n",
       "       [2.43978220e-01, 8.17480027e-01, 3.21372132e-01, 0.00000000e+00]])"
      ]
     },
     "execution_count": 14,
     "metadata": {},
     "output_type": "execute_result"
    }
   ],
   "source": [
    "print(cut_data[is_not_padded, :])\n",
    "print(len(cut_data[is_not_padded, :]))\n",
    "print(large_class)\n",
    "print(len(large_class))\n",
    "print(large_class.reshape(len(large_class), 1))\n",
    "\n",
    "np.concatenate((cut_data[is_not_padded, :], large_class.reshape(len(large_class), 1)), axis =1)"
   ]
  },
  {
   "cell_type": "code",
   "execution_count": 15,
   "metadata": {},
   "outputs": [
    {
     "name": "stdout",
     "output_type": "stream",
     "text": [
      "[[False  True  True  True  True False]\n",
      " [ True  True  True False False  True]\n",
      " [ True False False  True False False]\n",
      " [False  True False False False  True]\n",
      " [ True False  True  True  True  True]]\n"
     ]
    }
   ],
   "source": [
    "cut_boolean_mask = cut_data[:, :, 1] < 0.5\n",
    "print(cut_boolean_mask)"
   ]
  },
  {
   "cell_type": "code",
   "execution_count": 13,
   "metadata": {},
   "outputs": [
    {
     "name": "stdout",
     "output_type": "stream",
     "text": [
      "[[False False False False False False]\n",
      " [False  True False False False False]\n",
      " [ True  True  True  True False False]\n",
      " [False False  True False False False]\n",
      " [ True  True  True False False False]]\n",
      "[0 1 4 1 3]\n"
     ]
    }
   ],
   "source": [
    "new_boolean_mask = cut_boolean_mask * is_not_padded\n",
    "new_structure_memory = new_boolean_mask.sum(axis = 1)\n",
    "print(new_boolean_mask)\n",
    "print(new_structure_memory)"
   ]
  },
  {
   "cell_type": "code",
   "execution_count": 30,
   "metadata": {},
   "outputs": [
    {
     "name": "stdout",
     "output_type": "stream",
     "text": [
      "[array([[0.31096717, 0.19810237, 0.9584172 ]]), array([[0.55501169, 0.24169078, 0.91067052],\n",
      "       [0.23784861, 0.05837725, 0.06358404],\n",
      "       [0.22099701, 0.0475618 , 0.9945953 ]]), array([[0.67377265, 0.14582521, 0.25992718],\n",
      "       [0.60179192, 0.02465442, 0.22187714]]), array([[0.93891831, 0.24385523, 0.26970766],\n",
      "       [0.79101309, 0.18717309, 0.02891489]]), array([[0.90123358, 0.07322485, 0.19132789],\n",
      "       [0.49177459, 0.12306054, 0.63115467],\n",
      "       [0.40722695, 0.32317744, 0.99055728]])]\n",
      "-----------------\n",
      "[array([[0.31096717, 0.19810237, 0.9584172 ]]), array([[0.22099701, 0.0475618 , 0.9945953 ],\n",
      "       [0.23784861, 0.05837725, 0.06358404],\n",
      "       [0.55501169, 0.24169078, 0.91067052]]), array([[0.60179192, 0.02465442, 0.22187714],\n",
      "       [0.67377265, 0.14582521, 0.25992718]]), array([[0.79101309, 0.18717309, 0.02891489],\n",
      "       [0.93891831, 0.24385523, 0.26970766]]), array([[0.90123358, 0.07322485, 0.19132789],\n",
      "       [0.49177459, 0.12306054, 0.63115467],\n",
      "       [0.40722695, 0.32317744, 0.99055728]])]\n",
      "<class 'list'>\n"
     ]
    }
   ],
   "source": [
    "new_cut_data = np.split(cut_data[new_boolean_mask, :], np.cumsum(new_structure_memory)[:-1])\n",
    "print(new_cut_data)\n",
    "\n",
    "# new_cut_data = [jet_const for jet_const in new_cut_data if jet_const.size >0]\n",
    "# print(new_cut_data)\n",
    "\n",
    "ascending = True\n",
    "order = ascending - (not ascending)\n",
    "\n",
    "new_cut_data = [new_cut_data[i][(order*new_cut_data[i][:, 1]).argsort()] for i in range(len(new_cut_data))]\n",
    "\n",
    "print('-----------------')\n",
    "print(new_cut_data)\n",
    "print(type(new_cut_data))"
   ]
  },
  {
   "cell_type": "code",
   "execution_count": 32,
   "metadata": {},
   "outputs": [
    {
     "name": "stdout",
     "output_type": "stream",
     "text": [
      "[array([[0.31096717, 0.9584172 ]]), array([[0.22099701, 0.9945953 ],\n",
      "       [0.23784861, 0.06358404],\n",
      "       [0.55501169, 0.91067052]]), array([[0.60179192, 0.22187714],\n",
      "       [0.67377265, 0.25992718]]), array([[0.79101309, 0.02891489],\n",
      "       [0.93891831, 0.26970766]]), array([[0.90123358, 0.19132789],\n",
      "       [0.49177459, 0.63115467],\n",
      "       [0.40722695, 0.99055728]])]\n"
     ]
    }
   ],
   "source": [
    "a = [jet_const[:,[0,2]]for jet_const in new_cut_data]\n",
    "print(a)"
   ]
  },
  {
   "cell_type": "code",
   "execution_count": 47,
   "metadata": {},
   "outputs": [
    {
     "name": "stdout",
     "output_type": "stream",
     "text": [
      "[0.97871777 0.63655692 0.91614239]\n",
      "[0.97871777 0.63655692]\n",
      "[0.75911078 0.44960439]\n",
      "[0.75911078]\n",
      "[0.20231241 0.59754777]\n",
      "[0.20231241]\n",
      "[0.26113121 0.74083859 0.60409017 0.99859102]\n",
      "[0.26113121 0.74083859 0.60409017]\n",
      "[0.21209679 0.69501631 0.24753559]\n",
      "[0.21209679 0.69501631]\n"
     ]
    }
   ],
   "source": [
    "for jet_const in new_cut_data:\n",
    "    print(jet_const[:,0])\n",
    "    print(jet_const[:-1,0])"
   ]
  },
  {
   "cell_type": "code",
   "execution_count": 46,
   "metadata": {},
   "outputs": [
    {
     "name": "stdout",
     "output_type": "stream",
     "text": [
      "[0.8438056940131718, 0.6043575847390479, 0.39993009000062085, 0.651162744623324, 0.3848828952524548]\n",
      "[0.21508228565421253, 0.2933041124010902, 0.2545993987739518, 0.30519418829191636, 0.25061492536523694]\n",
      "[0.4152671355253024, 0.9305915189512699, 0.47521143801791466, 0.8068262347149068, 0.7300975822380785]\n",
      "[0.8076373484062733, 0.7591107791547588, 0.2023124058816611, 0.5353533195446221, 0.4535565497622538]\n",
      "[0.10286911689738365, 0.15526971767320052, 0.16898222169179455, 0.24367609070987142, 0.1520503637342021]\n",
      "[0.15779017362619163, 0.8631180130219206, 0.09879336888222601, 0.8561205298940121, 0.6278269491664584]\n",
      "[2.5314170820395154, 1.2087151694780958, 0.7998601800012417, 2.604650978493296, 1.1546486857573643]\n",
      "<class 'list'>\n"
     ]
    }
   ],
   "source": [
    "means_a = [np.mean(jet_const[:,0]) for jet_const in new_cut_data]\n",
    "means_b = [np.mean(jet_const[:,1]) for jet_const in new_cut_data]\n",
    "means_c = [np.mean(jet_const[:,2]) for jet_const in new_cut_data]\n",
    "means_a_ = [np.mean(jet_const[:-1,0]) for jet_const in new_cut_data]\n",
    "means_b_ = [np.mean(jet_const[:-1,1]) for jet_const in new_cut_data]\n",
    "means_c_ = [np.mean(jet_const[:-1,2]) for jet_const in new_cut_data]\n",
    "sums = [np.sum(jet_const[:4,0]) for jet_const in new_cut_data]\n",
    "print(means_a)\n",
    "print(means_b)\n",
    "print(means_c)\n",
    "print(means_a_)\n",
    "print(means_b_)\n",
    "print(means_c_)\n",
    "print(sums)\n",
    "print(type(means_a))"
   ]
  },
  {
   "cell_type": "code",
   "execution_count": 52,
   "metadata": {},
   "outputs": [],
   "source": [
    "feature_labels  = ['a','b','c']\n",
    "\n",
    "def create_aggregated_feature(x_data, operation, feature, nb_const = None, sorted_feature='b', sort_ascending=True):\n",
    "    try:\n",
    "        sorted_feature_index = feature_labels.index(sorted_feature)\n",
    "    except:\n",
    "        print(f\"'{sorted_feature}' not found in list of features!\")\n",
    "        return\n",
    "\n",
    "    order = sort_ascending - (not sort_ascending)\n",
    "\n",
    "    sorted_data = [x_data[i][(order*x_data[i][:, sorted_feature_index]).argsort()] for i in range(len(x_data))]\n",
    "    \n",
    "    try:\n",
    "        feature_index = feature_labels.index(feature)\n",
    "    except:\n",
    "        print(f\"'{feature}' not found in list of features!\")\n",
    "        return\n",
    "    \n",
    "    switcher = {\n",
    "        \"mean\": lambda: [np.mean(jet_const[:nb_const,feature_index]) for jet_const in sorted_data],\n",
    "        \"median\": lambda: [np.median(jet_const[:nb_const,feature_index]) for jet_const in sorted_data],\n",
    "        \"min\": lambda: [np.amin(jet_const[:nb_const,feature_index]) for jet_const in sorted_data],\n",
    "        \"max\": lambda: [np.amax(jet_const[:nb_const,feature_index]) for jet_const in sorted_data],\n",
    "        \"sum\": lambda: [np.sum(jet_const[:nb_const,feature_index]) for jet_const in sorted_data],\n",
    "    }\n",
    "\n",
    "    aggregated_feature = switcher.get(operation, lambda: None)()\n",
    "    if aggregated_feature is None:\n",
    "        raise TypeError(f\"'{operation}' not found from list of operations!\")\n",
    "    \n",
    "    return aggregated_feature\n",
    "\n",
    "def aggregate_all_features(x_data, operation):\n",
    "    agg_feature_dict = {}\n",
    "    \n",
    "    for feature in feature_labels:\n",
    "        agg_feature_dict[f'{feature}_{operation}'] = create_aggregated_feature(x_data, operation, feature)\n",
    "\n",
    "    return agg_feature_dict"
   ]
  },
  {
   "cell_type": "code",
   "execution_count": 53,
   "metadata": {},
   "outputs": [
    {
     "name": "stdout",
     "output_type": "stream",
     "text": [
      "[0.9302210593235242, 0.9980650248806193, 0.8516295071536033, 0.948262834618327, 0.9346388483813187]\n",
      "[0.9161423852269688, 0.6043575847390479, 0.39993009000062085, 0.6724643763282622, 0.24753558623285676]\n",
      "a_mean: [0.8438056940131718, 0.6043575847390479, 0.39993009000062085, 0.651162744623324, 0.3848828952524548]\n",
      "b_mean: [0.21508228565421253, 0.2933041124010902, 0.2545993987739518, 0.30519418829191636, 0.25061492536523694]\n",
      "c_mean: [0.4152671355253024, 0.9305915189512699, 0.47521143801791466, 0.8068262347149068, 0.7300975822380785]\n",
      "'d' not found in list of features!\n"
     ]
    }
   ],
   "source": [
    "alt_means_ = create_aggregated_feature(new_cut_data, 'max', 'c', 3, sorted_feature='a', sort_ascending = True)\n",
    "print(alt_means_)\n",
    "alt_sums_ = create_aggregated_feature(new_cut_data, 'median', 'a', 4)\n",
    "print(alt_sums_)\n",
    "\n",
    "all_means = aggregate_all_features(new_cut_data, 'mean')\n",
    "for feature in all_means:\n",
    "    print(f'{feature}: {all_means[feature]}')\n",
    "break_test = create_aggregated_feature(new_cut_data, 'me', 'd', 2)"
   ]
  },
  {
   "cell_type": "code",
   "execution_count": 110,
   "metadata": {},
   "outputs": [
    {
     "name": "stdout",
     "output_type": "stream",
     "text": [
      "[[[ 0.62329008  0.31537603  0.98695186]\n",
      "  [ 0.2092492   0.37123428  0.07122857]\n",
      "  [-0.999      -0.999      -0.999     ]\n",
      "  [-0.999      -0.999      -0.999     ]]\n",
      "\n",
      " [[ 0.61153328  0.30160817  0.08293803]\n",
      "  [-0.999      -0.999      -0.999     ]\n",
      "  [-0.999      -0.999      -0.999     ]\n",
      "  [-0.999      -0.999      -0.999     ]]\n",
      "\n",
      " [[ 0.20614618  0.23781982  0.07321044]\n",
      "  [ 0.29814028  0.3613127   0.68847572]\n",
      "  [ 0.75464347  0.48001996  0.3304572 ]\n",
      "  [-0.999      -0.999      -0.999     ]]\n",
      "\n",
      " [[ 0.23920947  0.05308377  0.38631762]\n",
      "  [ 0.21820527  0.16563036  0.03788958]\n",
      "  [ 0.31354992  0.16757342  0.09224389]\n",
      "  [ 0.96516806  0.19341745  0.0067916 ]]\n",
      "\n",
      " [[ 0.60452188  0.16031759  0.39418248]\n",
      "  [ 0.50079443  0.25102322  0.03547827]\n",
      "  [ 0.22961632  0.37072405  0.34178145]\n",
      "  [-0.999      -0.999      -0.999     ]]]\n",
      "\n",
      "===================\n",
      "\n",
      "[2. 1. 3. 4. 3.]\n"
     ]
    }
   ],
   "source": [
    "max_constituents = 4\n",
    "new_nb_constituents = np.array([])\n",
    "\n",
    "for jet in range(len(new_cut_data)):\n",
    "    if new_cut_data[jet].shape[0] >= max_constituents:\n",
    "        new_nb_constituents = np.append(new_nb_constituents, max_constituents)\n",
    "        new_cut_data[jet] = new_cut_data[jet][:max_constituents, :]\n",
    "    else:\n",
    "        new_nb_constituents = np.append(new_nb_constituents, new_cut_data[jet].shape[0])\n",
    "        padding_length = max_constituents - new_cut_data[jet].shape[0]\n",
    "        new_cut_data[jet] = np.pad(new_cut_data[jet], ((0, padding_length), (0, 0)), constant_values = -0.999)\n",
    "new_cut_data = np.array(new_cut_data)\n",
    "print(new_cut_data)\n",
    "print('\\n===================\\n')\n",
    "print(new_nb_constituents)"
   ]
  },
  {
   "cell_type": "code",
   "execution_count": 71,
   "metadata": {},
   "outputs": [],
   "source": [
    "positive_class = 't'"
   ]
  },
  {
   "cell_type": "code",
   "execution_count": 85,
   "metadata": {},
   "outputs": [
    {
     "data": {
      "text/plain": [
       "b't'"
      ]
     },
     "execution_count": 85,
     "metadata": {},
     "output_type": "execute_result"
    }
   ],
   "source": [
    "bytes(positive_class, 'utf-8')"
   ]
  },
  {
   "cell_type": "code",
   "execution_count": 2,
   "metadata": {},
   "outputs": [],
   "source": [
    "feature_labels = [\n",
    "        \"px\",\n",
    "        \"py\",\n",
    "        \"pz\",\n",
    "        \"E\",\n",
    "        \"E_rel\",\n",
    "        \"pT\",\n",
    "        \"pT_rel\",\n",
    "        \"eta\",\n",
    "        \"eta_rel\",\n",
    "        \"eta_rot\",\n",
    "        \"phi\",\n",
    "        \"phi_rel\",\n",
    "        \"phi_rot\",\n",
    "        \"Delta_R\",\n",
    "        \"cos(theta)\",\n",
    "        \"cos(theta_rel)\",\n",
    "    ]"
   ]
  },
  {
   "cell_type": "code",
   "execution_count": 7,
   "metadata": {},
   "outputs": [],
   "source": [
    "from prepare_data_BDT import select_feature_labels\n",
    "\n",
    "andre_features = select_feature_labels('andre')\n",
    "jedinet_features = select_feature_labels('jedinet')"
   ]
  },
  {
   "cell_type": "code",
   "execution_count": 13,
   "metadata": {},
   "outputs": [
    {
     "name": "stdout",
     "output_type": "stream",
     "text": [
      "[5, 8, 11]\n"
     ]
    }
   ],
   "source": [
    "indices = []\n",
    "\n",
    "for feature in select_feature_labels('andre'):\n",
    "    index = select_feature_labels('jedinet').index(feature)\n",
    "    indices.append(index)\n",
    "\n",
    "print(indices)"
   ]
  },
  {
   "cell_type": "code",
   "execution_count": 7,
   "metadata": {},
   "outputs": [],
   "source": [
    "import sys\n",
    "import time"
   ]
  },
  {
   "cell_type": "code",
   "execution_count": 17,
   "metadata": {},
   "outputs": [
    {
     "name": "stdout",
     "output_type": "stream",
     "text": [
      "Starting process\n",
      "[====================] 100%\n",
      "Process complete\n"
     ]
    }
   ],
   "source": [
    "print('Starting process')\n",
    "\n",
    "sys.stdout.write('\\r')\n",
    "# the exact output you're looking for:\n",
    "sys.stdout.write(\"[%-20s] %d%%\" % ('='*1, 5*1))\n",
    "sys.stdout.flush()\n",
    "time.sleep(0.5)\n",
    "\n",
    "for i in range(2, 21):\n",
    "    sys.stdout.write('\\r')\n",
    "    # the exact output you're looking for:\n",
    "    sys.stdout.write(\"[%-20s] %d%%\" % ('='*i, 5*i))\n",
    "    sys.stdout.flush()\n",
    "    time.sleep(0.5)\n",
    "\n",
    "print('\\nProcess complete')\n",
    "    "
   ]
  },
  {
   "cell_type": "code",
   "execution_count": 36,
   "metadata": {},
   "outputs": [
    {
     "name": "stdout",
     "output_type": "stream",
     "text": [
      "\u001b[91mI just came to say hello\u001b[0m\n"
     ]
    }
   ],
   "source": [
    "from terminal_colors import tcols\n",
    "\n",
    "a = True\n",
    "print(tcols.FAIL+f'I just came to say {a*\"hello\"+(not a)*\"goodbye\"}'+tcols.ENDC)"
   ]
  },
  {
   "cell_type": "code",
   "execution_count": 33,
   "metadata": {},
   "outputs": [],
   "source": [
    "df = pd.DataFrame()"
   ]
  },
  {
   "cell_type": "code",
   "execution_count": 34,
   "metadata": {},
   "outputs": [
    {
     "data": {
      "text/html": [
       "<div>\n",
       "<style scoped>\n",
       "    .dataframe tbody tr th:only-of-type {\n",
       "        vertical-align: middle;\n",
       "    }\n",
       "\n",
       "    .dataframe tbody tr th {\n",
       "        vertical-align: top;\n",
       "    }\n",
       "\n",
       "    .dataframe thead th {\n",
       "        text-align: right;\n",
       "    }\n",
       "</style>\n",
       "<table border=\"1\" class=\"dataframe\">\n",
       "  <thead>\n",
       "    <tr style=\"text-align: right;\">\n",
       "      <th></th>\n",
       "    </tr>\n",
       "  </thead>\n",
       "  <tbody>\n",
       "  </tbody>\n",
       "</table>\n",
       "</div>"
      ],
      "text/plain": [
       "Empty DataFrame\n",
       "Columns: []\n",
       "Index: []"
      ]
     },
     "execution_count": 34,
     "metadata": {},
     "output_type": "execute_result"
    }
   ],
   "source": [
    "df"
   ]
  },
  {
   "cell_type": "code",
   "execution_count": 35,
   "metadata": {},
   "outputs": [],
   "source": [
    "df['rah'] = 69"
   ]
  },
  {
   "cell_type": "code",
   "execution_count": 37,
   "metadata": {},
   "outputs": [
    {
     "data": {
      "text/html": [
       "<div>\n",
       "<style scoped>\n",
       "    .dataframe tbody tr th:only-of-type {\n",
       "        vertical-align: middle;\n",
       "    }\n",
       "\n",
       "    .dataframe tbody tr th {\n",
       "        vertical-align: top;\n",
       "    }\n",
       "\n",
       "    .dataframe thead th {\n",
       "        text-align: right;\n",
       "    }\n",
       "</style>\n",
       "<table border=\"1\" class=\"dataframe\">\n",
       "  <thead>\n",
       "    <tr style=\"text-align: right;\">\n",
       "      <th></th>\n",
       "      <th>rah</th>\n",
       "    </tr>\n",
       "  </thead>\n",
       "  <tbody>\n",
       "  </tbody>\n",
       "</table>\n",
       "</div>"
      ],
      "text/plain": [
       "Empty DataFrame\n",
       "Columns: [rah]\n",
       "Index: []"
      ]
     },
     "execution_count": 37,
     "metadata": {},
     "output_type": "execute_result"
    }
   ],
   "source": [
    "df"
   ]
  },
  {
   "cell_type": "code",
   "execution_count": 40,
   "metadata": {},
   "outputs": [
    {
     "data": {
      "text/plain": [
       "True"
      ]
     },
     "execution_count": 40,
     "metadata": {},
     "output_type": "execute_result"
    }
   ],
   "source": [
    "6 != 3"
   ]
  },
  {
   "cell_type": "code",
   "execution_count": 2,
   "metadata": {},
   "outputs": [],
   "source": [
    "a = 5"
   ]
  },
  {
   "cell_type": "code",
   "execution_count": 4,
   "metadata": {},
   "outputs": [],
   "source": [
    "b = str(a)"
   ]
  },
  {
   "cell_type": "code",
   "execution_count": 5,
   "metadata": {},
   "outputs": [
    {
     "data": {
      "text/plain": [
       "5"
      ]
     },
     "execution_count": 5,
     "metadata": {},
     "output_type": "execute_result"
    }
   ],
   "source": [
    "int(b)"
   ]
  },
  {
   "cell_type": "code",
   "execution_count": 20,
   "metadata": {},
   "outputs": [
    {
     "name": "stdout",
     "output_type": "stream",
     "text": [
      "Choosing from predified list: test\n"
     ]
    }
   ],
   "source": [
    "nb_constituents = 'test'\n",
    "\n",
    "try:\n",
    "    print(f\"Taking first {int(nb_constituents)} constituents\")\n",
    "\n",
    "except:\n",
    "    print(f\"Choosing from predified list: {nb_constituents}\")"
   ]
  },
  {
   "cell_type": "code",
   "execution_count": 17,
   "metadata": {},
   "outputs": [],
   "source": [
    "def test_func(a, b, c):\n",
    "    summed = a + b + c\n",
    "    product = a * b * c\n",
    "    quad = a**2 + b**2 + c**2\n",
    "    quad1 = a**2 + b**2 - c**2\n",
    "\n",
    "    return (summed, product,\n",
    "            quad, quad1)"
   ]
  },
  {
   "cell_type": "code",
   "execution_count": 24,
   "metadata": {},
   "outputs": [
    {
     "name": "stdout",
     "output_type": "stream",
     "text": [
      "(6, 6, 14, -4)\n"
     ]
    }
   ],
   "source": [
    "(summed, product, \n",
    " quad, quad1) = test_func(1, 2, 3)\n",
    "print(test_func(1, 2, 3))"
   ]
  },
  {
   "cell_type": "code",
   "execution_count": 25,
   "metadata": {},
   "outputs": [
    {
     "name": "stdout",
     "output_type": "stream",
     "text": [
      "6\n",
      "6\n",
      "14\n",
      "-4\n"
     ]
    }
   ],
   "source": [
    "print(summed)\n",
    "print(product)\n",
    "print(quad)\n",
    "print(quad1)"
   ]
  },
  {
   "cell_type": "code",
   "execution_count": 1,
   "metadata": {},
   "outputs": [],
   "source": [
    "import numpy as np"
   ]
  },
  {
   "cell_type": "code",
   "execution_count": 4,
   "metadata": {},
   "outputs": [],
   "source": [
    "a = np.array([1,2,3,1,2,1])"
   ]
  },
  {
   "cell_type": "code",
   "execution_count": 6,
   "metadata": {},
   "outputs": [
    {
     "data": {
      "text/plain": [
       "[array([1, 2]), array([3, 1, 2, 1])]"
      ]
     },
     "execution_count": 6,
     "metadata": {},
     "output_type": "execute_result"
    }
   ],
   "source": [
    "np.split(a, [2])"
   ]
  },
  {
   "cell_type": "code",
   "execution_count": 14,
   "metadata": {},
   "outputs": [
    {
     "name": "stdout",
     "output_type": "stream",
     "text": [
      "\u001b[4mBeginning list:\u001b[0m\n",
      "• Hello mate\n",
      "• Geezer\n"
     ]
    }
   ],
   "source": [
    "print(\"\\033[4m\"+\"Beginning list:\"+\"\\033[0m\"+\"\\n\\u2022 Hello mate\\n\\u2022 Geezer\")"
   ]
  },
  {
   "cell_type": "code",
   "execution_count": 12,
   "metadata": {},
   "outputs": [],
   "source": [
    "def test_function(arg1: list[int] = None):\n",
    "    print(arg1)\n",
    "    print(type(arg1))\n",
    "\n",
    "    print(len(arg1))\n",
    "\n",
    "    for arg in arg1:\n",
    "        print(arg)"
   ]
  },
  {
   "cell_type": "code",
   "execution_count": 16,
   "metadata": {},
   "outputs": [
    {
     "name": "stdout",
     "output_type": "stream",
     "text": [
      "[2, 1, 4]\n",
      "<class 'list'>\n",
      "3\n",
      "2\n",
      "1\n",
      "4\n"
     ]
    }
   ],
   "source": [
    "test_function([2,1,4])"
   ]
  },
  {
   "cell_type": "code",
   "execution_count": 17,
   "metadata": {},
   "outputs": [],
   "source": [
    "a = [1,2]"
   ]
  },
  {
   "cell_type": "code",
   "execution_count": 19,
   "metadata": {},
   "outputs": [
    {
     "data": {
      "text/plain": [
       "True"
      ]
     },
     "execution_count": 19,
     "metadata": {},
     "output_type": "execute_result"
    }
   ],
   "source": [
    "type(a) == list"
   ]
  },
  {
   "cell_type": "code",
   "execution_count": 28,
   "metadata": {},
   "outputs": [
    {
     "name": "stdout",
     "output_type": "stream",
     "text": [
      "\u001b[98m oi\n"
     ]
    }
   ],
   "source": [
    "print( \"\\033[98m oi\")"
   ]
  },
  {
   "cell_type": "code",
   "execution_count": null,
   "metadata": {},
   "outputs": [],
   "source": []
  }
 ],
 "metadata": {
  "kernelspec": {
   "display_name": "Masters",
   "language": "python",
   "name": "python3"
  },
  "language_info": {
   "codemirror_mode": {
    "name": "ipython",
    "version": 3
   },
   "file_extension": ".py",
   "mimetype": "text/x-python",
   "name": "python",
   "nbconvert_exporter": "python",
   "pygments_lexer": "ipython3",
   "version": "3.10.9"
  },
  "orig_nbformat": 4
 },
 "nbformat": 4,
 "nbformat_minor": 2
}

{
 "cells": [
  {
   "cell_type": "code",
   "execution_count": 1,
   "metadata": {},
   "outputs": [],
   "source": [
    "import numpy as np\n",
    "import pandas as pd"
   ]
  },
  {
   "cell_type": "code",
   "execution_count": 25,
   "metadata": {},
   "outputs": [],
   "source": [
    "data = [[1.3,6.2,7.3,], [4.2,8.1,0.3], [3.7,1.1,2.8], [13.2,8.2,3.1,], [1.3,5.1,3.9], [3.2,4.1,12.5]]\n",
    "\n",
    "heading = ['a', 'b', 'c']\n",
    "\n",
    "ohe_data = np.array([[0, 0, 0, 1, 0],\n",
    " [1, 0, 0, 0, 0],\n",
    " [0, 0, 1, 0, 0],\n",
    " [0, 0, 1, 0, 0],\n",
    " [0, 0, 0, 0, 1],\n",
    " [0, 1, 0, 0, 0]])\n",
    "\n",
    "classes = np.array([b'g', b'q', b'w', b'z', b't'])"
   ]
  },
  {
   "cell_type": "code",
   "execution_count": 18,
   "metadata": {},
   "outputs": [
    {
     "name": "stdout",
     "output_type": "stream",
     "text": [
      "[[[0.02015737 0.65333542 0.3049882 ]\n",
      "  [0.07820055 0.30533345 0.42605094]\n",
      "  [0.74811321 0.94227505 0.63509401]\n",
      "  [0.49477809 0.70577921 0.36569448]\n",
      "  [0.31096717 0.19810237 0.9584172 ]\n",
      "  [0.66085715 0.64821744 0.27125519]]\n",
      "\n",
      " [[0.22099701 0.0475618  0.9945953 ]\n",
      "  [0.86491147 0.77578142 0.29422486]\n",
      "  [0.23784861 0.05837725 0.06358404]\n",
      "  [0.81462544 0.70656897 0.74585937]\n",
      "  [0.55501169 0.24169078 0.91067052]\n",
      "  [0.46560865 0.73662486 0.67947626]]\n",
      "\n",
      " [[0.27057806 0.7235626  0.50809365]\n",
      "  [0.05604951 0.78927859 0.4489258 ]\n",
      "  [0.60179192 0.02465442 0.22187714]\n",
      "  [0.67377265 0.14582521 0.25992718]\n",
      "  [0.70888832 0.55407199 0.38176362]\n",
      "  [0.41457571 0.64307384 0.7927241 ]]\n",
      "\n",
      " [[0.79101309 0.18717309 0.02891489]\n",
      "  [0.93016377 0.56471698 0.52062765]\n",
      "  [0.17006431 0.38010276 0.88753695]\n",
      "  [0.93891831 0.24385523 0.26970766]\n",
      "  [0.18538437 0.47843349 0.58577088]\n",
      "  [0.00288746 0.91819414 0.24850355]]\n",
      "\n",
      " [[0.60466892 0.81648099 0.12656615]\n",
      "  [0.40722695 0.32317744 0.99055728]\n",
      "  [0.62709137 0.58202249 0.49660141]\n",
      "  [0.49177459 0.12306054 0.63115467]\n",
      "  [0.90123358 0.07322485 0.19132789]\n",
      "  [0.12303169 0.24509956 0.93958588]]]\n"
     ]
    }
   ],
   "source": [
    "rand_data = np.random.rand(5,6,3)\n",
    "#big_rand_data = np.random.rand(620000,50,16)\n",
    "print(rand_data)"
   ]
  },
  {
   "cell_type": "code",
   "execution_count": 19,
   "metadata": {},
   "outputs": [
    {
     "name": "stdout",
     "output_type": "stream",
     "text": [
      "-1\n"
     ]
    }
   ],
   "source": [
    "ascending = False\n",
    "order = ascending - (not ascending)\n",
    "print(order)"
   ]
  },
  {
   "cell_type": "code",
   "execution_count": 20,
   "metadata": {},
   "outputs": [
    {
     "name": "stdout",
     "output_type": "stream",
     "text": [
      "[[[0.74811321 0.94227505 0.63509401]\n",
      "  [0.66085715 0.64821744 0.27125519]\n",
      "  [0.49477809 0.70577921 0.36569448]\n",
      "  [0.31096717 0.19810237 0.9584172 ]\n",
      "  [0.07820055 0.30533345 0.42605094]\n",
      "  [0.02015737 0.65333542 0.3049882 ]]\n",
      "\n",
      " [[0.86491147 0.77578142 0.29422486]\n",
      "  [0.81462544 0.70656897 0.74585937]\n",
      "  [0.55501169 0.24169078 0.91067052]\n",
      "  [0.46560865 0.73662486 0.67947626]\n",
      "  [0.23784861 0.05837725 0.06358404]\n",
      "  [0.22099701 0.0475618  0.9945953 ]]\n",
      "\n",
      " [[0.70888832 0.55407199 0.38176362]\n",
      "  [0.67377265 0.14582521 0.25992718]\n",
      "  [0.60179192 0.02465442 0.22187714]\n",
      "  [0.41457571 0.64307384 0.7927241 ]\n",
      "  [0.27057806 0.7235626  0.50809365]\n",
      "  [0.05604951 0.78927859 0.4489258 ]]\n",
      "\n",
      " [[0.93891831 0.24385523 0.26970766]\n",
      "  [0.93016377 0.56471698 0.52062765]\n",
      "  [0.79101309 0.18717309 0.02891489]\n",
      "  [0.18538437 0.47843349 0.58577088]\n",
      "  [0.17006431 0.38010276 0.88753695]\n",
      "  [0.00288746 0.91819414 0.24850355]]\n",
      "\n",
      " [[0.90123358 0.07322485 0.19132789]\n",
      "  [0.62709137 0.58202249 0.49660141]\n",
      "  [0.60466892 0.81648099 0.12656615]\n",
      "  [0.49177459 0.12306054 0.63115467]\n",
      "  [0.40722695 0.32317744 0.99055728]\n",
      "  [0.12303169 0.24509956 0.93958588]]]\n",
      "<class 'numpy.ndarray'>\n"
     ]
    }
   ],
   "source": [
    "sorted_data = np.array([rand_data[i][(order*rand_data[i][:, 0]).argsort()] for i in range(len(rand_data))])\n",
    "#big_sorted_data = np.asarray([big_rand_data[i][big_rand_data[i][:, 1].argsort()] for i in range(len(big_rand_data))])\n",
    "\n",
    "print(sorted_data)\n",
    "print(type(sorted_data))"
   ]
  },
  {
   "cell_type": "code",
   "execution_count": 21,
   "metadata": {},
   "outputs": [
    {
     "name": "stdout",
     "output_type": "stream",
     "text": [
      "[0.94227505 0.64821744 0.70577921 0.19810237 0.30533345 0.65333542\n",
      " 0.24385523 0.56471698 0.18717309 0.47843349 0.38010276 0.91819414]\n"
     ]
    }
   ],
   "source": [
    "boolean_index = [True, False, False, True, False]\n",
    "\n",
    "print(sorted_data[:,:,1][boolean_index].flatten())"
   ]
  },
  {
   "cell_type": "code",
   "execution_count": 22,
   "metadata": {},
   "outputs": [
    {
     "name": "stdout",
     "output_type": "stream",
     "text": [
      "[True, False, False, True, False]\n",
      "[True, False, False, True, False]\n"
     ]
    }
   ],
   "source": [
    "print(boolean_index)\n",
    "print(1*(boolean_index))"
   ]
  },
  {
   "cell_type": "code",
   "execution_count": 23,
   "metadata": {},
   "outputs": [],
   "source": [
    "boolean_mask = sorted_data[:, :, 0] > 0.2\n",
    "structure_memory = boolean_mask.sum(axis=1)"
   ]
  },
  {
   "cell_type": "code",
   "execution_count": 24,
   "metadata": {},
   "outputs": [
    {
     "name": "stdout",
     "output_type": "stream",
     "text": [
      "[[ True  True  True  True False False]\n",
      " [ True  True  True  True  True  True]\n",
      " [ True  True  True  True  True False]\n",
      " [ True  True  True False False False]\n",
      " [ True  True  True  True  True False]]\n",
      "[4 6 5 3 5]\n",
      "4.6\n"
     ]
    }
   ],
   "source": [
    "print(boolean_mask)\n",
    "print(structure_memory)\n",
    "print(np.mean(structure_memory))"
   ]
  },
  {
   "cell_type": "code",
   "execution_count": 25,
   "metadata": {},
   "outputs": [
    {
     "name": "stdout",
     "output_type": "stream",
     "text": [
      "[array([[0.74811321, 0.94227505, 0.63509401],\n",
      "       [0.66085715, 0.64821744, 0.27125519],\n",
      "       [0.49477809, 0.70577921, 0.36569448],\n",
      "       [0.31096717, 0.19810237, 0.9584172 ]]), array([[0.86491147, 0.77578142, 0.29422486],\n",
      "       [0.81462544, 0.70656897, 0.74585937],\n",
      "       [0.55501169, 0.24169078, 0.91067052],\n",
      "       [0.46560865, 0.73662486, 0.67947626],\n",
      "       [0.23784861, 0.05837725, 0.06358404],\n",
      "       [0.22099701, 0.0475618 , 0.9945953 ]]), array([[0.70888832, 0.55407199, 0.38176362],\n",
      "       [0.67377265, 0.14582521, 0.25992718],\n",
      "       [0.60179192, 0.02465442, 0.22187714],\n",
      "       [0.41457571, 0.64307384, 0.7927241 ],\n",
      "       [0.27057806, 0.7235626 , 0.50809365]]), array([[0.93891831, 0.24385523, 0.26970766],\n",
      "       [0.93016377, 0.56471698, 0.52062765],\n",
      "       [0.79101309, 0.18717309, 0.02891489]]), array([[0.90123358, 0.07322485, 0.19132789],\n",
      "       [0.62709137, 0.58202249, 0.49660141],\n",
      "       [0.60466892, 0.81648099, 0.12656615],\n",
      "       [0.49177459, 0.12306054, 0.63115467],\n",
      "       [0.40722695, 0.32317744, 0.99055728]])]\n",
      "\n",
      "================\n",
      "\n",
      "[array([[0.74811321, 0.94227505, 0.63509401],\n",
      "       [0.66085715, 0.64821744, 0.27125519],\n",
      "       [0.49477809, 0.70577921, 0.36569448],\n",
      "       [0.31096717, 0.19810237, 0.9584172 ]]), array([[0.86491147, 0.77578142, 0.29422486],\n",
      "       [0.81462544, 0.70656897, 0.74585937],\n",
      "       [0.55501169, 0.24169078, 0.91067052],\n",
      "       [0.46560865, 0.73662486, 0.67947626],\n",
      "       [0.23784861, 0.05837725, 0.06358404],\n",
      "       [0.22099701, 0.0475618 , 0.9945953 ]]), array([[0.70888832, 0.55407199, 0.38176362],\n",
      "       [0.67377265, 0.14582521, 0.25992718],\n",
      "       [0.60179192, 0.02465442, 0.22187714],\n",
      "       [0.41457571, 0.64307384, 0.7927241 ],\n",
      "       [0.27057806, 0.7235626 , 0.50809365]]), array([[0.93891831, 0.24385523, 0.26970766],\n",
      "       [0.93016377, 0.56471698, 0.52062765],\n",
      "       [0.79101309, 0.18717309, 0.02891489]]), array([[0.90123358, 0.07322485, 0.19132789],\n",
      "       [0.62709137, 0.58202249, 0.49660141],\n",
      "       [0.60466892, 0.81648099, 0.12656615],\n",
      "       [0.49177459, 0.12306054, 0.63115467],\n",
      "       [0.40722695, 0.32317744, 0.99055728]])]\n"
     ]
    }
   ],
   "source": [
    "cut_data = np.split(sorted_data[boolean_mask, :], np.cumsum(structure_memory)[:-1])\n",
    "\n",
    "print(cut_data)\n",
    "print('\\n================\\n')\n",
    "cut_data = [jet_const for jet_const in cut_data if jet_const.size > 0]\n",
    "\n",
    "print(cut_data)"
   ]
  },
  {
   "cell_type": "code",
   "execution_count": 26,
   "metadata": {},
   "outputs": [
    {
     "name": "stdout",
     "output_type": "stream",
     "text": [
      "[[[0.74811321 0.94227505 0.63509401]\n",
      "  [0.66085715 0.64821744 0.27125519]\n",
      "  [0.49477809 0.70577921 0.36569448]\n",
      "  [0.31096717 0.19810237 0.9584172 ]\n",
      "  [0.         0.         0.        ]\n",
      "  [0.         0.         0.        ]]\n",
      "\n",
      " [[0.86491147 0.77578142 0.29422486]\n",
      "  [0.81462544 0.70656897 0.74585937]\n",
      "  [0.55501169 0.24169078 0.91067052]\n",
      "  [0.46560865 0.73662486 0.67947626]\n",
      "  [0.23784861 0.05837725 0.06358404]\n",
      "  [0.22099701 0.0475618  0.9945953 ]]\n",
      "\n",
      " [[0.70888832 0.55407199 0.38176362]\n",
      "  [0.67377265 0.14582521 0.25992718]\n",
      "  [0.60179192 0.02465442 0.22187714]\n",
      "  [0.41457571 0.64307384 0.7927241 ]\n",
      "  [0.27057806 0.7235626  0.50809365]\n",
      "  [0.         0.         0.        ]]\n",
      "\n",
      " [[0.93891831 0.24385523 0.26970766]\n",
      "  [0.93016377 0.56471698 0.52062765]\n",
      "  [0.79101309 0.18717309 0.02891489]\n",
      "  [0.         0.         0.        ]\n",
      "  [0.         0.         0.        ]\n",
      "  [0.         0.         0.        ]]\n",
      "\n",
      " [[0.90123358 0.07322485 0.19132789]\n",
      "  [0.62709137 0.58202249 0.49660141]\n",
      "  [0.60466892 0.81648099 0.12656615]\n",
      "  [0.49177459 0.12306054 0.63115467]\n",
      "  [0.40722695 0.32317744 0.99055728]\n",
      "  [0.         0.         0.        ]]]\n",
      "\n",
      "===================\n",
      "\n",
      "[4. 6. 5. 3. 5.]\n"
     ]
    }
   ],
   "source": [
    "max_constituents = 6\n",
    "nb_constituents = np.array([])\n",
    "\n",
    "for jet in range(len(cut_data)):\n",
    "    if cut_data[jet].shape[0] >= max_constituents:\n",
    "        nb_constituents = np.append(nb_constituents, max_constituents)\n",
    "        cut_data[jet] = cut_data[jet][:max_constituents, :]\n",
    "    else:\n",
    "        nb_constituents = np.append(nb_constituents, cut_data[jet].shape[0])\n",
    "        padding_length = max_constituents - cut_data[jet].shape[0]\n",
    "        cut_data[jet] = np.pad(cut_data[jet], ((0, padding_length), (0, 0)), constant_values = 0)\n",
    "cut_data = np.array(cut_data)\n",
    "print(cut_data)\n",
    "print('\\n===================\\n')\n",
    "print(nb_constituents)"
   ]
  },
  {
   "cell_type": "code",
   "execution_count": 27,
   "metadata": {},
   "outputs": [
    {
     "name": "stdout",
     "output_type": "stream",
     "text": [
      "[[ True  True  True  True False False]\n",
      " [ True  True  True  True  True  True]\n",
      " [ True  True  True  True  True False]\n",
      " [ True  True  True False False False]\n",
      " [ True  True  True  True  True False]]\n"
     ]
    }
   ],
   "source": [
    "is_not_padded = np.any(cut_data, axis = 2)\n",
    "print(is_not_padded)\n",
    "# is_positive_class = [True, False, False, True, False]\n",
    "# print(is_positive_class)"
   ]
  },
  {
   "cell_type": "code",
   "execution_count": 28,
   "metadata": {},
   "outputs": [
    {
     "name": "stdout",
     "output_type": "stream",
     "text": [
      "[[False False False  True  True  True]\n",
      " [False False  True False  True  True]\n",
      " [False  True  True False False  True]\n",
      " [ True False  True  True  True  True]\n",
      " [ True False False  True  True  True]]\n"
     ]
    }
   ],
   "source": [
    "cut_boolean_mask = cut_data[:, :, 1] < 0.5\n",
    "print(cut_boolean_mask)"
   ]
  },
  {
   "cell_type": "code",
   "execution_count": 29,
   "metadata": {},
   "outputs": [
    {
     "name": "stdout",
     "output_type": "stream",
     "text": [
      "[[False False False  True False False]\n",
      " [False False  True False  True  True]\n",
      " [False  True  True False False False]\n",
      " [ True False  True False False False]\n",
      " [ True False False  True  True False]]\n",
      "[1 3 2 2 3]\n"
     ]
    }
   ],
   "source": [
    "new_boolean_mask = cut_boolean_mask * is_not_padded\n",
    "new_structure_memory = new_boolean_mask.sum(axis = 1)\n",
    "print(new_boolean_mask)\n",
    "print(new_structure_memory)"
   ]
  },
  {
   "cell_type": "code",
   "execution_count": 30,
   "metadata": {},
   "outputs": [
    {
     "name": "stdout",
     "output_type": "stream",
     "text": [
      "[array([[0.31096717, 0.19810237, 0.9584172 ]]), array([[0.55501169, 0.24169078, 0.91067052],\n",
      "       [0.23784861, 0.05837725, 0.06358404],\n",
      "       [0.22099701, 0.0475618 , 0.9945953 ]]), array([[0.67377265, 0.14582521, 0.25992718],\n",
      "       [0.60179192, 0.02465442, 0.22187714]]), array([[0.93891831, 0.24385523, 0.26970766],\n",
      "       [0.79101309, 0.18717309, 0.02891489]]), array([[0.90123358, 0.07322485, 0.19132789],\n",
      "       [0.49177459, 0.12306054, 0.63115467],\n",
      "       [0.40722695, 0.32317744, 0.99055728]])]\n",
      "-----------------\n",
      "[array([[0.31096717, 0.19810237, 0.9584172 ]]), array([[0.22099701, 0.0475618 , 0.9945953 ],\n",
      "       [0.23784861, 0.05837725, 0.06358404],\n",
      "       [0.55501169, 0.24169078, 0.91067052]]), array([[0.60179192, 0.02465442, 0.22187714],\n",
      "       [0.67377265, 0.14582521, 0.25992718]]), array([[0.79101309, 0.18717309, 0.02891489],\n",
      "       [0.93891831, 0.24385523, 0.26970766]]), array([[0.90123358, 0.07322485, 0.19132789],\n",
      "       [0.49177459, 0.12306054, 0.63115467],\n",
      "       [0.40722695, 0.32317744, 0.99055728]])]\n",
      "<class 'list'>\n"
     ]
    }
   ],
   "source": [
    "new_cut_data = np.split(cut_data[new_boolean_mask, :], np.cumsum(new_structure_memory)[:-1])\n",
    "print(new_cut_data)\n",
    "\n",
    "# new_cut_data = [jet_const for jet_const in new_cut_data if jet_const.size >0]\n",
    "# print(new_cut_data)\n",
    "\n",
    "ascending = True\n",
    "order = ascending - (not ascending)\n",
    "\n",
    "new_cut_data = [new_cut_data[i][(order*new_cut_data[i][:, 1]).argsort()] for i in range(len(new_cut_data))]\n",
    "\n",
    "print('-----------------')\n",
    "print(new_cut_data)\n",
    "print(type(new_cut_data))"
   ]
  },
  {
   "cell_type": "code",
   "execution_count": 32,
   "metadata": {},
   "outputs": [
    {
     "name": "stdout",
     "output_type": "stream",
     "text": [
      "[array([[0.31096717, 0.9584172 ]]), array([[0.22099701, 0.9945953 ],\n",
      "       [0.23784861, 0.06358404],\n",
      "       [0.55501169, 0.91067052]]), array([[0.60179192, 0.22187714],\n",
      "       [0.67377265, 0.25992718]]), array([[0.79101309, 0.02891489],\n",
      "       [0.93891831, 0.26970766]]), array([[0.90123358, 0.19132789],\n",
      "       [0.49177459, 0.63115467],\n",
      "       [0.40722695, 0.99055728]])]\n"
     ]
    }
   ],
   "source": [
    "a = [jet_const[:,[0,2]]for jet_const in new_cut_data]\n",
    "print(a)"
   ]
  },
  {
   "cell_type": "code",
   "execution_count": 47,
   "metadata": {},
   "outputs": [
    {
     "name": "stdout",
     "output_type": "stream",
     "text": [
      "[0.97871777 0.63655692 0.91614239]\n",
      "[0.97871777 0.63655692]\n",
      "[0.75911078 0.44960439]\n",
      "[0.75911078]\n",
      "[0.20231241 0.59754777]\n",
      "[0.20231241]\n",
      "[0.26113121 0.74083859 0.60409017 0.99859102]\n",
      "[0.26113121 0.74083859 0.60409017]\n",
      "[0.21209679 0.69501631 0.24753559]\n",
      "[0.21209679 0.69501631]\n"
     ]
    }
   ],
   "source": [
    "for jet_const in new_cut_data:\n",
    "    print(jet_const[:,0])\n",
    "    print(jet_const[:-1,0])"
   ]
  },
  {
   "cell_type": "code",
   "execution_count": 46,
   "metadata": {},
   "outputs": [
    {
     "name": "stdout",
     "output_type": "stream",
     "text": [
      "[0.8438056940131718, 0.6043575847390479, 0.39993009000062085, 0.651162744623324, 0.3848828952524548]\n",
      "[0.21508228565421253, 0.2933041124010902, 0.2545993987739518, 0.30519418829191636, 0.25061492536523694]\n",
      "[0.4152671355253024, 0.9305915189512699, 0.47521143801791466, 0.8068262347149068, 0.7300975822380785]\n",
      "[0.8076373484062733, 0.7591107791547588, 0.2023124058816611, 0.5353533195446221, 0.4535565497622538]\n",
      "[0.10286911689738365, 0.15526971767320052, 0.16898222169179455, 0.24367609070987142, 0.1520503637342021]\n",
      "[0.15779017362619163, 0.8631180130219206, 0.09879336888222601, 0.8561205298940121, 0.6278269491664584]\n",
      "[2.5314170820395154, 1.2087151694780958, 0.7998601800012417, 2.604650978493296, 1.1546486857573643]\n",
      "<class 'list'>\n"
     ]
    }
   ],
   "source": [
    "means_a = [np.mean(jet_const[:,0]) for jet_const in new_cut_data]\n",
    "means_b = [np.mean(jet_const[:,1]) for jet_const in new_cut_data]\n",
    "means_c = [np.mean(jet_const[:,2]) for jet_const in new_cut_data]\n",
    "means_a_ = [np.mean(jet_const[:-1,0]) for jet_const in new_cut_data]\n",
    "means_b_ = [np.mean(jet_const[:-1,1]) for jet_const in new_cut_data]\n",
    "means_c_ = [np.mean(jet_const[:-1,2]) for jet_const in new_cut_data]\n",
    "sums = [np.sum(jet_const[:4,0]) for jet_const in new_cut_data]\n",
    "print(means_a)\n",
    "print(means_b)\n",
    "print(means_c)\n",
    "print(means_a_)\n",
    "print(means_b_)\n",
    "print(means_c_)\n",
    "print(sums)\n",
    "print(type(means_a))"
   ]
  },
  {
   "cell_type": "code",
   "execution_count": 52,
   "metadata": {},
   "outputs": [],
   "source": [
    "feature_labels  = ['a','b','c']\n",
    "\n",
    "def create_aggregated_feature(x_data, operation, feature, nb_const = None, sorted_feature='b', sort_ascending=True):\n",
    "    try:\n",
    "        sorted_feature_index = feature_labels.index(sorted_feature)\n",
    "    except:\n",
    "        print(f\"'{sorted_feature}' not found in list of features!\")\n",
    "        return\n",
    "\n",
    "    order = sort_ascending - (not sort_ascending)\n",
    "\n",
    "    sorted_data = [x_data[i][(order*x_data[i][:, sorted_feature_index]).argsort()] for i in range(len(x_data))]\n",
    "    \n",
    "    try:\n",
    "        feature_index = feature_labels.index(feature)\n",
    "    except:\n",
    "        print(f\"'{feature}' not found in list of features!\")\n",
    "        return\n",
    "    \n",
    "    switcher = {\n",
    "        \"mean\": lambda: [np.mean(jet_const[:nb_const,feature_index]) for jet_const in sorted_data],\n",
    "        \"median\": lambda: [np.median(jet_const[:nb_const,feature_index]) for jet_const in sorted_data],\n",
    "        \"min\": lambda: [np.amin(jet_const[:nb_const,feature_index]) for jet_const in sorted_data],\n",
    "        \"max\": lambda: [np.amax(jet_const[:nb_const,feature_index]) for jet_const in sorted_data],\n",
    "        \"sum\": lambda: [np.sum(jet_const[:nb_const,feature_index]) for jet_const in sorted_data],\n",
    "    }\n",
    "\n",
    "    aggregated_feature = switcher.get(operation, lambda: None)()\n",
    "    if aggregated_feature is None:\n",
    "        raise TypeError(f\"'{operation}' not found from list of operations!\")\n",
    "    \n",
    "    return aggregated_feature\n",
    "\n",
    "def aggregate_all_features(x_data, operation):\n",
    "    agg_feature_dict = {}\n",
    "    \n",
    "    for feature in feature_labels:\n",
    "        agg_feature_dict[f'{feature}_{operation}'] = create_aggregated_feature(x_data, operation, feature)\n",
    "\n",
    "    return agg_feature_dict"
   ]
  },
  {
   "cell_type": "code",
   "execution_count": 53,
   "metadata": {},
   "outputs": [
    {
     "name": "stdout",
     "output_type": "stream",
     "text": [
      "[0.9302210593235242, 0.9980650248806193, 0.8516295071536033, 0.948262834618327, 0.9346388483813187]\n",
      "[0.9161423852269688, 0.6043575847390479, 0.39993009000062085, 0.6724643763282622, 0.24753558623285676]\n",
      "a_mean: [0.8438056940131718, 0.6043575847390479, 0.39993009000062085, 0.651162744623324, 0.3848828952524548]\n",
      "b_mean: [0.21508228565421253, 0.2933041124010902, 0.2545993987739518, 0.30519418829191636, 0.25061492536523694]\n",
      "c_mean: [0.4152671355253024, 0.9305915189512699, 0.47521143801791466, 0.8068262347149068, 0.7300975822380785]\n",
      "'d' not found in list of features!\n"
     ]
    }
   ],
   "source": [
    "alt_means_ = create_aggregated_feature(new_cut_data, 'max', 'c', 3, sorted_feature='a', sort_ascending = True)\n",
    "print(alt_means_)\n",
    "alt_sums_ = create_aggregated_feature(new_cut_data, 'median', 'a', 4)\n",
    "print(alt_sums_)\n",
    "\n",
    "all_means = aggregate_all_features(new_cut_data, 'mean')\n",
    "for feature in all_means:\n",
    "    print(f'{feature}: {all_means[feature]}')\n",
    "break_test = create_aggregated_feature(new_cut_data, 'me', 'd', 2)"
   ]
  },
  {
   "cell_type": "code",
   "execution_count": 110,
   "metadata": {},
   "outputs": [
    {
     "name": "stdout",
     "output_type": "stream",
     "text": [
      "[[[ 0.62329008  0.31537603  0.98695186]\n",
      "  [ 0.2092492   0.37123428  0.07122857]\n",
      "  [-0.999      -0.999      -0.999     ]\n",
      "  [-0.999      -0.999      -0.999     ]]\n",
      "\n",
      " [[ 0.61153328  0.30160817  0.08293803]\n",
      "  [-0.999      -0.999      -0.999     ]\n",
      "  [-0.999      -0.999      -0.999     ]\n",
      "  [-0.999      -0.999      -0.999     ]]\n",
      "\n",
      " [[ 0.20614618  0.23781982  0.07321044]\n",
      "  [ 0.29814028  0.3613127   0.68847572]\n",
      "  [ 0.75464347  0.48001996  0.3304572 ]\n",
      "  [-0.999      -0.999      -0.999     ]]\n",
      "\n",
      " [[ 0.23920947  0.05308377  0.38631762]\n",
      "  [ 0.21820527  0.16563036  0.03788958]\n",
      "  [ 0.31354992  0.16757342  0.09224389]\n",
      "  [ 0.96516806  0.19341745  0.0067916 ]]\n",
      "\n",
      " [[ 0.60452188  0.16031759  0.39418248]\n",
      "  [ 0.50079443  0.25102322  0.03547827]\n",
      "  [ 0.22961632  0.37072405  0.34178145]\n",
      "  [-0.999      -0.999      -0.999     ]]]\n",
      "\n",
      "===================\n",
      "\n",
      "[2. 1. 3. 4. 3.]\n"
     ]
    }
   ],
   "source": [
    "max_constituents = 4\n",
    "new_nb_constituents = np.array([])\n",
    "\n",
    "for jet in range(len(new_cut_data)):\n",
    "    if new_cut_data[jet].shape[0] >= max_constituents:\n",
    "        new_nb_constituents = np.append(new_nb_constituents, max_constituents)\n",
    "        new_cut_data[jet] = new_cut_data[jet][:max_constituents, :]\n",
    "    else:\n",
    "        new_nb_constituents = np.append(new_nb_constituents, new_cut_data[jet].shape[0])\n",
    "        padding_length = max_constituents - new_cut_data[jet].shape[0]\n",
    "        new_cut_data[jet] = np.pad(new_cut_data[jet], ((0, padding_length), (0, 0)), constant_values = -0.999)\n",
    "new_cut_data = np.array(new_cut_data)\n",
    "print(new_cut_data)\n",
    "print('\\n===================\\n')\n",
    "print(new_nb_constituents)"
   ]
  },
  {
   "cell_type": "code",
   "execution_count": 71,
   "metadata": {},
   "outputs": [],
   "source": [
    "positive_class = 't'"
   ]
  },
  {
   "cell_type": "code",
   "execution_count": 85,
   "metadata": {},
   "outputs": [
    {
     "data": {
      "text/plain": [
       "b't'"
      ]
     },
     "execution_count": 85,
     "metadata": {},
     "output_type": "execute_result"
    }
   ],
   "source": [
    "bytes(positive_class, 'utf-8')"
   ]
  },
  {
   "cell_type": "code",
   "execution_count": 2,
   "metadata": {},
   "outputs": [],
   "source": [
    "feature_labels = [\n",
    "        \"px\",\n",
    "        \"py\",\n",
    "        \"pz\",\n",
    "        \"E\",\n",
    "        \"E_rel\",\n",
    "        \"pT\",\n",
    "        \"pT_rel\",\n",
    "        \"eta\",\n",
    "        \"eta_rel\",\n",
    "        \"eta_rot\",\n",
    "        \"phi\",\n",
    "        \"phi_rel\",\n",
    "        \"phi_rot\",\n",
    "        \"Delta_R\",\n",
    "        \"cos(theta)\",\n",
    "        \"cos(theta_rel)\",\n",
    "    ]"
   ]
  },
  {
   "cell_type": "code",
   "execution_count": 7,
   "metadata": {},
   "outputs": [],
   "source": [
    "from prepare_data_BDT import select_feature_labels\n",
    "\n",
    "andre_features = select_feature_labels('andre')\n",
    "jedinet_features = select_feature_labels('jedinet')"
   ]
  },
  {
   "cell_type": "code",
   "execution_count": 13,
   "metadata": {},
   "outputs": [
    {
     "name": "stdout",
     "output_type": "stream",
     "text": [
      "[5, 8, 11]\n"
     ]
    }
   ],
   "source": [
    "indices = []\n",
    "\n",
    "for feature in select_feature_labels('andre'):\n",
    "    index = select_feature_labels('jedinet').index(feature)\n",
    "    indices.append(index)\n",
    "\n",
    "print(indices)"
   ]
  },
  {
   "cell_type": "code",
   "execution_count": 7,
   "metadata": {},
   "outputs": [],
   "source": [
    "import sys\n",
    "import time"
   ]
  },
  {
   "cell_type": "code",
   "execution_count": 17,
   "metadata": {},
   "outputs": [
    {
     "name": "stdout",
     "output_type": "stream",
     "text": [
      "Starting process\n",
      "[====================] 100%\n",
      "Process complete\n"
     ]
    }
   ],
   "source": [
    "print('Starting process')\n",
    "\n",
    "sys.stdout.write('\\r')\n",
    "# the exact output you're looking for:\n",
    "sys.stdout.write(\"[%-20s] %d%%\" % ('='*1, 5*1))\n",
    "sys.stdout.flush()\n",
    "time.sleep(0.5)\n",
    "\n",
    "for i in range(2, 21):\n",
    "    sys.stdout.write('\\r')\n",
    "    # the exact output you're looking for:\n",
    "    sys.stdout.write(\"[%-20s] %d%%\" % ('='*i, 5*i))\n",
    "    sys.stdout.flush()\n",
    "    time.sleep(0.5)\n",
    "\n",
    "print('\\nProcess complete')\n",
    "    "
   ]
  },
  {
   "cell_type": "code",
   "execution_count": 36,
   "metadata": {},
   "outputs": [
    {
     "name": "stdout",
     "output_type": "stream",
     "text": [
      "\u001b[91mI just came to say hello\u001b[0m\n"
     ]
    }
   ],
   "source": [
    "from terminal_colors import tcols\n",
    "\n",
    "a = True\n",
    "print(tcols.FAIL+f'I just came to say {a*\"hello\"+(not a)*\"goodbye\"}'+tcols.ENDC)"
   ]
  },
  {
   "cell_type": "code",
   "execution_count": 33,
   "metadata": {},
   "outputs": [],
   "source": [
    "df = pd.DataFrame()"
   ]
  },
  {
   "cell_type": "code",
   "execution_count": 34,
   "metadata": {},
   "outputs": [
    {
     "data": {
      "text/html": [
       "<div>\n",
       "<style scoped>\n",
       "    .dataframe tbody tr th:only-of-type {\n",
       "        vertical-align: middle;\n",
       "    }\n",
       "\n",
       "    .dataframe tbody tr th {\n",
       "        vertical-align: top;\n",
       "    }\n",
       "\n",
       "    .dataframe thead th {\n",
       "        text-align: right;\n",
       "    }\n",
       "</style>\n",
       "<table border=\"1\" class=\"dataframe\">\n",
       "  <thead>\n",
       "    <tr style=\"text-align: right;\">\n",
       "      <th></th>\n",
       "    </tr>\n",
       "  </thead>\n",
       "  <tbody>\n",
       "  </tbody>\n",
       "</table>\n",
       "</div>"
      ],
      "text/plain": [
       "Empty DataFrame\n",
       "Columns: []\n",
       "Index: []"
      ]
     },
     "execution_count": 34,
     "metadata": {},
     "output_type": "execute_result"
    }
   ],
   "source": [
    "df"
   ]
  },
  {
   "cell_type": "code",
   "execution_count": 35,
   "metadata": {},
   "outputs": [],
   "source": [
    "df['rah'] = 69"
   ]
  },
  {
   "cell_type": "code",
   "execution_count": 37,
   "metadata": {},
   "outputs": [
    {
     "data": {
      "text/html": [
       "<div>\n",
       "<style scoped>\n",
       "    .dataframe tbody tr th:only-of-type {\n",
       "        vertical-align: middle;\n",
       "    }\n",
       "\n",
       "    .dataframe tbody tr th {\n",
       "        vertical-align: top;\n",
       "    }\n",
       "\n",
       "    .dataframe thead th {\n",
       "        text-align: right;\n",
       "    }\n",
       "</style>\n",
       "<table border=\"1\" class=\"dataframe\">\n",
       "  <thead>\n",
       "    <tr style=\"text-align: right;\">\n",
       "      <th></th>\n",
       "      <th>rah</th>\n",
       "    </tr>\n",
       "  </thead>\n",
       "  <tbody>\n",
       "  </tbody>\n",
       "</table>\n",
       "</div>"
      ],
      "text/plain": [
       "Empty DataFrame\n",
       "Columns: [rah]\n",
       "Index: []"
      ]
     },
     "execution_count": 37,
     "metadata": {},
     "output_type": "execute_result"
    }
   ],
   "source": [
    "df"
   ]
  },
  {
   "cell_type": "code",
   "execution_count": 40,
   "metadata": {},
   "outputs": [
    {
     "data": {
      "text/plain": [
       "True"
      ]
     },
     "execution_count": 40,
     "metadata": {},
     "output_type": "execute_result"
    }
   ],
   "source": [
    "6 != 3"
   ]
  },
  {
   "cell_type": "code",
   "execution_count": 2,
   "metadata": {},
   "outputs": [],
   "source": [
    "a = 5"
   ]
  },
  {
   "cell_type": "code",
   "execution_count": 4,
   "metadata": {},
   "outputs": [],
   "source": [
    "b = str(a)"
   ]
  },
  {
   "cell_type": "code",
   "execution_count": 5,
   "metadata": {},
   "outputs": [
    {
     "data": {
      "text/plain": [
       "5"
      ]
     },
     "execution_count": 5,
     "metadata": {},
     "output_type": "execute_result"
    }
   ],
   "source": [
    "int(b)"
   ]
  },
  {
   "cell_type": "code",
   "execution_count": 20,
   "metadata": {},
   "outputs": [
    {
     "name": "stdout",
     "output_type": "stream",
     "text": [
      "Choosing from predified list: test\n"
     ]
    }
   ],
   "source": [
    "nb_constituents = 'test'\n",
    "\n",
    "try:\n",
    "    print(f\"Taking first {int(nb_constituents)} constituents\")\n",
    "\n",
    "except:\n",
    "    print(f\"Choosing from predified list: {nb_constituents}\")"
   ]
  },
  {
   "cell_type": "code",
   "execution_count": null,
   "metadata": {},
   "outputs": [],
   "source": []
  }
 ],
 "metadata": {
  "kernelspec": {
   "display_name": "Masters",
   "language": "python",
   "name": "python3"
  },
  "language_info": {
   "codemirror_mode": {
    "name": "ipython",
    "version": 3
   },
   "file_extension": ".py",
   "mimetype": "text/x-python",
   "name": "python",
   "nbconvert_exporter": "python",
   "pygments_lexer": "ipython3",
   "version": "3.10.9"
  },
  "orig_nbformat": 4
 },
 "nbformat": 4,
 "nbformat_minor": 2
}

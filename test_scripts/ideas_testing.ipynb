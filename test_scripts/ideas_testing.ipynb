{
 "cells": [
  {
   "cell_type": "code",
   "execution_count": 1,
   "metadata": {},
   "outputs": [],
   "source": [
    "import numpy as np\n",
    "import pandas as pd"
   ]
  },
  {
   "cell_type": "code",
   "execution_count": 66,
   "metadata": {},
   "outputs": [],
   "source": [
    "data = [[1.3,6.2,7.3,], [4.2,8.1,0.3], [3.7,1.1,2.8], [13.2,8.2,3.1,], [1.3,5.1,3.9], [3.2,4.1,12.5]]\n",
    "\n",
    "heading = ['a', 'b', 'c']\n",
    "\n",
    "ohe_data = np.array([[0, 0, 0, 1, 0],\n",
    " [1, 0, 0, 0, 0],\n",
    " [0, 0, 1, 0, 0],\n",
    " [0, 0, 1, 0, 0],\n",
    " [0, 0, 0, 0, 1],\n",
    " [0, 1, 0, 0, 0]])\n",
    "\n",
    "classes = np.array([b'g', b'q', b'w', b'z', b't'])"
   ]
  },
  {
   "cell_type": "code",
   "execution_count": 68,
   "metadata": {},
   "outputs": [
    {
     "name": "stdout",
     "output_type": "stream",
     "text": [
      "[3, 0, 2, 2, 4, 1]\n"
     ]
    }
   ],
   "source": [
    "y_data = [np.argmax(ohe_array) for ohe_array in ohe_data]\n",
    "print(y_data)"
   ]
  },
  {
   "cell_type": "code",
   "execution_count": 24,
   "metadata": {},
   "outputs": [
    {
     "name": "stdout",
     "output_type": "stream",
     "text": [
      "[[[0.87183864 0.84101017 0.24094368]\n",
      "  [0.23368093 0.33631054 0.47359517]\n",
      "  [0.33404065 0.36549049 0.12254761]\n",
      "  [0.09241623 0.79347292 0.337087  ]\n",
      "  [0.72214438 0.92014478 0.76261645]\n",
      "  [0.22355133 0.11993927 0.20939421]]\n",
      "\n",
      " [[0.50619094 0.39119054 0.02140552]\n",
      "  [0.49999038 0.25823692 0.37850753]\n",
      "  [0.99551455 0.53848399 0.41578403]\n",
      "  [0.08774468 0.28166052 0.77900456]\n",
      "  [0.03943875 0.70606653 0.00832279]\n",
      "  [0.92158766 0.32538816 0.05685253]]\n",
      "\n",
      " [[0.84306619 0.08248026 0.54609825]\n",
      "  [0.08684022 0.54315835 0.72550184]\n",
      "  [0.57571394 0.64416923 0.68562272]\n",
      "  [0.58856029 0.95972065 0.62693807]\n",
      "  [0.40854049 0.1657114  0.58544405]\n",
      "  [0.96623217 0.51049143 0.17508555]]\n",
      "\n",
      " [[0.27449287 0.45938343 0.25766775]\n",
      "  [0.23711458 0.84643439 0.94692066]\n",
      "  [0.28785168 0.34532988 0.45412833]\n",
      "  [0.23875237 0.91082125 0.90597377]\n",
      "  [0.84385068 0.28762858 0.32098236]\n",
      "  [0.36497847 0.97664808 0.92135538]]\n",
      "\n",
      " [[0.55307675 0.26961909 0.28880102]\n",
      "  [0.0439751  0.73539288 0.19315201]\n",
      "  [0.70045695 0.41643087 0.52205001]\n",
      "  [0.10935472 0.87766762 0.06087002]\n",
      "  [0.76005274 0.76741981 0.48687547]\n",
      "  [0.50289491 0.3122152  0.80995958]]]\n",
      "[0 4 4 1 4]\n"
     ]
    }
   ],
   "source": [
    "rand_data = np.random.rand(5,6,3)\n",
    "rand_class = np.random.randint(0,5,5)\n",
    "#big_rand_data = np.random.rand(620000,50,16)\n",
    "print(rand_data)\n",
    "print(rand_class)"
   ]
  },
  {
   "cell_type": "code",
   "execution_count": 14,
   "metadata": {},
   "outputs": [
    {
     "name": "stdout",
     "output_type": "stream",
     "text": [
      "-1\n"
     ]
    }
   ],
   "source": [
    "ascending = False\n",
    "order = ascending - (not ascending)\n",
    "print(order)"
   ]
  },
  {
   "cell_type": "code",
   "execution_count": 15,
   "metadata": {},
   "outputs": [
    {
     "name": "stdout",
     "output_type": "stream",
     "text": [
      "[[[0.97807979 0.00117104 0.71172398]\n",
      "  [0.96379767 0.86715605 0.2173511 ]\n",
      "  [0.65462524 0.44441134 0.46172768]\n",
      "  [0.53445562 0.68013254 0.39513529]\n",
      "  [0.3442667  0.49736153 0.6199436 ]\n",
      "  [0.03684299 0.51766745 0.13099243]]\n",
      "\n",
      " [[0.82502873 0.76993095 0.98115178]\n",
      "  [0.45679646 0.5821968  0.87446563]\n",
      "  [0.43551199 0.2502537  0.69733654]\n",
      "  [0.2416555  0.54040756 0.17380207]\n",
      "  [0.16398435 0.52180762 0.31953963]\n",
      "  [0.12935104 0.38858331 0.05667905]]\n",
      "\n",
      " [[0.98650006 0.04794429 0.46993849]\n",
      "  [0.81366201 0.42339047 0.04457746]\n",
      "  [0.61971309 0.37085694 0.60514442]\n",
      "  [0.53837013 0.50864835 0.1282322 ]\n",
      "  [0.22942563 0.85755679 0.45045667]\n",
      "  [0.15094214 0.08665505 0.26636464]]\n",
      "\n",
      " [[0.93317273 0.55193032 0.11748172]\n",
      "  [0.8252512  0.35326552 0.83598052]\n",
      "  [0.77822397 0.19413064 0.53467083]\n",
      "  [0.52921853 0.28063085 0.42016388]\n",
      "  [0.35457106 0.27425754 0.18450468]\n",
      "  [0.34232631 0.548164   0.43214091]]\n",
      "\n",
      " [[0.99595068 0.94088614 0.32342719]\n",
      "  [0.97163663 0.05751387 0.68021434]\n",
      "  [0.71348403 0.51383027 0.94738157]\n",
      "  [0.69386633 0.22765277 0.01291907]\n",
      "  [0.65306095 0.7978226  0.1653417 ]\n",
      "  [0.26906658 0.85730078 0.26580246]]]\n",
      "<class 'numpy.ndarray'>\n"
     ]
    }
   ],
   "source": [
    "sorted_data = np.array([rand_data[i][(order*rand_data[i][:, 0]).argsort()] for i in range(len(rand_data))])\n",
    "#big_sorted_data = np.asarray([big_rand_data[i][big_rand_data[i][:, 1].argsort()] for i in range(len(big_rand_data))])\n",
    "\n",
    "print(sorted_data)\n",
    "print(type(sorted_data))"
   ]
  },
  {
   "cell_type": "code",
   "execution_count": 16,
   "metadata": {},
   "outputs": [
    {
     "name": "stdout",
     "output_type": "stream",
     "text": [
      "[0.00117104 0.86715605 0.44441134 0.68013254 0.49736153 0.51766745\n",
      " 0.55193032 0.35326552 0.19413064 0.28063085 0.27425754 0.548164  ]\n"
     ]
    }
   ],
   "source": [
    "boolean_index = [True, False, False, True, False]\n",
    "\n",
    "print(sorted_data[:,:,1][boolean_index].flatten())"
   ]
  },
  {
   "cell_type": "code",
   "execution_count": 17,
   "metadata": {},
   "outputs": [
    {
     "name": "stdout",
     "output_type": "stream",
     "text": [
      "[True, False, False, True, False]\n",
      "[True, False, False, True, False]\n"
     ]
    }
   ],
   "source": [
    "print(boolean_index)\n",
    "print(1*(boolean_index))"
   ]
  },
  {
   "cell_type": "code",
   "execution_count": 18,
   "metadata": {},
   "outputs": [],
   "source": [
    "boolean_mask = sorted_data[:, :, 0] > 0.2\n",
    "structure_memory = boolean_mask.sum(axis=1)"
   ]
  },
  {
   "cell_type": "code",
   "execution_count": 19,
   "metadata": {},
   "outputs": [
    {
     "name": "stdout",
     "output_type": "stream",
     "text": [
      "[[ True  True  True  True  True False]\n",
      " [ True  True  True  True False False]\n",
      " [ True  True  True  True  True False]\n",
      " [ True  True  True  True  True  True]\n",
      " [ True  True  True  True  True  True]]\n",
      "[5 4 5 6 6]\n",
      "5.2\n"
     ]
    }
   ],
   "source": [
    "print(boolean_mask)\n",
    "print(structure_memory)\n",
    "print(np.mean(structure_memory))"
   ]
  },
  {
   "cell_type": "code",
   "execution_count": 20,
   "metadata": {},
   "outputs": [
    {
     "name": "stdout",
     "output_type": "stream",
     "text": [
      "[array([[0.97807979, 0.00117104, 0.71172398],\n",
      "       [0.96379767, 0.86715605, 0.2173511 ],\n",
      "       [0.65462524, 0.44441134, 0.46172768],\n",
      "       [0.53445562, 0.68013254, 0.39513529],\n",
      "       [0.3442667 , 0.49736153, 0.6199436 ]]), array([[0.82502873, 0.76993095, 0.98115178],\n",
      "       [0.45679646, 0.5821968 , 0.87446563],\n",
      "       [0.43551199, 0.2502537 , 0.69733654],\n",
      "       [0.2416555 , 0.54040756, 0.17380207]]), array([[0.98650006, 0.04794429, 0.46993849],\n",
      "       [0.81366201, 0.42339047, 0.04457746],\n",
      "       [0.61971309, 0.37085694, 0.60514442],\n",
      "       [0.53837013, 0.50864835, 0.1282322 ],\n",
      "       [0.22942563, 0.85755679, 0.45045667]]), array([[0.93317273, 0.55193032, 0.11748172],\n",
      "       [0.8252512 , 0.35326552, 0.83598052],\n",
      "       [0.77822397, 0.19413064, 0.53467083],\n",
      "       [0.52921853, 0.28063085, 0.42016388],\n",
      "       [0.35457106, 0.27425754, 0.18450468],\n",
      "       [0.34232631, 0.548164  , 0.43214091]]), array([[0.99595068, 0.94088614, 0.32342719],\n",
      "       [0.97163663, 0.05751387, 0.68021434],\n",
      "       [0.71348403, 0.51383027, 0.94738157],\n",
      "       [0.69386633, 0.22765277, 0.01291907],\n",
      "       [0.65306095, 0.7978226 , 0.1653417 ],\n",
      "       [0.26906658, 0.85730078, 0.26580246]])]\n",
      "\n",
      "================\n",
      "\n",
      "[array([[0.97807979, 0.00117104, 0.71172398],\n",
      "       [0.96379767, 0.86715605, 0.2173511 ],\n",
      "       [0.65462524, 0.44441134, 0.46172768],\n",
      "       [0.53445562, 0.68013254, 0.39513529],\n",
      "       [0.3442667 , 0.49736153, 0.6199436 ]]), array([[0.82502873, 0.76993095, 0.98115178],\n",
      "       [0.45679646, 0.5821968 , 0.87446563],\n",
      "       [0.43551199, 0.2502537 , 0.69733654],\n",
      "       [0.2416555 , 0.54040756, 0.17380207]]), array([[0.98650006, 0.04794429, 0.46993849],\n",
      "       [0.81366201, 0.42339047, 0.04457746],\n",
      "       [0.61971309, 0.37085694, 0.60514442],\n",
      "       [0.53837013, 0.50864835, 0.1282322 ],\n",
      "       [0.22942563, 0.85755679, 0.45045667]]), array([[0.93317273, 0.55193032, 0.11748172],\n",
      "       [0.8252512 , 0.35326552, 0.83598052],\n",
      "       [0.77822397, 0.19413064, 0.53467083],\n",
      "       [0.52921853, 0.28063085, 0.42016388],\n",
      "       [0.35457106, 0.27425754, 0.18450468],\n",
      "       [0.34232631, 0.548164  , 0.43214091]]), array([[0.99595068, 0.94088614, 0.32342719],\n",
      "       [0.97163663, 0.05751387, 0.68021434],\n",
      "       [0.71348403, 0.51383027, 0.94738157],\n",
      "       [0.69386633, 0.22765277, 0.01291907],\n",
      "       [0.65306095, 0.7978226 , 0.1653417 ],\n",
      "       [0.26906658, 0.85730078, 0.26580246]])]\n"
     ]
    }
   ],
   "source": [
    "cut_data = np.split(sorted_data[boolean_mask, :], np.cumsum(structure_memory)[:-1])\n",
    "\n",
    "print(cut_data)\n",
    "print('\\n================\\n')\n",
    "cut_data = [jet_const for jet_const in cut_data if jet_const.size > 0]\n",
    "\n",
    "print(cut_data)"
   ]
  },
  {
   "cell_type": "code",
   "execution_count": 21,
   "metadata": {},
   "outputs": [
    {
     "name": "stdout",
     "output_type": "stream",
     "text": [
      "[[[0.97807979 0.00117104 0.71172398]\n",
      "  [0.96379767 0.86715605 0.2173511 ]\n",
      "  [0.65462524 0.44441134 0.46172768]\n",
      "  [0.53445562 0.68013254 0.39513529]\n",
      "  [0.3442667  0.49736153 0.6199436 ]\n",
      "  [0.         0.         0.        ]]\n",
      "\n",
      " [[0.82502873 0.76993095 0.98115178]\n",
      "  [0.45679646 0.5821968  0.87446563]\n",
      "  [0.43551199 0.2502537  0.69733654]\n",
      "  [0.2416555  0.54040756 0.17380207]\n",
      "  [0.         0.         0.        ]\n",
      "  [0.         0.         0.        ]]\n",
      "\n",
      " [[0.98650006 0.04794429 0.46993849]\n",
      "  [0.81366201 0.42339047 0.04457746]\n",
      "  [0.61971309 0.37085694 0.60514442]\n",
      "  [0.53837013 0.50864835 0.1282322 ]\n",
      "  [0.22942563 0.85755679 0.45045667]\n",
      "  [0.         0.         0.        ]]\n",
      "\n",
      " [[0.93317273 0.55193032 0.11748172]\n",
      "  [0.8252512  0.35326552 0.83598052]\n",
      "  [0.77822397 0.19413064 0.53467083]\n",
      "  [0.52921853 0.28063085 0.42016388]\n",
      "  [0.35457106 0.27425754 0.18450468]\n",
      "  [0.34232631 0.548164   0.43214091]]\n",
      "\n",
      " [[0.99595068 0.94088614 0.32342719]\n",
      "  [0.97163663 0.05751387 0.68021434]\n",
      "  [0.71348403 0.51383027 0.94738157]\n",
      "  [0.69386633 0.22765277 0.01291907]\n",
      "  [0.65306095 0.7978226  0.1653417 ]\n",
      "  [0.26906658 0.85730078 0.26580246]]]\n",
      "\n",
      "===================\n",
      "\n",
      "[5. 4. 5. 6. 6.]\n"
     ]
    }
   ],
   "source": [
    "max_constituents = 6\n",
    "nb_constituents = np.array([])\n",
    "\n",
    "for jet in range(len(cut_data)):\n",
    "    if cut_data[jet].shape[0] >= max_constituents:\n",
    "        nb_constituents = np.append(nb_constituents, max_constituents)\n",
    "        cut_data[jet] = cut_data[jet][:max_constituents, :]\n",
    "    else:\n",
    "        nb_constituents = np.append(nb_constituents, cut_data[jet].shape[0])\n",
    "        padding_length = max_constituents - cut_data[jet].shape[0]\n",
    "        cut_data[jet] = np.pad(cut_data[jet], ((0, padding_length), (0, 0)), constant_values = 0)\n",
    "cut_data = np.array(cut_data)\n",
    "print(cut_data)\n",
    "print('\\n===================\\n')\n",
    "print(nb_constituents)"
   ]
  },
  {
   "cell_type": "code",
   "execution_count": 27,
   "metadata": {},
   "outputs": [
    {
     "name": "stdout",
     "output_type": "stream",
     "text": [
      "[[ True  True  True  True  True False]\n",
      " [ True  True  True  True False False]\n",
      " [ True  True  True  True  True False]\n",
      " [ True  True  True  True  True  True]\n",
      " [ True  True  True  True  True  True]]\n",
      "[5 4 5 6 6]\n"
     ]
    }
   ],
   "source": [
    "is_not_padded = np.any(cut_data, axis = 2)\n",
    "print(is_not_padded)\n",
    "constituent_memory = is_not_padded.sum(axis = 1)\n",
    "print(constituent_memory)\n",
    "# is_positive_class = [True, False, False, True, False]\n",
    "# print(is_positive_class)"
   ]
  },
  {
   "cell_type": "code",
   "execution_count": 25,
   "metadata": {},
   "outputs": [
    {
     "name": "stdout",
     "output_type": "stream",
     "text": [
      "[[0.97807979 0.00117104 0.71172398]\n",
      " [0.96379767 0.86715605 0.2173511 ]\n",
      " [0.65462524 0.44441134 0.46172768]\n",
      " [0.53445562 0.68013254 0.39513529]\n",
      " [0.3442667  0.49736153 0.6199436 ]\n",
      " [0.82502873 0.76993095 0.98115178]\n",
      " [0.45679646 0.5821968  0.87446563]\n",
      " [0.43551199 0.2502537  0.69733654]\n",
      " [0.2416555  0.54040756 0.17380207]\n",
      " [0.98650006 0.04794429 0.46993849]\n",
      " [0.81366201 0.42339047 0.04457746]\n",
      " [0.61971309 0.37085694 0.60514442]\n",
      " [0.53837013 0.50864835 0.1282322 ]\n",
      " [0.22942563 0.85755679 0.45045667]\n",
      " [0.93317273 0.55193032 0.11748172]\n",
      " [0.8252512  0.35326552 0.83598052]\n",
      " [0.77822397 0.19413064 0.53467083]\n",
      " [0.52921853 0.28063085 0.42016388]\n",
      " [0.35457106 0.27425754 0.18450468]\n",
      " [0.34232631 0.548164   0.43214091]\n",
      " [0.99595068 0.94088614 0.32342719]\n",
      " [0.97163663 0.05751387 0.68021434]\n",
      " [0.71348403 0.51383027 0.94738157]\n",
      " [0.69386633 0.22765277 0.01291907]\n",
      " [0.65306095 0.7978226  0.1653417 ]\n",
      " [0.26906658 0.85730078 0.26580246]]\n"
     ]
    }
   ],
   "source": [
    "print(cut_data[is_not_padded, :])"
   ]
  },
  {
   "cell_type": "code",
   "execution_count": 65,
   "metadata": {},
   "outputs": [
    {
     "name": "stdout",
     "output_type": "stream",
     "text": [
      "[0 4 4 1 4]\n",
      "0\n",
      "1\n",
      "2\n",
      "3\n",
      "4\n",
      "[0 0 0 0 0 4 4 4 4 4 4 4 4 4 1 1 1 1 1 1 4 4 4 4 4 4]\n"
     ]
    }
   ],
   "source": [
    "print(rand_class)\n",
    "large_class = np.array([], dtype = int)\n",
    "cut_data[1]\n",
    "\n",
    "for i in range(len(constituent_memory)):\n",
    "    print(i)\n",
    "    large_class = np.append(large_class, constituent_memory[i]*[rand_class[i]])\n",
    "\n",
    "print(large_class)"
   ]
  },
  {
   "cell_type": "code",
   "execution_count": 64,
   "metadata": {},
   "outputs": [
    {
     "name": "stdout",
     "output_type": "stream",
     "text": [
      "[[0.97807979 0.00117104 0.71172398]\n",
      " [0.96379767 0.86715605 0.2173511 ]\n",
      " [0.65462524 0.44441134 0.46172768]\n",
      " [0.53445562 0.68013254 0.39513529]\n",
      " [0.3442667  0.49736153 0.6199436 ]\n",
      " [0.82502873 0.76993095 0.98115178]\n",
      " [0.45679646 0.5821968  0.87446563]\n",
      " [0.43551199 0.2502537  0.69733654]\n",
      " [0.2416555  0.54040756 0.17380207]\n",
      " [0.98650006 0.04794429 0.46993849]\n",
      " [0.81366201 0.42339047 0.04457746]\n",
      " [0.61971309 0.37085694 0.60514442]\n",
      " [0.53837013 0.50864835 0.1282322 ]\n",
      " [0.22942563 0.85755679 0.45045667]\n",
      " [0.93317273 0.55193032 0.11748172]\n",
      " [0.8252512  0.35326552 0.83598052]\n",
      " [0.77822397 0.19413064 0.53467083]\n",
      " [0.52921853 0.28063085 0.42016388]\n",
      " [0.35457106 0.27425754 0.18450468]\n",
      " [0.34232631 0.548164   0.43214091]\n",
      " [0.99595068 0.94088614 0.32342719]\n",
      " [0.97163663 0.05751387 0.68021434]\n",
      " [0.71348403 0.51383027 0.94738157]\n",
      " [0.69386633 0.22765277 0.01291907]\n",
      " [0.65306095 0.7978226  0.1653417 ]\n",
      " [0.26906658 0.85730078 0.26580246]]\n",
      "26\n",
      "[0 0 0 0 0 4 4 4 4 4 4 4 4 4 1 1 1 1 1 1 4 4 4 4 4 4]\n",
      "26\n",
      "[[0]\n",
      " [0]\n",
      " [0]\n",
      " [0]\n",
      " [0]\n",
      " [4]\n",
      " [4]\n",
      " [4]\n",
      " [4]\n",
      " [4]\n",
      " [4]\n",
      " [4]\n",
      " [4]\n",
      " [4]\n",
      " [1]\n",
      " [1]\n",
      " [1]\n",
      " [1]\n",
      " [1]\n",
      " [1]\n",
      " [4]\n",
      " [4]\n",
      " [4]\n",
      " [4]\n",
      " [4]\n",
      " [4]]\n"
     ]
    },
    {
     "data": {
      "text/plain": [
       "array([[9.78079792e-01, 1.17103956e-03, 7.11723978e-01, 0.00000000e+00],\n",
       "       [9.63797668e-01, 8.67156052e-01, 2.17351104e-01, 0.00000000e+00],\n",
       "       [6.54625239e-01, 4.44411340e-01, 4.61727682e-01, 0.00000000e+00],\n",
       "       [5.34455624e-01, 6.80132537e-01, 3.95135288e-01, 0.00000000e+00],\n",
       "       [3.44266700e-01, 4.97361531e-01, 6.19943596e-01, 0.00000000e+00],\n",
       "       [8.25028729e-01, 7.69930948e-01, 9.81151776e-01, 4.00000000e+00],\n",
       "       [4.56796461e-01, 5.82196796e-01, 8.74465627e-01, 4.00000000e+00],\n",
       "       [4.35511989e-01, 2.50253701e-01, 6.97336545e-01, 4.00000000e+00],\n",
       "       [2.41655498e-01, 5.40407557e-01, 1.73802067e-01, 4.00000000e+00],\n",
       "       [9.86500059e-01, 4.79442895e-02, 4.69938490e-01, 4.00000000e+00],\n",
       "       [8.13662006e-01, 4.23390467e-01, 4.45774552e-02, 4.00000000e+00],\n",
       "       [6.19713086e-01, 3.70856942e-01, 6.05144418e-01, 4.00000000e+00],\n",
       "       [5.38370134e-01, 5.08648351e-01, 1.28232204e-01, 4.00000000e+00],\n",
       "       [2.29425628e-01, 8.57556793e-01, 4.50456673e-01, 4.00000000e+00],\n",
       "       [9.33172731e-01, 5.51930316e-01, 1.17481718e-01, 1.00000000e+00],\n",
       "       [8.25251200e-01, 3.53265525e-01, 8.35980521e-01, 1.00000000e+00],\n",
       "       [7.78223972e-01, 1.94130642e-01, 5.34670828e-01, 1.00000000e+00],\n",
       "       [5.29218527e-01, 2.80630854e-01, 4.20163881e-01, 1.00000000e+00],\n",
       "       [3.54571064e-01, 2.74257540e-01, 1.84504680e-01, 1.00000000e+00],\n",
       "       [3.42326311e-01, 5.48164005e-01, 4.32140908e-01, 1.00000000e+00],\n",
       "       [9.95950678e-01, 9.40886140e-01, 3.23427186e-01, 4.00000000e+00],\n",
       "       [9.71636633e-01, 5.75138659e-02, 6.80214338e-01, 4.00000000e+00],\n",
       "       [7.13484033e-01, 5.13830273e-01, 9.47381571e-01, 4.00000000e+00],\n",
       "       [6.93866326e-01, 2.27652766e-01, 1.29190697e-02, 4.00000000e+00],\n",
       "       [6.53060947e-01, 7.97822604e-01, 1.65341700e-01, 4.00000000e+00],\n",
       "       [2.69066584e-01, 8.57300784e-01, 2.65802462e-01, 4.00000000e+00]])"
      ]
     },
     "execution_count": 64,
     "metadata": {},
     "output_type": "execute_result"
    }
   ],
   "source": [
    "print(cut_data[is_not_padded, :])\n",
    "print(len(cut_data[is_not_padded, :]))\n",
    "print(large_class)\n",
    "print(len(large_class))\n",
    "print(large_class.reshape(len(large_class), 1))\n",
    "\n",
    "np.concatenate((cut_data[is_not_padded, :], large_class.reshape(len(large_class), 1)), axis =1)"
   ]
  },
  {
   "cell_type": "code",
   "execution_count": 12,
   "metadata": {},
   "outputs": [
    {
     "name": "stdout",
     "output_type": "stream",
     "text": [
      "[[False False False False  True  True]\n",
      " [False  True False False  True  True]\n",
      " [ True  True  True  True False  True]\n",
      " [False False  True False  True  True]\n",
      " [ True  True  True False  True  True]]\n"
     ]
    }
   ],
   "source": [
    "cut_boolean_mask = cut_data[:, :, 1] < 0.5\n",
    "print(cut_boolean_mask)"
   ]
  },
  {
   "cell_type": "code",
   "execution_count": 13,
   "metadata": {},
   "outputs": [
    {
     "name": "stdout",
     "output_type": "stream",
     "text": [
      "[[False False False False False False]\n",
      " [False  True False False False False]\n",
      " [ True  True  True  True False False]\n",
      " [False False  True False False False]\n",
      " [ True  True  True False False False]]\n",
      "[0 1 4 1 3]\n"
     ]
    }
   ],
   "source": [
    "new_boolean_mask = cut_boolean_mask * is_not_padded\n",
    "new_structure_memory = new_boolean_mask.sum(axis = 1)\n",
    "print(new_boolean_mask)\n",
    "print(new_structure_memory)"
   ]
  },
  {
   "cell_type": "code",
   "execution_count": 30,
   "metadata": {},
   "outputs": [
    {
     "name": "stdout",
     "output_type": "stream",
     "text": [
      "[array([[0.31096717, 0.19810237, 0.9584172 ]]), array([[0.55501169, 0.24169078, 0.91067052],\n",
      "       [0.23784861, 0.05837725, 0.06358404],\n",
      "       [0.22099701, 0.0475618 , 0.9945953 ]]), array([[0.67377265, 0.14582521, 0.25992718],\n",
      "       [0.60179192, 0.02465442, 0.22187714]]), array([[0.93891831, 0.24385523, 0.26970766],\n",
      "       [0.79101309, 0.18717309, 0.02891489]]), array([[0.90123358, 0.07322485, 0.19132789],\n",
      "       [0.49177459, 0.12306054, 0.63115467],\n",
      "       [0.40722695, 0.32317744, 0.99055728]])]\n",
      "-----------------\n",
      "[array([[0.31096717, 0.19810237, 0.9584172 ]]), array([[0.22099701, 0.0475618 , 0.9945953 ],\n",
      "       [0.23784861, 0.05837725, 0.06358404],\n",
      "       [0.55501169, 0.24169078, 0.91067052]]), array([[0.60179192, 0.02465442, 0.22187714],\n",
      "       [0.67377265, 0.14582521, 0.25992718]]), array([[0.79101309, 0.18717309, 0.02891489],\n",
      "       [0.93891831, 0.24385523, 0.26970766]]), array([[0.90123358, 0.07322485, 0.19132789],\n",
      "       [0.49177459, 0.12306054, 0.63115467],\n",
      "       [0.40722695, 0.32317744, 0.99055728]])]\n",
      "<class 'list'>\n"
     ]
    }
   ],
   "source": [
    "new_cut_data = np.split(cut_data[new_boolean_mask, :], np.cumsum(new_structure_memory)[:-1])\n",
    "print(new_cut_data)\n",
    "\n",
    "# new_cut_data = [jet_const for jet_const in new_cut_data if jet_const.size >0]\n",
    "# print(new_cut_data)\n",
    "\n",
    "ascending = True\n",
    "order = ascending - (not ascending)\n",
    "\n",
    "new_cut_data = [new_cut_data[i][(order*new_cut_data[i][:, 1]).argsort()] for i in range(len(new_cut_data))]\n",
    "\n",
    "print('-----------------')\n",
    "print(new_cut_data)\n",
    "print(type(new_cut_data))"
   ]
  },
  {
   "cell_type": "code",
   "execution_count": 32,
   "metadata": {},
   "outputs": [
    {
     "name": "stdout",
     "output_type": "stream",
     "text": [
      "[array([[0.31096717, 0.9584172 ]]), array([[0.22099701, 0.9945953 ],\n",
      "       [0.23784861, 0.06358404],\n",
      "       [0.55501169, 0.91067052]]), array([[0.60179192, 0.22187714],\n",
      "       [0.67377265, 0.25992718]]), array([[0.79101309, 0.02891489],\n",
      "       [0.93891831, 0.26970766]]), array([[0.90123358, 0.19132789],\n",
      "       [0.49177459, 0.63115467],\n",
      "       [0.40722695, 0.99055728]])]\n"
     ]
    }
   ],
   "source": [
    "a = [jet_const[:,[0,2]]for jet_const in new_cut_data]\n",
    "print(a)"
   ]
  },
  {
   "cell_type": "code",
   "execution_count": 47,
   "metadata": {},
   "outputs": [
    {
     "name": "stdout",
     "output_type": "stream",
     "text": [
      "[0.97871777 0.63655692 0.91614239]\n",
      "[0.97871777 0.63655692]\n",
      "[0.75911078 0.44960439]\n",
      "[0.75911078]\n",
      "[0.20231241 0.59754777]\n",
      "[0.20231241]\n",
      "[0.26113121 0.74083859 0.60409017 0.99859102]\n",
      "[0.26113121 0.74083859 0.60409017]\n",
      "[0.21209679 0.69501631 0.24753559]\n",
      "[0.21209679 0.69501631]\n"
     ]
    }
   ],
   "source": [
    "for jet_const in new_cut_data:\n",
    "    print(jet_const[:,0])\n",
    "    print(jet_const[:-1,0])"
   ]
  },
  {
   "cell_type": "code",
   "execution_count": 46,
   "metadata": {},
   "outputs": [
    {
     "name": "stdout",
     "output_type": "stream",
     "text": [
      "[0.8438056940131718, 0.6043575847390479, 0.39993009000062085, 0.651162744623324, 0.3848828952524548]\n",
      "[0.21508228565421253, 0.2933041124010902, 0.2545993987739518, 0.30519418829191636, 0.25061492536523694]\n",
      "[0.4152671355253024, 0.9305915189512699, 0.47521143801791466, 0.8068262347149068, 0.7300975822380785]\n",
      "[0.8076373484062733, 0.7591107791547588, 0.2023124058816611, 0.5353533195446221, 0.4535565497622538]\n",
      "[0.10286911689738365, 0.15526971767320052, 0.16898222169179455, 0.24367609070987142, 0.1520503637342021]\n",
      "[0.15779017362619163, 0.8631180130219206, 0.09879336888222601, 0.8561205298940121, 0.6278269491664584]\n",
      "[2.5314170820395154, 1.2087151694780958, 0.7998601800012417, 2.604650978493296, 1.1546486857573643]\n",
      "<class 'list'>\n"
     ]
    }
   ],
   "source": [
    "means_a = [np.mean(jet_const[:,0]) for jet_const in new_cut_data]\n",
    "means_b = [np.mean(jet_const[:,1]) for jet_const in new_cut_data]\n",
    "means_c = [np.mean(jet_const[:,2]) for jet_const in new_cut_data]\n",
    "means_a_ = [np.mean(jet_const[:-1,0]) for jet_const in new_cut_data]\n",
    "means_b_ = [np.mean(jet_const[:-1,1]) for jet_const in new_cut_data]\n",
    "means_c_ = [np.mean(jet_const[:-1,2]) for jet_const in new_cut_data]\n",
    "sums = [np.sum(jet_const[:4,0]) for jet_const in new_cut_data]\n",
    "print(means_a)\n",
    "print(means_b)\n",
    "print(means_c)\n",
    "print(means_a_)\n",
    "print(means_b_)\n",
    "print(means_c_)\n",
    "print(sums)\n",
    "print(type(means_a))"
   ]
  },
  {
   "cell_type": "code",
   "execution_count": 52,
   "metadata": {},
   "outputs": [],
   "source": [
    "feature_labels  = ['a','b','c']\n",
    "\n",
    "def create_aggregated_feature(x_data, operation, feature, nb_const = None, sorted_feature='b', sort_ascending=True):\n",
    "    try:\n",
    "        sorted_feature_index = feature_labels.index(sorted_feature)\n",
    "    except:\n",
    "        print(f\"'{sorted_feature}' not found in list of features!\")\n",
    "        return\n",
    "\n",
    "    order = sort_ascending - (not sort_ascending)\n",
    "\n",
    "    sorted_data = [x_data[i][(order*x_data[i][:, sorted_feature_index]).argsort()] for i in range(len(x_data))]\n",
    "    \n",
    "    try:\n",
    "        feature_index = feature_labels.index(feature)\n",
    "    except:\n",
    "        print(f\"'{feature}' not found in list of features!\")\n",
    "        return\n",
    "    \n",
    "    switcher = {\n",
    "        \"mean\": lambda: [np.mean(jet_const[:nb_const,feature_index]) for jet_const in sorted_data],\n",
    "        \"median\": lambda: [np.median(jet_const[:nb_const,feature_index]) for jet_const in sorted_data],\n",
    "        \"min\": lambda: [np.amin(jet_const[:nb_const,feature_index]) for jet_const in sorted_data],\n",
    "        \"max\": lambda: [np.amax(jet_const[:nb_const,feature_index]) for jet_const in sorted_data],\n",
    "        \"sum\": lambda: [np.sum(jet_const[:nb_const,feature_index]) for jet_const in sorted_data],\n",
    "    }\n",
    "\n",
    "    aggregated_feature = switcher.get(operation, lambda: None)()\n",
    "    if aggregated_feature is None:\n",
    "        raise TypeError(f\"'{operation}' not found from list of operations!\")\n",
    "    \n",
    "    return aggregated_feature\n",
    "\n",
    "def aggregate_all_features(x_data, operation):\n",
    "    agg_feature_dict = {}\n",
    "    \n",
    "    for feature in feature_labels:\n",
    "        agg_feature_dict[f'{feature}_{operation}'] = create_aggregated_feature(x_data, operation, feature)\n",
    "\n",
    "    return agg_feature_dict"
   ]
  },
  {
   "cell_type": "code",
   "execution_count": 53,
   "metadata": {},
   "outputs": [
    {
     "name": "stdout",
     "output_type": "stream",
     "text": [
      "[0.9302210593235242, 0.9980650248806193, 0.8516295071536033, 0.948262834618327, 0.9346388483813187]\n",
      "[0.9161423852269688, 0.6043575847390479, 0.39993009000062085, 0.6724643763282622, 0.24753558623285676]\n",
      "a_mean: [0.8438056940131718, 0.6043575847390479, 0.39993009000062085, 0.651162744623324, 0.3848828952524548]\n",
      "b_mean: [0.21508228565421253, 0.2933041124010902, 0.2545993987739518, 0.30519418829191636, 0.25061492536523694]\n",
      "c_mean: [0.4152671355253024, 0.9305915189512699, 0.47521143801791466, 0.8068262347149068, 0.7300975822380785]\n",
      "'d' not found in list of features!\n"
     ]
    }
   ],
   "source": [
    "alt_means_ = create_aggregated_feature(new_cut_data, 'max', 'c', 3, sorted_feature='a', sort_ascending = True)\n",
    "print(alt_means_)\n",
    "alt_sums_ = create_aggregated_feature(new_cut_data, 'median', 'a', 4)\n",
    "print(alt_sums_)\n",
    "\n",
    "all_means = aggregate_all_features(new_cut_data, 'mean')\n",
    "for feature in all_means:\n",
    "    print(f'{feature}: {all_means[feature]}')\n",
    "break_test = create_aggregated_feature(new_cut_data, 'me', 'd', 2)"
   ]
  },
  {
   "cell_type": "code",
   "execution_count": 110,
   "metadata": {},
   "outputs": [
    {
     "name": "stdout",
     "output_type": "stream",
     "text": [
      "[[[ 0.62329008  0.31537603  0.98695186]\n",
      "  [ 0.2092492   0.37123428  0.07122857]\n",
      "  [-0.999      -0.999      -0.999     ]\n",
      "  [-0.999      -0.999      -0.999     ]]\n",
      "\n",
      " [[ 0.61153328  0.30160817  0.08293803]\n",
      "  [-0.999      -0.999      -0.999     ]\n",
      "  [-0.999      -0.999      -0.999     ]\n",
      "  [-0.999      -0.999      -0.999     ]]\n",
      "\n",
      " [[ 0.20614618  0.23781982  0.07321044]\n",
      "  [ 0.29814028  0.3613127   0.68847572]\n",
      "  [ 0.75464347  0.48001996  0.3304572 ]\n",
      "  [-0.999      -0.999      -0.999     ]]\n",
      "\n",
      " [[ 0.23920947  0.05308377  0.38631762]\n",
      "  [ 0.21820527  0.16563036  0.03788958]\n",
      "  [ 0.31354992  0.16757342  0.09224389]\n",
      "  [ 0.96516806  0.19341745  0.0067916 ]]\n",
      "\n",
      " [[ 0.60452188  0.16031759  0.39418248]\n",
      "  [ 0.50079443  0.25102322  0.03547827]\n",
      "  [ 0.22961632  0.37072405  0.34178145]\n",
      "  [-0.999      -0.999      -0.999     ]]]\n",
      "\n",
      "===================\n",
      "\n",
      "[2. 1. 3. 4. 3.]\n"
     ]
    }
   ],
   "source": [
    "max_constituents = 4\n",
    "new_nb_constituents = np.array([])\n",
    "\n",
    "for jet in range(len(new_cut_data)):\n",
    "    if new_cut_data[jet].shape[0] >= max_constituents:\n",
    "        new_nb_constituents = np.append(new_nb_constituents, max_constituents)\n",
    "        new_cut_data[jet] = new_cut_data[jet][:max_constituents, :]\n",
    "    else:\n",
    "        new_nb_constituents = np.append(new_nb_constituents, new_cut_data[jet].shape[0])\n",
    "        padding_length = max_constituents - new_cut_data[jet].shape[0]\n",
    "        new_cut_data[jet] = np.pad(new_cut_data[jet], ((0, padding_length), (0, 0)), constant_values = -0.999)\n",
    "new_cut_data = np.array(new_cut_data)\n",
    "print(new_cut_data)\n",
    "print('\\n===================\\n')\n",
    "print(new_nb_constituents)"
   ]
  },
  {
   "cell_type": "code",
   "execution_count": 71,
   "metadata": {},
   "outputs": [],
   "source": [
    "positive_class = 't'"
   ]
  },
  {
   "cell_type": "code",
   "execution_count": 85,
   "metadata": {},
   "outputs": [
    {
     "data": {
      "text/plain": [
       "b't'"
      ]
     },
     "execution_count": 85,
     "metadata": {},
     "output_type": "execute_result"
    }
   ],
   "source": [
    "bytes(positive_class, 'utf-8')"
   ]
  },
  {
   "cell_type": "code",
   "execution_count": 2,
   "metadata": {},
   "outputs": [],
   "source": [
    "feature_labels = [\n",
    "        \"px\",\n",
    "        \"py\",\n",
    "        \"pz\",\n",
    "        \"E\",\n",
    "        \"E_rel\",\n",
    "        \"pT\",\n",
    "        \"pT_rel\",\n",
    "        \"eta\",\n",
    "        \"eta_rel\",\n",
    "        \"eta_rot\",\n",
    "        \"phi\",\n",
    "        \"phi_rel\",\n",
    "        \"phi_rot\",\n",
    "        \"Delta_R\",\n",
    "        \"cos(theta)\",\n",
    "        \"cos(theta_rel)\",\n",
    "    ]"
   ]
  },
  {
   "cell_type": "code",
   "execution_count": 7,
   "metadata": {},
   "outputs": [],
   "source": [
    "from prepare_data_BDT import select_feature_labels\n",
    "\n",
    "andre_features = select_feature_labels('andre')\n",
    "jedinet_features = select_feature_labels('jedinet')"
   ]
  },
  {
   "cell_type": "code",
   "execution_count": 13,
   "metadata": {},
   "outputs": [
    {
     "name": "stdout",
     "output_type": "stream",
     "text": [
      "[5, 8, 11]\n"
     ]
    }
   ],
   "source": [
    "indices = []\n",
    "\n",
    "for feature in select_feature_labels('andre'):\n",
    "    index = select_feature_labels('jedinet').index(feature)\n",
    "    indices.append(index)\n",
    "\n",
    "print(indices)"
   ]
  },
  {
   "cell_type": "code",
   "execution_count": 7,
   "metadata": {},
   "outputs": [],
   "source": [
    "import sys\n",
    "import time"
   ]
  },
  {
   "cell_type": "code",
   "execution_count": 17,
   "metadata": {},
   "outputs": [
    {
     "name": "stdout",
     "output_type": "stream",
     "text": [
      "Starting process\n",
      "[====================] 100%\n",
      "Process complete\n"
     ]
    }
   ],
   "source": [
    "print('Starting process')\n",
    "\n",
    "sys.stdout.write('\\r')\n",
    "# the exact output you're looking for:\n",
    "sys.stdout.write(\"[%-20s] %d%%\" % ('='*1, 5*1))\n",
    "sys.stdout.flush()\n",
    "time.sleep(0.5)\n",
    "\n",
    "for i in range(2, 21):\n",
    "    sys.stdout.write('\\r')\n",
    "    # the exact output you're looking for:\n",
    "    sys.stdout.write(\"[%-20s] %d%%\" % ('='*i, 5*i))\n",
    "    sys.stdout.flush()\n",
    "    time.sleep(0.5)\n",
    "\n",
    "print('\\nProcess complete')\n",
    "    "
   ]
  },
  {
   "cell_type": "code",
   "execution_count": 36,
   "metadata": {},
   "outputs": [
    {
     "name": "stdout",
     "output_type": "stream",
     "text": [
      "\u001b[91mI just came to say hello\u001b[0m\n"
     ]
    }
   ],
   "source": [
    "from terminal_colors import tcols\n",
    "\n",
    "a = True\n",
    "print(tcols.FAIL+f'I just came to say {a*\"hello\"+(not a)*\"goodbye\"}'+tcols.ENDC)"
   ]
  },
  {
   "cell_type": "code",
   "execution_count": 33,
   "metadata": {},
   "outputs": [],
   "source": [
    "df = pd.DataFrame()"
   ]
  },
  {
   "cell_type": "code",
   "execution_count": 34,
   "metadata": {},
   "outputs": [
    {
     "data": {
      "text/html": [
       "<div>\n",
       "<style scoped>\n",
       "    .dataframe tbody tr th:only-of-type {\n",
       "        vertical-align: middle;\n",
       "    }\n",
       "\n",
       "    .dataframe tbody tr th {\n",
       "        vertical-align: top;\n",
       "    }\n",
       "\n",
       "    .dataframe thead th {\n",
       "        text-align: right;\n",
       "    }\n",
       "</style>\n",
       "<table border=\"1\" class=\"dataframe\">\n",
       "  <thead>\n",
       "    <tr style=\"text-align: right;\">\n",
       "      <th></th>\n",
       "    </tr>\n",
       "  </thead>\n",
       "  <tbody>\n",
       "  </tbody>\n",
       "</table>\n",
       "</div>"
      ],
      "text/plain": [
       "Empty DataFrame\n",
       "Columns: []\n",
       "Index: []"
      ]
     },
     "execution_count": 34,
     "metadata": {},
     "output_type": "execute_result"
    }
   ],
   "source": [
    "df"
   ]
  },
  {
   "cell_type": "code",
   "execution_count": 35,
   "metadata": {},
   "outputs": [],
   "source": [
    "df['rah'] = 69"
   ]
  },
  {
   "cell_type": "code",
   "execution_count": 37,
   "metadata": {},
   "outputs": [
    {
     "data": {
      "text/html": [
       "<div>\n",
       "<style scoped>\n",
       "    .dataframe tbody tr th:only-of-type {\n",
       "        vertical-align: middle;\n",
       "    }\n",
       "\n",
       "    .dataframe tbody tr th {\n",
       "        vertical-align: top;\n",
       "    }\n",
       "\n",
       "    .dataframe thead th {\n",
       "        text-align: right;\n",
       "    }\n",
       "</style>\n",
       "<table border=\"1\" class=\"dataframe\">\n",
       "  <thead>\n",
       "    <tr style=\"text-align: right;\">\n",
       "      <th></th>\n",
       "      <th>rah</th>\n",
       "    </tr>\n",
       "  </thead>\n",
       "  <tbody>\n",
       "  </tbody>\n",
       "</table>\n",
       "</div>"
      ],
      "text/plain": [
       "Empty DataFrame\n",
       "Columns: [rah]\n",
       "Index: []"
      ]
     },
     "execution_count": 37,
     "metadata": {},
     "output_type": "execute_result"
    }
   ],
   "source": [
    "df"
   ]
  },
  {
   "cell_type": "code",
   "execution_count": 40,
   "metadata": {},
   "outputs": [
    {
     "data": {
      "text/plain": [
       "True"
      ]
     },
     "execution_count": 40,
     "metadata": {},
     "output_type": "execute_result"
    }
   ],
   "source": [
    "6 != 3"
   ]
  },
  {
   "cell_type": "code",
   "execution_count": 2,
   "metadata": {},
   "outputs": [],
   "source": [
    "a = 5"
   ]
  },
  {
   "cell_type": "code",
   "execution_count": 4,
   "metadata": {},
   "outputs": [],
   "source": [
    "b = str(a)"
   ]
  },
  {
   "cell_type": "code",
   "execution_count": 5,
   "metadata": {},
   "outputs": [
    {
     "data": {
      "text/plain": [
       "5"
      ]
     },
     "execution_count": 5,
     "metadata": {},
     "output_type": "execute_result"
    }
   ],
   "source": [
    "int(b)"
   ]
  },
  {
   "cell_type": "code",
   "execution_count": 20,
   "metadata": {},
   "outputs": [
    {
     "name": "stdout",
     "output_type": "stream",
     "text": [
      "Choosing from predified list: test\n"
     ]
    }
   ],
   "source": [
    "nb_constituents = 'test'\n",
    "\n",
    "try:\n",
    "    print(f\"Taking first {int(nb_constituents)} constituents\")\n",
    "\n",
    "except:\n",
    "    print(f\"Choosing from predified list: {nb_constituents}\")"
   ]
  },
  {
   "cell_type": "code",
   "execution_count": null,
   "metadata": {},
   "outputs": [],
   "source": []
  }
 ],
 "metadata": {
  "kernelspec": {
   "display_name": "Masters",
   "language": "python",
   "name": "python3"
  },
  "language_info": {
   "codemirror_mode": {
    "name": "ipython",
    "version": 3
   },
   "file_extension": ".py",
   "mimetype": "text/x-python",
   "name": "python",
   "nbconvert_exporter": "python",
   "pygments_lexer": "ipython3",
   "version": "3.10.9"
  },
  "orig_nbformat": 4
 },
 "nbformat": 4,
 "nbformat_minor": 2
}

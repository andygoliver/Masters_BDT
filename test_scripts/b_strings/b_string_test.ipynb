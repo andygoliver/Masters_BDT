{
 "cells": [
  {
   "cell_type": "code",
   "execution_count": 1,
   "metadata": {},
   "outputs": [],
   "source": [
    "import numpy as np\n",
    "import pandas as pd"
   ]
  },
  {
   "attachments": {},
   "cell_type": "markdown",
   "metadata": {},
   "source": [
    "Create data in the same form as in my script. The 'data' array is in the same form as the X data would be after being flattened, and the 'ohe_data' array is the same form as the y data appears from the input data set."
   ]
  },
  {
   "cell_type": "code",
   "execution_count": 2,
   "metadata": {},
   "outputs": [],
   "source": [
    "data = np.array([[1.3,6.2,7.3,], \n",
    "        [4.2,8.1,0.3], \n",
    "        [3.7,1.1,2.8], \n",
    "        [13.2,8.2,3.1,], \n",
    "        [1.3,5.1,3.9], \n",
    "        [3.2,4.1,12.5]])\n",
    "\n",
    "ohe_data = np.array([[0, 0, 0, 1, 0],\n",
    " [1, 0, 0, 0, 0],\n",
    " [0, 0, 1, 0, 0],\n",
    " [0, 0, 1, 0, 0],\n",
    " [0, 0, 0, 0, 1],\n",
    " [0, 1, 0, 0, 0]])\n",
    "\n",
    "heading = ['a', 'b', 'c']\n"
   ]
  },
  {
   "attachments": {},
   "cell_type": "markdown",
   "metadata": {},
   "source": [
    "Since the y data from the input dataset is one-hot encoded, I use code like the following to convert it into a form that can be used in the 'class' column of a pandas dataframe. "
   ]
  },
  {
   "cell_type": "code",
   "execution_count": 3,
   "metadata": {},
   "outputs": [
    {
     "name": "stdout",
     "output_type": "stream",
     "text": [
      "[b'z', b'g', b'w', b'w', b't', b'q']\n",
      "<class 'numpy.bytes_'>\n"
     ]
    }
   ],
   "source": [
    "classes = np.array([b'g', b'q', b'w', b'z', b't'])\n",
    "\n",
    "y_class = [classes[np.argmax(i)] for i in ohe_data]\n",
    "\n",
    "print(y_class)\n",
    "print(type(y_class[0]))"
   ]
  },
  {
   "attachments": {},
   "cell_type": "markdown",
   "metadata": {},
   "source": [
    "I make the data frame and add the 'class' column "
   ]
  },
  {
   "cell_type": "code",
   "execution_count": 4,
   "metadata": {},
   "outputs": [
    {
     "name": "stdout",
     "output_type": "stream",
     "text": [
      "      a    b     c\n",
      "0   1.3  6.2   7.3\n",
      "1   4.2  8.1   0.3\n",
      "2   3.7  1.1   2.8\n",
      "3  13.2  8.2   3.1\n",
      "4   1.3  5.1   3.9\n",
      "5   3.2  4.1  12.5\n"
     ]
    }
   ],
   "source": [
    "df = pd.DataFrame(data = data, columns = heading)\n",
    "print(df)"
   ]
  },
  {
   "cell_type": "code",
   "execution_count": 5,
   "metadata": {},
   "outputs": [
    {
     "name": "stdout",
     "output_type": "stream",
     "text": [
      "      a    b     c class\n",
      "0   1.3  6.2   7.3  b'z'\n",
      "1   4.2  8.1   0.3  b'g'\n",
      "2   3.7  1.1   2.8  b'w'\n",
      "3  13.2  8.2   3.1  b'w'\n",
      "4   1.3  5.1   3.9  b't'\n",
      "5   3.2  4.1  12.5  b'q'\n"
     ]
    }
   ],
   "source": [
    "df['class'] = y_class\n",
    "print(df)"
   ]
  },
  {
   "cell_type": "code",
   "execution_count": 6,
   "metadata": {},
   "outputs": [
    {
     "name": "stdout",
     "output_type": "stream",
     "text": [
      "a        float64\n",
      "b        float64\n",
      "c        float64\n",
      "class     object\n",
      "dtype: object\n"
     ]
    }
   ],
   "source": [
    "print(df.dtypes)"
   ]
  },
  {
   "attachments": {},
   "cell_type": "markdown",
   "metadata": {},
   "source": [
    "The dataframe 'knows' that the class labels are the same in the dataset as in the original 'classes' array that I used to set the values"
   ]
  },
  {
   "cell_type": "code",
   "execution_count": 7,
   "metadata": {},
   "outputs": [
    {
     "data": {
      "text/plain": [
       "0    False\n",
       "1     True\n",
       "2    False\n",
       "3    False\n",
       "4    False\n",
       "5    False\n",
       "Name: class, dtype: bool"
      ]
     },
     "execution_count": 7,
     "metadata": {},
     "output_type": "execute_result"
    }
   ],
   "source": [
    "df['class']==classes[0]"
   ]
  },
  {
   "attachments": {},
   "cell_type": "markdown",
   "metadata": {},
   "source": [
    "However, upon saving the dataframe as a csv and reloading, it fails to replicate this response, even though the dataframe superficially appears the same."
   ]
  },
  {
   "cell_type": "code",
   "execution_count": 8,
   "metadata": {},
   "outputs": [
    {
     "name": "stdout",
     "output_type": "stream",
     "text": [
      "      a    b     c class\n",
      "0   1.3  6.2   7.3  b'z'\n",
      "1   4.2  8.1   0.3  b'g'\n",
      "2   3.7  1.1   2.8  b'w'\n",
      "3  13.2  8.2   3.1  b'w'\n",
      "4   1.3  5.1   3.9  b't'\n",
      "5   3.2  4.1  12.5  b'q'\n"
     ]
    }
   ],
   "source": [
    "df.to_csv('b_string_test.csv', index=False)\n",
    "df_reloaded = pd.read_csv('b_string_test.csv', nrows = None)\n",
    "print(df_reloaded)"
   ]
  },
  {
   "cell_type": "code",
   "execution_count": 9,
   "metadata": {},
   "outputs": [
    {
     "name": "stdout",
     "output_type": "stream",
     "text": [
      "a        float64\n",
      "b        float64\n",
      "c        float64\n",
      "class     object\n",
      "dtype: object\n"
     ]
    }
   ],
   "source": [
    "print(df_reloaded.dtypes)"
   ]
  },
  {
   "cell_type": "code",
   "execution_count": 10,
   "metadata": {},
   "outputs": [
    {
     "data": {
      "text/plain": [
       "0    False\n",
       "1    False\n",
       "2    False\n",
       "3    False\n",
       "4    False\n",
       "5    False\n",
       "Name: class, dtype: bool"
      ]
     },
     "execution_count": 10,
     "metadata": {},
     "output_type": "execute_result"
    }
   ],
   "source": [
    "df_reloaded['class']==classes[0]"
   ]
  },
  {
   "cell_type": "code",
   "execution_count": null,
   "metadata": {},
   "outputs": [],
   "source": []
  }
 ],
 "metadata": {
  "kernelspec": {
   "display_name": "Masters",
   "language": "python",
   "name": "python3"
  },
  "language_info": {
   "codemirror_mode": {
    "name": "ipython",
    "version": 3
   },
   "file_extension": ".py",
   "mimetype": "text/x-python",
   "name": "python",
   "nbconvert_exporter": "python",
   "pygments_lexer": "ipython3",
   "version": "3.10.9"
  },
  "orig_nbformat": 4
 },
 "nbformat": 4,
 "nbformat_minor": 2
}

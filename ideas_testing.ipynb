{
 "cells": [
  {
   "cell_type": "code",
   "execution_count": 1,
   "metadata": {},
   "outputs": [],
   "source": [
    "import numpy as np\n",
    "import pandas as pd"
   ]
  },
  {
   "cell_type": "code",
   "execution_count": 25,
   "metadata": {},
   "outputs": [],
   "source": [
    "data = [[1.3,6.2,7.3,], [4.2,8.1,0.3], [3.7,1.1,2.8], [13.2,8.2,3.1,], [1.3,5.1,3.9], [3.2,4.1,12.5]]\n",
    "\n",
    "heading = ['a', 'b', 'c']\n",
    "\n",
    "ohe_data = np.array([[0, 0, 0, 1, 0],\n",
    " [1, 0, 0, 0, 0],\n",
    " [0, 0, 1, 0, 0],\n",
    " [0, 0, 1, 0, 0],\n",
    " [0, 0, 0, 0, 1],\n",
    " [0, 1, 0, 0, 0]])\n",
    "\n",
    "classes = np.array([b'g', b'q', b'w', b'z', b't'])"
   ]
  },
  {
   "cell_type": "code",
   "execution_count": 59,
   "metadata": {},
   "outputs": [
    {
     "name": "stdout",
     "output_type": "stream",
     "text": [
      "0\n",
      "[False, True, False, False, False, False]\n",
      "[6.2]\n",
      "1\n",
      "[False, False, False, False, False, True]\n",
      "[43.5]\n",
      "2\n",
      "[False, False, True, True, False, False]\n",
      "[7.3 4.2]\n",
      "3\n",
      "[True, False, False, False, False, False]\n",
      "[1.3]\n",
      "4\n",
      "[False, False, False, False, True, False]\n",
      "[8.1]\n"
     ]
    }
   ],
   "source": [
    "new_data = np.array([1.3,6.2,7.3,4.2,8.1,43.5])\n",
    "for i in range(len(classes)):\n",
    "    classed_data = np.array([])\n",
    "    \n",
    "    print(i)\n",
    "    boolean_mask = [np.argmax(y)==i for y in ohe_data]\n",
    "    print(boolean_mask)\n",
    "    print(new_data[[np.argmax(y)==i for y in ohe_data]])"
   ]
  },
  {
   "cell_type": "code",
   "execution_count": 30,
   "metadata": {},
   "outputs": [],
   "source": [
    "y_class = [classes[np.argmax(i)] for i in ohe_data]\n",
    "\n",
    "print(y_class)\n",
    "print(type(y_class[0]))"
   ]
  },
  {
   "cell_type": "code",
   "execution_count": 27,
   "metadata": {},
   "outputs": [],
   "source": [
    "df = pd.DataFrame(data = data, columns = heading)\n",
    "print(df)"
   ]
  },
  {
   "cell_type": "code",
   "execution_count": 34,
   "metadata": {},
   "outputs": [],
   "source": [
    "df['class'] = y_class"
   ]
  },
  {
   "cell_type": "code",
   "execution_count": 35,
   "metadata": {},
   "outputs": [
    {
     "data": {
      "text/html": [
       "<div>\n",
       "<style scoped>\n",
       "    .dataframe tbody tr th:only-of-type {\n",
       "        vertical-align: middle;\n",
       "    }\n",
       "\n",
       "    .dataframe tbody tr th {\n",
       "        vertical-align: top;\n",
       "    }\n",
       "\n",
       "    .dataframe thead th {\n",
       "        text-align: right;\n",
       "    }\n",
       "</style>\n",
       "<table border=\"1\" class=\"dataframe\">\n",
       "  <thead>\n",
       "    <tr style=\"text-align: right;\">\n",
       "      <th></th>\n",
       "      <th>a</th>\n",
       "      <th>b</th>\n",
       "      <th>c</th>\n",
       "      <th>class</th>\n",
       "    </tr>\n",
       "  </thead>\n",
       "  <tbody>\n",
       "    <tr>\n",
       "      <th>0</th>\n",
       "      <td>1.3</td>\n",
       "      <td>6.2</td>\n",
       "      <td>7.3</td>\n",
       "      <td>b'z'</td>\n",
       "    </tr>\n",
       "    <tr>\n",
       "      <th>1</th>\n",
       "      <td>4.2</td>\n",
       "      <td>8.1</td>\n",
       "      <td>0.3</td>\n",
       "      <td>b'g'</td>\n",
       "    </tr>\n",
       "    <tr>\n",
       "      <th>2</th>\n",
       "      <td>3.7</td>\n",
       "      <td>1.1</td>\n",
       "      <td>2.8</td>\n",
       "      <td>b'w'</td>\n",
       "    </tr>\n",
       "    <tr>\n",
       "      <th>3</th>\n",
       "      <td>13.2</td>\n",
       "      <td>8.2</td>\n",
       "      <td>3.1</td>\n",
       "      <td>b'w'</td>\n",
       "    </tr>\n",
       "    <tr>\n",
       "      <th>4</th>\n",
       "      <td>1.3</td>\n",
       "      <td>5.1</td>\n",
       "      <td>3.9</td>\n",
       "      <td>b't'</td>\n",
       "    </tr>\n",
       "    <tr>\n",
       "      <th>5</th>\n",
       "      <td>3.2</td>\n",
       "      <td>4.1</td>\n",
       "      <td>12.5</td>\n",
       "      <td>b'q'</td>\n",
       "    </tr>\n",
       "  </tbody>\n",
       "</table>\n",
       "</div>"
      ],
      "text/plain": [
       "      a    b     c class\n",
       "0   1.3  6.2   7.3  b'z'\n",
       "1   4.2  8.1   0.3  b'g'\n",
       "2   3.7  1.1   2.8  b'w'\n",
       "3  13.2  8.2   3.1  b'w'\n",
       "4   1.3  5.1   3.9  b't'\n",
       "5   3.2  4.1  12.5  b'q'"
      ]
     },
     "execution_count": 35,
     "metadata": {},
     "output_type": "execute_result"
    }
   ],
   "source": [
    "df"
   ]
  },
  {
   "cell_type": "code",
   "execution_count": 37,
   "metadata": {},
   "outputs": [
    {
     "name": "stdout",
     "output_type": "stream",
     "text": [
      "a        float64\n",
      "b        float64\n",
      "c        float64\n",
      "class     object\n",
      "dtype: object\n"
     ]
    }
   ],
   "source": [
    "print(df.dtypes)"
   ]
  },
  {
   "cell_type": "code",
   "execution_count": 42,
   "metadata": {},
   "outputs": [
    {
     "data": {
      "text/plain": [
       "0    False\n",
       "1    False\n",
       "2    False\n",
       "3    False\n",
       "4     True\n",
       "5    False\n",
       "Name: class, dtype: bool"
      ]
     },
     "execution_count": 42,
     "metadata": {},
     "output_type": "execute_result"
    }
   ],
   "source": [
    "df['class']==classes[4]"
   ]
  },
  {
   "cell_type": "code",
   "execution_count": 43,
   "metadata": {},
   "outputs": [
    {
     "name": "stdout",
     "output_type": "stream",
     "text": [
      "      a    b     c class\n",
      "0   1.3  6.2   7.3  b'z'\n",
      "1   4.2  8.1   0.3  b'g'\n",
      "2   3.7  1.1   2.8  b'w'\n",
      "3  13.2  8.2   3.1  b'w'\n",
      "4   1.3  5.1   3.9  b't'\n",
      "5   3.2  4.1  12.5  b'q'\n"
     ]
    }
   ],
   "source": [
    "df.to_csv('newtest.csv', index=False)\n",
    "df_reloaded = pd.read_csv('newtest.csv', nrows = None)\n",
    "print(df_reloaded)"
   ]
  },
  {
   "cell_type": "code",
   "execution_count": 44,
   "metadata": {},
   "outputs": [
    {
     "data": {
      "text/plain": [
       "0    False\n",
       "1    False\n",
       "2    False\n",
       "3    False\n",
       "4    False\n",
       "5    False\n",
       "Name: class, dtype: bool"
      ]
     },
     "execution_count": 44,
     "metadata": {},
     "output_type": "execute_result"
    }
   ],
   "source": [
    "df_reloaded['class']==classes[4]"
   ]
  },
  {
   "cell_type": "code",
   "execution_count": 52,
   "metadata": {},
   "outputs": [
    {
     "name": "stdout",
     "output_type": "stream",
     "text": [
      "      a    b     c class\n",
      "0   1.3  6.2   7.3  b'z'\n",
      "1   4.2  8.1   0.3  b'g'\n",
      "2   3.7  1.1   2.8  b'w'\n",
      "3  13.2  8.2   3.1  b'w'\n",
      "4   1.3  5.1   3.9  b't'\n",
      "5   3.2  4.1  12.5  b'q'\n",
      "\n",
      "=====================\n",
      "\n",
      "      a    b     c  class\n",
      "0   1.3  6.2   7.3  False\n",
      "1   4.2  8.1   0.3  False\n",
      "2   3.7  1.1   2.8  False\n",
      "3  13.2  8.2   3.1  False\n",
      "4   1.3  5.1   3.9   True\n",
      "5   3.2  4.1  12.5  False\n"
     ]
    }
   ],
   "source": [
    "df = pd.DataFrame(data = data, columns = heading)\n",
    "df['class'] = y_class\n",
    "print(df)\n",
    "\n",
    "print('\\n=====================\\n')\n",
    "\n",
    "positive_class = b't'\n",
    "\n",
    "if positive_class is not None:\n",
    "  df[\"class\"] = df[\"class\"] == positive_class\n",
    "\n",
    "print(df)"
   ]
  },
  {
   "cell_type": "code",
   "execution_count": 55,
   "metadata": {},
   "outputs": [],
   "source": [
    "df.to_csv('newtest.csv', index=False)"
   ]
  },
  {
   "cell_type": "code",
   "execution_count": 12,
   "metadata": {},
   "outputs": [
    {
     "name": "stdout",
     "output_type": "stream",
     "text": [
      "[[[0.09915398 0.25271707 0.84350915]\n",
      "  [0.55164128 0.62986962 0.94927525]\n",
      "  [0.63655692 0.20080617 0.18718767]\n",
      "  [0.94240982 0.85684497 0.88913425]\n",
      "  [0.97871777 0.00493207 0.12839267]\n",
      "  [0.91614239 0.43950862 0.93022106]]\n",
      "\n",
      " [[0.07350698 0.18439888 0.22193239]\n",
      "  [0.44960439 0.43133851 0.99806502]\n",
      "  [0.14887639 0.20596089 0.62355619]\n",
      "  [0.16844943 0.07062142 0.46866591]\n",
      "  [0.62572271 0.99818351 0.08608671]\n",
      "  [0.75911078 0.15526972 0.86311801]]\n",
      "\n",
      " [[0.20231241 0.16898222 0.09879337]\n",
      "  [0.22587164 0.7093602  0.16544768]\n",
      "  [0.02821424 0.4242962  0.49214306]\n",
      "  [0.77812389 0.98522281 0.75399566]\n",
      "  [0.59754777 0.34021658 0.85162951]\n",
      "  [0.16175673 0.24076111 0.94967263]]\n",
      "\n",
      " [[0.74083859 0.26360265 0.81657987]\n",
      "  [0.99859102 0.48974848 0.65894335]\n",
      "  [0.60409017 0.41683892 0.94826283]\n",
      "  [0.26113121 0.05058671 0.80351888]\n",
      "  [0.00496414 0.00898791 0.84591535]\n",
      "  [0.283656   0.88065357 0.88878192]]\n",
      "\n",
      " [[0.69501631 0.19890341 0.55740391]\n",
      "  [0.21209679 0.10519732 0.69824999]\n",
      "  [0.24753559 0.44774405 0.93463885]\n",
      "  [0.2495631  0.89155663 0.30321663]\n",
      "  [0.10400658 0.81625471 0.65663448]\n",
      "  [0.1364827  0.07628307 0.47810906]]]\n"
     ]
    }
   ],
   "source": [
    "rand_data = np.random.rand(5,6,3)\n",
    "#big_rand_data = np.random.rand(620000,50,16)\n",
    "print(rand_data)"
   ]
  },
  {
   "cell_type": "code",
   "execution_count": 13,
   "metadata": {},
   "outputs": [
    {
     "name": "stdout",
     "output_type": "stream",
     "text": [
      "-1\n"
     ]
    }
   ],
   "source": [
    "ascending = False\n",
    "order = ascending - (not ascending)\n",
    "print(order)"
   ]
  },
  {
   "cell_type": "code",
   "execution_count": 14,
   "metadata": {},
   "outputs": [
    {
     "name": "stdout",
     "output_type": "stream",
     "text": [
      "[[[0.97871777 0.00493207 0.12839267]\n",
      "  [0.94240982 0.85684497 0.88913425]\n",
      "  [0.91614239 0.43950862 0.93022106]\n",
      "  [0.63655692 0.20080617 0.18718767]\n",
      "  [0.55164128 0.62986962 0.94927525]\n",
      "  [0.09915398 0.25271707 0.84350915]]\n",
      "\n",
      " [[0.75911078 0.15526972 0.86311801]\n",
      "  [0.62572271 0.99818351 0.08608671]\n",
      "  [0.44960439 0.43133851 0.99806502]\n",
      "  [0.16844943 0.07062142 0.46866591]\n",
      "  [0.14887639 0.20596089 0.62355619]\n",
      "  [0.07350698 0.18439888 0.22193239]]\n",
      "\n",
      " [[0.77812389 0.98522281 0.75399566]\n",
      "  [0.59754777 0.34021658 0.85162951]\n",
      "  [0.22587164 0.7093602  0.16544768]\n",
      "  [0.20231241 0.16898222 0.09879337]\n",
      "  [0.16175673 0.24076111 0.94967263]\n",
      "  [0.02821424 0.4242962  0.49214306]]\n",
      "\n",
      " [[0.99859102 0.48974848 0.65894335]\n",
      "  [0.74083859 0.26360265 0.81657987]\n",
      "  [0.60409017 0.41683892 0.94826283]\n",
      "  [0.283656   0.88065357 0.88878192]\n",
      "  [0.26113121 0.05058671 0.80351888]\n",
      "  [0.00496414 0.00898791 0.84591535]]\n",
      "\n",
      " [[0.69501631 0.19890341 0.55740391]\n",
      "  [0.2495631  0.89155663 0.30321663]\n",
      "  [0.24753559 0.44774405 0.93463885]\n",
      "  [0.21209679 0.10519732 0.69824999]\n",
      "  [0.1364827  0.07628307 0.47810906]\n",
      "  [0.10400658 0.81625471 0.65663448]]]\n",
      "<class 'numpy.ndarray'>\n"
     ]
    }
   ],
   "source": [
    "sorted_data = np.array([rand_data[i][(order*rand_data[i][:, 0]).argsort()] for i in range(len(rand_data))])\n",
    "#big_sorted_data = np.asarray([big_rand_data[i][big_rand_data[i][:, 1].argsort()] for i in range(len(big_rand_data))])\n",
    "\n",
    "print(sorted_data)\n",
    "print(type(sorted_data))"
   ]
  },
  {
   "cell_type": "code",
   "execution_count": 15,
   "metadata": {},
   "outputs": [
    {
     "name": "stdout",
     "output_type": "stream",
     "text": [
      "[0.00493207 0.85684497 0.43950862 0.20080617 0.62986962 0.25271707\n",
      " 0.48974848 0.26360265 0.41683892 0.88065357 0.05058671 0.00898791]\n"
     ]
    }
   ],
   "source": [
    "boolean_index = [True, False, False, True, False]\n",
    "\n",
    "print(sorted_data[:,:,1][boolean_index].flatten())"
   ]
  },
  {
   "cell_type": "code",
   "execution_count": 16,
   "metadata": {},
   "outputs": [
    {
     "name": "stdout",
     "output_type": "stream",
     "text": [
      "[True, False, False, True, False]\n",
      "[True, False, False, True, False]\n"
     ]
    }
   ],
   "source": [
    "print(boolean_index)\n",
    "print(1*(boolean_index))"
   ]
  },
  {
   "cell_type": "code",
   "execution_count": 17,
   "metadata": {},
   "outputs": [],
   "source": [
    "boolean_mask = sorted_data[:, :, 0] > 0.2\n",
    "structure_memory = boolean_mask.sum(axis=1)"
   ]
  },
  {
   "cell_type": "code",
   "execution_count": 18,
   "metadata": {},
   "outputs": [
    {
     "name": "stdout",
     "output_type": "stream",
     "text": [
      "[[ True  True  True  True  True False]\n",
      " [ True  True  True False False False]\n",
      " [ True  True  True  True False False]\n",
      " [ True  True  True  True  True False]\n",
      " [ True  True  True  True False False]]\n",
      "[5 3 4 5 4]\n",
      "4.2\n"
     ]
    }
   ],
   "source": [
    "print(boolean_mask)\n",
    "print(structure_memory)\n",
    "print(np.mean(structure_memory))"
   ]
  },
  {
   "cell_type": "code",
   "execution_count": 19,
   "metadata": {},
   "outputs": [
    {
     "name": "stdout",
     "output_type": "stream",
     "text": [
      "[array([[0.97871777, 0.00493207, 0.12839267],\n",
      "       [0.94240982, 0.85684497, 0.88913425],\n",
      "       [0.91614239, 0.43950862, 0.93022106],\n",
      "       [0.63655692, 0.20080617, 0.18718767],\n",
      "       [0.55164128, 0.62986962, 0.94927525]]), array([[0.75911078, 0.15526972, 0.86311801],\n",
      "       [0.62572271, 0.99818351, 0.08608671],\n",
      "       [0.44960439, 0.43133851, 0.99806502]]), array([[0.77812389, 0.98522281, 0.75399566],\n",
      "       [0.59754777, 0.34021658, 0.85162951],\n",
      "       [0.22587164, 0.7093602 , 0.16544768],\n",
      "       [0.20231241, 0.16898222, 0.09879337]]), array([[0.99859102, 0.48974848, 0.65894335],\n",
      "       [0.74083859, 0.26360265, 0.81657987],\n",
      "       [0.60409017, 0.41683892, 0.94826283],\n",
      "       [0.283656  , 0.88065357, 0.88878192],\n",
      "       [0.26113121, 0.05058671, 0.80351888]]), array([[0.69501631, 0.19890341, 0.55740391],\n",
      "       [0.2495631 , 0.89155663, 0.30321663],\n",
      "       [0.24753559, 0.44774405, 0.93463885],\n",
      "       [0.21209679, 0.10519732, 0.69824999]])]\n",
      "\n",
      "================\n",
      "\n",
      "[array([[0.97871777, 0.00493207, 0.12839267],\n",
      "       [0.94240982, 0.85684497, 0.88913425],\n",
      "       [0.91614239, 0.43950862, 0.93022106],\n",
      "       [0.63655692, 0.20080617, 0.18718767],\n",
      "       [0.55164128, 0.62986962, 0.94927525]]), array([[0.75911078, 0.15526972, 0.86311801],\n",
      "       [0.62572271, 0.99818351, 0.08608671],\n",
      "       [0.44960439, 0.43133851, 0.99806502]]), array([[0.77812389, 0.98522281, 0.75399566],\n",
      "       [0.59754777, 0.34021658, 0.85162951],\n",
      "       [0.22587164, 0.7093602 , 0.16544768],\n",
      "       [0.20231241, 0.16898222, 0.09879337]]), array([[0.99859102, 0.48974848, 0.65894335],\n",
      "       [0.74083859, 0.26360265, 0.81657987],\n",
      "       [0.60409017, 0.41683892, 0.94826283],\n",
      "       [0.283656  , 0.88065357, 0.88878192],\n",
      "       [0.26113121, 0.05058671, 0.80351888]]), array([[0.69501631, 0.19890341, 0.55740391],\n",
      "       [0.2495631 , 0.89155663, 0.30321663],\n",
      "       [0.24753559, 0.44774405, 0.93463885],\n",
      "       [0.21209679, 0.10519732, 0.69824999]])]\n"
     ]
    }
   ],
   "source": [
    "cut_data = np.split(sorted_data[boolean_mask, :], np.cumsum(structure_memory)[:-1])\n",
    "\n",
    "print(cut_data)\n",
    "print('\\n================\\n')\n",
    "cut_data = [jet_const for jet_const in cut_data if jet_const.size > 0]\n",
    "\n",
    "print(cut_data)"
   ]
  },
  {
   "cell_type": "code",
   "execution_count": 20,
   "metadata": {},
   "outputs": [
    {
     "name": "stdout",
     "output_type": "stream",
     "text": [
      "[[[0.97871777 0.00493207 0.12839267]\n",
      "  [0.94240982 0.85684497 0.88913425]\n",
      "  [0.91614239 0.43950862 0.93022106]\n",
      "  [0.63655692 0.20080617 0.18718767]\n",
      "  [0.55164128 0.62986962 0.94927525]\n",
      "  [0.         0.         0.        ]]\n",
      "\n",
      " [[0.75911078 0.15526972 0.86311801]\n",
      "  [0.62572271 0.99818351 0.08608671]\n",
      "  [0.44960439 0.43133851 0.99806502]\n",
      "  [0.         0.         0.        ]\n",
      "  [0.         0.         0.        ]\n",
      "  [0.         0.         0.        ]]\n",
      "\n",
      " [[0.77812389 0.98522281 0.75399566]\n",
      "  [0.59754777 0.34021658 0.85162951]\n",
      "  [0.22587164 0.7093602  0.16544768]\n",
      "  [0.20231241 0.16898222 0.09879337]\n",
      "  [0.         0.         0.        ]\n",
      "  [0.         0.         0.        ]]\n",
      "\n",
      " [[0.99859102 0.48974848 0.65894335]\n",
      "  [0.74083859 0.26360265 0.81657987]\n",
      "  [0.60409017 0.41683892 0.94826283]\n",
      "  [0.283656   0.88065357 0.88878192]\n",
      "  [0.26113121 0.05058671 0.80351888]\n",
      "  [0.         0.         0.        ]]\n",
      "\n",
      " [[0.69501631 0.19890341 0.55740391]\n",
      "  [0.2495631  0.89155663 0.30321663]\n",
      "  [0.24753559 0.44774405 0.93463885]\n",
      "  [0.21209679 0.10519732 0.69824999]\n",
      "  [0.         0.         0.        ]\n",
      "  [0.         0.         0.        ]]]\n",
      "\n",
      "===================\n",
      "\n",
      "[5. 3. 4. 5. 4.]\n"
     ]
    }
   ],
   "source": [
    "max_constituents = 6\n",
    "nb_constituents = np.array([])\n",
    "\n",
    "for jet in range(len(cut_data)):\n",
    "    if cut_data[jet].shape[0] >= max_constituents:\n",
    "        nb_constituents = np.append(nb_constituents, max_constituents)\n",
    "        cut_data[jet] = cut_data[jet][:max_constituents, :]\n",
    "    else:\n",
    "        nb_constituents = np.append(nb_constituents, cut_data[jet].shape[0])\n",
    "        padding_length = max_constituents - cut_data[jet].shape[0]\n",
    "        cut_data[jet] = np.pad(cut_data[jet], ((0, padding_length), (0, 0)), constant_values = 0)\n",
    "cut_data = np.array(cut_data)\n",
    "print(cut_data)\n",
    "print('\\n===================\\n')\n",
    "print(nb_constituents)"
   ]
  },
  {
   "cell_type": "code",
   "execution_count": 21,
   "metadata": {},
   "outputs": [
    {
     "name": "stdout",
     "output_type": "stream",
     "text": [
      "[[ True  True  True  True  True False]\n",
      " [ True  True  True False False False]\n",
      " [ True  True  True  True False False]\n",
      " [ True  True  True  True  True False]\n",
      " [ True  True  True  True False False]]\n"
     ]
    }
   ],
   "source": [
    "is_not_padded = np.any(cut_data, axis = 2)\n",
    "print(is_not_padded)\n",
    "# is_positive_class = [True, False, False, True, False]\n",
    "# print(is_positive_class)"
   ]
  },
  {
   "cell_type": "code",
   "execution_count": 22,
   "metadata": {},
   "outputs": [
    {
     "name": "stdout",
     "output_type": "stream",
     "text": [
      "[[ True False  True  True False  True]\n",
      " [ True False  True  True  True  True]\n",
      " [False  True False  True  True  True]\n",
      " [ True  True  True False  True  True]\n",
      " [ True False  True  True  True  True]]\n"
     ]
    }
   ],
   "source": [
    "cut_boolean_mask = cut_data[:, :, 1] < 0.5\n",
    "print(cut_boolean_mask)"
   ]
  },
  {
   "cell_type": "code",
   "execution_count": 23,
   "metadata": {},
   "outputs": [
    {
     "name": "stdout",
     "output_type": "stream",
     "text": [
      "[[ True False  True  True False False]\n",
      " [ True False  True False False False]\n",
      " [False  True False  True False False]\n",
      " [ True  True  True False  True False]\n",
      " [ True False  True  True False False]]\n",
      "[3 2 2 4 3]\n"
     ]
    }
   ],
   "source": [
    "new_boolean_mask = cut_boolean_mask * is_not_padded\n",
    "new_structure_memory = new_boolean_mask.sum(axis = 1)\n",
    "print(new_boolean_mask)\n",
    "print(new_structure_memory)"
   ]
  },
  {
   "cell_type": "code",
   "execution_count": 24,
   "metadata": {},
   "outputs": [
    {
     "name": "stdout",
     "output_type": "stream",
     "text": [
      "[array([[0.97871777, 0.00493207, 0.12839267],\n",
      "       [0.91614239, 0.43950862, 0.93022106],\n",
      "       [0.63655692, 0.20080617, 0.18718767]]), array([[0.75911078, 0.15526972, 0.86311801],\n",
      "       [0.44960439, 0.43133851, 0.99806502]]), array([[0.59754777, 0.34021658, 0.85162951],\n",
      "       [0.20231241, 0.16898222, 0.09879337]]), array([[0.99859102, 0.48974848, 0.65894335],\n",
      "       [0.74083859, 0.26360265, 0.81657987],\n",
      "       [0.60409017, 0.41683892, 0.94826283],\n",
      "       [0.26113121, 0.05058671, 0.80351888]]), array([[0.69501631, 0.19890341, 0.55740391],\n",
      "       [0.24753559, 0.44774405, 0.93463885],\n",
      "       [0.21209679, 0.10519732, 0.69824999]])]\n",
      "-----------------\n",
      "[array([[0.97871777, 0.00493207, 0.12839267],\n",
      "       [0.63655692, 0.20080617, 0.18718767],\n",
      "       [0.91614239, 0.43950862, 0.93022106]]), array([[0.75911078, 0.15526972, 0.86311801],\n",
      "       [0.44960439, 0.43133851, 0.99806502]]), array([[0.20231241, 0.16898222, 0.09879337],\n",
      "       [0.59754777, 0.34021658, 0.85162951]]), array([[0.26113121, 0.05058671, 0.80351888],\n",
      "       [0.74083859, 0.26360265, 0.81657987],\n",
      "       [0.60409017, 0.41683892, 0.94826283],\n",
      "       [0.99859102, 0.48974848, 0.65894335]]), array([[0.21209679, 0.10519732, 0.69824999],\n",
      "       [0.69501631, 0.19890341, 0.55740391],\n",
      "       [0.24753559, 0.44774405, 0.93463885]])]\n",
      "<class 'list'>\n"
     ]
    }
   ],
   "source": [
    "new_cut_data = np.split(cut_data[new_boolean_mask, :], np.cumsum(new_structure_memory)[:-1])\n",
    "print(new_cut_data)\n",
    "\n",
    "# new_cut_data = [jet_const for jet_const in new_cut_data if jet_const.size >0]\n",
    "# print(new_cut_data)\n",
    "\n",
    "ascending = True\n",
    "order = ascending - (not ascending)\n",
    "\n",
    "new_cut_data = [new_cut_data[i][(order*new_cut_data[i][:, 1]).argsort()] for i in range(len(new_cut_data))]\n",
    "\n",
    "print('-----------------')\n",
    "print(new_cut_data)\n",
    "print(type(new_cut_data))"
   ]
  },
  {
   "cell_type": "code",
   "execution_count": 47,
   "metadata": {},
   "outputs": [
    {
     "name": "stdout",
     "output_type": "stream",
     "text": [
      "[0.97871777 0.63655692 0.91614239]\n",
      "[0.97871777 0.63655692]\n",
      "[0.75911078 0.44960439]\n",
      "[0.75911078]\n",
      "[0.20231241 0.59754777]\n",
      "[0.20231241]\n",
      "[0.26113121 0.74083859 0.60409017 0.99859102]\n",
      "[0.26113121 0.74083859 0.60409017]\n",
      "[0.21209679 0.69501631 0.24753559]\n",
      "[0.21209679 0.69501631]\n"
     ]
    }
   ],
   "source": [
    "for jet_const in new_cut_data:\n",
    "    print(jet_const[:,0])\n",
    "    print(jet_const[:-1,0])"
   ]
  },
  {
   "cell_type": "code",
   "execution_count": 46,
   "metadata": {},
   "outputs": [
    {
     "name": "stdout",
     "output_type": "stream",
     "text": [
      "[0.8438056940131718, 0.6043575847390479, 0.39993009000062085, 0.651162744623324, 0.3848828952524548]\n",
      "[0.21508228565421253, 0.2933041124010902, 0.2545993987739518, 0.30519418829191636, 0.25061492536523694]\n",
      "[0.4152671355253024, 0.9305915189512699, 0.47521143801791466, 0.8068262347149068, 0.7300975822380785]\n",
      "[0.8076373484062733, 0.7591107791547588, 0.2023124058816611, 0.5353533195446221, 0.4535565497622538]\n",
      "[0.10286911689738365, 0.15526971767320052, 0.16898222169179455, 0.24367609070987142, 0.1520503637342021]\n",
      "[0.15779017362619163, 0.8631180130219206, 0.09879336888222601, 0.8561205298940121, 0.6278269491664584]\n",
      "[2.5314170820395154, 1.2087151694780958, 0.7998601800012417, 2.604650978493296, 1.1546486857573643]\n",
      "<class 'list'>\n"
     ]
    }
   ],
   "source": [
    "means_a = [np.mean(jet_const[:,0]) for jet_const in new_cut_data]\n",
    "means_b = [np.mean(jet_const[:,1]) for jet_const in new_cut_data]\n",
    "means_c = [np.mean(jet_const[:,2]) for jet_const in new_cut_data]\n",
    "means_a_ = [np.mean(jet_const[:-1,0]) for jet_const in new_cut_data]\n",
    "means_b_ = [np.mean(jet_const[:-1,1]) for jet_const in new_cut_data]\n",
    "means_c_ = [np.mean(jet_const[:-1,2]) for jet_const in new_cut_data]\n",
    "sums = [np.sum(jet_const[:4,0]) for jet_const in new_cut_data]\n",
    "print(means_a)\n",
    "print(means_b)\n",
    "print(means_c)\n",
    "print(means_a_)\n",
    "print(means_b_)\n",
    "print(means_c_)\n",
    "print(sums)\n",
    "print(type(means_a))"
   ]
  },
  {
   "cell_type": "code",
   "execution_count": 52,
   "metadata": {},
   "outputs": [],
   "source": [
    "feature_labels  = ['a','b','c']\n",
    "\n",
    "def create_aggregated_feature(x_data, operation, feature, nb_const = None, sorted_feature='b', sort_ascending=True):\n",
    "    try:\n",
    "        sorted_feature_index = feature_labels.index(sorted_feature)\n",
    "    except:\n",
    "        print(f\"'{sorted_feature}' not found in list of features!\")\n",
    "        return\n",
    "\n",
    "    order = sort_ascending - (not sort_ascending)\n",
    "\n",
    "    sorted_data = [x_data[i][(order*x_data[i][:, sorted_feature_index]).argsort()] for i in range(len(x_data))]\n",
    "    \n",
    "    try:\n",
    "        feature_index = feature_labels.index(feature)\n",
    "    except:\n",
    "        print(f\"'{feature}' not found in list of features!\")\n",
    "        return\n",
    "    \n",
    "    switcher = {\n",
    "        \"mean\": lambda: [np.mean(jet_const[:nb_const,feature_index]) for jet_const in sorted_data],\n",
    "        \"median\": lambda: [np.median(jet_const[:nb_const,feature_index]) for jet_const in sorted_data],\n",
    "        \"min\": lambda: [np.amin(jet_const[:nb_const,feature_index]) for jet_const in sorted_data],\n",
    "        \"max\": lambda: [np.amax(jet_const[:nb_const,feature_index]) for jet_const in sorted_data],\n",
    "        \"sum\": lambda: [np.sum(jet_const[:nb_const,feature_index]) for jet_const in sorted_data],\n",
    "    }\n",
    "\n",
    "    aggregated_feature = switcher.get(operation, lambda: None)()\n",
    "    if aggregated_feature is None:\n",
    "        raise TypeError(f\"'{operation}' not found from list of operations!\")\n",
    "    \n",
    "    return aggregated_feature\n",
    "\n",
    "def aggregate_all_features(x_data, operation):\n",
    "    agg_feature_dict = {}\n",
    "    \n",
    "    for feature in feature_labels:\n",
    "        agg_feature_dict[f'{feature}_{operation}'] = create_aggregated_feature(x_data, operation, feature)\n",
    "\n",
    "    return agg_feature_dict"
   ]
  },
  {
   "cell_type": "code",
   "execution_count": 53,
   "metadata": {},
   "outputs": [
    {
     "name": "stdout",
     "output_type": "stream",
     "text": [
      "[0.9302210593235242, 0.9980650248806193, 0.8516295071536033, 0.948262834618327, 0.9346388483813187]\n",
      "[0.9161423852269688, 0.6043575847390479, 0.39993009000062085, 0.6724643763282622, 0.24753558623285676]\n",
      "a_mean: [0.8438056940131718, 0.6043575847390479, 0.39993009000062085, 0.651162744623324, 0.3848828952524548]\n",
      "b_mean: [0.21508228565421253, 0.2933041124010902, 0.2545993987739518, 0.30519418829191636, 0.25061492536523694]\n",
      "c_mean: [0.4152671355253024, 0.9305915189512699, 0.47521143801791466, 0.8068262347149068, 0.7300975822380785]\n",
      "'d' not found in list of features!\n"
     ]
    }
   ],
   "source": [
    "alt_means_ = create_aggregated_feature(new_cut_data, 'max', 'c', 3, sorted_feature='a', sort_ascending = True)\n",
    "print(alt_means_)\n",
    "alt_sums_ = create_aggregated_feature(new_cut_data, 'median', 'a', 4)\n",
    "print(alt_sums_)\n",
    "\n",
    "all_means = aggregate_all_features(new_cut_data, 'mean')\n",
    "for feature in all_means:\n",
    "    print(f'{feature}: {all_means[feature]}')\n",
    "break_test = create_aggregated_feature(new_cut_data, 'me', 'd', 2)"
   ]
  },
  {
   "cell_type": "code",
   "execution_count": 110,
   "metadata": {},
   "outputs": [
    {
     "name": "stdout",
     "output_type": "stream",
     "text": [
      "[[[ 0.62329008  0.31537603  0.98695186]\n",
      "  [ 0.2092492   0.37123428  0.07122857]\n",
      "  [-0.999      -0.999      -0.999     ]\n",
      "  [-0.999      -0.999      -0.999     ]]\n",
      "\n",
      " [[ 0.61153328  0.30160817  0.08293803]\n",
      "  [-0.999      -0.999      -0.999     ]\n",
      "  [-0.999      -0.999      -0.999     ]\n",
      "  [-0.999      -0.999      -0.999     ]]\n",
      "\n",
      " [[ 0.20614618  0.23781982  0.07321044]\n",
      "  [ 0.29814028  0.3613127   0.68847572]\n",
      "  [ 0.75464347  0.48001996  0.3304572 ]\n",
      "  [-0.999      -0.999      -0.999     ]]\n",
      "\n",
      " [[ 0.23920947  0.05308377  0.38631762]\n",
      "  [ 0.21820527  0.16563036  0.03788958]\n",
      "  [ 0.31354992  0.16757342  0.09224389]\n",
      "  [ 0.96516806  0.19341745  0.0067916 ]]\n",
      "\n",
      " [[ 0.60452188  0.16031759  0.39418248]\n",
      "  [ 0.50079443  0.25102322  0.03547827]\n",
      "  [ 0.22961632  0.37072405  0.34178145]\n",
      "  [-0.999      -0.999      -0.999     ]]]\n",
      "\n",
      "===================\n",
      "\n",
      "[2. 1. 3. 4. 3.]\n"
     ]
    }
   ],
   "source": [
    "max_constituents = 4\n",
    "new_nb_constituents = np.array([])\n",
    "\n",
    "for jet in range(len(new_cut_data)):\n",
    "    if new_cut_data[jet].shape[0] >= max_constituents:\n",
    "        new_nb_constituents = np.append(new_nb_constituents, max_constituents)\n",
    "        new_cut_data[jet] = new_cut_data[jet][:max_constituents, :]\n",
    "    else:\n",
    "        new_nb_constituents = np.append(new_nb_constituents, new_cut_data[jet].shape[0])\n",
    "        padding_length = max_constituents - new_cut_data[jet].shape[0]\n",
    "        new_cut_data[jet] = np.pad(new_cut_data[jet], ((0, padding_length), (0, 0)), constant_values = -0.999)\n",
    "new_cut_data = np.array(new_cut_data)\n",
    "print(new_cut_data)\n",
    "print('\\n===================\\n')\n",
    "print(new_nb_constituents)"
   ]
  },
  {
   "cell_type": "code",
   "execution_count": 71,
   "metadata": {},
   "outputs": [],
   "source": [
    "positive_class = 't'"
   ]
  },
  {
   "cell_type": "code",
   "execution_count": 85,
   "metadata": {},
   "outputs": [
    {
     "data": {
      "text/plain": [
       "b't'"
      ]
     },
     "execution_count": 85,
     "metadata": {},
     "output_type": "execute_result"
    }
   ],
   "source": [
    "bytes(positive_class, 'utf-8')"
   ]
  },
  {
   "cell_type": "code",
   "execution_count": 86,
   "metadata": {},
   "outputs": [],
   "source": [
    "feature_labels = [\n",
    "        \"px\",\n",
    "        \"py\",\n",
    "        \"pz\",\n",
    "        \"E\",\n",
    "        \"E_rel\",\n",
    "        \"pT\",\n",
    "        \"pT_rel\",\n",
    "        \"eta\",\n",
    "        \"eta_rel\",\n",
    "        \"eta_rot\",\n",
    "        \"phi\",\n",
    "        \"phi_rel\",\n",
    "        \"phi_rot\",\n",
    "        \"Delta_R\",\n",
    "        \"cos(theta)\",\n",
    "        \"cos(theta_rel)\",\n",
    "    ]"
   ]
  },
  {
   "cell_type": "code",
   "execution_count": 114,
   "metadata": {},
   "outputs": [
    {
     "name": "stdout",
     "output_type": "stream",
     "text": [
      "[False False False False]\n"
     ]
    }
   ],
   "source": [
    "a = np.array([0,0,0,0])\n",
    "print(a!=0)"
   ]
  },
  {
   "cell_type": "code",
   "execution_count": 115,
   "metadata": {},
   "outputs": [
    {
     "name": "stdout",
     "output_type": "stream",
     "text": [
      "[4, 4, 4, 4, 4]\n"
     ]
    }
   ],
   "source": [
    "constituents_distribution = []\n",
    "for jet in rand_data:\n",
    "    const_nb = 0\n",
    "    for const in jet:\n",
    "        if const[0] != 0:\n",
    "            const_nb += 1\n",
    "    constituents_distribution.append(const_nb)\n",
    "\n",
    "print(constituents_distribution)"
   ]
  },
  {
   "cell_type": "code",
   "execution_count": 6,
   "metadata": {},
   "outputs": [
    {
     "data": {
      "text/plain": [
       "array([0.  , 0.25, 0.5 , 0.75, 1.  , 1.25, 1.5 , 1.75])"
      ]
     },
     "execution_count": 6,
     "metadata": {},
     "output_type": "execute_result"
    }
   ],
   "source": [
    "np.arange(0,2,0.25)"
   ]
  },
  {
   "cell_type": "code",
   "execution_count": 10,
   "metadata": {},
   "outputs": [
    {
     "name": "stdout",
     "output_type": "stream",
     "text": [
      "[ 0.    0.25  0.5   0.75  1.    1.25  1.5   1.75  2.    2.5   3.    3.5\n",
      "  4.    4.5   5.    6.    7.    8.    9.   10.  ]\n"
     ]
    }
   ],
   "source": [
    "print(np.asarray(np.append(np.append(np.arange(0,2,0.25),np.arange(2,5,0.5)), np.arange(5,11,1))))"
   ]
  },
  {
   "cell_type": "code",
   "execution_count": 7,
   "metadata": {},
   "outputs": [],
   "source": [
    "import sys\n",
    "import time"
   ]
  },
  {
   "cell_type": "code",
   "execution_count": 17,
   "metadata": {},
   "outputs": [
    {
     "name": "stdout",
     "output_type": "stream",
     "text": [
      "Starting process\n",
      "[====================] 100%\n",
      "Process complete\n"
     ]
    }
   ],
   "source": [
    "print('Starting process')\n",
    "\n",
    "sys.stdout.write('\\r')\n",
    "# the exact output you're looking for:\n",
    "sys.stdout.write(\"[%-20s] %d%%\" % ('='*1, 5*1))\n",
    "sys.stdout.flush()\n",
    "time.sleep(0.5)\n",
    "\n",
    "for i in range(2, 21):\n",
    "    sys.stdout.write('\\r')\n",
    "    # the exact output you're looking for:\n",
    "    sys.stdout.write(\"[%-20s] %d%%\" % ('='*i, 5*i))\n",
    "    sys.stdout.flush()\n",
    "    time.sleep(0.5)\n",
    "\n",
    "print('\\nProcess complete')\n",
    "    "
   ]
  },
  {
   "cell_type": "code",
   "execution_count": 15,
   "metadata": {},
   "outputs": [
    {
     "name": "stdout",
     "output_type": "stream",
     "text": [
      "Hello 12fish\n"
     ]
    }
   ],
   "source": [
    "a = 12\n",
    "b= 'fish'\n",
    "\n",
    "print(f'Hello {a}{b}')"
   ]
  },
  {
   "cell_type": "code",
   "execution_count": 63,
   "metadata": {},
   "outputs": [],
   "source": []
  },
  {
   "cell_type": "code",
   "execution_count": 72,
   "metadata": {},
   "outputs": [
    {
     "name": "stdout",
     "output_type": "stream",
     "text": [
      "[[1]\n",
      " [0]\n",
      " [1]\n",
      " [2]\n",
      " [3]]\n"
     ]
    }
   ],
   "source": [
    "a = np.array([[1]])\n",
    "for i in range(4):\n",
    "    a = np.concatenate((a,[[i]]), axis = 0)\n",
    "\n",
    "print(a)"
   ]
  },
  {
   "cell_type": "code",
   "execution_count": 75,
   "metadata": {},
   "outputs": [
    {
     "name": "stdout",
     "output_type": "stream",
     "text": [
      "[[9]\n",
      " [2]\n",
      " [3]\n",
      " [4]\n",
      " [5]]\n"
     ]
    }
   ],
   "source": [
    "b = np.array([[9]])\n",
    "\n",
    "for i in range(2,6):\n",
    "    b = np.concatenate((b,[[i]]), axis = 0)\n",
    "\n",
    "print(b)"
   ]
  },
  {
   "cell_type": "code",
   "execution_count": 74,
   "metadata": {},
   "outputs": [
    {
     "name": "stdout",
     "output_type": "stream",
     "text": [
      "[[1 9]\n",
      " [0 2]\n",
      " [1 3]\n",
      " [2 4]\n",
      " [3 5]]\n"
     ]
    }
   ],
   "source": [
    "print(np.concatenate((a,b), axis = 1))"
   ]
  },
  {
   "cell_type": "code",
   "execution_count": 4,
   "metadata": {},
   "outputs": [
    {
     "name": "stdout",
     "output_type": "stream",
     "text": [
      "[0. 1. 2. 3.]\n",
      "[5. 6. 7. 8.]\n",
      "[[0. 1. 2. 3.]\n",
      " [5. 6. 7. 8.]]\n"
     ]
    }
   ],
   "source": [
    "c = np.array([])\n",
    "\n",
    "for i in range(4):\n",
    "    c = np.append(c, i)\n",
    "\n",
    "print(c)\n",
    "\n",
    "d = np.array([])\n",
    "\n",
    "for i in range(5,9):\n",
    "    d = np.append(d, i)\n",
    "\n",
    "print(d)\n",
    "\n",
    "e = np.concatenate(([c],[d]), axis =0)\n",
    "print(e)"
   ]
  },
  {
   "cell_type": "code",
   "execution_count": 5,
   "metadata": {},
   "outputs": [
    {
     "data": {
      "text/plain": [
       "array([[0., 5.],\n",
       "       [1., 6.],\n",
       "       [2., 7.],\n",
       "       [3., 8.]])"
      ]
     },
     "execution_count": 5,
     "metadata": {},
     "output_type": "execute_result"
    }
   ],
   "source": [
    "np.swapaxes(e, 0, 1)"
   ]
  },
  {
   "cell_type": "code",
   "execution_count": 7,
   "metadata": {},
   "outputs": [
    {
     "data": {
      "text/plain": [
       "array([1., 6.])"
      ]
     },
     "execution_count": 7,
     "metadata": {},
     "output_type": "execute_result"
    }
   ],
   "source": [
    "e[:,1]"
   ]
  },
  {
   "cell_type": "code",
   "execution_count": 36,
   "metadata": {},
   "outputs": [],
   "source": [
    "def combine_array(a1, a2):\n",
    "    if np.ndim(a1) == 2:\n",
    "        combined_array = np.concatenate((a1, [a2]), axis = 0)\n",
    "    elif np.ndim(a1) == 1:\n",
    "        combined_array = np.concatenate(([a1], [a2]), axis =1)\n",
    "\n",
    "    return combined_array"
   ]
  },
  {
   "cell_type": "code",
   "execution_count": 32,
   "metadata": {},
   "outputs": [
    {
     "name": "stdout",
     "output_type": "stream",
     "text": [
      "[[0. 1. 2. 3.]]\n",
      "[[0. 1. 2. 3.]\n",
      " [5. 6. 7. 8.]]\n"
     ]
    }
   ],
   "source": [
    "f = np.array([])\n",
    "\n",
    "f = np.concatenate(([f], [c]), axis = 1)\n",
    "print(np.asarray(f))\n",
    "\n",
    "f = np.concatenate((f,[d]), axis = 0)\n",
    "\n",
    "print(np.asarray(f))"
   ]
  },
  {
   "cell_type": "code",
   "execution_count": 28,
   "metadata": {},
   "outputs": [
    {
     "data": {
      "text/plain": [
       "1"
      ]
     },
     "execution_count": 28,
     "metadata": {},
     "output_type": "execute_result"
    }
   ],
   "source": [
    "np.ndim(c)"
   ]
  },
  {
   "cell_type": "code",
   "execution_count": 38,
   "metadata": {},
   "outputs": [
    {
     "name": "stdout",
     "output_type": "stream",
     "text": [
      "[[0. 1. 2. 3.]]\n",
      "[[0. 1. 2. 3.]\n",
      " [5. 6. 7. 8.]]\n"
     ]
    }
   ],
   "source": [
    "f = np.array([])\n",
    "\n",
    "f = combine_array(f, c)\n",
    "print(f)\n",
    "\n",
    "f = combine_array(f,d)\n",
    "print(f)"
   ]
  },
  {
   "cell_type": "code",
   "execution_count": 5,
   "metadata": {},
   "outputs": [],
   "source": [
    "import os\n",
    "\n",
    "def get_file_paths(data_file_dir: str) -> list:\n",
    "    \"\"\"Gets path to the data files inside a given directory.\n",
    "\n",
    "    Args:\n",
    "        data_file_dir: Path to directory containing the data files.\n",
    "\n",
    "    Returns:\n",
    "        Array of paths to the data files themselves.\n",
    "    \"\"\"\n",
    "    file_names = os.listdir(data_file_dir)\n",
    "    print(file_names)\n",
    "    file_paths = [os.path.join(data_file_dir, file_name) for file_name in file_names]\n",
    "\n",
    "    return file_paths"
   ]
  },
  {
   "cell_type": "code",
   "execution_count": 6,
   "metadata": {},
   "outputs": [
    {
     "name": "stdout",
     "output_type": "stream",
     "text": [
      "['jetImage_0_150p_40000_50000.h5', 'jetImage_4_150p_20000_30000.h5', 'jetImage_2_150p_50000_60000.h5', 'jetImage_5_150p_30000_40000.h5', 'jetImage_0_150p_70000_80000.h5', 'jetImage_3_150p_20000_30000.h5', 'jetImage_1_150p_0_10000.h5', 'jetImage_5_150p_50000_60000.h5', 'jetImage_2_150p_30000_40000.h5', 'jetImage_0_150p_0_10000.h5', 'jetImage_1_150p_80000_90000.h5', 'jetImage_1_150p_10000_20000.h5', 'jetImage_0_150p_60000_70000.h5', 'jetImage_6_150p_10000_20000.h5', 'jetImage_6_150p_80000_90000.h5', 'jetImage_0_150p_20000_30000.h5', 'jetImage_3_150p_70000_80000.h5', 'jetImage_1_150p_30000_40000.h5', 'jetImage_6_150p_50000_60000.h5', 'jetImage_3_150p_0_10000.h5', 'jetImage_4_150p_70000_80000.h5', 'jetImage_6_150p_30000_40000.h5', 'jetImage_1_150p_50000_60000.h5', 'jetImage_4_150p_40000_50000.h5', 'jetImage_3_150p_40000_50000.h5', 'jetImage_3_150p_60000_70000.h5', 'jetImage_5_150p_80000_90000.h5', 'jetImage_5_150p_10000_20000.h5', 'jetImage_2_150p_0_10000.h5', 'jetImage_4_150p_60000_70000.h5', 'jetImage_2_150p_10000_20000.h5', 'jetImage_2_150p_80000_90000.h5', 'jetImage_1_150p_60000_70000.h5', 'jetImage_4_150p_0_10000.h5', 'jetImage_6_150p_60000_70000.h5', 'jetImage_0_150p_80000_90000.h5', 'jetImage_0_150p_10000_20000.h5', 'jetImage_1_150p_70000_80000.h5', 'jetImage_2_150p_20000_30000.h5', 'jetImage_3_150p_30000_40000.h5', 'jetImage_4_150p_50000_60000.h5', 'jetImage_5_150p_20000_30000.h5', 'jetImage_6_150p_70000_80000.h5', 'jetImage_5_150p_0_10000.h5', 'jetImage_4_150p_30000_40000.h5', 'jetImage_6_150p_40000_50000.h5', 'jetImage_1_150p_40000_50000.h5', 'jetImage_5_150p_60000_70000.h5', 'jetImage_3_150p_10000_20000.h5', 'jetImage_3_150p_80000_90000.h5', 'jetImage_2_150p_60000_70000.h5', 'jetImage_6_150p_0_10000.h5', 'jetImage_4_150p_80000_90000.h5', 'jetImage_4_150p_10000_20000.h5', 'jetImage_2_150p_40000_50000.h5', 'jetImage_5_150p_40000_50000.h5', 'jetImage_5_150p_70000_80000.h5', 'jetImage_6_150p_20000_30000.h5', 'jetImage_0_150p_50000_60000.h5', 'jetImage_1_150p_20000_30000.h5', 'jetImage_2_150p_70000_80000.h5', 'jetImage_0_150p_30000_40000.h5']\n"
     ]
    },
    {
     "data": {
      "text/plain": [
       "['../Data/train/jetImage_0_150p_40000_50000.h5',\n",
       " '../Data/train/jetImage_4_150p_20000_30000.h5',\n",
       " '../Data/train/jetImage_2_150p_50000_60000.h5',\n",
       " '../Data/train/jetImage_5_150p_30000_40000.h5',\n",
       " '../Data/train/jetImage_0_150p_70000_80000.h5',\n",
       " '../Data/train/jetImage_3_150p_20000_30000.h5',\n",
       " '../Data/train/jetImage_1_150p_0_10000.h5',\n",
       " '../Data/train/jetImage_5_150p_50000_60000.h5',\n",
       " '../Data/train/jetImage_2_150p_30000_40000.h5',\n",
       " '../Data/train/jetImage_0_150p_0_10000.h5',\n",
       " '../Data/train/jetImage_1_150p_80000_90000.h5',\n",
       " '../Data/train/jetImage_1_150p_10000_20000.h5',\n",
       " '../Data/train/jetImage_0_150p_60000_70000.h5',\n",
       " '../Data/train/jetImage_6_150p_10000_20000.h5',\n",
       " '../Data/train/jetImage_6_150p_80000_90000.h5',\n",
       " '../Data/train/jetImage_0_150p_20000_30000.h5',\n",
       " '../Data/train/jetImage_3_150p_70000_80000.h5',\n",
       " '../Data/train/jetImage_1_150p_30000_40000.h5',\n",
       " '../Data/train/jetImage_6_150p_50000_60000.h5',\n",
       " '../Data/train/jetImage_3_150p_0_10000.h5',\n",
       " '../Data/train/jetImage_4_150p_70000_80000.h5',\n",
       " '../Data/train/jetImage_6_150p_30000_40000.h5',\n",
       " '../Data/train/jetImage_1_150p_50000_60000.h5',\n",
       " '../Data/train/jetImage_4_150p_40000_50000.h5',\n",
       " '../Data/train/jetImage_3_150p_40000_50000.h5',\n",
       " '../Data/train/jetImage_3_150p_60000_70000.h5',\n",
       " '../Data/train/jetImage_5_150p_80000_90000.h5',\n",
       " '../Data/train/jetImage_5_150p_10000_20000.h5',\n",
       " '../Data/train/jetImage_2_150p_0_10000.h5',\n",
       " '../Data/train/jetImage_4_150p_60000_70000.h5',\n",
       " '../Data/train/jetImage_2_150p_10000_20000.h5',\n",
       " '../Data/train/jetImage_2_150p_80000_90000.h5',\n",
       " '../Data/train/jetImage_1_150p_60000_70000.h5',\n",
       " '../Data/train/jetImage_4_150p_0_10000.h5',\n",
       " '../Data/train/jetImage_6_150p_60000_70000.h5',\n",
       " '../Data/train/jetImage_0_150p_80000_90000.h5',\n",
       " '../Data/train/jetImage_0_150p_10000_20000.h5',\n",
       " '../Data/train/jetImage_1_150p_70000_80000.h5',\n",
       " '../Data/train/jetImage_2_150p_20000_30000.h5',\n",
       " '../Data/train/jetImage_3_150p_30000_40000.h5',\n",
       " '../Data/train/jetImage_4_150p_50000_60000.h5',\n",
       " '../Data/train/jetImage_5_150p_20000_30000.h5',\n",
       " '../Data/train/jetImage_6_150p_70000_80000.h5',\n",
       " '../Data/train/jetImage_5_150p_0_10000.h5',\n",
       " '../Data/train/jetImage_4_150p_30000_40000.h5',\n",
       " '../Data/train/jetImage_6_150p_40000_50000.h5',\n",
       " '../Data/train/jetImage_1_150p_40000_50000.h5',\n",
       " '../Data/train/jetImage_5_150p_60000_70000.h5',\n",
       " '../Data/train/jetImage_3_150p_10000_20000.h5',\n",
       " '../Data/train/jetImage_3_150p_80000_90000.h5',\n",
       " '../Data/train/jetImage_2_150p_60000_70000.h5',\n",
       " '../Data/train/jetImage_6_150p_0_10000.h5',\n",
       " '../Data/train/jetImage_4_150p_80000_90000.h5',\n",
       " '../Data/train/jetImage_4_150p_10000_20000.h5',\n",
       " '../Data/train/jetImage_2_150p_40000_50000.h5',\n",
       " '../Data/train/jetImage_5_150p_40000_50000.h5',\n",
       " '../Data/train/jetImage_5_150p_70000_80000.h5',\n",
       " '../Data/train/jetImage_6_150p_20000_30000.h5',\n",
       " '../Data/train/jetImage_0_150p_50000_60000.h5',\n",
       " '../Data/train/jetImage_1_150p_20000_30000.h5',\n",
       " '../Data/train/jetImage_2_150p_70000_80000.h5',\n",
       " '../Data/train/jetImage_0_150p_30000_40000.h5']"
      ]
     },
     "execution_count": 6,
     "metadata": {},
     "output_type": "execute_result"
    }
   ],
   "source": [
    "get_file_paths('../Data/train/')"
   ]
  },
  {
   "cell_type": "code",
   "execution_count": 12,
   "metadata": {},
   "outputs": [
    {
     "data": {
      "text/plain": [
       "1"
      ]
     },
     "execution_count": 12,
     "metadata": {},
     "output_type": "execute_result"
    }
   ],
   "source": [
    "1%5"
   ]
  },
  {
   "cell_type": "code",
   "execution_count": 13,
   "metadata": {},
   "outputs": [
    {
     "data": {
      "text/plain": [
       "0"
      ]
     },
     "execution_count": 13,
     "metadata": {},
     "output_type": "execute_result"
    }
   ],
   "source": [
    "5%5"
   ]
  },
  {
   "cell_type": "code",
   "execution_count": 14,
   "metadata": {},
   "outputs": [
    {
     "data": {
      "text/plain": [
       "4"
      ]
     },
     "execution_count": 14,
     "metadata": {},
     "output_type": "execute_result"
    }
   ],
   "source": [
    "9%5"
   ]
  },
  {
   "cell_type": "code",
   "execution_count": 16,
   "metadata": {},
   "outputs": [
    {
     "name": "stdout",
     "output_type": "stream",
     "text": [
      "test\n",
      "cheese\n"
     ]
    }
   ],
   "source": [
    "print('\\rtest', flush = True)\n",
    "print('\\rcheese', flush = True)"
   ]
  },
  {
   "cell_type": "code",
   "execution_count": 36,
   "metadata": {},
   "outputs": [
    {
     "name": "stdout",
     "output_type": "stream",
     "text": [
      "\u001b[91mI just came to say hello\u001b[0m\n"
     ]
    }
   ],
   "source": [
    "from terminal_colors import tcols\n",
    "\n",
    "a = True\n",
    "print(tcols.FAIL+f'I just came to say {a*\"hello\"+(not a)*\"goodbye\"}'+tcols.ENDC)"
   ]
  },
  {
   "cell_type": "code",
   "execution_count": 1,
   "metadata": {},
   "outputs": [],
   "source": [
    "def rah(fam:str='cheese'):\n",
    "    print(fam)"
   ]
  },
  {
   "cell_type": "code",
   "execution_count": 2,
   "metadata": {},
   "outputs": [
    {
     "name": "stdout",
     "output_type": "stream",
     "text": [
      "cheese\n"
     ]
    }
   ],
   "source": [
    "rah()"
   ]
  },
  {
   "cell_type": "code",
   "execution_count": 3,
   "metadata": {},
   "outputs": [
    {
     "name": "stdout",
     "output_type": "stream",
     "text": [
      "geezer\n"
     ]
    }
   ],
   "source": [
    "rah('geezer')"
   ]
  },
  {
   "cell_type": "code",
   "execution_count": 7,
   "metadata": {},
   "outputs": [],
   "source": [
    "true_class = [[True],[False], [True]]\n",
    "df = pd.DataFrame(data = true_class, columns = ['class'])"
   ]
  },
  {
   "cell_type": "code",
   "execution_count": 8,
   "metadata": {},
   "outputs": [
    {
     "data": {
      "text/html": [
       "<div>\n",
       "<style scoped>\n",
       "    .dataframe tbody tr th:only-of-type {\n",
       "        vertical-align: middle;\n",
       "    }\n",
       "\n",
       "    .dataframe tbody tr th {\n",
       "        vertical-align: top;\n",
       "    }\n",
       "\n",
       "    .dataframe thead th {\n",
       "        text-align: right;\n",
       "    }\n",
       "</style>\n",
       "<table border=\"1\" class=\"dataframe\">\n",
       "  <thead>\n",
       "    <tr style=\"text-align: right;\">\n",
       "      <th></th>\n",
       "      <th>class</th>\n",
       "    </tr>\n",
       "  </thead>\n",
       "  <tbody>\n",
       "    <tr>\n",
       "      <th>0</th>\n",
       "      <td>True</td>\n",
       "    </tr>\n",
       "    <tr>\n",
       "      <th>1</th>\n",
       "      <td>False</td>\n",
       "    </tr>\n",
       "    <tr>\n",
       "      <th>2</th>\n",
       "      <td>True</td>\n",
       "    </tr>\n",
       "  </tbody>\n",
       "</table>\n",
       "</div>"
      ],
      "text/plain": [
       "   class\n",
       "0   True\n",
       "1  False\n",
       "2   True"
      ]
     },
     "execution_count": 8,
     "metadata": {},
     "output_type": "execute_result"
    }
   ],
   "source": [
    "df"
   ]
  },
  {
   "cell_type": "code",
   "execution_count": 10,
   "metadata": {},
   "outputs": [
    {
     "data": {
      "text/plain": [
       "0    1\n",
       "1    0\n",
       "2    1\n",
       "Name: class, dtype: int64"
      ]
     },
     "execution_count": 10,
     "metadata": {},
     "output_type": "execute_result"
    }
   ],
   "source": [
    "df['class'] * 1"
   ]
  },
  {
   "cell_type": "code",
   "execution_count": 11,
   "metadata": {},
   "outputs": [
    {
     "data": {
      "text/plain": [
       "[[True], [False], [True]]"
      ]
     },
     "execution_count": 11,
     "metadata": {},
     "output_type": "execute_result"
    }
   ],
   "source": [
    "true_class"
   ]
  },
  {
   "cell_type": "code",
   "execution_count": 21,
   "metadata": {},
   "outputs": [],
   "source": [
    "other_class = [[False], [False], [True]]"
   ]
  },
  {
   "cell_type": "code",
   "execution_count": 22,
   "metadata": {},
   "outputs": [
    {
     "name": "stdout",
     "output_type": "stream",
     "text": [
      "[[False], [False], [True]]\n"
     ]
    }
   ],
   "source": [
    "print(true_class and other_class)"
   ]
  },
  {
   "cell_type": "code",
   "execution_count": 6,
   "metadata": {},
   "outputs": [],
   "source": [
    "a = [[1,2,2,3,4,1],[5,4,6,1,2,2]]"
   ]
  },
  {
   "cell_type": "code",
   "execution_count": 44,
   "metadata": {},
   "outputs": [
    {
     "data": {
      "text/plain": [
       "array([[ 12,  12,  12, -99, -99, -99, -99, -99, -99,  -9,  -9,  -9,  -9],\n",
       "       [ 12,  12,  12,   1,   2,   2,   3,   4,   1,  -9,  -9,  -9,  -9],\n",
       "       [ 12,  12,  12,   5,   4,   6,   1,   2,   2,  -9,  -9,  -9,  -9],\n",
       "       [ 12,  12,  12,  20,  20,  20,  20,  20,  20,  -9,  -9,  -9,  -9],\n",
       "       [ 12,  12,  12,  20,  20,  20,  20,  20,  20,  -9,  -9,  -9,  -9]])"
      ]
     },
     "execution_count": 44,
     "metadata": {},
     "output_type": "execute_result"
    }
   ],
   "source": [
    "np.pad(a, ((1,2), (3,4)), constant_values= ((-99,20),(12,-9)))"
   ]
  },
  {
   "cell_type": "code",
   "execution_count": 2,
   "metadata": {},
   "outputs": [],
   "source": [
    "b = [1,2,3,1,2,1]"
   ]
  },
  {
   "cell_type": "code",
   "execution_count": 51,
   "metadata": {},
   "outputs": [
    {
     "data": {
      "text/plain": [
       "[1, 2, 3, 1, 2, 1]"
      ]
     },
     "execution_count": 51,
     "metadata": {},
     "output_type": "execute_result"
    }
   ],
   "source": [
    "b[:None]"
   ]
  },
  {
   "cell_type": "code",
   "execution_count": 15,
   "metadata": {},
   "outputs": [],
   "source": [
    "import pandas as pd\n",
    "df = pd.DataFrame(a, columns = ['a', 'b', 'c', 'd', 'e', 'f'])"
   ]
  },
  {
   "cell_type": "code",
   "execution_count": 18,
   "metadata": {},
   "outputs": [],
   "source": [
    "df['new'] = [8,1]"
   ]
  },
  {
   "cell_type": "code",
   "execution_count": 19,
   "metadata": {},
   "outputs": [
    {
     "data": {
      "text/html": [
       "<div>\n",
       "<style scoped>\n",
       "    .dataframe tbody tr th:only-of-type {\n",
       "        vertical-align: middle;\n",
       "    }\n",
       "\n",
       "    .dataframe tbody tr th {\n",
       "        vertical-align: top;\n",
       "    }\n",
       "\n",
       "    .dataframe thead th {\n",
       "        text-align: right;\n",
       "    }\n",
       "</style>\n",
       "<table border=\"1\" class=\"dataframe\">\n",
       "  <thead>\n",
       "    <tr style=\"text-align: right;\">\n",
       "      <th></th>\n",
       "      <th>a</th>\n",
       "      <th>b</th>\n",
       "      <th>c</th>\n",
       "      <th>d</th>\n",
       "      <th>e</th>\n",
       "      <th>f</th>\n",
       "      <th>new</th>\n",
       "    </tr>\n",
       "  </thead>\n",
       "  <tbody>\n",
       "    <tr>\n",
       "      <th>0</th>\n",
       "      <td>1</td>\n",
       "      <td>2</td>\n",
       "      <td>2</td>\n",
       "      <td>3</td>\n",
       "      <td>4</td>\n",
       "      <td>1</td>\n",
       "      <td>8</td>\n",
       "    </tr>\n",
       "    <tr>\n",
       "      <th>1</th>\n",
       "      <td>5</td>\n",
       "      <td>4</td>\n",
       "      <td>6</td>\n",
       "      <td>1</td>\n",
       "      <td>2</td>\n",
       "      <td>2</td>\n",
       "      <td>1</td>\n",
       "    </tr>\n",
       "  </tbody>\n",
       "</table>\n",
       "</div>"
      ],
      "text/plain": [
       "   a  b  c  d  e  f  new\n",
       "0  1  2  2  3  4  1    8\n",
       "1  5  4  6  1  2  2    1"
      ]
     },
     "execution_count": 19,
     "metadata": {},
     "output_type": "execute_result"
    }
   ],
   "source": [
    "df"
   ]
  },
  {
   "cell_type": "code",
   "execution_count": 25,
   "metadata": {},
   "outputs": [
    {
     "data": {
      "text/plain": [
       "1.75"
      ]
     },
     "execution_count": 25,
     "metadata": {},
     "output_type": "execute_result"
    }
   ],
   "source": [
    "import numpy as np\n",
    "np.mean(b[:4])"
   ]
  },
  {
   "cell_type": "code",
   "execution_count": 4,
   "metadata": {},
   "outputs": [],
   "source": [
    "dic = {}"
   ]
  },
  {
   "cell_type": "code",
   "execution_count": 5,
   "metadata": {},
   "outputs": [],
   "source": [
    "dic['b'] = b "
   ]
  },
  {
   "cell_type": "code",
   "execution_count": 6,
   "metadata": {},
   "outputs": [
    {
     "data": {
      "text/plain": [
       "{'b': [1, 2, 3, 1, 2, 1]}"
      ]
     },
     "execution_count": 6,
     "metadata": {},
     "output_type": "execute_result"
    }
   ],
   "source": [
    "dic"
   ]
  },
  {
   "cell_type": "code",
   "execution_count": 7,
   "metadata": {},
   "outputs": [
    {
     "data": {
      "text/plain": [
       "[1, 2, 3, 1, 2, 1]"
      ]
     },
     "execution_count": 7,
     "metadata": {},
     "output_type": "execute_result"
    }
   ],
   "source": [
    "dic['b']"
   ]
  },
  {
   "cell_type": "code",
   "execution_count": 8,
   "metadata": {},
   "outputs": [],
   "source": [
    "dic['a'] = 'hello'"
   ]
  },
  {
   "cell_type": "code",
   "execution_count": 9,
   "metadata": {},
   "outputs": [
    {
     "data": {
      "text/plain": [
       "{'b': [1, 2, 3, 1, 2, 1], 'a': 'hello'}"
      ]
     },
     "execution_count": 9,
     "metadata": {},
     "output_type": "execute_result"
    }
   ],
   "source": [
    "dic"
   ]
  },
  {
   "cell_type": "code",
   "execution_count": 11,
   "metadata": {},
   "outputs": [
    {
     "name": "stdout",
     "output_type": "stream",
     "text": [
      "[1, 2, 3, 1, 2, 1]\n",
      "hello\n"
     ]
    }
   ],
   "source": [
    "for item in dic:\n",
    "    print(dic[item])"
   ]
  },
  {
   "cell_type": "code",
   "execution_count": null,
   "metadata": {},
   "outputs": [],
   "source": []
  }
 ],
 "metadata": {
  "kernelspec": {
   "display_name": "Masters",
   "language": "python",
   "name": "python3"
  },
  "language_info": {
   "codemirror_mode": {
    "name": "ipython",
    "version": 3
   },
   "file_extension": ".py",
   "mimetype": "text/x-python",
   "name": "python",
   "nbconvert_exporter": "python",
   "pygments_lexer": "ipython3",
   "version": "3.10.9"
  },
  "orig_nbformat": 4
 },
 "nbformat": 4,
 "nbformat_minor": 2
}

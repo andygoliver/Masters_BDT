{
 "cells": [
  {
   "cell_type": "code",
   "execution_count": 1,
   "metadata": {},
   "outputs": [],
   "source": [
    "import numpy as np\n",
    "import pandas as pd"
   ]
  },
  {
   "cell_type": "code",
   "execution_count": 25,
   "metadata": {},
   "outputs": [],
   "source": [
    "data = [[1.3,6.2,7.3,], [4.2,8.1,0.3], [3.7,1.1,2.8], [13.2,8.2,3.1,], [1.3,5.1,3.9], [3.2,4.1,12.5]]\n",
    "\n",
    "heading = ['a', 'b', 'c']\n",
    "\n",
    "ohe_data = np.array([[0, 0, 0, 1, 0],\n",
    " [1, 0, 0, 0, 0],\n",
    " [0, 0, 1, 0, 0],\n",
    " [0, 0, 1, 0, 0],\n",
    " [0, 0, 0, 0, 1],\n",
    " [0, 1, 0, 0, 0]])\n",
    "\n",
    "classes = np.array([b'g', b'q', b'w', b'z', b't'])"
   ]
  },
  {
   "cell_type": "code",
   "execution_count": 59,
   "metadata": {},
   "outputs": [
    {
     "name": "stdout",
     "output_type": "stream",
     "text": [
      "0\n",
      "[False, True, False, False, False, False]\n",
      "[6.2]\n",
      "1\n",
      "[False, False, False, False, False, True]\n",
      "[43.5]\n",
      "2\n",
      "[False, False, True, True, False, False]\n",
      "[7.3 4.2]\n",
      "3\n",
      "[True, False, False, False, False, False]\n",
      "[1.3]\n",
      "4\n",
      "[False, False, False, False, True, False]\n",
      "[8.1]\n"
     ]
    }
   ],
   "source": [
    "new_data = np.array([1.3,6.2,7.3,4.2,8.1,43.5])\n",
    "for i in range(len(classes)):\n",
    "    classed_data = np.array([])\n",
    "    \n",
    "    print(i)\n",
    "    boolean_mask = [np.argmax(y)==i for y in ohe_data]\n",
    "    print(boolean_mask)\n",
    "    print(new_data[[np.argmax(y)==i for y in ohe_data]])"
   ]
  },
  {
   "cell_type": "code",
   "execution_count": 30,
   "metadata": {},
   "outputs": [],
   "source": [
    "y_class = [classes[np.argmax(i)] for i in ohe_data]\n",
    "\n",
    "print(y_class)\n",
    "print(type(y_class[0]))"
   ]
  },
  {
   "cell_type": "code",
   "execution_count": 27,
   "metadata": {},
   "outputs": [],
   "source": [
    "df = pd.DataFrame(data = data, columns = heading)\n",
    "print(df)"
   ]
  },
  {
   "cell_type": "code",
   "execution_count": 34,
   "metadata": {},
   "outputs": [],
   "source": [
    "df['class'] = y_class"
   ]
  },
  {
   "cell_type": "code",
   "execution_count": 35,
   "metadata": {},
   "outputs": [
    {
     "data": {
      "text/html": [
       "<div>\n",
       "<style scoped>\n",
       "    .dataframe tbody tr th:only-of-type {\n",
       "        vertical-align: middle;\n",
       "    }\n",
       "\n",
       "    .dataframe tbody tr th {\n",
       "        vertical-align: top;\n",
       "    }\n",
       "\n",
       "    .dataframe thead th {\n",
       "        text-align: right;\n",
       "    }\n",
       "</style>\n",
       "<table border=\"1\" class=\"dataframe\">\n",
       "  <thead>\n",
       "    <tr style=\"text-align: right;\">\n",
       "      <th></th>\n",
       "      <th>a</th>\n",
       "      <th>b</th>\n",
       "      <th>c</th>\n",
       "      <th>class</th>\n",
       "    </tr>\n",
       "  </thead>\n",
       "  <tbody>\n",
       "    <tr>\n",
       "      <th>0</th>\n",
       "      <td>1.3</td>\n",
       "      <td>6.2</td>\n",
       "      <td>7.3</td>\n",
       "      <td>b'z'</td>\n",
       "    </tr>\n",
       "    <tr>\n",
       "      <th>1</th>\n",
       "      <td>4.2</td>\n",
       "      <td>8.1</td>\n",
       "      <td>0.3</td>\n",
       "      <td>b'g'</td>\n",
       "    </tr>\n",
       "    <tr>\n",
       "      <th>2</th>\n",
       "      <td>3.7</td>\n",
       "      <td>1.1</td>\n",
       "      <td>2.8</td>\n",
       "      <td>b'w'</td>\n",
       "    </tr>\n",
       "    <tr>\n",
       "      <th>3</th>\n",
       "      <td>13.2</td>\n",
       "      <td>8.2</td>\n",
       "      <td>3.1</td>\n",
       "      <td>b'w'</td>\n",
       "    </tr>\n",
       "    <tr>\n",
       "      <th>4</th>\n",
       "      <td>1.3</td>\n",
       "      <td>5.1</td>\n",
       "      <td>3.9</td>\n",
       "      <td>b't'</td>\n",
       "    </tr>\n",
       "    <tr>\n",
       "      <th>5</th>\n",
       "      <td>3.2</td>\n",
       "      <td>4.1</td>\n",
       "      <td>12.5</td>\n",
       "      <td>b'q'</td>\n",
       "    </tr>\n",
       "  </tbody>\n",
       "</table>\n",
       "</div>"
      ],
      "text/plain": [
       "      a    b     c class\n",
       "0   1.3  6.2   7.3  b'z'\n",
       "1   4.2  8.1   0.3  b'g'\n",
       "2   3.7  1.1   2.8  b'w'\n",
       "3  13.2  8.2   3.1  b'w'\n",
       "4   1.3  5.1   3.9  b't'\n",
       "5   3.2  4.1  12.5  b'q'"
      ]
     },
     "execution_count": 35,
     "metadata": {},
     "output_type": "execute_result"
    }
   ],
   "source": [
    "df"
   ]
  },
  {
   "cell_type": "code",
   "execution_count": 37,
   "metadata": {},
   "outputs": [
    {
     "name": "stdout",
     "output_type": "stream",
     "text": [
      "a        float64\n",
      "b        float64\n",
      "c        float64\n",
      "class     object\n",
      "dtype: object\n"
     ]
    }
   ],
   "source": [
    "print(df.dtypes)"
   ]
  },
  {
   "cell_type": "code",
   "execution_count": 42,
   "metadata": {},
   "outputs": [
    {
     "data": {
      "text/plain": [
       "0    False\n",
       "1    False\n",
       "2    False\n",
       "3    False\n",
       "4     True\n",
       "5    False\n",
       "Name: class, dtype: bool"
      ]
     },
     "execution_count": 42,
     "metadata": {},
     "output_type": "execute_result"
    }
   ],
   "source": [
    "df['class']==classes[4]"
   ]
  },
  {
   "cell_type": "code",
   "execution_count": 43,
   "metadata": {},
   "outputs": [
    {
     "name": "stdout",
     "output_type": "stream",
     "text": [
      "      a    b     c class\n",
      "0   1.3  6.2   7.3  b'z'\n",
      "1   4.2  8.1   0.3  b'g'\n",
      "2   3.7  1.1   2.8  b'w'\n",
      "3  13.2  8.2   3.1  b'w'\n",
      "4   1.3  5.1   3.9  b't'\n",
      "5   3.2  4.1  12.5  b'q'\n"
     ]
    }
   ],
   "source": [
    "df.to_csv('newtest.csv', index=False)\n",
    "df_reloaded = pd.read_csv('newtest.csv', nrows = None)\n",
    "print(df_reloaded)"
   ]
  },
  {
   "cell_type": "code",
   "execution_count": 44,
   "metadata": {},
   "outputs": [
    {
     "data": {
      "text/plain": [
       "0    False\n",
       "1    False\n",
       "2    False\n",
       "3    False\n",
       "4    False\n",
       "5    False\n",
       "Name: class, dtype: bool"
      ]
     },
     "execution_count": 44,
     "metadata": {},
     "output_type": "execute_result"
    }
   ],
   "source": [
    "df_reloaded['class']==classes[4]"
   ]
  },
  {
   "cell_type": "code",
   "execution_count": 52,
   "metadata": {},
   "outputs": [
    {
     "name": "stdout",
     "output_type": "stream",
     "text": [
      "      a    b     c class\n",
      "0   1.3  6.2   7.3  b'z'\n",
      "1   4.2  8.1   0.3  b'g'\n",
      "2   3.7  1.1   2.8  b'w'\n",
      "3  13.2  8.2   3.1  b'w'\n",
      "4   1.3  5.1   3.9  b't'\n",
      "5   3.2  4.1  12.5  b'q'\n",
      "\n",
      "=====================\n",
      "\n",
      "      a    b     c  class\n",
      "0   1.3  6.2   7.3  False\n",
      "1   4.2  8.1   0.3  False\n",
      "2   3.7  1.1   2.8  False\n",
      "3  13.2  8.2   3.1  False\n",
      "4   1.3  5.1   3.9   True\n",
      "5   3.2  4.1  12.5  False\n"
     ]
    }
   ],
   "source": [
    "df = pd.DataFrame(data = data, columns = heading)\n",
    "df['class'] = y_class\n",
    "print(df)\n",
    "\n",
    "print('\\n=====================\\n')\n",
    "\n",
    "positive_class = b't'\n",
    "\n",
    "if positive_class is not None:\n",
    "  df[\"class\"] = df[\"class\"] == positive_class\n",
    "\n",
    "print(df)"
   ]
  },
  {
   "cell_type": "code",
   "execution_count": 55,
   "metadata": {},
   "outputs": [],
   "source": [
    "df.to_csv('newtest.csv', index=False)"
   ]
  },
  {
   "cell_type": "code",
   "execution_count": 15,
   "metadata": {},
   "outputs": [],
   "source": [
    "rand_data = np.random.rand(5,4,3)\n",
    "#big_rand_data = np.random.rand(620000,50,16)\n",
    "print(rand_data)"
   ]
  },
  {
   "cell_type": "code",
   "execution_count": 106,
   "metadata": {},
   "outputs": [],
   "source": [
    "boolean_mask = rand_data[:, :, 1] > 0.5\n",
    "structure_memory = boolean_mask.sum(axis=1)"
   ]
  },
  {
   "cell_type": "code",
   "execution_count": 128,
   "metadata": {},
   "outputs": [
    {
     "name": "stdout",
     "output_type": "stream",
     "text": [
      "[[False False  True False]\n",
      " [ True  True False False]\n",
      " [ True False  True False]\n",
      " [ True  True False  True]\n",
      " [ True False False False]]\n",
      "[1 2 2 3 1]\n",
      "1.8\n"
     ]
    }
   ],
   "source": [
    "print(boolean_mask)\n",
    "print(structure_memory)\n",
    "print(np.mean(structure_memory))"
   ]
  },
  {
   "cell_type": "code",
   "execution_count": 130,
   "metadata": {},
   "outputs": [
    {
     "name": "stdout",
     "output_type": "stream",
     "text": [
      "[array([[0.24988476, 0.66179769, 0.40355534]]), array([[0.72456838, 0.57192137, 0.85048951],\n",
      "       [0.68237374, 0.683802  , 0.48357035]]), array([[0.41145607, 0.56759926, 0.0114448 ],\n",
      "       [0.98107084, 0.84257079, 0.54727676]]), array([[0.56003797, 0.80987209, 0.33581331],\n",
      "       [0.29067496, 0.96770464, 0.18328952],\n",
      "       [0.51969528, 0.72446184, 0.9759141 ]]), array([[0.82141664, 0.84996441, 0.96614358]])]\n",
      "\n",
      "================\n",
      "\n",
      "[array([[0.24988476, 0.66179769, 0.40355534]]), array([[0.72456838, 0.57192137, 0.85048951],\n",
      "       [0.68237374, 0.683802  , 0.48357035]]), array([[0.41145607, 0.56759926, 0.0114448 ],\n",
      "       [0.98107084, 0.84257079, 0.54727676]]), array([[0.56003797, 0.80987209, 0.33581331],\n",
      "       [0.29067496, 0.96770464, 0.18328952],\n",
      "       [0.51969528, 0.72446184, 0.9759141 ]]), array([[0.82141664, 0.84996441, 0.96614358]])]\n"
     ]
    }
   ],
   "source": [
    "cut_data = np.split(rand_data[boolean_mask, :], np.cumsum(structure_memory)[:-1])\n",
    "\n",
    "print(cut_data)\n",
    "print('\\n================\\n')\n",
    "cut_data = [jet_const for jet_const in cut_data if jet_const.size > 0]\n",
    "\n",
    "print(cut_data)"
   ]
  },
  {
   "cell_type": "code",
   "execution_count": 131,
   "metadata": {},
   "outputs": [
    {
     "name": "stdout",
     "output_type": "stream",
     "text": [
      "[[[0.24988476 0.66179769 0.40355534]\n",
      "  [0.         0.         0.        ]\n",
      "  [0.         0.         0.        ]\n",
      "  [0.         0.         0.        ]]\n",
      "\n",
      " [[0.72456838 0.57192137 0.85048951]\n",
      "  [0.68237374 0.683802   0.48357035]\n",
      "  [0.         0.         0.        ]\n",
      "  [0.         0.         0.        ]]\n",
      "\n",
      " [[0.41145607 0.56759926 0.0114448 ]\n",
      "  [0.98107084 0.84257079 0.54727676]\n",
      "  [0.         0.         0.        ]\n",
      "  [0.         0.         0.        ]]\n",
      "\n",
      " [[0.56003797 0.80987209 0.33581331]\n",
      "  [0.29067496 0.96770464 0.18328952]\n",
      "  [0.51969528 0.72446184 0.9759141 ]\n",
      "  [0.         0.         0.        ]]\n",
      "\n",
      " [[0.82141664 0.84996441 0.96614358]\n",
      "  [0.         0.         0.        ]\n",
      "  [0.         0.         0.        ]\n",
      "  [0.         0.         0.        ]]]\n",
      "\n",
      "===================\n",
      "\n",
      "[1. 2. 2. 3. 1.]\n"
     ]
    }
   ],
   "source": [
    "max_constituents = 4\n",
    "nb_constituents = np.array([])\n",
    "\n",
    "for jet in range(len(cut_data)):\n",
    "    if cut_data[jet].shape[0] >= max_constituents:\n",
    "        nb_constituents = np.append(nb_constituents, max_constituents)\n",
    "        cut_data[jet] = cut_data[jet][:max_constituents, :]\n",
    "    else:\n",
    "        nb_constituents = np.append(nb_constituents, cut_data[jet].shape[0])\n",
    "        padding_length = max_constituents - cut_data[jet].shape[0]\n",
    "        cut_data[jet] = np.pad(cut_data[jet], ((0, padding_length), (0, 0)))\n",
    "\n",
    "print(np.asarray(cut_data))\n",
    "print('\\n===================\\n')\n",
    "print(nb_constituents)"
   ]
  },
  {
   "cell_type": "code",
   "execution_count": 20,
   "metadata": {},
   "outputs": [
    {
     "name": "stdout",
     "output_type": "stream",
     "text": [
      "-1\n"
     ]
    }
   ],
   "source": [
    "ascending = False\n",
    "order = ascending - (not ascending)\n",
    "print(order)"
   ]
  },
  {
   "cell_type": "code",
   "execution_count": 24,
   "metadata": {},
   "outputs": [
    {
     "name": "stdout",
     "output_type": "stream",
     "text": [
      "[[[0.84295722 0.68112295 0.88595121]\n",
      "  [0.81170426 0.64668738 0.13615513]\n",
      "  [0.09873471 0.35589615 0.18897656]\n",
      "  [0.21456516 0.35084943 0.15318961]]\n",
      "\n",
      " [[0.45495586 0.69656557 0.84959166]\n",
      "  [0.66486354 0.66046301 0.13461521]\n",
      "  [0.17863345 0.4991016  0.30361781]\n",
      "  [0.48476333 0.11485154 0.93850134]]\n",
      "\n",
      " [[0.88156592 0.69492522 0.2367417 ]\n",
      "  [0.61315008 0.68231606 0.42847928]\n",
      "  [0.65656475 0.32341719 0.47568908]\n",
      "  [0.93528146 0.12865657 0.47608832]]\n",
      "\n",
      " [[0.79419881 0.92269788 0.35957008]\n",
      "  [0.04644044 0.85200478 0.12368693]\n",
      "  [0.55604036 0.28871201 0.86119341]\n",
      "  [0.35429345 0.16729886 0.91340971]]\n",
      "\n",
      " [[0.44284147 0.96856339 0.374811  ]\n",
      "  [0.81302979 0.86802792 0.07247036]\n",
      "  [0.64165009 0.70318422 0.63323774]\n",
      "  [0.91882352 0.22272879 0.90367408]]]\n",
      "<class 'numpy.ndarray'>\n"
     ]
    }
   ],
   "source": [
    "sorted_data = np.array([rand_data[i][(order*rand_data[i][:, 1]).argsort()] for i in range(len(rand_data))])\n",
    "#big_sorted_data = np.asarray([big_rand_data[i][big_rand_data[i][:, 1].argsort()] for i in range(len(big_rand_data))])\n",
    "\n",
    "print(sorted_data)\n",
    "print(type(sorted_data))"
   ]
  },
  {
   "cell_type": "code",
   "execution_count": 81,
   "metadata": {},
   "outputs": [],
   "source": [
    "positive_class = 't'"
   ]
  },
  {
   "cell_type": "code",
   "execution_count": 85,
   "metadata": {},
   "outputs": [
    {
     "data": {
      "text/plain": [
       "b't'"
      ]
     },
     "execution_count": 85,
     "metadata": {},
     "output_type": "execute_result"
    }
   ],
   "source": [
    "bytes(positive_class, 'utf-8')"
   ]
  },
  {
   "cell_type": "code",
   "execution_count": 86,
   "metadata": {},
   "outputs": [],
   "source": [
    "feature_labels = [\n",
    "        \"px\",\n",
    "        \"py\",\n",
    "        \"pz\",\n",
    "        \"E\",\n",
    "        \"E_rel\",\n",
    "        \"pT\",\n",
    "        \"pT_rel\",\n",
    "        \"eta\",\n",
    "        \"eta_rel\",\n",
    "        \"eta_rot\",\n",
    "        \"phi\",\n",
    "        \"phi_rel\",\n",
    "        \"phi_rot\",\n",
    "        \"Delta_R\",\n",
    "        \"cos(theta)\",\n",
    "        \"cos(theta_rel)\",\n",
    "    ]"
   ]
  },
  {
   "cell_type": "code",
   "execution_count": 114,
   "metadata": {},
   "outputs": [
    {
     "name": "stdout",
     "output_type": "stream",
     "text": [
      "[False False False False]\n"
     ]
    }
   ],
   "source": [
    "a = np.array([0,0,0,0])\n",
    "print(a!=0)"
   ]
  },
  {
   "cell_type": "code",
   "execution_count": 115,
   "metadata": {},
   "outputs": [
    {
     "name": "stdout",
     "output_type": "stream",
     "text": [
      "[4, 4, 4, 4, 4]\n"
     ]
    }
   ],
   "source": [
    "constituents_distribution = []\n",
    "for jet in rand_data:\n",
    "    const_nb = 0\n",
    "    for const in jet:\n",
    "        if const[0] != 0:\n",
    "            const_nb += 1\n",
    "    constituents_distribution.append(const_nb)\n",
    "\n",
    "print(constituents_distribution)"
   ]
  },
  {
   "cell_type": "code",
   "execution_count": 6,
   "metadata": {},
   "outputs": [
    {
     "data": {
      "text/plain": [
       "array([0.  , 0.25, 0.5 , 0.75, 1.  , 1.25, 1.5 , 1.75])"
      ]
     },
     "execution_count": 6,
     "metadata": {},
     "output_type": "execute_result"
    }
   ],
   "source": [
    "np.arange(0,2,0.25)"
   ]
  },
  {
   "cell_type": "code",
   "execution_count": 10,
   "metadata": {},
   "outputs": [
    {
     "name": "stdout",
     "output_type": "stream",
     "text": [
      "[ 0.    0.25  0.5   0.75  1.    1.25  1.5   1.75  2.    2.5   3.    3.5\n",
      "  4.    4.5   5.    6.    7.    8.    9.   10.  ]\n"
     ]
    }
   ],
   "source": [
    "print(np.asarray(np.append(np.append(np.arange(0,2,0.25),np.arange(2,5,0.5)), np.arange(5,11,1))))"
   ]
  },
  {
   "cell_type": "code",
   "execution_count": 7,
   "metadata": {},
   "outputs": [],
   "source": [
    "import sys\n",
    "import time"
   ]
  },
  {
   "cell_type": "code",
   "execution_count": 17,
   "metadata": {},
   "outputs": [
    {
     "name": "stdout",
     "output_type": "stream",
     "text": [
      "Starting process\n",
      "[====================] 100%\n",
      "Process complete\n"
     ]
    }
   ],
   "source": [
    "print('Starting process')\n",
    "\n",
    "sys.stdout.write('\\r')\n",
    "# the exact output you're looking for:\n",
    "sys.stdout.write(\"[%-20s] %d%%\" % ('='*1, 5*1))\n",
    "sys.stdout.flush()\n",
    "time.sleep(0.5)\n",
    "\n",
    "for i in range(2, 21):\n",
    "    sys.stdout.write('\\r')\n",
    "    # the exact output you're looking for:\n",
    "    sys.stdout.write(\"[%-20s] %d%%\" % ('='*i, 5*i))\n",
    "    sys.stdout.flush()\n",
    "    time.sleep(0.5)\n",
    "\n",
    "print('\\nProcess complete')\n",
    "    "
   ]
  },
  {
   "cell_type": "code",
   "execution_count": 15,
   "metadata": {},
   "outputs": [
    {
     "name": "stdout",
     "output_type": "stream",
     "text": [
      "Hello 12fish\n"
     ]
    }
   ],
   "source": [
    "a = 12\n",
    "b= 'fish'\n",
    "\n",
    "print(f'Hello {a}{b}')"
   ]
  },
  {
   "cell_type": "code",
   "execution_count": 63,
   "metadata": {},
   "outputs": [],
   "source": []
  },
  {
   "cell_type": "code",
   "execution_count": 72,
   "metadata": {},
   "outputs": [
    {
     "name": "stdout",
     "output_type": "stream",
     "text": [
      "[[1]\n",
      " [0]\n",
      " [1]\n",
      " [2]\n",
      " [3]]\n"
     ]
    }
   ],
   "source": [
    "a = np.array([[1]])\n",
    "for i in range(4):\n",
    "    a = np.concatenate((a,[[i]]), axis = 0)\n",
    "\n",
    "print(a)"
   ]
  },
  {
   "cell_type": "code",
   "execution_count": 75,
   "metadata": {},
   "outputs": [
    {
     "name": "stdout",
     "output_type": "stream",
     "text": [
      "[[9]\n",
      " [2]\n",
      " [3]\n",
      " [4]\n",
      " [5]]\n"
     ]
    }
   ],
   "source": [
    "b = np.array([[9]])\n",
    "\n",
    "for i in range(2,6):\n",
    "    b = np.concatenate((b,[[i]]), axis = 0)\n",
    "\n",
    "print(b)"
   ]
  },
  {
   "cell_type": "code",
   "execution_count": 74,
   "metadata": {},
   "outputs": [
    {
     "name": "stdout",
     "output_type": "stream",
     "text": [
      "[[1 9]\n",
      " [0 2]\n",
      " [1 3]\n",
      " [2 4]\n",
      " [3 5]]\n"
     ]
    }
   ],
   "source": [
    "print(np.concatenate((a,b), axis = 1))"
   ]
  },
  {
   "cell_type": "code",
   "execution_count": 4,
   "metadata": {},
   "outputs": [
    {
     "name": "stdout",
     "output_type": "stream",
     "text": [
      "[0. 1. 2. 3.]\n",
      "[5. 6. 7. 8.]\n",
      "[[0. 1. 2. 3.]\n",
      " [5. 6. 7. 8.]]\n"
     ]
    }
   ],
   "source": [
    "c = np.array([])\n",
    "\n",
    "for i in range(4):\n",
    "    c = np.append(c, i)\n",
    "\n",
    "print(c)\n",
    "\n",
    "d = np.array([])\n",
    "\n",
    "for i in range(5,9):\n",
    "    d = np.append(d, i)\n",
    "\n",
    "print(d)\n",
    "\n",
    "e = np.concatenate(([c],[d]), axis =0)\n",
    "print(e)"
   ]
  },
  {
   "cell_type": "code",
   "execution_count": 5,
   "metadata": {},
   "outputs": [
    {
     "data": {
      "text/plain": [
       "array([[0., 5.],\n",
       "       [1., 6.],\n",
       "       [2., 7.],\n",
       "       [3., 8.]])"
      ]
     },
     "execution_count": 5,
     "metadata": {},
     "output_type": "execute_result"
    }
   ],
   "source": [
    "np.swapaxes(e, 0, 1)"
   ]
  },
  {
   "cell_type": "code",
   "execution_count": 7,
   "metadata": {},
   "outputs": [
    {
     "data": {
      "text/plain": [
       "array([1., 6.])"
      ]
     },
     "execution_count": 7,
     "metadata": {},
     "output_type": "execute_result"
    }
   ],
   "source": [
    "e[:,1]"
   ]
  },
  {
   "cell_type": "code",
   "execution_count": 36,
   "metadata": {},
   "outputs": [],
   "source": [
    "def combine_array(a1, a2):\n",
    "    if np.ndim(a1) == 2:\n",
    "        combined_array = np.concatenate((a1, [a2]), axis = 0)\n",
    "    elif np.ndim(a1) == 1:\n",
    "        combined_array = np.concatenate(([a1], [a2]), axis =1)\n",
    "\n",
    "    return combined_array"
   ]
  },
  {
   "cell_type": "code",
   "execution_count": 32,
   "metadata": {},
   "outputs": [
    {
     "name": "stdout",
     "output_type": "stream",
     "text": [
      "[[0. 1. 2. 3.]]\n",
      "[[0. 1. 2. 3.]\n",
      " [5. 6. 7. 8.]]\n"
     ]
    }
   ],
   "source": [
    "f = np.array([])\n",
    "\n",
    "f = np.concatenate(([f], [c]), axis = 1)\n",
    "print(np.asarray(f))\n",
    "\n",
    "f = np.concatenate((f,[d]), axis = 0)\n",
    "\n",
    "print(np.asarray(f))"
   ]
  },
  {
   "cell_type": "code",
   "execution_count": 28,
   "metadata": {},
   "outputs": [
    {
     "data": {
      "text/plain": [
       "1"
      ]
     },
     "execution_count": 28,
     "metadata": {},
     "output_type": "execute_result"
    }
   ],
   "source": [
    "np.ndim(c)"
   ]
  },
  {
   "cell_type": "code",
   "execution_count": 38,
   "metadata": {},
   "outputs": [
    {
     "name": "stdout",
     "output_type": "stream",
     "text": [
      "[[0. 1. 2. 3.]]\n",
      "[[0. 1. 2. 3.]\n",
      " [5. 6. 7. 8.]]\n"
     ]
    }
   ],
   "source": [
    "f = np.array([])\n",
    "\n",
    "f = combine_array(f, c)\n",
    "print(f)\n",
    "\n",
    "f = combine_array(f,d)\n",
    "print(f)"
   ]
  },
  {
   "cell_type": "code",
   "execution_count": 5,
   "metadata": {},
   "outputs": [],
   "source": [
    "import os\n",
    "\n",
    "def get_file_paths(data_file_dir: str) -> list:\n",
    "    \"\"\"Gets path to the data files inside a given directory.\n",
    "\n",
    "    Args:\n",
    "        data_file_dir: Path to directory containing the data files.\n",
    "\n",
    "    Returns:\n",
    "        Array of paths to the data files themselves.\n",
    "    \"\"\"\n",
    "    file_names = os.listdir(data_file_dir)\n",
    "    print(file_names)\n",
    "    file_paths = [os.path.join(data_file_dir, file_name) for file_name in file_names]\n",
    "\n",
    "    return file_paths"
   ]
  },
  {
   "cell_type": "code",
   "execution_count": 6,
   "metadata": {},
   "outputs": [
    {
     "name": "stdout",
     "output_type": "stream",
     "text": [
      "['jetImage_0_150p_40000_50000.h5', 'jetImage_4_150p_20000_30000.h5', 'jetImage_2_150p_50000_60000.h5', 'jetImage_5_150p_30000_40000.h5', 'jetImage_0_150p_70000_80000.h5', 'jetImage_3_150p_20000_30000.h5', 'jetImage_1_150p_0_10000.h5', 'jetImage_5_150p_50000_60000.h5', 'jetImage_2_150p_30000_40000.h5', 'jetImage_0_150p_0_10000.h5', 'jetImage_1_150p_80000_90000.h5', 'jetImage_1_150p_10000_20000.h5', 'jetImage_0_150p_60000_70000.h5', 'jetImage_6_150p_10000_20000.h5', 'jetImage_6_150p_80000_90000.h5', 'jetImage_0_150p_20000_30000.h5', 'jetImage_3_150p_70000_80000.h5', 'jetImage_1_150p_30000_40000.h5', 'jetImage_6_150p_50000_60000.h5', 'jetImage_3_150p_0_10000.h5', 'jetImage_4_150p_70000_80000.h5', 'jetImage_6_150p_30000_40000.h5', 'jetImage_1_150p_50000_60000.h5', 'jetImage_4_150p_40000_50000.h5', 'jetImage_3_150p_40000_50000.h5', 'jetImage_3_150p_60000_70000.h5', 'jetImage_5_150p_80000_90000.h5', 'jetImage_5_150p_10000_20000.h5', 'jetImage_2_150p_0_10000.h5', 'jetImage_4_150p_60000_70000.h5', 'jetImage_2_150p_10000_20000.h5', 'jetImage_2_150p_80000_90000.h5', 'jetImage_1_150p_60000_70000.h5', 'jetImage_4_150p_0_10000.h5', 'jetImage_6_150p_60000_70000.h5', 'jetImage_0_150p_80000_90000.h5', 'jetImage_0_150p_10000_20000.h5', 'jetImage_1_150p_70000_80000.h5', 'jetImage_2_150p_20000_30000.h5', 'jetImage_3_150p_30000_40000.h5', 'jetImage_4_150p_50000_60000.h5', 'jetImage_5_150p_20000_30000.h5', 'jetImage_6_150p_70000_80000.h5', 'jetImage_5_150p_0_10000.h5', 'jetImage_4_150p_30000_40000.h5', 'jetImage_6_150p_40000_50000.h5', 'jetImage_1_150p_40000_50000.h5', 'jetImage_5_150p_60000_70000.h5', 'jetImage_3_150p_10000_20000.h5', 'jetImage_3_150p_80000_90000.h5', 'jetImage_2_150p_60000_70000.h5', 'jetImage_6_150p_0_10000.h5', 'jetImage_4_150p_80000_90000.h5', 'jetImage_4_150p_10000_20000.h5', 'jetImage_2_150p_40000_50000.h5', 'jetImage_5_150p_40000_50000.h5', 'jetImage_5_150p_70000_80000.h5', 'jetImage_6_150p_20000_30000.h5', 'jetImage_0_150p_50000_60000.h5', 'jetImage_1_150p_20000_30000.h5', 'jetImage_2_150p_70000_80000.h5', 'jetImage_0_150p_30000_40000.h5']\n"
     ]
    },
    {
     "data": {
      "text/plain": [
       "['../Data/train/jetImage_0_150p_40000_50000.h5',\n",
       " '../Data/train/jetImage_4_150p_20000_30000.h5',\n",
       " '../Data/train/jetImage_2_150p_50000_60000.h5',\n",
       " '../Data/train/jetImage_5_150p_30000_40000.h5',\n",
       " '../Data/train/jetImage_0_150p_70000_80000.h5',\n",
       " '../Data/train/jetImage_3_150p_20000_30000.h5',\n",
       " '../Data/train/jetImage_1_150p_0_10000.h5',\n",
       " '../Data/train/jetImage_5_150p_50000_60000.h5',\n",
       " '../Data/train/jetImage_2_150p_30000_40000.h5',\n",
       " '../Data/train/jetImage_0_150p_0_10000.h5',\n",
       " '../Data/train/jetImage_1_150p_80000_90000.h5',\n",
       " '../Data/train/jetImage_1_150p_10000_20000.h5',\n",
       " '../Data/train/jetImage_0_150p_60000_70000.h5',\n",
       " '../Data/train/jetImage_6_150p_10000_20000.h5',\n",
       " '../Data/train/jetImage_6_150p_80000_90000.h5',\n",
       " '../Data/train/jetImage_0_150p_20000_30000.h5',\n",
       " '../Data/train/jetImage_3_150p_70000_80000.h5',\n",
       " '../Data/train/jetImage_1_150p_30000_40000.h5',\n",
       " '../Data/train/jetImage_6_150p_50000_60000.h5',\n",
       " '../Data/train/jetImage_3_150p_0_10000.h5',\n",
       " '../Data/train/jetImage_4_150p_70000_80000.h5',\n",
       " '../Data/train/jetImage_6_150p_30000_40000.h5',\n",
       " '../Data/train/jetImage_1_150p_50000_60000.h5',\n",
       " '../Data/train/jetImage_4_150p_40000_50000.h5',\n",
       " '../Data/train/jetImage_3_150p_40000_50000.h5',\n",
       " '../Data/train/jetImage_3_150p_60000_70000.h5',\n",
       " '../Data/train/jetImage_5_150p_80000_90000.h5',\n",
       " '../Data/train/jetImage_5_150p_10000_20000.h5',\n",
       " '../Data/train/jetImage_2_150p_0_10000.h5',\n",
       " '../Data/train/jetImage_4_150p_60000_70000.h5',\n",
       " '../Data/train/jetImage_2_150p_10000_20000.h5',\n",
       " '../Data/train/jetImage_2_150p_80000_90000.h5',\n",
       " '../Data/train/jetImage_1_150p_60000_70000.h5',\n",
       " '../Data/train/jetImage_4_150p_0_10000.h5',\n",
       " '../Data/train/jetImage_6_150p_60000_70000.h5',\n",
       " '../Data/train/jetImage_0_150p_80000_90000.h5',\n",
       " '../Data/train/jetImage_0_150p_10000_20000.h5',\n",
       " '../Data/train/jetImage_1_150p_70000_80000.h5',\n",
       " '../Data/train/jetImage_2_150p_20000_30000.h5',\n",
       " '../Data/train/jetImage_3_150p_30000_40000.h5',\n",
       " '../Data/train/jetImage_4_150p_50000_60000.h5',\n",
       " '../Data/train/jetImage_5_150p_20000_30000.h5',\n",
       " '../Data/train/jetImage_6_150p_70000_80000.h5',\n",
       " '../Data/train/jetImage_5_150p_0_10000.h5',\n",
       " '../Data/train/jetImage_4_150p_30000_40000.h5',\n",
       " '../Data/train/jetImage_6_150p_40000_50000.h5',\n",
       " '../Data/train/jetImage_1_150p_40000_50000.h5',\n",
       " '../Data/train/jetImage_5_150p_60000_70000.h5',\n",
       " '../Data/train/jetImage_3_150p_10000_20000.h5',\n",
       " '../Data/train/jetImage_3_150p_80000_90000.h5',\n",
       " '../Data/train/jetImage_2_150p_60000_70000.h5',\n",
       " '../Data/train/jetImage_6_150p_0_10000.h5',\n",
       " '../Data/train/jetImage_4_150p_80000_90000.h5',\n",
       " '../Data/train/jetImage_4_150p_10000_20000.h5',\n",
       " '../Data/train/jetImage_2_150p_40000_50000.h5',\n",
       " '../Data/train/jetImage_5_150p_40000_50000.h5',\n",
       " '../Data/train/jetImage_5_150p_70000_80000.h5',\n",
       " '../Data/train/jetImage_6_150p_20000_30000.h5',\n",
       " '../Data/train/jetImage_0_150p_50000_60000.h5',\n",
       " '../Data/train/jetImage_1_150p_20000_30000.h5',\n",
       " '../Data/train/jetImage_2_150p_70000_80000.h5',\n",
       " '../Data/train/jetImage_0_150p_30000_40000.h5']"
      ]
     },
     "execution_count": 6,
     "metadata": {},
     "output_type": "execute_result"
    }
   ],
   "source": [
    "get_file_paths('../Data/train/')"
   ]
  },
  {
   "cell_type": "code",
   "execution_count": 12,
   "metadata": {},
   "outputs": [
    {
     "data": {
      "text/plain": [
       "1"
      ]
     },
     "execution_count": 12,
     "metadata": {},
     "output_type": "execute_result"
    }
   ],
   "source": [
    "1%5"
   ]
  },
  {
   "cell_type": "code",
   "execution_count": 13,
   "metadata": {},
   "outputs": [
    {
     "data": {
      "text/plain": [
       "0"
      ]
     },
     "execution_count": 13,
     "metadata": {},
     "output_type": "execute_result"
    }
   ],
   "source": [
    "5%5"
   ]
  },
  {
   "cell_type": "code",
   "execution_count": 14,
   "metadata": {},
   "outputs": [
    {
     "data": {
      "text/plain": [
       "4"
      ]
     },
     "execution_count": 14,
     "metadata": {},
     "output_type": "execute_result"
    }
   ],
   "source": [
    "9%5"
   ]
  },
  {
   "cell_type": "code",
   "execution_count": 16,
   "metadata": {},
   "outputs": [
    {
     "name": "stdout",
     "output_type": "stream",
     "text": [
      "test\n",
      "cheese\n"
     ]
    }
   ],
   "source": [
    "print('\\rtest', flush = True)\n",
    "print('\\rcheese', flush = True)"
   ]
  },
  {
   "cell_type": "code",
   "execution_count": 36,
   "metadata": {},
   "outputs": [
    {
     "name": "stdout",
     "output_type": "stream",
     "text": [
      "\u001b[91mI just came to say hello\u001b[0m\n"
     ]
    }
   ],
   "source": [
    "from terminal_colors import tcols\n",
    "\n",
    "a = True\n",
    "print(tcols.FAIL+f'I just came to say {a*\"hello\"+(not a)*\"goodbye\"}'+tcols.ENDC)"
   ]
  },
  {
   "cell_type": "code",
   "execution_count": 1,
   "metadata": {},
   "outputs": [],
   "source": [
    "def rah(fam:str='cheese'):\n",
    "    print(fam)"
   ]
  },
  {
   "cell_type": "code",
   "execution_count": 2,
   "metadata": {},
   "outputs": [
    {
     "name": "stdout",
     "output_type": "stream",
     "text": [
      "cheese\n"
     ]
    }
   ],
   "source": [
    "rah()"
   ]
  },
  {
   "cell_type": "code",
   "execution_count": 3,
   "metadata": {},
   "outputs": [
    {
     "name": "stdout",
     "output_type": "stream",
     "text": [
      "geezer\n"
     ]
    }
   ],
   "source": [
    "rah('geezer')"
   ]
  },
  {
   "cell_type": "code",
   "execution_count": null,
   "metadata": {},
   "outputs": [],
   "source": []
  }
 ],
 "metadata": {
  "kernelspec": {
   "display_name": "Masters",
   "language": "python",
   "name": "python3"
  },
  "language_info": {
   "codemirror_mode": {
    "name": "ipython",
    "version": 3
   },
   "file_extension": ".py",
   "mimetype": "text/x-python",
   "name": "python",
   "nbconvert_exporter": "python",
   "pygments_lexer": "ipython3",
   "version": "3.10.9"
  },
  "orig_nbformat": 4
 },
 "nbformat": 4,
 "nbformat_minor": 2
}

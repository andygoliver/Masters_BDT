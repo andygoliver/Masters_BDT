{
 "cells": [
  {
   "cell_type": "code",
   "execution_count": 1,
   "metadata": {},
   "outputs": [],
   "source": [
    "import numpy as np\n",
    "import pandas as pd"
   ]
  },
  {
   "cell_type": "code",
   "execution_count": 25,
   "metadata": {},
   "outputs": [],
   "source": [
    "data = [[1.3,6.2,7.3,], [4.2,8.1,0.3], [3.7,1.1,2.8], [13.2,8.2,3.1,], [1.3,5.1,3.9], [3.2,4.1,12.5]]\n",
    "\n",
    "heading = ['a', 'b', 'c']\n",
    "\n",
    "ohe_data = np.array([[0, 0, 0, 1, 0],\n",
    " [1, 0, 0, 0, 0],\n",
    " [0, 0, 1, 0, 0],\n",
    " [0, 0, 1, 0, 0],\n",
    " [0, 0, 0, 0, 1],\n",
    " [0, 1, 0, 0, 0]])\n",
    "\n",
    "classes = np.array([b'g', b'q', b'w', b'z', b't'])"
   ]
  },
  {
   "cell_type": "code",
   "execution_count": 59,
   "metadata": {},
   "outputs": [
    {
     "name": "stdout",
     "output_type": "stream",
     "text": [
      "0\n",
      "[False, True, False, False, False, False]\n",
      "[6.2]\n",
      "1\n",
      "[False, False, False, False, False, True]\n",
      "[43.5]\n",
      "2\n",
      "[False, False, True, True, False, False]\n",
      "[7.3 4.2]\n",
      "3\n",
      "[True, False, False, False, False, False]\n",
      "[1.3]\n",
      "4\n",
      "[False, False, False, False, True, False]\n",
      "[8.1]\n"
     ]
    }
   ],
   "source": [
    "new_data = np.array([1.3,6.2,7.3,4.2,8.1,43.5])\n",
    "for i in range(len(classes)):\n",
    "    classed_data = np.array([])\n",
    "    \n",
    "    print(i)\n",
    "    boolean_mask = [np.argmax(y)==i for y in ohe_data]\n",
    "    print(boolean_mask)\n",
    "    print(new_data[[np.argmax(y)==i for y in ohe_data]])"
   ]
  },
  {
   "cell_type": "code",
   "execution_count": 30,
   "metadata": {},
   "outputs": [],
   "source": [
    "y_class = [classes[np.argmax(i)] for i in ohe_data]\n",
    "\n",
    "print(y_class)\n",
    "print(type(y_class[0]))"
   ]
  },
  {
   "cell_type": "code",
   "execution_count": 27,
   "metadata": {},
   "outputs": [],
   "source": [
    "df = pd.DataFrame(data = data, columns = heading)\n",
    "print(df)"
   ]
  },
  {
   "cell_type": "code",
   "execution_count": 34,
   "metadata": {},
   "outputs": [],
   "source": [
    "df['class'] = y_class"
   ]
  },
  {
   "cell_type": "code",
   "execution_count": 35,
   "metadata": {},
   "outputs": [
    {
     "data": {
      "text/html": [
       "<div>\n",
       "<style scoped>\n",
       "    .dataframe tbody tr th:only-of-type {\n",
       "        vertical-align: middle;\n",
       "    }\n",
       "\n",
       "    .dataframe tbody tr th {\n",
       "        vertical-align: top;\n",
       "    }\n",
       "\n",
       "    .dataframe thead th {\n",
       "        text-align: right;\n",
       "    }\n",
       "</style>\n",
       "<table border=\"1\" class=\"dataframe\">\n",
       "  <thead>\n",
       "    <tr style=\"text-align: right;\">\n",
       "      <th></th>\n",
       "      <th>a</th>\n",
       "      <th>b</th>\n",
       "      <th>c</th>\n",
       "      <th>class</th>\n",
       "    </tr>\n",
       "  </thead>\n",
       "  <tbody>\n",
       "    <tr>\n",
       "      <th>0</th>\n",
       "      <td>1.3</td>\n",
       "      <td>6.2</td>\n",
       "      <td>7.3</td>\n",
       "      <td>b'z'</td>\n",
       "    </tr>\n",
       "    <tr>\n",
       "      <th>1</th>\n",
       "      <td>4.2</td>\n",
       "      <td>8.1</td>\n",
       "      <td>0.3</td>\n",
       "      <td>b'g'</td>\n",
       "    </tr>\n",
       "    <tr>\n",
       "      <th>2</th>\n",
       "      <td>3.7</td>\n",
       "      <td>1.1</td>\n",
       "      <td>2.8</td>\n",
       "      <td>b'w'</td>\n",
       "    </tr>\n",
       "    <tr>\n",
       "      <th>3</th>\n",
       "      <td>13.2</td>\n",
       "      <td>8.2</td>\n",
       "      <td>3.1</td>\n",
       "      <td>b'w'</td>\n",
       "    </tr>\n",
       "    <tr>\n",
       "      <th>4</th>\n",
       "      <td>1.3</td>\n",
       "      <td>5.1</td>\n",
       "      <td>3.9</td>\n",
       "      <td>b't'</td>\n",
       "    </tr>\n",
       "    <tr>\n",
       "      <th>5</th>\n",
       "      <td>3.2</td>\n",
       "      <td>4.1</td>\n",
       "      <td>12.5</td>\n",
       "      <td>b'q'</td>\n",
       "    </tr>\n",
       "  </tbody>\n",
       "</table>\n",
       "</div>"
      ],
      "text/plain": [
       "      a    b     c class\n",
       "0   1.3  6.2   7.3  b'z'\n",
       "1   4.2  8.1   0.3  b'g'\n",
       "2   3.7  1.1   2.8  b'w'\n",
       "3  13.2  8.2   3.1  b'w'\n",
       "4   1.3  5.1   3.9  b't'\n",
       "5   3.2  4.1  12.5  b'q'"
      ]
     },
     "execution_count": 35,
     "metadata": {},
     "output_type": "execute_result"
    }
   ],
   "source": [
    "df"
   ]
  },
  {
   "cell_type": "code",
   "execution_count": 37,
   "metadata": {},
   "outputs": [
    {
     "name": "stdout",
     "output_type": "stream",
     "text": [
      "a        float64\n",
      "b        float64\n",
      "c        float64\n",
      "class     object\n",
      "dtype: object\n"
     ]
    }
   ],
   "source": [
    "print(df.dtypes)"
   ]
  },
  {
   "cell_type": "code",
   "execution_count": 42,
   "metadata": {},
   "outputs": [
    {
     "data": {
      "text/plain": [
       "0    False\n",
       "1    False\n",
       "2    False\n",
       "3    False\n",
       "4     True\n",
       "5    False\n",
       "Name: class, dtype: bool"
      ]
     },
     "execution_count": 42,
     "metadata": {},
     "output_type": "execute_result"
    }
   ],
   "source": [
    "df['class']==classes[4]"
   ]
  },
  {
   "cell_type": "code",
   "execution_count": 43,
   "metadata": {},
   "outputs": [
    {
     "name": "stdout",
     "output_type": "stream",
     "text": [
      "      a    b     c class\n",
      "0   1.3  6.2   7.3  b'z'\n",
      "1   4.2  8.1   0.3  b'g'\n",
      "2   3.7  1.1   2.8  b'w'\n",
      "3  13.2  8.2   3.1  b'w'\n",
      "4   1.3  5.1   3.9  b't'\n",
      "5   3.2  4.1  12.5  b'q'\n"
     ]
    }
   ],
   "source": [
    "df.to_csv('newtest.csv', index=False)\n",
    "df_reloaded = pd.read_csv('newtest.csv', nrows = None)\n",
    "print(df_reloaded)"
   ]
  },
  {
   "cell_type": "code",
   "execution_count": 44,
   "metadata": {},
   "outputs": [
    {
     "data": {
      "text/plain": [
       "0    False\n",
       "1    False\n",
       "2    False\n",
       "3    False\n",
       "4    False\n",
       "5    False\n",
       "Name: class, dtype: bool"
      ]
     },
     "execution_count": 44,
     "metadata": {},
     "output_type": "execute_result"
    }
   ],
   "source": [
    "df_reloaded['class']==classes[4]"
   ]
  },
  {
   "cell_type": "code",
   "execution_count": 52,
   "metadata": {},
   "outputs": [
    {
     "name": "stdout",
     "output_type": "stream",
     "text": [
      "      a    b     c class\n",
      "0   1.3  6.2   7.3  b'z'\n",
      "1   4.2  8.1   0.3  b'g'\n",
      "2   3.7  1.1   2.8  b'w'\n",
      "3  13.2  8.2   3.1  b'w'\n",
      "4   1.3  5.1   3.9  b't'\n",
      "5   3.2  4.1  12.5  b'q'\n",
      "\n",
      "=====================\n",
      "\n",
      "      a    b     c  class\n",
      "0   1.3  6.2   7.3  False\n",
      "1   4.2  8.1   0.3  False\n",
      "2   3.7  1.1   2.8  False\n",
      "3  13.2  8.2   3.1  False\n",
      "4   1.3  5.1   3.9   True\n",
      "5   3.2  4.1  12.5  False\n"
     ]
    }
   ],
   "source": [
    "df = pd.DataFrame(data = data, columns = heading)\n",
    "df['class'] = y_class\n",
    "print(df)\n",
    "\n",
    "print('\\n=====================\\n')\n",
    "\n",
    "positive_class = b't'\n",
    "\n",
    "if positive_class is not None:\n",
    "  df[\"class\"] = df[\"class\"] == positive_class\n",
    "\n",
    "print(df)"
   ]
  },
  {
   "cell_type": "code",
   "execution_count": 55,
   "metadata": {},
   "outputs": [],
   "source": [
    "df.to_csv('newtest.csv', index=False)"
   ]
  },
  {
   "cell_type": "code",
   "execution_count": 2,
   "metadata": {},
   "outputs": [
    {
     "name": "stdout",
     "output_type": "stream",
     "text": [
      "[[[0.04108883 0.60510899 0.55045841]\n",
      "  [0.28304357 0.31387414 0.19908185]\n",
      "  [0.76101587 0.04065349 0.8713477 ]\n",
      "  [0.56084251 0.46047315 0.90710192]]\n",
      "\n",
      " [[0.28719174 0.32373833 0.43248908]\n",
      "  [0.48558394 0.73118686 0.38109807]\n",
      "  [0.27189926 0.20372243 0.06806391]\n",
      "  [0.30730507 0.14929012 0.01727189]]\n",
      "\n",
      " [[0.91080563 0.55202729 0.21296284]\n",
      "  [0.42245012 0.97795339 0.48635419]\n",
      "  [0.73144153 0.57345573 0.81114974]\n",
      "  [0.54639047 0.35784027 0.51528999]]\n",
      "\n",
      " [[0.23974698 0.57094687 0.90082302]\n",
      "  [0.02409681 0.67031098 0.26081909]\n",
      "  [0.83198526 0.5557444  0.74678607]\n",
      "  [0.68495935 0.75412091 0.65447643]]\n",
      "\n",
      " [[0.86678815 0.21325323 0.02867664]\n",
      "  [0.59984007 0.05225387 0.51458407]\n",
      "  [0.05298659 0.86795238 0.32037667]\n",
      "  [0.22942537 0.12310337 0.17926765]]]\n"
     ]
    }
   ],
   "source": [
    "rand_data = np.random.rand(5,4,3)\n",
    "#big_rand_data = np.random.rand(620000,50,16)\n",
    "print(rand_data)"
   ]
  },
  {
   "cell_type": "code",
   "execution_count": 3,
   "metadata": {},
   "outputs": [
    {
     "name": "stdout",
     "output_type": "stream",
     "text": [
      "-1\n"
     ]
    }
   ],
   "source": [
    "ascending = False\n",
    "order = ascending - (not ascending)\n",
    "print(order)"
   ]
  },
  {
   "cell_type": "code",
   "execution_count": 4,
   "metadata": {},
   "outputs": [
    {
     "name": "stdout",
     "output_type": "stream",
     "text": [
      "[[[0.04108883 0.60510899 0.55045841]\n",
      "  [0.56084251 0.46047315 0.90710192]\n",
      "  [0.28304357 0.31387414 0.19908185]\n",
      "  [0.76101587 0.04065349 0.8713477 ]]\n",
      "\n",
      " [[0.48558394 0.73118686 0.38109807]\n",
      "  [0.28719174 0.32373833 0.43248908]\n",
      "  [0.27189926 0.20372243 0.06806391]\n",
      "  [0.30730507 0.14929012 0.01727189]]\n",
      "\n",
      " [[0.42245012 0.97795339 0.48635419]\n",
      "  [0.73144153 0.57345573 0.81114974]\n",
      "  [0.91080563 0.55202729 0.21296284]\n",
      "  [0.54639047 0.35784027 0.51528999]]\n",
      "\n",
      " [[0.68495935 0.75412091 0.65447643]\n",
      "  [0.02409681 0.67031098 0.26081909]\n",
      "  [0.23974698 0.57094687 0.90082302]\n",
      "  [0.83198526 0.5557444  0.74678607]]\n",
      "\n",
      " [[0.05298659 0.86795238 0.32037667]\n",
      "  [0.86678815 0.21325323 0.02867664]\n",
      "  [0.22942537 0.12310337 0.17926765]\n",
      "  [0.59984007 0.05225387 0.51458407]]]\n",
      "<class 'numpy.ndarray'>\n"
     ]
    }
   ],
   "source": [
    "sorted_data = np.array([rand_data[i][(order*rand_data[i][:, 1]).argsort()] for i in range(len(rand_data))])\n",
    "#big_sorted_data = np.asarray([big_rand_data[i][big_rand_data[i][:, 1].argsort()] for i in range(len(big_rand_data))])\n",
    "\n",
    "print(sorted_data)\n",
    "print(type(sorted_data))"
   ]
  },
  {
   "cell_type": "code",
   "execution_count": 5,
   "metadata": {},
   "outputs": [
    {
     "name": "stdout",
     "output_type": "stream",
     "text": [
      "[0.60510899 0.46047315 0.31387414 0.04065349 0.75412091 0.67031098\n",
      " 0.57094687 0.5557444 ]\n"
     ]
    }
   ],
   "source": [
    "boolean_index = [True, False, False, True, False]\n",
    "\n",
    "print(sorted_data[:,:,1][boolean_index].flatten())"
   ]
  },
  {
   "cell_type": "code",
   "execution_count": 6,
   "metadata": {},
   "outputs": [
    {
     "name": "stdout",
     "output_type": "stream",
     "text": [
      "[True, False, False, True, False]\n",
      "[True, False, False, True, False]\n"
     ]
    }
   ],
   "source": [
    "print(boolean_index)\n",
    "print(1*(boolean_index))"
   ]
  },
  {
   "cell_type": "code",
   "execution_count": 7,
   "metadata": {},
   "outputs": [],
   "source": [
    "boolean_mask = rand_data[:, :, 1] > 0.5\n",
    "structure_memory = boolean_mask.sum(axis=1)"
   ]
  },
  {
   "cell_type": "code",
   "execution_count": 8,
   "metadata": {},
   "outputs": [
    {
     "name": "stdout",
     "output_type": "stream",
     "text": [
      "[[ True False False False]\n",
      " [False  True False False]\n",
      " [ True  True  True False]\n",
      " [ True  True  True  True]\n",
      " [False False  True False]]\n",
      "[1 1 3 4 1]\n",
      "2.0\n"
     ]
    }
   ],
   "source": [
    "print(boolean_mask)\n",
    "print(structure_memory)\n",
    "print(np.mean(structure_memory))"
   ]
  },
  {
   "cell_type": "code",
   "execution_count": 51,
   "metadata": {},
   "outputs": [
    {
     "name": "stdout",
     "output_type": "stream",
     "text": [
      "[array([[0.04108883, 0.60510899, 0.55045841]]), array([[0.48558394, 0.73118686, 0.38109807]]), array([[0.91080563, 0.55202729, 0.21296284],\n",
      "       [0.42245012, 0.97795339, 0.48635419],\n",
      "       [0.73144153, 0.57345573, 0.81114974]]), array([[0.23974698, 0.57094687, 0.90082302],\n",
      "       [0.02409681, 0.67031098, 0.26081909],\n",
      "       [0.83198526, 0.5557444 , 0.74678607],\n",
      "       [0.68495935, 0.75412091, 0.65447643]]), array([[0.05298659, 0.86795238, 0.32037667]])]\n",
      "\n",
      "================\n",
      "\n",
      "[array([[0.04108883, 0.60510899, 0.55045841]]), array([[0.48558394, 0.73118686, 0.38109807]]), array([[0.91080563, 0.55202729, 0.21296284],\n",
      "       [0.42245012, 0.97795339, 0.48635419],\n",
      "       [0.73144153, 0.57345573, 0.81114974]]), array([[0.23974698, 0.57094687, 0.90082302],\n",
      "       [0.02409681, 0.67031098, 0.26081909],\n",
      "       [0.83198526, 0.5557444 , 0.74678607],\n",
      "       [0.68495935, 0.75412091, 0.65447643]]), array([[0.05298659, 0.86795238, 0.32037667]])]\n"
     ]
    }
   ],
   "source": [
    "cut_data = np.split(rand_data[boolean_mask, :], np.cumsum(structure_memory)[:-1])\n",
    "\n",
    "print(cut_data)\n",
    "print('\\n================\\n')\n",
    "cut_data = [jet_const for jet_const in cut_data if jet_const.size > 0]\n",
    "\n",
    "print(cut_data)"
   ]
  },
  {
   "cell_type": "code",
   "execution_count": 52,
   "metadata": {},
   "outputs": [
    {
     "name": "stdout",
     "output_type": "stream",
     "text": [
      "[[[ 0.04108883  0.60510899  0.55045841]\n",
      "  [-9.9        -9.9        -9.9       ]\n",
      "  [-9.9        -9.9        -9.9       ]\n",
      "  [-9.9        -9.9        -9.9       ]]\n",
      "\n",
      " [[ 0.48558394  0.73118686  0.38109807]\n",
      "  [-9.9        -9.9        -9.9       ]\n",
      "  [-9.9        -9.9        -9.9       ]\n",
      "  [-9.9        -9.9        -9.9       ]]\n",
      "\n",
      " [[ 0.91080563  0.55202729  0.21296284]\n",
      "  [ 0.42245012  0.97795339  0.48635419]\n",
      "  [ 0.73144153  0.57345573  0.81114974]\n",
      "  [-9.9        -9.9        -9.9       ]]\n",
      "\n",
      " [[ 0.23974698  0.57094687  0.90082302]\n",
      "  [ 0.02409681  0.67031098  0.26081909]\n",
      "  [ 0.83198526  0.5557444   0.74678607]\n",
      "  [ 0.68495935  0.75412091  0.65447643]]\n",
      "\n",
      " [[ 0.05298659  0.86795238  0.32037667]\n",
      "  [-9.9        -9.9        -9.9       ]\n",
      "  [-9.9        -9.9        -9.9       ]\n",
      "  [-9.9        -9.9        -9.9       ]]]\n",
      "\n",
      "===================\n",
      "\n",
      "[1. 1. 3. 4. 1.]\n"
     ]
    }
   ],
   "source": [
    "max_constituents = 4\n",
    "nb_constituents = np.array([])\n",
    "\n",
    "for jet in range(len(cut_data)):\n",
    "    if cut_data[jet].shape[0] >= max_constituents:\n",
    "        nb_constituents = np.append(nb_constituents, max_constituents)\n",
    "        cut_data[jet] = cut_data[jet][:max_constituents, :]\n",
    "    else:\n",
    "        nb_constituents = np.append(nb_constituents, cut_data[jet].shape[0])\n",
    "        padding_length = max_constituents - cut_data[jet].shape[0]\n",
    "        cut_data[jet] = np.pad(cut_data[jet], ((0, padding_length), (0, 0)), constant_values = -9.9)\n",
    "print(np.asarray(cut_data))\n",
    "print('\\n===================\\n')\n",
    "print(nb_constituents)"
   ]
  },
  {
   "cell_type": "code",
   "execution_count": 48,
   "metadata": {},
   "outputs": [
    {
     "name": "stdout",
     "output_type": "stream",
     "text": [
      "[[ True  True  True False]\n",
      " [ True  True False False]\n",
      " [ True False False False]\n",
      " [ True  True  True False]\n",
      " [ True False False False]]\n",
      "[True, False, False, True, False]\n"
     ]
    }
   ],
   "source": [
    "is_not_padded = np.any(np.array(cut_data), axis = 2)\n",
    "print(is_not_padded)\n",
    "is_positive_class = [True, False, False, True, False]\n",
    "print(is_positive_class)"
   ]
  },
  {
   "cell_type": "code",
   "execution_count": 49,
   "metadata": {},
   "outputs": [
    {
     "data": {
      "text/plain": [
       "array([[ True,  True,  True, False],\n",
       "       [ True,  True,  True, False]])"
      ]
     },
     "execution_count": 49,
     "metadata": {},
     "output_type": "execute_result"
    }
   ],
   "source": [
    "is_not_padded[is_positive_class]"
   ]
  },
  {
   "cell_type": "code",
   "execution_count": 51,
   "metadata": {},
   "outputs": [
    {
     "name": "stdout",
     "output_type": "stream",
     "text": [
      "[0.74808507 0.53490341 0.5895019  0.77242777 0.89973615 0.92766441]\n"
     ]
    }
   ],
   "source": [
    "print(np.array(cut_data)[is_positive_class][is_not_padded[is_positive_class]][:,1])"
   ]
  },
  {
   "cell_type": "code",
   "execution_count": 81,
   "metadata": {},
   "outputs": [],
   "source": [
    "positive_class = 't'"
   ]
  },
  {
   "cell_type": "code",
   "execution_count": 85,
   "metadata": {},
   "outputs": [
    {
     "data": {
      "text/plain": [
       "b't'"
      ]
     },
     "execution_count": 85,
     "metadata": {},
     "output_type": "execute_result"
    }
   ],
   "source": [
    "bytes(positive_class, 'utf-8')"
   ]
  },
  {
   "cell_type": "code",
   "execution_count": 86,
   "metadata": {},
   "outputs": [],
   "source": [
    "feature_labels = [\n",
    "        \"px\",\n",
    "        \"py\",\n",
    "        \"pz\",\n",
    "        \"E\",\n",
    "        \"E_rel\",\n",
    "        \"pT\",\n",
    "        \"pT_rel\",\n",
    "        \"eta\",\n",
    "        \"eta_rel\",\n",
    "        \"eta_rot\",\n",
    "        \"phi\",\n",
    "        \"phi_rel\",\n",
    "        \"phi_rot\",\n",
    "        \"Delta_R\",\n",
    "        \"cos(theta)\",\n",
    "        \"cos(theta_rel)\",\n",
    "    ]"
   ]
  },
  {
   "cell_type": "code",
   "execution_count": 114,
   "metadata": {},
   "outputs": [
    {
     "name": "stdout",
     "output_type": "stream",
     "text": [
      "[False False False False]\n"
     ]
    }
   ],
   "source": [
    "a = np.array([0,0,0,0])\n",
    "print(a!=0)"
   ]
  },
  {
   "cell_type": "code",
   "execution_count": 115,
   "metadata": {},
   "outputs": [
    {
     "name": "stdout",
     "output_type": "stream",
     "text": [
      "[4, 4, 4, 4, 4]\n"
     ]
    }
   ],
   "source": [
    "constituents_distribution = []\n",
    "for jet in rand_data:\n",
    "    const_nb = 0\n",
    "    for const in jet:\n",
    "        if const[0] != 0:\n",
    "            const_nb += 1\n",
    "    constituents_distribution.append(const_nb)\n",
    "\n",
    "print(constituents_distribution)"
   ]
  },
  {
   "cell_type": "code",
   "execution_count": 6,
   "metadata": {},
   "outputs": [
    {
     "data": {
      "text/plain": [
       "array([0.  , 0.25, 0.5 , 0.75, 1.  , 1.25, 1.5 , 1.75])"
      ]
     },
     "execution_count": 6,
     "metadata": {},
     "output_type": "execute_result"
    }
   ],
   "source": [
    "np.arange(0,2,0.25)"
   ]
  },
  {
   "cell_type": "code",
   "execution_count": 10,
   "metadata": {},
   "outputs": [
    {
     "name": "stdout",
     "output_type": "stream",
     "text": [
      "[ 0.    0.25  0.5   0.75  1.    1.25  1.5   1.75  2.    2.5   3.    3.5\n",
      "  4.    4.5   5.    6.    7.    8.    9.   10.  ]\n"
     ]
    }
   ],
   "source": [
    "print(np.asarray(np.append(np.append(np.arange(0,2,0.25),np.arange(2,5,0.5)), np.arange(5,11,1))))"
   ]
  },
  {
   "cell_type": "code",
   "execution_count": 7,
   "metadata": {},
   "outputs": [],
   "source": [
    "import sys\n",
    "import time"
   ]
  },
  {
   "cell_type": "code",
   "execution_count": 17,
   "metadata": {},
   "outputs": [
    {
     "name": "stdout",
     "output_type": "stream",
     "text": [
      "Starting process\n",
      "[====================] 100%\n",
      "Process complete\n"
     ]
    }
   ],
   "source": [
    "print('Starting process')\n",
    "\n",
    "sys.stdout.write('\\r')\n",
    "# the exact output you're looking for:\n",
    "sys.stdout.write(\"[%-20s] %d%%\" % ('='*1, 5*1))\n",
    "sys.stdout.flush()\n",
    "time.sleep(0.5)\n",
    "\n",
    "for i in range(2, 21):\n",
    "    sys.stdout.write('\\r')\n",
    "    # the exact output you're looking for:\n",
    "    sys.stdout.write(\"[%-20s] %d%%\" % ('='*i, 5*i))\n",
    "    sys.stdout.flush()\n",
    "    time.sleep(0.5)\n",
    "\n",
    "print('\\nProcess complete')\n",
    "    "
   ]
  },
  {
   "cell_type": "code",
   "execution_count": 15,
   "metadata": {},
   "outputs": [
    {
     "name": "stdout",
     "output_type": "stream",
     "text": [
      "Hello 12fish\n"
     ]
    }
   ],
   "source": [
    "a = 12\n",
    "b= 'fish'\n",
    "\n",
    "print(f'Hello {a}{b}')"
   ]
  },
  {
   "cell_type": "code",
   "execution_count": 63,
   "metadata": {},
   "outputs": [],
   "source": []
  },
  {
   "cell_type": "code",
   "execution_count": 72,
   "metadata": {},
   "outputs": [
    {
     "name": "stdout",
     "output_type": "stream",
     "text": [
      "[[1]\n",
      " [0]\n",
      " [1]\n",
      " [2]\n",
      " [3]]\n"
     ]
    }
   ],
   "source": [
    "a = np.array([[1]])\n",
    "for i in range(4):\n",
    "    a = np.concatenate((a,[[i]]), axis = 0)\n",
    "\n",
    "print(a)"
   ]
  },
  {
   "cell_type": "code",
   "execution_count": 75,
   "metadata": {},
   "outputs": [
    {
     "name": "stdout",
     "output_type": "stream",
     "text": [
      "[[9]\n",
      " [2]\n",
      " [3]\n",
      " [4]\n",
      " [5]]\n"
     ]
    }
   ],
   "source": [
    "b = np.array([[9]])\n",
    "\n",
    "for i in range(2,6):\n",
    "    b = np.concatenate((b,[[i]]), axis = 0)\n",
    "\n",
    "print(b)"
   ]
  },
  {
   "cell_type": "code",
   "execution_count": 74,
   "metadata": {},
   "outputs": [
    {
     "name": "stdout",
     "output_type": "stream",
     "text": [
      "[[1 9]\n",
      " [0 2]\n",
      " [1 3]\n",
      " [2 4]\n",
      " [3 5]]\n"
     ]
    }
   ],
   "source": [
    "print(np.concatenate((a,b), axis = 1))"
   ]
  },
  {
   "cell_type": "code",
   "execution_count": 4,
   "metadata": {},
   "outputs": [
    {
     "name": "stdout",
     "output_type": "stream",
     "text": [
      "[0. 1. 2. 3.]\n",
      "[5. 6. 7. 8.]\n",
      "[[0. 1. 2. 3.]\n",
      " [5. 6. 7. 8.]]\n"
     ]
    }
   ],
   "source": [
    "c = np.array([])\n",
    "\n",
    "for i in range(4):\n",
    "    c = np.append(c, i)\n",
    "\n",
    "print(c)\n",
    "\n",
    "d = np.array([])\n",
    "\n",
    "for i in range(5,9):\n",
    "    d = np.append(d, i)\n",
    "\n",
    "print(d)\n",
    "\n",
    "e = np.concatenate(([c],[d]), axis =0)\n",
    "print(e)"
   ]
  },
  {
   "cell_type": "code",
   "execution_count": 5,
   "metadata": {},
   "outputs": [
    {
     "data": {
      "text/plain": [
       "array([[0., 5.],\n",
       "       [1., 6.],\n",
       "       [2., 7.],\n",
       "       [3., 8.]])"
      ]
     },
     "execution_count": 5,
     "metadata": {},
     "output_type": "execute_result"
    }
   ],
   "source": [
    "np.swapaxes(e, 0, 1)"
   ]
  },
  {
   "cell_type": "code",
   "execution_count": 7,
   "metadata": {},
   "outputs": [
    {
     "data": {
      "text/plain": [
       "array([1., 6.])"
      ]
     },
     "execution_count": 7,
     "metadata": {},
     "output_type": "execute_result"
    }
   ],
   "source": [
    "e[:,1]"
   ]
  },
  {
   "cell_type": "code",
   "execution_count": 36,
   "metadata": {},
   "outputs": [],
   "source": [
    "def combine_array(a1, a2):\n",
    "    if np.ndim(a1) == 2:\n",
    "        combined_array = np.concatenate((a1, [a2]), axis = 0)\n",
    "    elif np.ndim(a1) == 1:\n",
    "        combined_array = np.concatenate(([a1], [a2]), axis =1)\n",
    "\n",
    "    return combined_array"
   ]
  },
  {
   "cell_type": "code",
   "execution_count": 32,
   "metadata": {},
   "outputs": [
    {
     "name": "stdout",
     "output_type": "stream",
     "text": [
      "[[0. 1. 2. 3.]]\n",
      "[[0. 1. 2. 3.]\n",
      " [5. 6. 7. 8.]]\n"
     ]
    }
   ],
   "source": [
    "f = np.array([])\n",
    "\n",
    "f = np.concatenate(([f], [c]), axis = 1)\n",
    "print(np.asarray(f))\n",
    "\n",
    "f = np.concatenate((f,[d]), axis = 0)\n",
    "\n",
    "print(np.asarray(f))"
   ]
  },
  {
   "cell_type": "code",
   "execution_count": 28,
   "metadata": {},
   "outputs": [
    {
     "data": {
      "text/plain": [
       "1"
      ]
     },
     "execution_count": 28,
     "metadata": {},
     "output_type": "execute_result"
    }
   ],
   "source": [
    "np.ndim(c)"
   ]
  },
  {
   "cell_type": "code",
   "execution_count": 38,
   "metadata": {},
   "outputs": [
    {
     "name": "stdout",
     "output_type": "stream",
     "text": [
      "[[0. 1. 2. 3.]]\n",
      "[[0. 1. 2. 3.]\n",
      " [5. 6. 7. 8.]]\n"
     ]
    }
   ],
   "source": [
    "f = np.array([])\n",
    "\n",
    "f = combine_array(f, c)\n",
    "print(f)\n",
    "\n",
    "f = combine_array(f,d)\n",
    "print(f)"
   ]
  },
  {
   "cell_type": "code",
   "execution_count": 5,
   "metadata": {},
   "outputs": [],
   "source": [
    "import os\n",
    "\n",
    "def get_file_paths(data_file_dir: str) -> list:\n",
    "    \"\"\"Gets path to the data files inside a given directory.\n",
    "\n",
    "    Args:\n",
    "        data_file_dir: Path to directory containing the data files.\n",
    "\n",
    "    Returns:\n",
    "        Array of paths to the data files themselves.\n",
    "    \"\"\"\n",
    "    file_names = os.listdir(data_file_dir)\n",
    "    print(file_names)\n",
    "    file_paths = [os.path.join(data_file_dir, file_name) for file_name in file_names]\n",
    "\n",
    "    return file_paths"
   ]
  },
  {
   "cell_type": "code",
   "execution_count": 6,
   "metadata": {},
   "outputs": [
    {
     "name": "stdout",
     "output_type": "stream",
     "text": [
      "['jetImage_0_150p_40000_50000.h5', 'jetImage_4_150p_20000_30000.h5', 'jetImage_2_150p_50000_60000.h5', 'jetImage_5_150p_30000_40000.h5', 'jetImage_0_150p_70000_80000.h5', 'jetImage_3_150p_20000_30000.h5', 'jetImage_1_150p_0_10000.h5', 'jetImage_5_150p_50000_60000.h5', 'jetImage_2_150p_30000_40000.h5', 'jetImage_0_150p_0_10000.h5', 'jetImage_1_150p_80000_90000.h5', 'jetImage_1_150p_10000_20000.h5', 'jetImage_0_150p_60000_70000.h5', 'jetImage_6_150p_10000_20000.h5', 'jetImage_6_150p_80000_90000.h5', 'jetImage_0_150p_20000_30000.h5', 'jetImage_3_150p_70000_80000.h5', 'jetImage_1_150p_30000_40000.h5', 'jetImage_6_150p_50000_60000.h5', 'jetImage_3_150p_0_10000.h5', 'jetImage_4_150p_70000_80000.h5', 'jetImage_6_150p_30000_40000.h5', 'jetImage_1_150p_50000_60000.h5', 'jetImage_4_150p_40000_50000.h5', 'jetImage_3_150p_40000_50000.h5', 'jetImage_3_150p_60000_70000.h5', 'jetImage_5_150p_80000_90000.h5', 'jetImage_5_150p_10000_20000.h5', 'jetImage_2_150p_0_10000.h5', 'jetImage_4_150p_60000_70000.h5', 'jetImage_2_150p_10000_20000.h5', 'jetImage_2_150p_80000_90000.h5', 'jetImage_1_150p_60000_70000.h5', 'jetImage_4_150p_0_10000.h5', 'jetImage_6_150p_60000_70000.h5', 'jetImage_0_150p_80000_90000.h5', 'jetImage_0_150p_10000_20000.h5', 'jetImage_1_150p_70000_80000.h5', 'jetImage_2_150p_20000_30000.h5', 'jetImage_3_150p_30000_40000.h5', 'jetImage_4_150p_50000_60000.h5', 'jetImage_5_150p_20000_30000.h5', 'jetImage_6_150p_70000_80000.h5', 'jetImage_5_150p_0_10000.h5', 'jetImage_4_150p_30000_40000.h5', 'jetImage_6_150p_40000_50000.h5', 'jetImage_1_150p_40000_50000.h5', 'jetImage_5_150p_60000_70000.h5', 'jetImage_3_150p_10000_20000.h5', 'jetImage_3_150p_80000_90000.h5', 'jetImage_2_150p_60000_70000.h5', 'jetImage_6_150p_0_10000.h5', 'jetImage_4_150p_80000_90000.h5', 'jetImage_4_150p_10000_20000.h5', 'jetImage_2_150p_40000_50000.h5', 'jetImage_5_150p_40000_50000.h5', 'jetImage_5_150p_70000_80000.h5', 'jetImage_6_150p_20000_30000.h5', 'jetImage_0_150p_50000_60000.h5', 'jetImage_1_150p_20000_30000.h5', 'jetImage_2_150p_70000_80000.h5', 'jetImage_0_150p_30000_40000.h5']\n"
     ]
    },
    {
     "data": {
      "text/plain": [
       "['../Data/train/jetImage_0_150p_40000_50000.h5',\n",
       " '../Data/train/jetImage_4_150p_20000_30000.h5',\n",
       " '../Data/train/jetImage_2_150p_50000_60000.h5',\n",
       " '../Data/train/jetImage_5_150p_30000_40000.h5',\n",
       " '../Data/train/jetImage_0_150p_70000_80000.h5',\n",
       " '../Data/train/jetImage_3_150p_20000_30000.h5',\n",
       " '../Data/train/jetImage_1_150p_0_10000.h5',\n",
       " '../Data/train/jetImage_5_150p_50000_60000.h5',\n",
       " '../Data/train/jetImage_2_150p_30000_40000.h5',\n",
       " '../Data/train/jetImage_0_150p_0_10000.h5',\n",
       " '../Data/train/jetImage_1_150p_80000_90000.h5',\n",
       " '../Data/train/jetImage_1_150p_10000_20000.h5',\n",
       " '../Data/train/jetImage_0_150p_60000_70000.h5',\n",
       " '../Data/train/jetImage_6_150p_10000_20000.h5',\n",
       " '../Data/train/jetImage_6_150p_80000_90000.h5',\n",
       " '../Data/train/jetImage_0_150p_20000_30000.h5',\n",
       " '../Data/train/jetImage_3_150p_70000_80000.h5',\n",
       " '../Data/train/jetImage_1_150p_30000_40000.h5',\n",
       " '../Data/train/jetImage_6_150p_50000_60000.h5',\n",
       " '../Data/train/jetImage_3_150p_0_10000.h5',\n",
       " '../Data/train/jetImage_4_150p_70000_80000.h5',\n",
       " '../Data/train/jetImage_6_150p_30000_40000.h5',\n",
       " '../Data/train/jetImage_1_150p_50000_60000.h5',\n",
       " '../Data/train/jetImage_4_150p_40000_50000.h5',\n",
       " '../Data/train/jetImage_3_150p_40000_50000.h5',\n",
       " '../Data/train/jetImage_3_150p_60000_70000.h5',\n",
       " '../Data/train/jetImage_5_150p_80000_90000.h5',\n",
       " '../Data/train/jetImage_5_150p_10000_20000.h5',\n",
       " '../Data/train/jetImage_2_150p_0_10000.h5',\n",
       " '../Data/train/jetImage_4_150p_60000_70000.h5',\n",
       " '../Data/train/jetImage_2_150p_10000_20000.h5',\n",
       " '../Data/train/jetImage_2_150p_80000_90000.h5',\n",
       " '../Data/train/jetImage_1_150p_60000_70000.h5',\n",
       " '../Data/train/jetImage_4_150p_0_10000.h5',\n",
       " '../Data/train/jetImage_6_150p_60000_70000.h5',\n",
       " '../Data/train/jetImage_0_150p_80000_90000.h5',\n",
       " '../Data/train/jetImage_0_150p_10000_20000.h5',\n",
       " '../Data/train/jetImage_1_150p_70000_80000.h5',\n",
       " '../Data/train/jetImage_2_150p_20000_30000.h5',\n",
       " '../Data/train/jetImage_3_150p_30000_40000.h5',\n",
       " '../Data/train/jetImage_4_150p_50000_60000.h5',\n",
       " '../Data/train/jetImage_5_150p_20000_30000.h5',\n",
       " '../Data/train/jetImage_6_150p_70000_80000.h5',\n",
       " '../Data/train/jetImage_5_150p_0_10000.h5',\n",
       " '../Data/train/jetImage_4_150p_30000_40000.h5',\n",
       " '../Data/train/jetImage_6_150p_40000_50000.h5',\n",
       " '../Data/train/jetImage_1_150p_40000_50000.h5',\n",
       " '../Data/train/jetImage_5_150p_60000_70000.h5',\n",
       " '../Data/train/jetImage_3_150p_10000_20000.h5',\n",
       " '../Data/train/jetImage_3_150p_80000_90000.h5',\n",
       " '../Data/train/jetImage_2_150p_60000_70000.h5',\n",
       " '../Data/train/jetImage_6_150p_0_10000.h5',\n",
       " '../Data/train/jetImage_4_150p_80000_90000.h5',\n",
       " '../Data/train/jetImage_4_150p_10000_20000.h5',\n",
       " '../Data/train/jetImage_2_150p_40000_50000.h5',\n",
       " '../Data/train/jetImage_5_150p_40000_50000.h5',\n",
       " '../Data/train/jetImage_5_150p_70000_80000.h5',\n",
       " '../Data/train/jetImage_6_150p_20000_30000.h5',\n",
       " '../Data/train/jetImage_0_150p_50000_60000.h5',\n",
       " '../Data/train/jetImage_1_150p_20000_30000.h5',\n",
       " '../Data/train/jetImage_2_150p_70000_80000.h5',\n",
       " '../Data/train/jetImage_0_150p_30000_40000.h5']"
      ]
     },
     "execution_count": 6,
     "metadata": {},
     "output_type": "execute_result"
    }
   ],
   "source": [
    "get_file_paths('../Data/train/')"
   ]
  },
  {
   "cell_type": "code",
   "execution_count": 12,
   "metadata": {},
   "outputs": [
    {
     "data": {
      "text/plain": [
       "1"
      ]
     },
     "execution_count": 12,
     "metadata": {},
     "output_type": "execute_result"
    }
   ],
   "source": [
    "1%5"
   ]
  },
  {
   "cell_type": "code",
   "execution_count": 13,
   "metadata": {},
   "outputs": [
    {
     "data": {
      "text/plain": [
       "0"
      ]
     },
     "execution_count": 13,
     "metadata": {},
     "output_type": "execute_result"
    }
   ],
   "source": [
    "5%5"
   ]
  },
  {
   "cell_type": "code",
   "execution_count": 14,
   "metadata": {},
   "outputs": [
    {
     "data": {
      "text/plain": [
       "4"
      ]
     },
     "execution_count": 14,
     "metadata": {},
     "output_type": "execute_result"
    }
   ],
   "source": [
    "9%5"
   ]
  },
  {
   "cell_type": "code",
   "execution_count": 16,
   "metadata": {},
   "outputs": [
    {
     "name": "stdout",
     "output_type": "stream",
     "text": [
      "test\n",
      "cheese\n"
     ]
    }
   ],
   "source": [
    "print('\\rtest', flush = True)\n",
    "print('\\rcheese', flush = True)"
   ]
  },
  {
   "cell_type": "code",
   "execution_count": 36,
   "metadata": {},
   "outputs": [
    {
     "name": "stdout",
     "output_type": "stream",
     "text": [
      "\u001b[91mI just came to say hello\u001b[0m\n"
     ]
    }
   ],
   "source": [
    "from terminal_colors import tcols\n",
    "\n",
    "a = True\n",
    "print(tcols.FAIL+f'I just came to say {a*\"hello\"+(not a)*\"goodbye\"}'+tcols.ENDC)"
   ]
  },
  {
   "cell_type": "code",
   "execution_count": 1,
   "metadata": {},
   "outputs": [],
   "source": [
    "def rah(fam:str='cheese'):\n",
    "    print(fam)"
   ]
  },
  {
   "cell_type": "code",
   "execution_count": 2,
   "metadata": {},
   "outputs": [
    {
     "name": "stdout",
     "output_type": "stream",
     "text": [
      "cheese\n"
     ]
    }
   ],
   "source": [
    "rah()"
   ]
  },
  {
   "cell_type": "code",
   "execution_count": 3,
   "metadata": {},
   "outputs": [
    {
     "name": "stdout",
     "output_type": "stream",
     "text": [
      "geezer\n"
     ]
    }
   ],
   "source": [
    "rah('geezer')"
   ]
  },
  {
   "cell_type": "code",
   "execution_count": 7,
   "metadata": {},
   "outputs": [],
   "source": [
    "true_class = [[True],[False], [True]]\n",
    "df = pd.DataFrame(data = true_class, columns = ['class'])"
   ]
  },
  {
   "cell_type": "code",
   "execution_count": 8,
   "metadata": {},
   "outputs": [
    {
     "data": {
      "text/html": [
       "<div>\n",
       "<style scoped>\n",
       "    .dataframe tbody tr th:only-of-type {\n",
       "        vertical-align: middle;\n",
       "    }\n",
       "\n",
       "    .dataframe tbody tr th {\n",
       "        vertical-align: top;\n",
       "    }\n",
       "\n",
       "    .dataframe thead th {\n",
       "        text-align: right;\n",
       "    }\n",
       "</style>\n",
       "<table border=\"1\" class=\"dataframe\">\n",
       "  <thead>\n",
       "    <tr style=\"text-align: right;\">\n",
       "      <th></th>\n",
       "      <th>class</th>\n",
       "    </tr>\n",
       "  </thead>\n",
       "  <tbody>\n",
       "    <tr>\n",
       "      <th>0</th>\n",
       "      <td>True</td>\n",
       "    </tr>\n",
       "    <tr>\n",
       "      <th>1</th>\n",
       "      <td>False</td>\n",
       "    </tr>\n",
       "    <tr>\n",
       "      <th>2</th>\n",
       "      <td>True</td>\n",
       "    </tr>\n",
       "  </tbody>\n",
       "</table>\n",
       "</div>"
      ],
      "text/plain": [
       "   class\n",
       "0   True\n",
       "1  False\n",
       "2   True"
      ]
     },
     "execution_count": 8,
     "metadata": {},
     "output_type": "execute_result"
    }
   ],
   "source": [
    "df"
   ]
  },
  {
   "cell_type": "code",
   "execution_count": 10,
   "metadata": {},
   "outputs": [
    {
     "data": {
      "text/plain": [
       "0    1\n",
       "1    0\n",
       "2    1\n",
       "Name: class, dtype: int64"
      ]
     },
     "execution_count": 10,
     "metadata": {},
     "output_type": "execute_result"
    }
   ],
   "source": [
    "df['class'] * 1"
   ]
  },
  {
   "cell_type": "code",
   "execution_count": 11,
   "metadata": {},
   "outputs": [
    {
     "data": {
      "text/plain": [
       "[[True], [False], [True]]"
      ]
     },
     "execution_count": 11,
     "metadata": {},
     "output_type": "execute_result"
    }
   ],
   "source": [
    "true_class"
   ]
  },
  {
   "cell_type": "code",
   "execution_count": 21,
   "metadata": {},
   "outputs": [],
   "source": [
    "other_class = [[False], [False], [True]]"
   ]
  },
  {
   "cell_type": "code",
   "execution_count": 22,
   "metadata": {},
   "outputs": [
    {
     "name": "stdout",
     "output_type": "stream",
     "text": [
      "[[False], [False], [True]]\n"
     ]
    }
   ],
   "source": [
    "print(true_class and other_class)"
   ]
  },
  {
   "cell_type": "code",
   "execution_count": 6,
   "metadata": {},
   "outputs": [],
   "source": [
    "a = [[1,2,2,3,4,1],[5,4,6,1,2,2]]"
   ]
  },
  {
   "cell_type": "code",
   "execution_count": 44,
   "metadata": {},
   "outputs": [
    {
     "data": {
      "text/plain": [
       "array([[ 12,  12,  12, -99, -99, -99, -99, -99, -99,  -9,  -9,  -9,  -9],\n",
       "       [ 12,  12,  12,   1,   2,   2,   3,   4,   1,  -9,  -9,  -9,  -9],\n",
       "       [ 12,  12,  12,   5,   4,   6,   1,   2,   2,  -9,  -9,  -9,  -9],\n",
       "       [ 12,  12,  12,  20,  20,  20,  20,  20,  20,  -9,  -9,  -9,  -9],\n",
       "       [ 12,  12,  12,  20,  20,  20,  20,  20,  20,  -9,  -9,  -9,  -9]])"
      ]
     },
     "execution_count": 44,
     "metadata": {},
     "output_type": "execute_result"
    }
   ],
   "source": [
    "np.pad(a, ((1,2), (3,4)), constant_values= ((-99,20),(12,-9)))"
   ]
  },
  {
   "cell_type": "code",
   "execution_count": 1,
   "metadata": {},
   "outputs": [],
   "source": [
    "b = [1,2,3,1,2,1]"
   ]
  },
  {
   "cell_type": "code",
   "execution_count": 15,
   "metadata": {},
   "outputs": [],
   "source": [
    "import pandas as pd\n",
    "df = pd.DataFrame(a, columns = ['a', 'b', 'c', 'd', 'e', 'f'])"
   ]
  },
  {
   "cell_type": "code",
   "execution_count": 18,
   "metadata": {},
   "outputs": [],
   "source": [
    "df['new'] = [8,1]"
   ]
  },
  {
   "cell_type": "code",
   "execution_count": 19,
   "metadata": {},
   "outputs": [
    {
     "data": {
      "text/html": [
       "<div>\n",
       "<style scoped>\n",
       "    .dataframe tbody tr th:only-of-type {\n",
       "        vertical-align: middle;\n",
       "    }\n",
       "\n",
       "    .dataframe tbody tr th {\n",
       "        vertical-align: top;\n",
       "    }\n",
       "\n",
       "    .dataframe thead th {\n",
       "        text-align: right;\n",
       "    }\n",
       "</style>\n",
       "<table border=\"1\" class=\"dataframe\">\n",
       "  <thead>\n",
       "    <tr style=\"text-align: right;\">\n",
       "      <th></th>\n",
       "      <th>a</th>\n",
       "      <th>b</th>\n",
       "      <th>c</th>\n",
       "      <th>d</th>\n",
       "      <th>e</th>\n",
       "      <th>f</th>\n",
       "      <th>new</th>\n",
       "    </tr>\n",
       "  </thead>\n",
       "  <tbody>\n",
       "    <tr>\n",
       "      <th>0</th>\n",
       "      <td>1</td>\n",
       "      <td>2</td>\n",
       "      <td>2</td>\n",
       "      <td>3</td>\n",
       "      <td>4</td>\n",
       "      <td>1</td>\n",
       "      <td>8</td>\n",
       "    </tr>\n",
       "    <tr>\n",
       "      <th>1</th>\n",
       "      <td>5</td>\n",
       "      <td>4</td>\n",
       "      <td>6</td>\n",
       "      <td>1</td>\n",
       "      <td>2</td>\n",
       "      <td>2</td>\n",
       "      <td>1</td>\n",
       "    </tr>\n",
       "  </tbody>\n",
       "</table>\n",
       "</div>"
      ],
      "text/plain": [
       "   a  b  c  d  e  f  new\n",
       "0  1  2  2  3  4  1    8\n",
       "1  5  4  6  1  2  2    1"
      ]
     },
     "execution_count": 19,
     "metadata": {},
     "output_type": "execute_result"
    }
   ],
   "source": [
    "df"
   ]
  },
  {
   "cell_type": "code",
   "execution_count": 25,
   "metadata": {},
   "outputs": [
    {
     "data": {
      "text/plain": [
       "1.75"
      ]
     },
     "execution_count": 25,
     "metadata": {},
     "output_type": "execute_result"
    }
   ],
   "source": [
    "import numpy as np\n",
    "np.mean(b[:4])"
   ]
  },
  {
   "cell_type": "code",
   "execution_count": null,
   "metadata": {},
   "outputs": [],
   "source": []
  }
 ],
 "metadata": {
  "kernelspec": {
   "display_name": "Masters",
   "language": "python",
   "name": "python3"
  },
  "language_info": {
   "codemirror_mode": {
    "name": "ipython",
    "version": 3
   },
   "file_extension": ".py",
   "mimetype": "text/x-python",
   "name": "python",
   "nbconvert_exporter": "python",
   "pygments_lexer": "ipython3",
   "version": "3.10.9"
  },
  "orig_nbformat": 4
 },
 "nbformat": 4,
 "nbformat_minor": 2
}
